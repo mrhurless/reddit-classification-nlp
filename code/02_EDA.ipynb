{
 "cells": [
  {
   "cell_type": "markdown",
   "id": "39583930-44ed-40e9-a7be-dcfd6a80accf",
   "metadata": {},
   "source": [
    "# NLP Classification - EDA"
   ]
  },
  {
   "cell_type": "markdown",
   "id": "76f6c4a5-acf7-4bd5-b39a-28fbde61c82e",
   "metadata": {},
   "source": [
    "## Import Libraries"
   ]
  },
  {
   "cell_type": "code",
   "execution_count": 113,
   "id": "b0620a13-50c8-4cef-a44a-45a19095b79e",
   "metadata": {
    "execution": {
     "iopub.execute_input": "2022-12-22T08:19:46.283337Z",
     "iopub.status.busy": "2022-12-22T08:19:46.281922Z",
     "iopub.status.idle": "2022-12-22T08:19:46.296848Z",
     "shell.execute_reply": "2022-12-22T08:19:46.295892Z",
     "shell.execute_reply.started": "2022-12-22T08:19:46.283263Z"
    },
    "tags": []
   },
   "outputs": [],
   "source": [
    "import numpy as np\n",
    "import pandas as pd\n",
    "\n",
    "import matplotlib.pyplot as plt\n",
    "import seaborn as sns\n",
    "\n",
    "from sklearn.feature_extraction.text import CountVectorizer, TfidfVectorizer\n",
    "\n",
    "# this setting widens how many characters pandas will display in a column:\n",
    "pd.options.display.max_colwidth = 400"
   ]
  },
  {
   "cell_type": "markdown",
   "id": "614ef480-42be-4c31-b462-162c8d910150",
   "metadata": {},
   "source": [
    "### Read Data\n",
    "Read in cleaned data"
   ]
  },
  {
   "cell_type": "code",
   "execution_count": 114,
   "id": "0cca16fe-6293-44e0-bfac-edd0f38e7940",
   "metadata": {
    "execution": {
     "iopub.execute_input": "2022-12-22T08:19:46.298900Z",
     "iopub.status.busy": "2022-12-22T08:19:46.298426Z",
     "iopub.status.idle": "2022-12-22T08:19:46.541912Z",
     "shell.execute_reply": "2022-12-22T08:19:46.541431Z",
     "shell.execute_reply.started": "2022-12-22T08:19:46.298882Z"
    },
    "tags": []
   },
   "outputs": [],
   "source": [
    "df = pd.read_csv('../data/reddit_cleaned.csv')"
   ]
  },
  {
   "cell_type": "code",
   "execution_count": 115,
   "id": "5c0b6f6a-c942-49ea-b967-d7f962c19a1a",
   "metadata": {
    "execution": {
     "iopub.execute_input": "2022-12-22T08:19:46.543566Z",
     "iopub.status.busy": "2022-12-22T08:19:46.543394Z",
     "iopub.status.idle": "2022-12-22T08:19:46.550403Z",
     "shell.execute_reply": "2022-12-22T08:19:46.549947Z",
     "shell.execute_reply.started": "2022-12-22T08:19:46.543541Z"
    },
    "tags": []
   },
   "outputs": [
    {
     "data": {
      "text/html": [
       "<div>\n",
       "<style scoped>\n",
       "    .dataframe tbody tr th:only-of-type {\n",
       "        vertical-align: middle;\n",
       "    }\n",
       "\n",
       "    .dataframe tbody tr th {\n",
       "        vertical-align: top;\n",
       "    }\n",
       "\n",
       "    .dataframe thead th {\n",
       "        text-align: right;\n",
       "    }\n",
       "</style>\n",
       "<table border=\"1\" class=\"dataframe\">\n",
       "  <thead>\n",
       "    <tr style=\"text-align: right;\">\n",
       "      <th></th>\n",
       "      <th>subreddit</th>\n",
       "      <th>author</th>\n",
       "      <th>num_comments</th>\n",
       "      <th>selftext</th>\n",
       "      <th>title</th>\n",
       "      <th>text</th>\n",
       "    </tr>\n",
       "  </thead>\n",
       "  <tbody>\n",
       "    <tr>\n",
       "      <th>0</th>\n",
       "      <td>playstation</td>\n",
       "      <td>Blix404</td>\n",
       "      <td>8</td>\n",
       "      <td>PlayStation. Why\\n1st of PlayStation has been out since 2013 and you guys close to releasing the PS5 so why tf do you now all of a sudden start recording our party conversations.\\n2nd of I ain’t getting banned just cause some snowflake in my party chat felt the need to snitch on me. Fuck outta here with that BS.\\n\\n3rd. Xbox Doesn’t do that so why do you feel the need to do that you dickheads....</td>\n",
       "      <td>PARTY CHAT BEING RECORDED</td>\n",
       "      <td>party chat be record  why 1st of  have be out since  and you guy close to release the 5 so why tf do you now all of a sudden start record our party conversation 2nd of I ai not getting ban just cause some snowflake in my party chat feel the need to snitch on I fuck outta here with that bs 3rd  do not do that so why do you feel the need to do that you dickhead just prove to be more and more of ...</td>\n",
       "    </tr>\n",
       "    <tr>\n",
       "      <th>1</th>\n",
       "      <td>playstation</td>\n",
       "      <td>ImmaPoodle</td>\n",
       "      <td>0</td>\n",
       "      <td>So watch dogs legion is coming out soon and with interesting mechanics and ray tracing I think it might be what people thought watch dogs 2 would be... a predecessor to GTA 5, ok let's be honest watch dogs 2 was an amazing game but it lacked that feeling that GTA had as well as the already large player base.\\n\\nBut this time with already tons of preordered copies of watch dogs legion in circle...</td>\n",
       "      <td>Ubisoft vs Rockstar</td>\n",
       "      <td>ubisoft vs rockstar so watch dog legion be come out soon and with interesting mechanic and ray trace I think it might be what people think watch dog  would be a predecessor to gta  ok let us be honest watch dog  be an amazing game but it lack that feeling that gta have as well as the already large player base but this time with already ton of preordere copy of watch dog legion in circle and ro...</td>\n",
       "    </tr>\n",
       "    <tr>\n",
       "      <th>2</th>\n",
       "      <td>playstation</td>\n",
       "      <td>georgios82</td>\n",
       "      <td>6</td>\n",
       "      <td>So guys let me get this straight. If you want to temporarily invite someone to your party, then they will be automatically (permanently) added to the chat as well? Not only that but from my understanding they will also be able to see all older discussions that took place in that group? Am I missing something here? Is there a way to avoid this?</td>\n",
       "      <td>Question regarding the recent party changes</td>\n",
       "      <td>question regard the recent party change so guy let I get this straight if you want to temporarily invite someone to your party then they will be automatically permanently add to the chat as well not only that but from my understanding they will also be able to see all old discussion that take place in that group be I miss something here be there a way to avoid this</td>\n",
       "    </tr>\n",
       "  </tbody>\n",
       "</table>\n",
       "</div>"
      ],
      "text/plain": [
       "     subreddit      author  num_comments  \\\n",
       "0  playstation     Blix404             8   \n",
       "1  playstation  ImmaPoodle             0   \n",
       "2  playstation  georgios82             6   \n",
       "\n",
       "                                                                                                                                                                                                                                                                                                                                                                                                          selftext  \\\n",
       "0  PlayStation. Why\\n1st of PlayStation has been out since 2013 and you guys close to releasing the PS5 so why tf do you now all of a sudden start recording our party conversations.\\n2nd of I ain’t getting banned just cause some snowflake in my party chat felt the need to snitch on me. Fuck outta here with that BS.\\n\\n3rd. Xbox Doesn’t do that so why do you feel the need to do that you dickheads....   \n",
       "1  So watch dogs legion is coming out soon and with interesting mechanics and ray tracing I think it might be what people thought watch dogs 2 would be... a predecessor to GTA 5, ok let's be honest watch dogs 2 was an amazing game but it lacked that feeling that GTA had as well as the already large player base.\\n\\nBut this time with already tons of preordered copies of watch dogs legion in circle...   \n",
       "2                                                        So guys let me get this straight. If you want to temporarily invite someone to your party, then they will be automatically (permanently) added to the chat as well? Not only that but from my understanding they will also be able to see all older discussions that took place in that group? Am I missing something here? Is there a way to avoid this?   \n",
       "\n",
       "                                         title  \\\n",
       "0                    PARTY CHAT BEING RECORDED   \n",
       "1                          Ubisoft vs Rockstar   \n",
       "2  Question regarding the recent party changes   \n",
       "\n",
       "                                                                                                                                                                                                                                                                                                                                                                                                              text  \n",
       "0  party chat be record  why 1st of  have be out since  and you guy close to release the 5 so why tf do you now all of a sudden start record our party conversation 2nd of I ai not getting ban just cause some snowflake in my party chat feel the need to snitch on I fuck outta here with that bs 3rd  do not do that so why do you feel the need to do that you dickhead just prove to be more and more of ...  \n",
       "1  ubisoft vs rockstar so watch dog legion be come out soon and with interesting mechanic and ray trace I think it might be what people think watch dog  would be a predecessor to gta  ok let us be honest watch dog  be an amazing game but it lack that feeling that gta have as well as the already large player base but this time with already ton of preordere copy of watch dog legion in circle and ro...  \n",
       "2                                  question regard the recent party change so guy let I get this straight if you want to temporarily invite someone to your party then they will be automatically permanently add to the chat as well not only that but from my understanding they will also be able to see all old discussion that take place in that group be I miss something here be there a way to avoid this  "
      ]
     },
     "execution_count": 115,
     "metadata": {},
     "output_type": "execute_result"
    }
   ],
   "source": [
    "df.head(3)"
   ]
  },
  {
   "cell_type": "code",
   "execution_count": 116,
   "id": "dd1b2122-5c8f-48b9-9351-719a351d3885",
   "metadata": {
    "execution": {
     "iopub.execute_input": "2022-12-22T08:19:46.551608Z",
     "iopub.status.busy": "2022-12-22T08:19:46.551429Z",
     "iopub.status.idle": "2022-12-22T08:19:46.555364Z",
     "shell.execute_reply": "2022-12-22T08:19:46.554792Z",
     "shell.execute_reply.started": "2022-12-22T08:19:46.551589Z"
    }
   },
   "outputs": [
    {
     "data": {
      "text/plain": [
       "(18664, 6)"
      ]
     },
     "execution_count": 116,
     "metadata": {},
     "output_type": "execute_result"
    }
   ],
   "source": [
    "df.shape"
   ]
  },
  {
   "cell_type": "code",
   "execution_count": 117,
   "id": "1d9a5a4d-ac3a-499e-9612-2264f6fc1dd3",
   "metadata": {
    "execution": {
     "iopub.execute_input": "2022-12-22T08:19:46.557279Z",
     "iopub.status.busy": "2022-12-22T08:19:46.557040Z",
     "iopub.status.idle": "2022-12-22T08:19:46.563783Z",
     "shell.execute_reply": "2022-12-22T08:19:46.563347Z",
     "shell.execute_reply.started": "2022-12-22T08:19:46.557255Z"
    }
   },
   "outputs": [
    {
     "data": {
      "text/plain": [
       "playstation    52.37\n",
       "xbox           47.63\n",
       "Name: subreddit, dtype: float64"
      ]
     },
     "execution_count": 117,
     "metadata": {},
     "output_type": "execute_result"
    }
   ],
   "source": [
    "df['subreddit'].value_counts(normalize=True).mul(100).round(2)"
   ]
  },
  {
   "cell_type": "markdown",
   "id": "2adff895-eb2d-4bf3-9e7b-fa0822da8d9b",
   "metadata": {},
   "source": [
    "### Calculate Data about Text\n",
    "- Title Length\n",
    "- Cleaned Text Word Count\n",
    "- Cleaned Text Unique Word Count"
   ]
  },
  {
   "cell_type": "code",
   "execution_count": 118,
   "id": "cda135f2-7fd2-4978-b61e-152213a5b57d",
   "metadata": {
    "execution": {
     "iopub.execute_input": "2022-12-22T08:19:46.564918Z",
     "iopub.status.busy": "2022-12-22T08:19:46.564751Z",
     "iopub.status.idle": "2022-12-22T08:19:47.183544Z",
     "shell.execute_reply": "2022-12-22T08:19:47.183112Z",
     "shell.execute_reply.started": "2022-12-22T08:19:46.564901Z"
    }
   },
   "outputs": [],
   "source": [
    "# create new features and calculate length and counts\n",
    "df['title_len'] = df['title'].map(len)\n",
    "\n",
    "df['text_word_count'] = df['text'].map(lambda x: len(x.split()))\n",
    "\n",
    "df['text_unique_words'] = df['text'].map(lambda x: len(np.unique(x.split())))"
   ]
  },
  {
   "cell_type": "code",
   "execution_count": 119,
   "id": "696bd984-3308-4403-8b5f-36e71a820bf9",
   "metadata": {
    "execution": {
     "iopub.execute_input": "2022-12-22T08:19:47.184244Z",
     "iopub.status.busy": "2022-12-22T08:19:47.184152Z",
     "iopub.status.idle": "2022-12-22T08:19:47.191310Z",
     "shell.execute_reply": "2022-12-22T08:19:47.190802Z",
     "shell.execute_reply.started": "2022-12-22T08:19:47.184233Z"
    }
   },
   "outputs": [
    {
     "data": {
      "text/html": [
       "<div>\n",
       "<style scoped>\n",
       "    .dataframe tbody tr th:only-of-type {\n",
       "        vertical-align: middle;\n",
       "    }\n",
       "\n",
       "    .dataframe tbody tr th {\n",
       "        vertical-align: top;\n",
       "    }\n",
       "\n",
       "    .dataframe thead th {\n",
       "        text-align: right;\n",
       "    }\n",
       "</style>\n",
       "<table border=\"1\" class=\"dataframe\">\n",
       "  <thead>\n",
       "    <tr style=\"text-align: right;\">\n",
       "      <th></th>\n",
       "      <th>subreddit</th>\n",
       "      <th>author</th>\n",
       "      <th>num_comments</th>\n",
       "      <th>selftext</th>\n",
       "      <th>title</th>\n",
       "      <th>text</th>\n",
       "      <th>title_len</th>\n",
       "      <th>text_word_count</th>\n",
       "      <th>text_unique_words</th>\n",
       "    </tr>\n",
       "  </thead>\n",
       "  <tbody>\n",
       "    <tr>\n",
       "      <th>0</th>\n",
       "      <td>playstation</td>\n",
       "      <td>Blix404</td>\n",
       "      <td>8</td>\n",
       "      <td>PlayStation. Why\\n1st of PlayStation has been out since 2013 and you guys close to releasing the PS5 so why tf do you now all of a sudden start recording our party conversations.\\n2nd of I ain’t getting banned just cause some snowflake in my party chat felt the need to snitch on me. Fuck outta here with that BS.\\n\\n3rd. Xbox Doesn’t do that so why do you feel the need to do that you dickheads....</td>\n",
       "      <td>PARTY CHAT BEING RECORDED</td>\n",
       "      <td>party chat be record  why 1st of  have be out since  and you guy close to release the 5 so why tf do you now all of a sudden start record our party conversation 2nd of I ai not getting ban just cause some snowflake in my party chat feel the need to snitch on I fuck outta here with that bs 3rd  do not do that so why do you feel the need to do that you dickhead just prove to be more and more of ...</td>\n",
       "      <td>25</td>\n",
       "      <td>136</td>\n",
       "      <td>89</td>\n",
       "    </tr>\n",
       "    <tr>\n",
       "      <th>1</th>\n",
       "      <td>playstation</td>\n",
       "      <td>ImmaPoodle</td>\n",
       "      <td>0</td>\n",
       "      <td>So watch dogs legion is coming out soon and with interesting mechanics and ray tracing I think it might be what people thought watch dogs 2 would be... a predecessor to GTA 5, ok let's be honest watch dogs 2 was an amazing game but it lacked that feeling that GTA had as well as the already large player base.\\n\\nBut this time with already tons of preordered copies of watch dogs legion in circle...</td>\n",
       "      <td>Ubisoft vs Rockstar</td>\n",
       "      <td>ubisoft vs rockstar so watch dog legion be come out soon and with interesting mechanic and ray trace I think it might be what people think watch dog  would be a predecessor to gta  ok let us be honest watch dog  be an amazing game but it lack that feeling that gta have as well as the already large player base but this time with already ton of preordere copy of watch dog legion in circle and ro...</td>\n",
       "      <td>19</td>\n",
       "      <td>232</td>\n",
       "      <td>124</td>\n",
       "    </tr>\n",
       "    <tr>\n",
       "      <th>2</th>\n",
       "      <td>playstation</td>\n",
       "      <td>georgios82</td>\n",
       "      <td>6</td>\n",
       "      <td>So guys let me get this straight. If you want to temporarily invite someone to your party, then they will be automatically (permanently) added to the chat as well? Not only that but from my understanding they will also be able to see all older discussions that took place in that group? Am I missing something here? Is there a way to avoid this?</td>\n",
       "      <td>Question regarding the recent party changes</td>\n",
       "      <td>question regard the recent party change so guy let I get this straight if you want to temporarily invite someone to your party then they will be automatically permanently add to the chat as well not only that but from my understanding they will also be able to see all old discussion that take place in that group be I miss something here be there a way to avoid this</td>\n",
       "      <td>43</td>\n",
       "      <td>70</td>\n",
       "      <td>55</td>\n",
       "    </tr>\n",
       "  </tbody>\n",
       "</table>\n",
       "</div>"
      ],
      "text/plain": [
       "     subreddit      author  num_comments  \\\n",
       "0  playstation     Blix404             8   \n",
       "1  playstation  ImmaPoodle             0   \n",
       "2  playstation  georgios82             6   \n",
       "\n",
       "                                                                                                                                                                                                                                                                                                                                                                                                          selftext  \\\n",
       "0  PlayStation. Why\\n1st of PlayStation has been out since 2013 and you guys close to releasing the PS5 so why tf do you now all of a sudden start recording our party conversations.\\n2nd of I ain’t getting banned just cause some snowflake in my party chat felt the need to snitch on me. Fuck outta here with that BS.\\n\\n3rd. Xbox Doesn’t do that so why do you feel the need to do that you dickheads....   \n",
       "1  So watch dogs legion is coming out soon and with interesting mechanics and ray tracing I think it might be what people thought watch dogs 2 would be... a predecessor to GTA 5, ok let's be honest watch dogs 2 was an amazing game but it lacked that feeling that GTA had as well as the already large player base.\\n\\nBut this time with already tons of preordered copies of watch dogs legion in circle...   \n",
       "2                                                        So guys let me get this straight. If you want to temporarily invite someone to your party, then they will be automatically (permanently) added to the chat as well? Not only that but from my understanding they will also be able to see all older discussions that took place in that group? Am I missing something here? Is there a way to avoid this?   \n",
       "\n",
       "                                         title  \\\n",
       "0                    PARTY CHAT BEING RECORDED   \n",
       "1                          Ubisoft vs Rockstar   \n",
       "2  Question regarding the recent party changes   \n",
       "\n",
       "                                                                                                                                                                                                                                                                                                                                                                                                              text  \\\n",
       "0  party chat be record  why 1st of  have be out since  and you guy close to release the 5 so why tf do you now all of a sudden start record our party conversation 2nd of I ai not getting ban just cause some snowflake in my party chat feel the need to snitch on I fuck outta here with that bs 3rd  do not do that so why do you feel the need to do that you dickhead just prove to be more and more of ...   \n",
       "1  ubisoft vs rockstar so watch dog legion be come out soon and with interesting mechanic and ray trace I think it might be what people think watch dog  would be a predecessor to gta  ok let us be honest watch dog  be an amazing game but it lack that feeling that gta have as well as the already large player base but this time with already ton of preordere copy of watch dog legion in circle and ro...   \n",
       "2                                  question regard the recent party change so guy let I get this straight if you want to temporarily invite someone to your party then they will be automatically permanently add to the chat as well not only that but from my understanding they will also be able to see all old discussion that take place in that group be I miss something here be there a way to avoid this   \n",
       "\n",
       "   title_len  text_word_count  text_unique_words  \n",
       "0         25              136                 89  \n",
       "1         19              232                124  \n",
       "2         43               70                 55  "
      ]
     },
     "execution_count": 119,
     "metadata": {},
     "output_type": "execute_result"
    }
   ],
   "source": [
    "df.head(3)"
   ]
  },
  {
   "cell_type": "code",
   "execution_count": 120,
   "id": "bc60f10f-bdcb-40ac-8bbd-0ad621366ec0",
   "metadata": {
    "execution": {
     "iopub.execute_input": "2022-12-22T08:19:47.192167Z",
     "iopub.status.busy": "2022-12-22T08:19:47.192028Z",
     "iopub.status.idle": "2022-12-22T08:19:47.205342Z",
     "shell.execute_reply": "2022-12-22T08:19:47.204670Z",
     "shell.execute_reply.started": "2022-12-22T08:19:47.192153Z"
    }
   },
   "outputs": [
    {
     "data": {
      "text/html": [
       "<div>\n",
       "<style scoped>\n",
       "    .dataframe tbody tr th:only-of-type {\n",
       "        vertical-align: middle;\n",
       "    }\n",
       "\n",
       "    .dataframe tbody tr th {\n",
       "        vertical-align: top;\n",
       "    }\n",
       "\n",
       "    .dataframe thead th {\n",
       "        text-align: right;\n",
       "    }\n",
       "</style>\n",
       "<table border=\"1\" class=\"dataframe\">\n",
       "  <thead>\n",
       "    <tr style=\"text-align: right;\">\n",
       "      <th></th>\n",
       "      <th>num_comments</th>\n",
       "      <th>title_len</th>\n",
       "      <th>text_word_count</th>\n",
       "      <th>text_unique_words</th>\n",
       "    </tr>\n",
       "  </thead>\n",
       "  <tbody>\n",
       "    <tr>\n",
       "      <th>count</th>\n",
       "      <td>18664.000000</td>\n",
       "      <td>18664.000000</td>\n",
       "      <td>18664.000000</td>\n",
       "      <td>18664.000000</td>\n",
       "    </tr>\n",
       "    <tr>\n",
       "      <th>mean</th>\n",
       "      <td>5.828547</td>\n",
       "      <td>44.806419</td>\n",
       "      <td>74.272021</td>\n",
       "      <td>45.992177</td>\n",
       "    </tr>\n",
       "    <tr>\n",
       "      <th>std</th>\n",
       "      <td>9.416717</td>\n",
       "      <td>32.068682</td>\n",
       "      <td>80.263581</td>\n",
       "      <td>32.324532</td>\n",
       "    </tr>\n",
       "    <tr>\n",
       "      <th>min</th>\n",
       "      <td>0.000000</td>\n",
       "      <td>1.000000</td>\n",
       "      <td>0.000000</td>\n",
       "      <td>0.000000</td>\n",
       "    </tr>\n",
       "    <tr>\n",
       "      <th>25%</th>\n",
       "      <td>1.000000</td>\n",
       "      <td>24.000000</td>\n",
       "      <td>35.000000</td>\n",
       "      <td>27.000000</td>\n",
       "    </tr>\n",
       "    <tr>\n",
       "      <th>50%</th>\n",
       "      <td>4.000000</td>\n",
       "      <td>37.000000</td>\n",
       "      <td>56.000000</td>\n",
       "      <td>39.000000</td>\n",
       "    </tr>\n",
       "    <tr>\n",
       "      <th>75%</th>\n",
       "      <td>7.000000</td>\n",
       "      <td>56.000000</td>\n",
       "      <td>89.000000</td>\n",
       "      <td>56.000000</td>\n",
       "    </tr>\n",
       "    <tr>\n",
       "      <th>max</th>\n",
       "      <td>328.000000</td>\n",
       "      <td>300.000000</td>\n",
       "      <td>3145.000000</td>\n",
       "      <td>1152.000000</td>\n",
       "    </tr>\n",
       "  </tbody>\n",
       "</table>\n",
       "</div>"
      ],
      "text/plain": [
       "       num_comments     title_len  text_word_count  text_unique_words\n",
       "count  18664.000000  18664.000000     18664.000000       18664.000000\n",
       "mean       5.828547     44.806419        74.272021          45.992177\n",
       "std        9.416717     32.068682        80.263581          32.324532\n",
       "min        0.000000      1.000000         0.000000           0.000000\n",
       "25%        1.000000     24.000000        35.000000          27.000000\n",
       "50%        4.000000     37.000000        56.000000          39.000000\n",
       "75%        7.000000     56.000000        89.000000          56.000000\n",
       "max      328.000000    300.000000      3145.000000        1152.000000"
      ]
     },
     "execution_count": 120,
     "metadata": {},
     "output_type": "execute_result"
    }
   ],
   "source": [
    "df.describe()"
   ]
  },
  {
   "cell_type": "markdown",
   "id": "7d3531bb-c11d-45f4-b743-23484339521b",
   "metadata": {},
   "source": [
    "It appears that there are some entries that have word counts of 0."
   ]
  },
  {
   "cell_type": "code",
   "execution_count": 121,
   "id": "ae47bfaa-ca49-4614-8fd4-808b9cef6a37",
   "metadata": {
    "execution": {
     "iopub.execute_input": "2022-12-22T08:19:47.206948Z",
     "iopub.status.busy": "2022-12-22T08:19:47.206745Z",
     "iopub.status.idle": "2022-12-22T08:19:47.217817Z",
     "shell.execute_reply": "2022-12-22T08:19:47.217290Z",
     "shell.execute_reply.started": "2022-12-22T08:19:47.206933Z"
    },
    "tags": []
   },
   "outputs": [
    {
     "data": {
      "text/html": [
       "<div>\n",
       "<style scoped>\n",
       "    .dataframe tbody tr th:only-of-type {\n",
       "        vertical-align: middle;\n",
       "    }\n",
       "\n",
       "    .dataframe tbody tr th {\n",
       "        vertical-align: top;\n",
       "    }\n",
       "\n",
       "    .dataframe thead th {\n",
       "        text-align: right;\n",
       "    }\n",
       "</style>\n",
       "<table border=\"1\" class=\"dataframe\">\n",
       "  <thead>\n",
       "    <tr style=\"text-align: right;\">\n",
       "      <th></th>\n",
       "      <th>subreddit</th>\n",
       "      <th>author</th>\n",
       "      <th>num_comments</th>\n",
       "      <th>selftext</th>\n",
       "      <th>title</th>\n",
       "      <th>text</th>\n",
       "      <th>title_len</th>\n",
       "      <th>text_word_count</th>\n",
       "      <th>text_unique_words</th>\n",
       "    </tr>\n",
       "  </thead>\n",
       "  <tbody>\n",
       "    <tr>\n",
       "      <th>8983</th>\n",
       "      <td>playstation</td>\n",
       "      <td>JoeMamaGameEnded</td>\n",
       "      <td>17</td>\n",
       "      <td>Xbox</td>\n",
       "      <td>Xbox xbox xbox</td>\n",
       "      <td></td>\n",
       "      <td>14</td>\n",
       "      <td>0</td>\n",
       "      <td>0</td>\n",
       "    </tr>\n",
       "    <tr>\n",
       "      <th>2076</th>\n",
       "      <td>playstation</td>\n",
       "      <td>jimmyinkxx93</td>\n",
       "      <td>1</td>\n",
       "      <td>Thoughts ?</td>\n",
       "      <td>https://m.youtube.com/watch?v=AWLj1cNqWOc</td>\n",
       "      <td>thought</td>\n",
       "      <td>41</td>\n",
       "      <td>1</td>\n",
       "      <td>1</td>\n",
       "    </tr>\n",
       "    <tr>\n",
       "      <th>1125</th>\n",
       "      <td>playstation</td>\n",
       "      <td>-mr-_-robot-</td>\n",
       "      <td>1</td>\n",
       "      <td>[https://www.youtube.com/watch?v=CaAY-jAjm0w](https://www.youtube.com/watch?v=CaAY-jAjm0w)</td>\n",
       "      <td>PS5 Teardown</td>\n",
       "      <td>5 teardown</td>\n",
       "      <td>12</td>\n",
       "      <td>2</td>\n",
       "      <td>2</td>\n",
       "    </tr>\n",
       "    <tr>\n",
       "      <th>18525</th>\n",
       "      <td>xbox</td>\n",
       "      <td>PySnoo</td>\n",
       "      <td>0</td>\n",
       "      <td>**asdui7dyhqjwduqgusjdhas**</td>\n",
       "      <td>asdui7dyhqjwduqgusjdhas</td>\n",
       "      <td>asdui7dyhqjwduqgusjdhas asdui7dyhqjwduqgusjdhas</td>\n",
       "      <td>23</td>\n",
       "      <td>2</td>\n",
       "      <td>1</td>\n",
       "    </tr>\n",
       "    <tr>\n",
       "      <th>8999</th>\n",
       "      <td>playstation</td>\n",
       "      <td>jasonholland1</td>\n",
       "      <td>0</td>\n",
       "      <td>[https://www.youtube.com/watch?v=ndIhMezuPrY](https://www.youtube.com/watch?v=ndIhMezuPrY)</td>\n",
       "      <td>Playstation Controller mod</td>\n",
       "      <td>controller mod</td>\n",
       "      <td>26</td>\n",
       "      <td>2</td>\n",
       "      <td>2</td>\n",
       "    </tr>\n",
       "    <tr>\n",
       "      <th>7045</th>\n",
       "      <td>playstation</td>\n",
       "      <td>xman73170</td>\n",
       "      <td>1</td>\n",
       "      <td>[https://store.playstation.com/en-us/product/UP0778-CUSA10115\\_00-STARLITGAME00001](https://store.playstation.com/en-us/product/UP0778-CUSA10115_00-STARLITGAME00001)</td>\n",
       "      <td>Free game!!!!</td>\n",
       "      <td>free game</td>\n",
       "      <td>13</td>\n",
       "      <td>2</td>\n",
       "      <td>2</td>\n",
       "    </tr>\n",
       "    <tr>\n",
       "      <th>1031</th>\n",
       "      <td>playstation</td>\n",
       "      <td>dylbull</td>\n",
       "      <td>10</td>\n",
       "      <td>^^^**</td>\n",
       "      <td>Servers down?</td>\n",
       "      <td>server down</td>\n",
       "      <td>13</td>\n",
       "      <td>2</td>\n",
       "      <td>2</td>\n",
       "    </tr>\n",
       "    <tr>\n",
       "      <th>6832</th>\n",
       "      <td>playstation</td>\n",
       "      <td>Z4C18</td>\n",
       "      <td>2</td>\n",
       "      <td>Tesg</td>\n",
       "      <td>Twsthdhdhehe</td>\n",
       "      <td>twsthdhdhehe tesg</td>\n",
       "      <td>12</td>\n",
       "      <td>2</td>\n",
       "      <td>2</td>\n",
       "    </tr>\n",
       "    <tr>\n",
       "      <th>15626</th>\n",
       "      <td>xbox</td>\n",
       "      <td>Application_Recent</td>\n",
       "      <td>2</td>\n",
       "      <td>Xbox code</td>\n",
       "      <td>Wow</td>\n",
       "      <td>wow  code</td>\n",
       "      <td>3</td>\n",
       "      <td>2</td>\n",
       "      <td>2</td>\n",
       "    </tr>\n",
       "    <tr>\n",
       "      <th>723</th>\n",
       "      <td>playstation</td>\n",
       "      <td>UYBK201</td>\n",
       "      <td>0</td>\n",
       "      <td>[https://www.youtube.com/watch?v=UZ1C\\_wNYTK0&amp;amp;t=310s](https://www.youtube.com/watch?v=UZ1C_wNYTK0&amp;amp;t=310s)</td>\n",
       "      <td>Teardown Parody</td>\n",
       "      <td>teardown parody</td>\n",
       "      <td>15</td>\n",
       "      <td>2</td>\n",
       "      <td>2</td>\n",
       "    </tr>\n",
       "    <tr>\n",
       "      <th>18550</th>\n",
       "      <td>xbox</td>\n",
       "      <td>PySnoo</td>\n",
       "      <td>1</td>\n",
       "      <td>asdui7dyhqjwduqgusjdhas</td>\n",
       "      <td>asdui7dyhqjwduqgusjdhas</td>\n",
       "      <td>asdui7dyhqjwduqgusjdhas asdui7dyhqjwduqgusjdhas</td>\n",
       "      <td>23</td>\n",
       "      <td>2</td>\n",
       "      <td>1</td>\n",
       "    </tr>\n",
       "    <tr>\n",
       "      <th>2540</th>\n",
       "      <td>playstation</td>\n",
       "      <td>Vicous-Fro-2</td>\n",
       "      <td>0</td>\n",
       "      <td>:))</td>\n",
       "      <td>Game Pass :)</td>\n",
       "      <td>game pass</td>\n",
       "      <td>12</td>\n",
       "      <td>2</td>\n",
       "      <td>2</td>\n",
       "    </tr>\n",
       "    <tr>\n",
       "      <th>10072</th>\n",
       "      <td>xbox</td>\n",
       "      <td>s1llym0nk3y</td>\n",
       "      <td>2</td>\n",
       "      <td>\\n\\nhttps://youtu.be/uiQ5cL2OSU8</td>\n",
       "      <td>Oops - unboxing leak</td>\n",
       "      <td>oop unbox leak</td>\n",
       "      <td>20</td>\n",
       "      <td>3</td>\n",
       "      <td>3</td>\n",
       "    </tr>\n",
       "    <tr>\n",
       "      <th>6265</th>\n",
       "      <td>playstation</td>\n",
       "      <td>gtsmart821</td>\n",
       "      <td>0</td>\n",
       "      <td>http://www.twitch.tv/gtsmart821</td>\n",
       "      <td>F1 Racing Gameplay</td>\n",
       "      <td>f1 racing gameplay</td>\n",
       "      <td>18</td>\n",
       "      <td>3</td>\n",
       "      <td>3</td>\n",
       "    </tr>\n",
       "    <tr>\n",
       "      <th>18431</th>\n",
       "      <td>xbox</td>\n",
       "      <td>Vanumont</td>\n",
       "      <td>6</td>\n",
       "      <td>it does</td>\n",
       "      <td>xbox succ</td>\n",
       "      <td>succ it do</td>\n",
       "      <td>9</td>\n",
       "      <td>3</td>\n",
       "      <td>3</td>\n",
       "    </tr>\n",
       "    <tr>\n",
       "      <th>18360</th>\n",
       "      <td>xbox</td>\n",
       "      <td>PySnoo</td>\n",
       "      <td>0</td>\n",
       "      <td>&amp;amp;#x200B;\\n\\n||||\\n|:-|:-|:-|\\n||||</td>\n",
       "      <td>free xbox one</td>\n",
       "      <td>free  one x200b</td>\n",
       "      <td>13</td>\n",
       "      <td>3</td>\n",
       "      <td>3</td>\n",
       "    </tr>\n",
       "    <tr>\n",
       "      <th>8286</th>\n",
       "      <td>playstation</td>\n",
       "      <td>legend_xrasta</td>\n",
       "      <td>0</td>\n",
       "      <td>Https://discord.gg/YbrSJZf</td>\n",
       "      <td>Just join...?👉👈</td>\n",
       "      <td>just join 👉 👈</td>\n",
       "      <td>15</td>\n",
       "      <td>4</td>\n",
       "      <td>4</td>\n",
       "    </tr>\n",
       "    <tr>\n",
       "      <th>1270</th>\n",
       "      <td>playstation</td>\n",
       "      <td>daggerbro</td>\n",
       "      <td>2</td>\n",
       "      <td>Alldaydagger</td>\n",
       "      <td>Follow my tiktok</td>\n",
       "      <td>follow my tiktok alldaydagger</td>\n",
       "      <td>16</td>\n",
       "      <td>4</td>\n",
       "      <td>4</td>\n",
       "    </tr>\n",
       "    <tr>\n",
       "      <th>2114</th>\n",
       "      <td>playstation</td>\n",
       "      <td>BlazinKen</td>\n",
       "      <td>1</td>\n",
       "      <td>Title\\n\\nhttps://preview.redd.it/nna1a8m7obp51.png?width=1796&amp;amp;format=png&amp;amp;auto=webp&amp;amp;s=a539ae6325412b40d1172db6e01757e3d48890ca</td>\n",
       "      <td>GO TIME @ GAMESTOP</td>\n",
       "      <td>go time gamestop title</td>\n",
       "      <td>18</td>\n",
       "      <td>4</td>\n",
       "      <td>4</td>\n",
       "    </tr>\n",
       "    <tr>\n",
       "      <th>3586</th>\n",
       "      <td>playstation</td>\n",
       "      <td>1080nick</td>\n",
       "      <td>24</td>\n",
       "      <td>GOGOGOGOGOGO</td>\n",
       "      <td>AMAZON PREORDER LIVE</td>\n",
       "      <td>amazon preorder live gogogogogogo</td>\n",
       "      <td>20</td>\n",
       "      <td>4</td>\n",
       "      <td>4</td>\n",
       "    </tr>\n",
       "  </tbody>\n",
       "</table>\n",
       "</div>"
      ],
      "text/plain": [
       "         subreddit              author  num_comments  \\\n",
       "8983   playstation    JoeMamaGameEnded            17   \n",
       "2076   playstation        jimmyinkxx93             1   \n",
       "1125   playstation        -mr-_-robot-             1   \n",
       "18525         xbox              PySnoo             0   \n",
       "8999   playstation       jasonholland1             0   \n",
       "7045   playstation           xman73170             1   \n",
       "1031   playstation             dylbull            10   \n",
       "6832   playstation               Z4C18             2   \n",
       "15626         xbox  Application_Recent             2   \n",
       "723    playstation             UYBK201             0   \n",
       "18550         xbox              PySnoo             1   \n",
       "2540   playstation        Vicous-Fro-2             0   \n",
       "10072         xbox         s1llym0nk3y             2   \n",
       "6265   playstation          gtsmart821             0   \n",
       "18431         xbox            Vanumont             6   \n",
       "18360         xbox              PySnoo             0   \n",
       "8286   playstation       legend_xrasta             0   \n",
       "1270   playstation           daggerbro             2   \n",
       "2114   playstation           BlazinKen             1   \n",
       "3586   playstation            1080nick            24   \n",
       "\n",
       "                                                                                                                                                                    selftext  \\\n",
       "8983                                                                                                                                                                    Xbox   \n",
       "2076                                                                                                                                                              Thoughts ?   \n",
       "1125                                                                              [https://www.youtube.com/watch?v=CaAY-jAjm0w](https://www.youtube.com/watch?v=CaAY-jAjm0w)   \n",
       "18525                                                                                                                                            **asdui7dyhqjwduqgusjdhas**   \n",
       "8999                                                                              [https://www.youtube.com/watch?v=ndIhMezuPrY](https://www.youtube.com/watch?v=ndIhMezuPrY)   \n",
       "7045   [https://store.playstation.com/en-us/product/UP0778-CUSA10115\\_00-STARLITGAME00001](https://store.playstation.com/en-us/product/UP0778-CUSA10115_00-STARLITGAME00001)   \n",
       "1031                                                                                                                                                                   ^^^**   \n",
       "6832                                                                                                                                                                    Tesg   \n",
       "15626                                                                                                                                                              Xbox code   \n",
       "723                                                        [https://www.youtube.com/watch?v=UZ1C\\_wNYTK0&amp;t=310s](https://www.youtube.com/watch?v=UZ1C_wNYTK0&amp;t=310s)   \n",
       "18550                                                                                                                                                asdui7dyhqjwduqgusjdhas   \n",
       "2540                                                                                                                                                                     :))   \n",
       "10072                                                                                                                                       \\n\\nhttps://youtu.be/uiQ5cL2OSU8   \n",
       "6265                                                                                                                                         http://www.twitch.tv/gtsmart821   \n",
       "18431                                                                                                                                                                it does   \n",
       "18360                                                                                                                                 &amp;#x200B;\\n\\n||||\\n|:-|:-|:-|\\n||||   \n",
       "8286                                                                                                                                              Https://discord.gg/YbrSJZf   \n",
       "1270                                                                                                                                                            Alldaydagger   \n",
       "2114                               Title\\n\\nhttps://preview.redd.it/nna1a8m7obp51.png?width=1796&amp;format=png&amp;auto=webp&amp;s=a539ae6325412b40d1172db6e01757e3d48890ca   \n",
       "3586                                                                                                                                                            GOGOGOGOGOGO   \n",
       "\n",
       "                                           title  \\\n",
       "8983                              Xbox xbox xbox   \n",
       "2076   https://m.youtube.com/watch?v=AWLj1cNqWOc   \n",
       "1125                                PS5 Teardown   \n",
       "18525                    asdui7dyhqjwduqgusjdhas   \n",
       "8999                  Playstation Controller mod   \n",
       "7045                               Free game!!!!   \n",
       "1031                               Servers down?   \n",
       "6832                                Twsthdhdhehe   \n",
       "15626                                        Wow   \n",
       "723                              Teardown Parody   \n",
       "18550                    asdui7dyhqjwduqgusjdhas   \n",
       "2540                                Game Pass :)   \n",
       "10072                       Oops - unboxing leak   \n",
       "6265                          F1 Racing Gameplay   \n",
       "18431                                  xbox succ   \n",
       "18360                              free xbox one   \n",
       "8286                             Just join...?👉👈   \n",
       "1270                            Follow my tiktok   \n",
       "2114                          GO TIME @ GAMESTOP   \n",
       "3586                        AMAZON PREORDER LIVE   \n",
       "\n",
       "                                                   text  title_len  \\\n",
       "8983                                                            14   \n",
       "2076                                            thought         41   \n",
       "1125                                        5 teardown          12   \n",
       "18525  asdui7dyhqjwduqgusjdhas asdui7dyhqjwduqgusjdhas          23   \n",
       "8999                                    controller mod          26   \n",
       "7045                                         free game          13   \n",
       "1031                                       server down          13   \n",
       "6832                                  twsthdhdhehe tesg         12   \n",
       "15626                                         wow  code          3   \n",
       "723                                    teardown parody          15   \n",
       "18550   asdui7dyhqjwduqgusjdhas asdui7dyhqjwduqgusjdhas         23   \n",
       "2540                                          game pass         12   \n",
       "10072                                   oop unbox leak          20   \n",
       "6265                                 f1 racing gameplay         18   \n",
       "18431                                        succ it do          9   \n",
       "18360                                  free  one x200b          13   \n",
       "8286                                      just join 👉 👈         15   \n",
       "1270                      follow my tiktok alldaydagger         16   \n",
       "2114                            go time gamestop title          18   \n",
       "3586                  amazon preorder live gogogogogogo         20   \n",
       "\n",
       "       text_word_count  text_unique_words  \n",
       "8983                 0                  0  \n",
       "2076                 1                  1  \n",
       "1125                 2                  2  \n",
       "18525                2                  1  \n",
       "8999                 2                  2  \n",
       "7045                 2                  2  \n",
       "1031                 2                  2  \n",
       "6832                 2                  2  \n",
       "15626                2                  2  \n",
       "723                  2                  2  \n",
       "18550                2                  1  \n",
       "2540                 2                  2  \n",
       "10072                3                  3  \n",
       "6265                 3                  3  \n",
       "18431                3                  3  \n",
       "18360                3                  3  \n",
       "8286                 4                  4  \n",
       "1270                 4                  4  \n",
       "2114                 4                  4  \n",
       "3586                 4                  4  "
      ]
     },
     "execution_count": 121,
     "metadata": {},
     "output_type": "execute_result"
    }
   ],
   "source": [
    "df.sort_values(by='text_word_count').head(20)"
   ]
  },
  {
   "cell_type": "markdown",
   "id": "fa0fbf43-9152-4b52-bd35-5ef7ce65e569",
   "metadata": {},
   "source": [
    "We should be aware of the 0 word, and maybe 1-2 word total posts.  But let's continue to look at the data."
   ]
  },
  {
   "cell_type": "code",
   "execution_count": 122,
   "id": "db271e65-ba7d-403d-9169-e7517cc739eb",
   "metadata": {
    "execution": {
     "iopub.execute_input": "2022-12-22T08:19:47.218777Z",
     "iopub.status.busy": "2022-12-22T08:19:47.218549Z",
     "iopub.status.idle": "2022-12-22T08:19:47.223257Z",
     "shell.execute_reply": "2022-12-22T08:19:47.222819Z",
     "shell.execute_reply.started": "2022-12-22T08:19:47.218761Z"
    }
   },
   "outputs": [
    {
     "data": {
      "text/plain": [
       "38"
      ]
     },
     "execution_count": 122,
     "metadata": {},
     "output_type": "execute_result"
    }
   ],
   "source": [
    "# how many posts have less than 5 words in cleaned text\n",
    "len(df[df['text_word_count'] < 5])"
   ]
  },
  {
   "cell_type": "code",
   "execution_count": 123,
   "id": "a642657d-6100-4b3f-be37-e9eb4d88d380",
   "metadata": {
    "execution": {
     "iopub.execute_input": "2022-12-22T08:19:47.226262Z",
     "iopub.status.busy": "2022-12-22T08:19:47.226071Z",
     "iopub.status.idle": "2022-12-22T08:19:47.235589Z",
     "shell.execute_reply": "2022-12-22T08:19:47.235213Z",
     "shell.execute_reply.started": "2022-12-22T08:19:47.226233Z"
    },
    "tags": []
   },
   "outputs": [
    {
     "data": {
      "text/html": [
       "<div>\n",
       "<style scoped>\n",
       "    .dataframe tbody tr th:only-of-type {\n",
       "        vertical-align: middle;\n",
       "    }\n",
       "\n",
       "    .dataframe tbody tr th {\n",
       "        vertical-align: top;\n",
       "    }\n",
       "\n",
       "    .dataframe thead th {\n",
       "        text-align: right;\n",
       "    }\n",
       "</style>\n",
       "<table border=\"1\" class=\"dataframe\">\n",
       "  <thead>\n",
       "    <tr style=\"text-align: right;\">\n",
       "      <th></th>\n",
       "      <th>num_comments</th>\n",
       "      <th>title_len</th>\n",
       "      <th>text_word_count</th>\n",
       "      <th>text_unique_words</th>\n",
       "    </tr>\n",
       "    <tr>\n",
       "      <th>subreddit</th>\n",
       "      <th></th>\n",
       "      <th></th>\n",
       "      <th></th>\n",
       "      <th></th>\n",
       "    </tr>\n",
       "  </thead>\n",
       "  <tbody>\n",
       "    <tr>\n",
       "      <th>playstation</th>\n",
       "      <td>6.832532</td>\n",
       "      <td>47.002251</td>\n",
       "      <td>76.340153</td>\n",
       "      <td>47.076522</td>\n",
       "    </tr>\n",
       "    <tr>\n",
       "      <th>xbox</th>\n",
       "      <td>4.724491</td>\n",
       "      <td>42.391720</td>\n",
       "      <td>71.997750</td>\n",
       "      <td>44.799753</td>\n",
       "    </tr>\n",
       "  </tbody>\n",
       "</table>\n",
       "</div>"
      ],
      "text/plain": [
       "             num_comments  title_len  text_word_count  text_unique_words\n",
       "subreddit                                                               \n",
       "playstation      6.832532  47.002251        76.340153          47.076522\n",
       "xbox             4.724491  42.391720        71.997750          44.799753"
      ]
     },
     "execution_count": 123,
     "metadata": {},
     "output_type": "execute_result"
    }
   ],
   "source": [
    "df.groupby('subreddit').mean()"
   ]
  },
  {
   "cell_type": "code",
   "execution_count": 124,
   "id": "107d110a-8d9f-484d-b1a4-ef8869117306",
   "metadata": {
    "execution": {
     "iopub.execute_input": "2022-12-22T08:19:47.236688Z",
     "iopub.status.busy": "2022-12-22T08:19:47.236560Z",
     "iopub.status.idle": "2022-12-22T08:19:47.246883Z",
     "shell.execute_reply": "2022-12-22T08:19:47.246324Z",
     "shell.execute_reply.started": "2022-12-22T08:19:47.236675Z"
    }
   },
   "outputs": [
    {
     "data": {
      "text/html": [
       "<div>\n",
       "<style scoped>\n",
       "    .dataframe tbody tr th:only-of-type {\n",
       "        vertical-align: middle;\n",
       "    }\n",
       "\n",
       "    .dataframe tbody tr th {\n",
       "        vertical-align: top;\n",
       "    }\n",
       "\n",
       "    .dataframe thead th {\n",
       "        text-align: right;\n",
       "    }\n",
       "</style>\n",
       "<table border=\"1\" class=\"dataframe\">\n",
       "  <thead>\n",
       "    <tr style=\"text-align: right;\">\n",
       "      <th></th>\n",
       "      <th>num_comments</th>\n",
       "      <th>title_len</th>\n",
       "      <th>text_word_count</th>\n",
       "      <th>text_unique_words</th>\n",
       "    </tr>\n",
       "    <tr>\n",
       "      <th>subreddit</th>\n",
       "      <th></th>\n",
       "      <th></th>\n",
       "      <th></th>\n",
       "      <th></th>\n",
       "    </tr>\n",
       "  </thead>\n",
       "  <tbody>\n",
       "    <tr>\n",
       "      <th>playstation</th>\n",
       "      <td>4.0</td>\n",
       "      <td>38.0</td>\n",
       "      <td>57.0</td>\n",
       "      <td>40.0</td>\n",
       "    </tr>\n",
       "    <tr>\n",
       "      <th>xbox</th>\n",
       "      <td>3.0</td>\n",
       "      <td>35.0</td>\n",
       "      <td>54.0</td>\n",
       "      <td>38.0</td>\n",
       "    </tr>\n",
       "  </tbody>\n",
       "</table>\n",
       "</div>"
      ],
      "text/plain": [
       "             num_comments  title_len  text_word_count  text_unique_words\n",
       "subreddit                                                               \n",
       "playstation           4.0       38.0             57.0               40.0\n",
       "xbox                  3.0       35.0             54.0               38.0"
      ]
     },
     "execution_count": 124,
     "metadata": {},
     "output_type": "execute_result"
    }
   ],
   "source": [
    "df.groupby('subreddit').median()"
   ]
  },
  {
   "cell_type": "markdown",
   "id": "e31640b5-2175-4994-a924-9a4789cb7ff6",
   "metadata": {},
   "source": [
    "It looks like both subreddits are fairly similar, but the playstation subreddit does have higher numbers overall--in both mean and median values in all these areas.\n",
    "\n",
    "Given that there are only 38 records with less than 5 words, I'm going to drop those records."
   ]
  },
  {
   "cell_type": "code",
   "execution_count": 125,
   "id": "16a4cb06-453d-48a8-8638-75246c5ff934",
   "metadata": {
    "execution": {
     "iopub.execute_input": "2022-12-22T08:19:47.248173Z",
     "iopub.status.busy": "2022-12-22T08:19:47.247796Z",
     "iopub.status.idle": "2022-12-22T08:19:47.253166Z",
     "shell.execute_reply": "2022-12-22T08:19:47.252765Z",
     "shell.execute_reply.started": "2022-12-22T08:19:47.248159Z"
    }
   },
   "outputs": [],
   "source": [
    "df.drop(df[df['text_word_count'] < 5].index, inplace=True)"
   ]
  },
  {
   "cell_type": "code",
   "execution_count": 126,
   "id": "5c47a978-8703-43af-a5e3-d660d0c26cc1",
   "metadata": {
    "execution": {
     "iopub.execute_input": "2022-12-22T08:19:47.253854Z",
     "iopub.status.busy": "2022-12-22T08:19:47.253742Z",
     "iopub.status.idle": "2022-12-22T08:19:47.396671Z",
     "shell.execute_reply": "2022-12-22T08:19:47.396149Z",
     "shell.execute_reply.started": "2022-12-22T08:19:47.253842Z"
    },
    "tags": []
   },
   "outputs": [
    {
     "data": {
      "image/png": "[encoded data removed]",
      "text/plain": [
       "<Figure size 640x480 with 2 Axes>"
      ]
     },
     "metadata": {},
     "output_type": "display_data"
    }
   ],
   "source": [
    "sns.heatmap(df.corr(),\n",
    "            annot=True);"
   ]
  },
  {
   "cell_type": "code",
   "execution_count": 127,
   "id": "88f77e13-f254-4980-b21a-731b3f69c093",
   "metadata": {
    "execution": {
     "iopub.execute_input": "2022-12-22T08:19:47.397659Z",
     "iopub.status.busy": "2022-12-22T08:19:47.397404Z",
     "iopub.status.idle": "2022-12-22T08:19:47.691252Z",
     "shell.execute_reply": "2022-12-22T08:19:47.690913Z",
     "shell.execute_reply.started": "2022-12-22T08:19:47.397644Z"
    },
    "tags": []
   },
   "outputs": [
    {
     "data": {
      "image/png": "[encoded data removed]",
      "text/plain": [
       "<Figure size 627.5x500 with 1 Axes>"
      ]
     },
     "metadata": {},
     "output_type": "display_data"
    }
   ],
   "source": [
    "sns.displot(data=df,\n",
    "            x='title_len',\n",
    "            hue='subreddit',\n",
    "            palette='cool',\n",
    "            height=5,\n",
    "            bins=50).set(title='Distribution of Title Length by Subreddit',\n",
    "                         xlabel='Title Length');\n",
    "\n",
    "# plt.suptitle('Distribution of Title Length by Subreddit');"
   ]
  },
  {
   "cell_type": "markdown",
   "id": "364a197e-3afe-451e-9e2f-bb1baac4635d",
   "metadata": {},
   "source": [
    "Overall, the distributions of the title lengths are similar between both subreddits, but there appear to be more playstation related content that have longer titles."
   ]
  },
  {
   "cell_type": "code",
   "execution_count": 128,
   "id": "721baa8c-592e-439f-9f5c-52edb7ced39b",
   "metadata": {
    "execution": {
     "iopub.execute_input": "2022-12-22T08:19:47.692094Z",
     "iopub.status.busy": "2022-12-22T08:19:47.691974Z",
     "iopub.status.idle": "2022-12-22T08:19:48.190065Z",
     "shell.execute_reply": "2022-12-22T08:19:48.189583Z",
     "shell.execute_reply.started": "2022-12-22T08:19:47.692080Z"
    },
    "tags": []
   },
   "outputs": [
    {
     "data": {
      "image/png": "[encoded data removed]",
      "text/plain": [
       "<Figure size 877.5x500 with 1 Axes>"
      ]
     },
     "metadata": {},
     "output_type": "display_data"
    }
   ],
   "source": [
    "sns.displot(data=df,\n",
    "            x='text_word_count',\n",
    "            hue='subreddit',\n",
    "            palette='cool',\n",
    "            aspect=1.5,\n",
    "            bins=150).set(title='Distribution of Cleaned Text Word Count',\n",
    "                          xlabel='Word Count',\n",
    "                          xlim=(0, 500));"
   ]
  },
  {
   "cell_type": "markdown",
   "id": "3e8bc1e7-7806-4add-a783-09908e1b5254",
   "metadata": {},
   "source": [
    "Again, we see very similar distributions for both subreddits, but in the places where you can distinction, it appears that playstation is a bit wordier than xbox data."
   ]
  },
  {
   "cell_type": "markdown",
   "id": "763b890a-62d1-4165-bd07-628b6a592dd2",
   "metadata": {},
   "source": [
    "Since we'll need some amount of words for the classification to work, let's see how many entries we have with 15 words or fewer."
   ]
  },
  {
   "cell_type": "code",
   "execution_count": 129,
   "id": "120c9806-842d-400c-850a-f5c0d48f21ec",
   "metadata": {
    "execution": {
     "iopub.execute_input": "2022-12-22T08:19:48.190972Z",
     "iopub.status.busy": "2022-12-22T08:19:48.190835Z",
     "iopub.status.idle": "2022-12-22T08:19:48.198147Z",
     "shell.execute_reply": "2022-12-22T08:19:48.197671Z",
     "shell.execute_reply.started": "2022-12-22T08:19:48.190957Z"
    },
    "tags": []
   },
   "outputs": [
    {
     "data": {
      "text/html": [
       "<div>\n",
       "<style scoped>\n",
       "    .dataframe tbody tr th:only-of-type {\n",
       "        vertical-align: middle;\n",
       "    }\n",
       "\n",
       "    .dataframe tbody tr th {\n",
       "        vertical-align: top;\n",
       "    }\n",
       "\n",
       "    .dataframe thead th {\n",
       "        text-align: right;\n",
       "    }\n",
       "</style>\n",
       "<table border=\"1\" class=\"dataframe\">\n",
       "  <thead>\n",
       "    <tr style=\"text-align: right;\">\n",
       "      <th></th>\n",
       "      <th>text_word_count</th>\n",
       "    </tr>\n",
       "    <tr>\n",
       "      <th>subreddit</th>\n",
       "      <th></th>\n",
       "    </tr>\n",
       "  </thead>\n",
       "  <tbody>\n",
       "    <tr>\n",
       "      <th>playstation</th>\n",
       "      <td>449</td>\n",
       "    </tr>\n",
       "    <tr>\n",
       "      <th>xbox</th>\n",
       "      <td>418</td>\n",
       "    </tr>\n",
       "  </tbody>\n",
       "</table>\n",
       "</div>"
      ],
      "text/plain": [
       "             text_word_count\n",
       "subreddit                   \n",
       "playstation              449\n",
       "xbox                     418"
      ]
     },
     "execution_count": 129,
     "metadata": {},
     "output_type": "execute_result"
    }
   ],
   "source": [
    "df[df['text_word_count'] <= 15].groupby('subreddit')[['text_word_count']].count()"
   ]
  },
  {
   "cell_type": "markdown",
   "id": "655569a5-1fd7-4714-93c5-5e4bb4605a7a",
   "metadata": {},
   "source": [
    "That may be a lot to drop, but since it's relatively even, it may not be so bad.  Let's look at 10 and fewer."
   ]
  },
  {
   "cell_type": "code",
   "execution_count": 130,
   "id": "a7ecd3d4-a7e4-45a4-94e2-27ebeb6fd6eb",
   "metadata": {
    "execution": {
     "iopub.execute_input": "2022-12-22T08:19:48.199252Z",
     "iopub.status.busy": "2022-12-22T08:19:48.198944Z",
     "iopub.status.idle": "2022-12-22T08:19:48.205913Z",
     "shell.execute_reply": "2022-12-22T08:19:48.205419Z",
     "shell.execute_reply.started": "2022-12-22T08:19:48.199233Z"
    },
    "tags": []
   },
   "outputs": [
    {
     "data": {
      "text/html": [
       "<div>\n",
       "<style scoped>\n",
       "    .dataframe tbody tr th:only-of-type {\n",
       "        vertical-align: middle;\n",
       "    }\n",
       "\n",
       "    .dataframe tbody tr th {\n",
       "        vertical-align: top;\n",
       "    }\n",
       "\n",
       "    .dataframe thead th {\n",
       "        text-align: right;\n",
       "    }\n",
       "</style>\n",
       "<table border=\"1\" class=\"dataframe\">\n",
       "  <thead>\n",
       "    <tr style=\"text-align: right;\">\n",
       "      <th></th>\n",
       "      <th>text_word_count</th>\n",
       "    </tr>\n",
       "    <tr>\n",
       "      <th>subreddit</th>\n",
       "      <th></th>\n",
       "    </tr>\n",
       "  </thead>\n",
       "  <tbody>\n",
       "    <tr>\n",
       "      <th>playstation</th>\n",
       "      <td>158</td>\n",
       "    </tr>\n",
       "    <tr>\n",
       "      <th>xbox</th>\n",
       "      <td>157</td>\n",
       "    </tr>\n",
       "  </tbody>\n",
       "</table>\n",
       "</div>"
      ],
      "text/plain": [
       "             text_word_count\n",
       "subreddit                   \n",
       "playstation              158\n",
       "xbox                     157"
      ]
     },
     "execution_count": 130,
     "metadata": {},
     "output_type": "execute_result"
    }
   ],
   "source": [
    "df[df['text_word_count'] <= 10].groupby('subreddit')[['text_word_count']].count()"
   ]
  },
  {
   "cell_type": "markdown",
   "id": "07ce59a1-1923-4e05-b4eb-06987d9421b7",
   "metadata": {},
   "source": [
    "This might be better.  We should probably check to see if this impacts our classifiers, when we get to that."
   ]
  },
  {
   "cell_type": "markdown",
   "id": "7b10a421-9921-4230-99ba-314879600343",
   "metadata": {},
   "source": [
    "Unique Words"
   ]
  },
  {
   "cell_type": "code",
   "execution_count": 131,
   "id": "8cb2c065-f6d9-4921-9b5b-fab6969f49e8",
   "metadata": {
    "execution": {
     "iopub.execute_input": "2022-12-22T08:19:48.206905Z",
     "iopub.status.busy": "2022-12-22T08:19:48.206694Z",
     "iopub.status.idle": "2022-12-22T08:19:48.928495Z",
     "shell.execute_reply": "2022-12-22T08:19:48.928067Z",
     "shell.execute_reply.started": "2022-12-22T08:19:48.206882Z"
    },
    "tags": []
   },
   "outputs": [
    {
     "data": {
      "image/png": "[encoded data removed]",
      "text/plain": [
       "<Figure size 877.5x500 with 1 Axes>"
      ]
     },
     "metadata": {},
     "output_type": "display_data"
    }
   ],
   "source": [
    "sns.displot(data=df,\n",
    "            x='text_unique_words',\n",
    "            hue='subreddit',\n",
    "            palette='cool',\n",
    "            aspect=1.5,\n",
    "            bins=150).set(title='Distribution of Unique Words',\n",
    "                          xlabel='Unique Words',\n",
    "                          xlim=(0, 250));"
   ]
  },
  {
   "cell_type": "markdown",
   "id": "81eddd5f-2873-4b0a-ae35-faaf04a616d9",
   "metadata": {},
   "source": [
    "Number of comments per post by subreddit"
   ]
  },
  {
   "cell_type": "code",
   "execution_count": 132,
   "id": "bfed2fc4-1f47-4750-a3d5-9295c484c247",
   "metadata": {
    "execution": {
     "iopub.execute_input": "2022-12-22T08:19:48.929409Z",
     "iopub.status.busy": "2022-12-22T08:19:48.929272Z",
     "iopub.status.idle": "2022-12-22T08:19:49.427609Z",
     "shell.execute_reply": "2022-12-22T08:19:49.427099Z",
     "shell.execute_reply.started": "2022-12-22T08:19:48.929392Z"
    },
    "tags": []
   },
   "outputs": [
    {
     "data": {
      "image/png": "[encoded data removed]",
      "text/plain": [
       "<Figure size 877.5x500 with 1 Axes>"
      ]
     },
     "metadata": {},
     "output_type": "display_data"
    }
   ],
   "source": [
    "sns.displot(data=df,\n",
    "            x='num_comments',\n",
    "            hue='subreddit',\n",
    "            palette='cool',\n",
    "            aspect=1.5,\n",
    "            bins=150).set(title='Number of Comments Per Post',\n",
    "                          xlabel='Number of Comments',\n",
    "                          xlim=(0, 50));"
   ]
  },
  {
   "cell_type": "markdown",
   "id": "8e3a029a-5c2a-4b54-9c34-786f761e9814",
   "metadata": {},
   "source": [
    "The plot above is a zoomed in, meaning that I am focusing on a smaller X-axis range to get a better view.  Here we see that Xbox posts generally had fewer comments per post than playstation posts."
   ]
  },
  {
   "cell_type": "markdown",
   "id": "57c5fac7-14f8-4073-a3d9-449e75c4a6ab",
   "metadata": {},
   "source": [
    "Look at the top 10 longest text blocks"
   ]
  },
  {
   "cell_type": "code",
   "execution_count": 133,
   "id": "dcd09fa8-7c2a-4d98-ae2e-48f29f754a0e",
   "metadata": {
    "execution": {
     "iopub.execute_input": "2022-12-22T08:19:49.428639Z",
     "iopub.status.busy": "2022-12-22T08:19:49.428488Z",
     "iopub.status.idle": "2022-12-22T08:19:49.438069Z",
     "shell.execute_reply": "2022-12-22T08:19:49.437659Z",
     "shell.execute_reply.started": "2022-12-22T08:19:49.428625Z"
    },
    "tags": []
   },
   "outputs": [
    {
     "data": {
      "text/html": [
       "<div>\n",
       "<style scoped>\n",
       "    .dataframe tbody tr th:only-of-type {\n",
       "        vertical-align: middle;\n",
       "    }\n",
       "\n",
       "    .dataframe tbody tr th {\n",
       "        vertical-align: top;\n",
       "    }\n",
       "\n",
       "    .dataframe thead th {\n",
       "        text-align: right;\n",
       "    }\n",
       "</style>\n",
       "<table border=\"1\" class=\"dataframe\">\n",
       "  <thead>\n",
       "    <tr style=\"text-align: right;\">\n",
       "      <th></th>\n",
       "      <th>text</th>\n",
       "    </tr>\n",
       "  </thead>\n",
       "  <tbody>\n",
       "    <tr>\n",
       "      <th>15523</th>\n",
       "      <td>debunk do phil spencer really shoot down xcloud on switch the definitive analysis this start out as a simple reply to a comment but turn into a  hour long writing session of a huge wall of text hope you can still read it though as it will answer all your question and doubt context I make a video on why master chief in smash make perfect sense as a marketing buzz for xcloud on switch as well a...</td>\n",
       "    </tr>\n",
       "    <tr>\n",
       "      <th>1797</th>\n",
       "      <td>now be really under appreciated okay so I know from the start this be a flawed argument because  game pass have all of the  studio game on there and straight away on release so consider that if  do that it would imo be the hand down winner but even without these just look at the list and you will see how much value you be get oof all  now game a a boy and his blob abzu ace of the luftwaffe ac...</td>\n",
       "    </tr>\n",
       "    <tr>\n",
       "      <th>8566</th>\n",
       "      <td>just experience the bad customer service I ve ever have I would like to start off by say  need to readdress how they ago about recover a n account I provide  of the information request because the other  be something that could be change at any give time but customer service would not help at all a bit of a backstory I do not play my  all the time I play it from time to time when I want to che...</td>\n",
       "    </tr>\n",
       "    <tr>\n",
       "      <th>9919</th>\n",
       "      <td>list of  game that will boost your gamerscore for the hof event look to compete for the hof event maybe you just want that sweet 10k reward for get 10k gamerscore before the 19th or maybe you be just look to boost your gamerscore look no far as this be the guide for you all game list have estimate completion time between   hour below be a list for people too lazy to click the link  112th seed ...</td>\n",
       "    </tr>\n",
       "    <tr>\n",
       "      <th>16009</th>\n",
       "      <td>dear  and phil spencer a letter to  dear  and phil spencer I be hope this find you happy healthy hopeful and well I want to preface all of this by say that I be primarily on 4 when it come to gaming and I own and love my switch but until last december I have never own let alone play an  I be curious though and as I be listen to phil spencer more and more read about gamepass view their adaptive...</td>\n",
       "    </tr>\n",
       "    <tr>\n",
       "      <th>5858</th>\n",
       "      <td>today I end up speak to my own account hacker okay so bear with I because this be a somewhat long story but it literally just happen today and I be still pretty dumbfounded so a bit of background this weekend I lose my internet because the people redo our driveway accidentally cut the service cable so I be currently post this use a hotspot off my phone it be also how I be able to use internet ...</td>\n",
       "    </tr>\n",
       "    <tr>\n",
       "      <th>14883</th>\n",
       "      <td>on improve the elite controller stick option and add they to the accessibility options for series x or  one hello everyone for those unaware those who own  elite controller for the  one have access to additional customization over the basic button remappe normal controller user have some of these feature be because of the add addition to the elite controller but what I will be focus on be the ...</td>\n",
       "    </tr>\n",
       "    <tr>\n",
       "      <th>9974</th>\n",
       "      <td>which next gen console have the most consumer friendly storage choice after warranty expire note this post be base on the post manufacturer warranty lifecycle aka after  year I ve see other eagle eyed redditor mention this previously but in the late video from spawn wave it show the  sere be actually use what appear to be a  m  ssd for the internal drive which be replaceable rather than solder...</td>\n",
       "    </tr>\n",
       "    <tr>\n",
       "      <th>11783</th>\n",
       "      <td>proof that  have a single batch of console for the series s and hold all access back so that people could buy the console outright first here be my transcript below with a ms associate and supervisor sam hello we apologize for the long wait on the queue as we be experience huge volume of chat request as of this moment I be sam how may I help you today   sep    sep  you hi early at  am I be ref...</td>\n",
       "    </tr>\n",
       "    <tr>\n",
       "      <th>4275</th>\n",
       "      <td>4 save datum and capture medium recovery about a week ago I decide to buy a bunch of game I be interested because of the  summer sale I  game and decide to download they all at once silly I think my day one 4 could handle that amount of processing power all at once suffice to say my 4 froze and would not respond to any input I check my mobile phone app and it say that I be offline and I be not...</td>\n",
       "    </tr>\n",
       "  </tbody>\n",
       "</table>\n",
       "</div>"
      ],
      "text/plain": [
       "                                                                                                                                                                                                                                                                                                                                                                                                                  text\n",
       "15523   debunk do phil spencer really shoot down xcloud on switch the definitive analysis this start out as a simple reply to a comment but turn into a  hour long writing session of a huge wall of text hope you can still read it though as it will answer all your question and doubt context I make a video on why master chief in smash make perfect sense as a marketing buzz for xcloud on switch as well a...\n",
       "1797    now be really under appreciated okay so I know from the start this be a flawed argument because  game pass have all of the  studio game on there and straight away on release so consider that if  do that it would imo be the hand down winner but even without these just look at the list and you will see how much value you be get oof all  now game a a boy and his blob abzu ace of the luftwaffe ac...\n",
       "8566   just experience the bad customer service I ve ever have I would like to start off by say  need to readdress how they ago about recover a n account I provide  of the information request because the other  be something that could be change at any give time but customer service would not help at all a bit of a backstory I do not play my  all the time I play it from time to time when I want to che...\n",
       "9919   list of  game that will boost your gamerscore for the hof event look to compete for the hof event maybe you just want that sweet 10k reward for get 10k gamerscore before the 19th or maybe you be just look to boost your gamerscore look no far as this be the guide for you all game list have estimate completion time between   hour below be a list for people too lazy to click the link  112th seed ...\n",
       "16009  dear  and phil spencer a letter to  dear  and phil spencer I be hope this find you happy healthy hopeful and well I want to preface all of this by say that I be primarily on 4 when it come to gaming and I own and love my switch but until last december I have never own let alone play an  I be curious though and as I be listen to phil spencer more and more read about gamepass view their adaptive...\n",
       "5858   today I end up speak to my own account hacker okay so bear with I because this be a somewhat long story but it literally just happen today and I be still pretty dumbfounded so a bit of background this weekend I lose my internet because the people redo our driveway accidentally cut the service cable so I be currently post this use a hotspot off my phone it be also how I be able to use internet ...\n",
       "14883  on improve the elite controller stick option and add they to the accessibility options for series x or  one hello everyone for those unaware those who own  elite controller for the  one have access to additional customization over the basic button remappe normal controller user have some of these feature be because of the add addition to the elite controller but what I will be focus on be the ...\n",
       "9974   which next gen console have the most consumer friendly storage choice after warranty expire note this post be base on the post manufacturer warranty lifecycle aka after  year I ve see other eagle eyed redditor mention this previously but in the late video from spawn wave it show the  sere be actually use what appear to be a  m  ssd for the internal drive which be replaceable rather than solder...\n",
       "11783  proof that  have a single batch of console for the series s and hold all access back so that people could buy the console outright first here be my transcript below with a ms associate and supervisor sam hello we apologize for the long wait on the queue as we be experience huge volume of chat request as of this moment I be sam how may I help you today   sep    sep  you hi early at  am I be ref...\n",
       "4275   4 save datum and capture medium recovery about a week ago I decide to buy a bunch of game I be interested because of the  summer sale I  game and decide to download they all at once silly I think my day one 4 could handle that amount of processing power all at once suffice to say my 4 froze and would not respond to any input I check my mobile phone app and it say that I be offline and I be not..."
      ]
     },
     "execution_count": 133,
     "metadata": {},
     "output_type": "execute_result"
    }
   ],
   "source": [
    "df.sort_values(by='text_word_count', ascending=False)[['text']].head(10)"
   ]
  },
  {
   "cell_type": "markdown",
   "id": "78b9f900-86c2-44d1-b6f6-116647b3c9fc",
   "metadata": {},
   "source": [
    "### Investigate Word Counts\n",
    "\n",
    "Will use a CountVectorizer in order to see the most and least common words in the text."
   ]
  },
  {
   "cell_type": "code",
   "execution_count": 134,
   "id": "46845550-4d6b-4e66-9246-24b61596b338",
   "metadata": {
    "execution": {
     "iopub.execute_input": "2022-12-22T08:19:49.439120Z",
     "iopub.status.busy": "2022-12-22T08:19:49.439004Z",
     "iopub.status.idle": "2022-12-22T08:19:49.442960Z",
     "shell.execute_reply": "2022-12-22T08:19:49.442475Z",
     "shell.execute_reply.started": "2022-12-22T08:19:49.439108Z"
    },
    "tags": []
   },
   "outputs": [],
   "source": [
    "cv = CountVectorizer(stop_words='english')"
   ]
  },
  {
   "cell_type": "code",
   "execution_count": 135,
   "id": "246a10b2-f0f9-48af-87ad-e7571362ca81",
   "metadata": {
    "execution": {
     "iopub.execute_input": "2022-12-22T08:19:49.443838Z",
     "iopub.status.busy": "2022-12-22T08:19:49.443749Z",
     "iopub.status.idle": "2022-12-22T08:19:50.021892Z",
     "shell.execute_reply": "2022-12-22T08:19:50.021020Z",
     "shell.execute_reply.started": "2022-12-22T08:19:49.443827Z"
    },
    "tags": []
   },
   "outputs": [],
   "source": [
    "# fit and store the transformed data (sparse matrix)\n",
    "df_cv = cv.fit_transform(df['text'])"
   ]
  },
  {
   "cell_type": "code",
   "execution_count": 136,
   "id": "60e04f61-8706-4fb0-b692-8db0e56b2345",
   "metadata": {
    "execution": {
     "iopub.execute_input": "2022-12-22T08:19:50.023162Z",
     "iopub.status.busy": "2022-12-22T08:19:50.022877Z",
     "iopub.status.idle": "2022-12-22T08:19:50.740710Z",
     "shell.execute_reply": "2022-12-22T08:19:50.740260Z",
     "shell.execute_reply.started": "2022-12-22T08:19:50.023135Z"
    },
    "tags": []
   },
   "outputs": [],
   "source": [
    "# convert sparse matrix to dataframe\n",
    "df_cv = pd.DataFrame(df_cv.todense(),\n",
    "                     columns=cv.get_feature_names_out())"
   ]
  },
  {
   "cell_type": "code",
   "execution_count": 137,
   "id": "6c1e63d1-3876-4a9a-9f51-ab23471b1cdc",
   "metadata": {
    "execution": {
     "iopub.execute_input": "2022-12-22T08:19:50.741558Z",
     "iopub.status.busy": "2022-12-22T08:19:50.741465Z",
     "iopub.status.idle": "2022-12-22T08:19:50.745015Z",
     "shell.execute_reply": "2022-12-22T08:19:50.744605Z",
     "shell.execute_reply.started": "2022-12-22T08:19:50.741546Z"
    },
    "tags": []
   },
   "outputs": [
    {
     "data": {
      "text/plain": [
       "(18626, 17420)"
      ]
     },
     "execution_count": 137,
     "metadata": {},
     "output_type": "execute_result"
    }
   ],
   "source": [
    "df_cv.shape"
   ]
  },
  {
   "cell_type": "markdown",
   "id": "36d42418-c3f0-41c7-907c-fc67400b357f",
   "metadata": {},
   "source": [
    "#### Show the 20 most common words"
   ]
  },
  {
   "cell_type": "code",
   "execution_count": 138,
   "id": "5a0f860c-d096-406f-bac0-2873008198f9",
   "metadata": {
    "execution": {
     "iopub.execute_input": "2022-12-22T08:19:50.745980Z",
     "iopub.status.busy": "2022-12-22T08:19:50.745785Z",
     "iopub.status.idle": "2022-12-22T08:19:52.030889Z",
     "shell.execute_reply": "2022-12-22T08:19:52.030220Z",
     "shell.execute_reply.started": "2022-12-22T08:19:50.745963Z"
    },
    "tags": []
   },
   "outputs": [
    {
     "data": {
      "text/plain": [
       "game          18369\n",
       "play           7869\n",
       "just           7274\n",
       "buy            5992\n",
       "account        5431\n",
       "know           5327\n",
       "try            5071\n",
       "like           4892\n",
       "ve             4414\n",
       "use            4392\n",
       "help           4218\n",
       "say            4025\n",
       "work           4022\n",
       "want           4014\n",
       "controller     3960\n",
       "console        3803\n",
       "new            3760\n",
       "series         3480\n",
       "time           3447\n",
       "make           2981\n",
       "dtype: int64"
      ]
     },
     "execution_count": 138,
     "metadata": {},
     "output_type": "execute_result"
    }
   ],
   "source": [
    "df_cv.sum().sort_values(ascending=False)[:20]"
   ]
  },
  {
   "cell_type": "markdown",
   "id": "f2ff7c5d-cba8-4e0a-b0c0-4fcb0c3d7602",
   "metadata": {},
   "source": [
    "#### Show the 20 frequency of the most common words as a bar chart"
   ]
  },
  {
   "cell_type": "code",
   "execution_count": 139,
   "id": "0431d6d1-d1b5-4f84-8796-f6c67b85897c",
   "metadata": {
    "execution": {
     "iopub.execute_input": "2022-12-22T08:19:52.032925Z",
     "iopub.status.busy": "2022-12-22T08:19:52.032761Z",
     "iopub.status.idle": "2022-12-22T08:19:52.482225Z",
     "shell.execute_reply": "2022-12-22T08:19:52.481891Z",
     "shell.execute_reply.started": "2022-12-22T08:19:52.032905Z"
    },
    "tags": []
   },
   "outputs": [
    {
     "data": {
      "image/png": "[encoded data removed]",
      "text/plain": [
       "<Figure size 640x480 with 1 Axes>"
      ]
     },
     "metadata": {},
     "output_type": "display_data"
    }
   ],
   "source": [
    "df_cv.sum().sort_values(ascending=False)[:20].plot(kind='barh')\n",
    "plt.title('20 Most Common Words')\n",
    "plt.xlabel('Word in Status')\n",
    "plt.ylabel('Count');"
   ]
  },
  {
   "cell_type": "markdown",
   "id": "6a2321fc-36df-40a8-8623-9c55da0f2741",
   "metadata": {},
   "source": [
    "Not surprising that words like game, play, controller, and console all show up here, given the context of the subject matter."
   ]
  },
  {
   "cell_type": "markdown",
   "id": "6dbfd671-b88d-4e9e-bfd1-60ec7d619b45",
   "metadata": {},
   "source": [
    "#### Show the 20 least common words"
   ]
  },
  {
   "cell_type": "code",
   "execution_count": 140,
   "id": "1319650b-eb5f-4fb8-b39a-3a7dd0981b38",
   "metadata": {
    "execution": {
     "iopub.execute_input": "2022-12-22T08:19:52.483267Z",
     "iopub.status.busy": "2022-12-22T08:19:52.482968Z",
     "iopub.status.idle": "2022-12-22T08:19:52.703712Z",
     "shell.execute_reply": "2022-12-22T08:19:52.703254Z",
     "shell.execute_reply.started": "2022-12-22T08:19:52.483242Z"
    },
    "tags": []
   },
   "outputs": [
    {
     "data": {
      "text/plain": [
       "killfeed       1\n",
       "mah            1\n",
       "mainland       1\n",
       "maintainer     1\n",
       "maintanence    1\n",
       "maintence      1\n",
       "maintinance    1\n",
       "maisie         1\n",
       "maize          1\n",
       "majima         1\n",
       "majornelson    1\n",
       "maked          1\n",
       "makeshift      1\n",
       "makinh         1\n",
       "makoto         1\n",
       "malaysia       1\n",
       "maleware       1\n",
       "malfuction     1\n",
       "magus          1\n",
       "malwarebyte    1\n",
       "dtype: int64"
      ]
     },
     "execution_count": 140,
     "metadata": {},
     "output_type": "execute_result"
    }
   ],
   "source": [
    "df_cv.sum().sort_values(ascending=True)[:20]"
   ]
  },
  {
   "cell_type": "markdown",
   "id": "88ea3812-881d-4ba0-810d-524a3cee5bbb",
   "metadata": {},
   "source": [
    "Nothing very interesting here."
   ]
  },
  {
   "cell_type": "markdown",
   "id": "c1e75750-64b2-4351-914d-7a929bf64934",
   "metadata": {},
   "source": [
    "#### Longest and shortest titles"
   ]
  },
  {
   "cell_type": "code",
   "execution_count": 141,
   "id": "2bfe89b0-bbd6-4aed-8922-f4cfc9373d5d",
   "metadata": {
    "execution": {
     "iopub.execute_input": "2022-12-22T08:19:52.710431Z",
     "iopub.status.busy": "2022-12-22T08:19:52.710013Z",
     "iopub.status.idle": "2022-12-22T08:19:52.736519Z",
     "shell.execute_reply": "2022-12-22T08:19:52.735919Z",
     "shell.execute_reply.started": "2022-12-22T08:19:52.710411Z"
    },
    "tags": []
   },
   "outputs": [
    {
     "data": {
      "text/html": [
       "<div>\n",
       "<style scoped>\n",
       "    .dataframe tbody tr th:only-of-type {\n",
       "        vertical-align: middle;\n",
       "    }\n",
       "\n",
       "    .dataframe tbody tr th {\n",
       "        vertical-align: top;\n",
       "    }\n",
       "\n",
       "    .dataframe thead th {\n",
       "        text-align: right;\n",
       "    }\n",
       "</style>\n",
       "<table border=\"1\" class=\"dataframe\">\n",
       "  <thead>\n",
       "    <tr style=\"text-align: right;\">\n",
       "      <th></th>\n",
       "      <th>title</th>\n",
       "    </tr>\n",
       "  </thead>\n",
       "  <tbody>\n",
       "    <tr>\n",
       "      <th>10730</th>\n",
       "      <td>I have 1.25 credit in my Microsoft account and I need to buy buy the game pass for 1$ but I don’t have any more money in my account to pay for the monthly renewal. I don’t even have any payment cards in the first place. Is there any way to skip it or get a gamepass ‘code’ for 1$ from somewhere else?</td>\n",
       "    </tr>\n",
       "    <tr>\n",
       "      <th>13559</th>\n",
       "      <td>I have heard that the Xbox Elite controller V2 has had problems. I am thinking about buying one because my elite controller from the first generation is broken. Did Xbox fix the xbox elite v2 controllers with their new batch of controllers? Because maybe only the early production ones had issues?</td>\n",
       "    </tr>\n",
       "    <tr>\n",
       "      <th>1533</th>\n",
       "      <td>Been hearing about this for awhile now on social media that the XSX is more powerful than the PS5 but i saw the comparison and to be absolutely honest I'm not seeing that much of a difference between them but the main argument is that the XSX can do 4k/60 while the PS5 can't so what do you think?</td>\n",
       "    </tr>\n",
       "    <tr>\n",
       "      <th>4562</th>\n",
       "      <td>[Question] My internet has gone off for the 2nd time in two days (probably bc of the weather). When this happens I get a message from Sony that says that they cannot verify my license to play any digitally purchased game and I have 15 minutes to reconnect before the game closes. Is this normal??</td>\n",
       "    </tr>\n",
       "    <tr>\n",
       "      <th>1938</th>\n",
       "      <td>I pre ordered a ps5 and I kno it comes with a basic hdmi 2.1 cable but I want to kno(btw i have a Samsung 4k uhd tv) if I should spend 50 to a 100 dollars on some other better hdmi 2.1 cables? I've been looking at audio quest I'd love feedback and some links to the best hdmi 2.1 4k 120 Hertz</td>\n",
       "    </tr>\n",
       "  </tbody>\n",
       "</table>\n",
       "</div>"
      ],
      "text/plain": [
       "                                                                                                                                                                                                                                                                                                              title\n",
       "10730  I have 1.25 credit in my Microsoft account and I need to buy buy the game pass for 1$ but I don’t have any more money in my account to pay for the monthly renewal. I don’t even have any payment cards in the first place. Is there any way to skip it or get a gamepass ‘code’ for 1$ from somewhere else?\n",
       "13559     I have heard that the Xbox Elite controller V2 has had problems. I am thinking about buying one because my elite controller from the first generation is broken. Did Xbox fix the xbox elite v2 controllers with their new batch of controllers? Because maybe only the early production ones had issues?\n",
       "1533      Been hearing about this for awhile now on social media that the XSX is more powerful than the PS5 but i saw the comparison and to be absolutely honest I'm not seeing that much of a difference between them but the main argument is that the XSX can do 4k/60 while the PS5 can't so what do you think?\n",
       "4562       [Question] My internet has gone off for the 2nd time in two days (probably bc of the weather). When this happens I get a message from Sony that says that they cannot verify my license to play any digitally purchased game and I have 15 minutes to reconnect before the game closes. Is this normal??\n",
       "1938           I pre ordered a ps5 and I kno it comes with a basic hdmi 2.1 cable but I want to kno(btw i have a Samsung 4k uhd tv) if I should spend 50 to a 100 dollars on some other better hdmi 2.1 cables? I've been looking at audio quest I'd love feedback and some links to the best hdmi 2.1 4k 120 Hertz"
      ]
     },
     "execution_count": 141,
     "metadata": {},
     "output_type": "execute_result"
    }
   ],
   "source": [
    "# five longest titles\n",
    "df.sort_values(by='title_len', ascending=False)[['title']].head()"
   ]
  },
  {
   "cell_type": "code",
   "execution_count": 142,
   "id": "8e22a1cb-032d-4d3b-83c8-08f2961eb807",
   "metadata": {
    "execution": {
     "iopub.execute_input": "2022-12-22T08:19:52.737292Z",
     "iopub.status.busy": "2022-12-22T08:19:52.737194Z",
     "iopub.status.idle": "2022-12-22T08:19:52.746591Z",
     "shell.execute_reply": "2022-12-22T08:19:52.746048Z",
     "shell.execute_reply.started": "2022-12-22T08:19:52.737279Z"
    },
    "tags": []
   },
   "outputs": [
    {
     "data": {
      "text/html": [
       "<div>\n",
       "<style scoped>\n",
       "    .dataframe tbody tr th:only-of-type {\n",
       "        vertical-align: middle;\n",
       "    }\n",
       "\n",
       "    .dataframe tbody tr th {\n",
       "        vertical-align: top;\n",
       "    }\n",
       "\n",
       "    .dataframe thead th {\n",
       "        text-align: right;\n",
       "    }\n",
       "</style>\n",
       "<table border=\"1\" class=\"dataframe\">\n",
       "  <thead>\n",
       "    <tr style=\"text-align: right;\">\n",
       "      <th></th>\n",
       "      <th>title</th>\n",
       "    </tr>\n",
       "  </thead>\n",
       "  <tbody>\n",
       "    <tr>\n",
       "      <th>14210</th>\n",
       "      <td>?</td>\n",
       "    </tr>\n",
       "    <tr>\n",
       "      <th>14066</th>\n",
       "      <td>.</td>\n",
       "    </tr>\n",
       "    <tr>\n",
       "      <th>11211</th>\n",
       "      <td>4K</td>\n",
       "    </tr>\n",
       "    <tr>\n",
       "      <th>18663</th>\n",
       "      <td>MW</td>\n",
       "    </tr>\n",
       "    <tr>\n",
       "      <th>18481</th>\n",
       "      <td>Hi</td>\n",
       "    </tr>\n",
       "  </tbody>\n",
       "</table>\n",
       "</div>"
      ],
      "text/plain": [
       "      title\n",
       "14210     ?\n",
       "14066     .\n",
       "11211    4K\n",
       "18663    MW\n",
       "18481    Hi"
      ]
     },
     "execution_count": 142,
     "metadata": {},
     "output_type": "execute_result"
    }
   ],
   "source": [
    "# five shortest titles\n",
    "df.sort_values(by='title_len', ascending=True)[['title']].head()"
   ]
  },
  {
   "cell_type": "markdown",
   "id": "4785db7d-b68d-4aec-90ea-21b5e0f70ac1",
   "metadata": {},
   "source": [
    "#### Unique Authors\n",
    "\n",
    "Let's look at unique post authors in this data."
   ]
  },
  {
   "cell_type": "code",
   "execution_count": 143,
   "id": "8bfbf18f-67a9-4530-a933-39fce72c9a75",
   "metadata": {
    "execution": {
     "iopub.execute_input": "2022-12-22T08:19:52.747796Z",
     "iopub.status.busy": "2022-12-22T08:19:52.747531Z",
     "iopub.status.idle": "2022-12-22T08:19:52.751356Z",
     "shell.execute_reply": "2022-12-22T08:19:52.750815Z",
     "shell.execute_reply.started": "2022-12-22T08:19:52.747775Z"
    },
    "tags": []
   },
   "outputs": [
    {
     "data": {
      "text/plain": [
       "Index(['subreddit', 'author', 'num_comments', 'selftext', 'title', 'text',\n",
       "       'title_len', 'text_word_count', 'text_unique_words'],\n",
       "      dtype='object')"
      ]
     },
     "execution_count": 143,
     "metadata": {},
     "output_type": "execute_result"
    }
   ],
   "source": [
    "df.columns"
   ]
  },
  {
   "cell_type": "code",
   "execution_count": 144,
   "id": "7ac6cf15-73e5-4824-8e77-b1cbbf7f6f5d",
   "metadata": {
    "execution": {
     "iopub.execute_input": "2022-12-22T08:19:52.752349Z",
     "iopub.status.busy": "2022-12-22T08:19:52.752243Z",
     "iopub.status.idle": "2022-12-22T08:19:52.758505Z",
     "shell.execute_reply": "2022-12-22T08:19:52.758164Z",
     "shell.execute_reply.started": "2022-12-22T08:19:52.752337Z"
    },
    "tags": []
   },
   "outputs": [
    {
     "data": {
      "text/plain": [
       "15375"
      ]
     },
     "execution_count": 144,
     "metadata": {},
     "output_type": "execute_result"
    }
   ],
   "source": [
    "df['author'].nunique()"
   ]
  },
  {
   "cell_type": "code",
   "execution_count": 145,
   "id": "c47e96b0-2575-4ed6-bcc7-a9198f9110da",
   "metadata": {
    "execution": {
     "iopub.execute_input": "2022-12-22T08:19:52.759298Z",
     "iopub.status.busy": "2022-12-22T08:19:52.759184Z",
     "iopub.status.idle": "2022-12-22T08:19:52.765313Z",
     "shell.execute_reply": "2022-12-22T08:19:52.764929Z",
     "shell.execute_reply.started": "2022-12-22T08:19:52.759286Z"
    },
    "tags": []
   },
   "outputs": [
    {
     "data": {
      "text/plain": [
       "3251"
      ]
     },
     "execution_count": 145,
     "metadata": {},
     "output_type": "execute_result"
    }
   ],
   "source": [
    "len(df) - df['author'].nunique()"
   ]
  },
  {
   "cell_type": "code",
   "execution_count": 146,
   "id": "8c7e8c4f-f788-4ce8-aa83-2fa18816c5d4",
   "metadata": {
    "execution": {
     "iopub.execute_input": "2022-12-22T08:19:52.766312Z",
     "iopub.status.busy": "2022-12-22T08:19:52.766162Z",
     "iopub.status.idle": "2022-12-22T08:19:52.781408Z",
     "shell.execute_reply": "2022-12-22T08:19:52.780988Z",
     "shell.execute_reply.started": "2022-12-22T08:19:52.766299Z"
    },
    "tags": []
   },
   "outputs": [
    {
     "data": {
      "text/html": [
       "<div>\n",
       "<style scoped>\n",
       "    .dataframe tbody tr th:only-of-type {\n",
       "        vertical-align: middle;\n",
       "    }\n",
       "\n",
       "    .dataframe tbody tr th {\n",
       "        vertical-align: top;\n",
       "    }\n",
       "\n",
       "    .dataframe thead th {\n",
       "        text-align: right;\n",
       "    }\n",
       "</style>\n",
       "<table border=\"1\" class=\"dataframe\">\n",
       "  <thead>\n",
       "    <tr style=\"text-align: right;\">\n",
       "      <th></th>\n",
       "      <th>author</th>\n",
       "    </tr>\n",
       "    <tr>\n",
       "      <th>subreddit</th>\n",
       "      <th></th>\n",
       "    </tr>\n",
       "  </thead>\n",
       "  <tbody>\n",
       "    <tr>\n",
       "      <th>playstation</th>\n",
       "      <td>8003</td>\n",
       "    </tr>\n",
       "    <tr>\n",
       "      <th>xbox</th>\n",
       "      <td>7539</td>\n",
       "    </tr>\n",
       "  </tbody>\n",
       "</table>\n",
       "</div>"
      ],
      "text/plain": [
       "             author\n",
       "subreddit          \n",
       "playstation    8003\n",
       "xbox           7539"
      ]
     },
     "execution_count": 146,
     "metadata": {},
     "output_type": "execute_result"
    }
   ],
   "source": [
    "df.groupby('subreddit')[['author']].nunique()"
   ]
  },
  {
   "cell_type": "code",
   "execution_count": 147,
   "id": "4264cb23-efc5-4ad0-aef3-040536081d91",
   "metadata": {
    "execution": {
     "iopub.execute_input": "2022-12-22T08:19:52.782408Z",
     "iopub.status.busy": "2022-12-22T08:19:52.782250Z",
     "iopub.status.idle": "2022-12-22T08:19:52.787256Z",
     "shell.execute_reply": "2022-12-22T08:19:52.786813Z",
     "shell.execute_reply.started": "2022-12-22T08:19:52.782384Z"
    },
    "tags": []
   },
   "outputs": [
    {
     "data": {
      "text/plain": [
       "playstation    9753\n",
       "xbox           8873\n",
       "Name: subreddit, dtype: int64"
      ]
     },
     "execution_count": 147,
     "metadata": {},
     "output_type": "execute_result"
    }
   ],
   "source": [
    "df['subreddit'].value_counts()"
   ]
  },
  {
   "cell_type": "markdown",
   "id": "3c9931f9-d9bf-43fb-9a50-409e9cc27214",
   "metadata": {},
   "source": [
    "Again, these subreddits are very similar in composition, but here the Xbox subreddit has a higher percentage of unique authors creating posts."
   ]
  },
  {
   "cell_type": "markdown",
   "id": "8402fcbd-2b90-4474-bf09-d5a226c240f1",
   "metadata": {},
   "source": [
    "### Stop Words, Bigrams, and Trigrams"
   ]
  },
  {
   "cell_type": "markdown",
   "id": "a02985eb-e130-4e12-a424-9d2c4c2a88d3",
   "metadata": {},
   "source": [
    "After performing some modeling and seeing that in some cases bigrams and trigrams were the best fit during some of the grid searching, I thought it might be interesting to look at some of the bigrams and trigrams that come from vectorizing the text.  In this section, I'll investigate both CountVectorizer and TfidfVectorizer and look at the top bigrams and trigrams to see if there are any patterns of interest that should be addressed with some additional cleaning perhaps.\n",
    "\n",
    "We'll also look at the impact that stop words may have on features here as well. Above we saw that CountVectorizer on the `text` feature yielded `17431` columns/features with English stop words.  Let's see without stop words."
   ]
  },
  {
   "cell_type": "code",
   "execution_count": 148,
   "id": "b5d1e193-2251-491d-ba58-eae6dbbb5fcc",
   "metadata": {
    "execution": {
     "iopub.execute_input": "2022-12-22T08:19:52.788900Z",
     "iopub.status.busy": "2022-12-22T08:19:52.788528Z",
     "iopub.status.idle": "2022-12-22T08:19:52.971096Z",
     "shell.execute_reply": "2022-12-22T08:19:52.970579Z",
     "shell.execute_reply.started": "2022-12-22T08:19:52.788880Z"
    },
    "tags": []
   },
   "outputs": [],
   "source": [
    "ngrams_cv = CountVectorizer()"
   ]
  },
  {
   "cell_type": "code",
   "execution_count": 149,
   "id": "aad53267-57ae-4e06-8a83-80e08c912455",
   "metadata": {
    "execution": {
     "iopub.execute_input": "2022-12-22T08:19:52.972320Z",
     "iopub.status.busy": "2022-12-22T08:19:52.972128Z",
     "iopub.status.idle": "2022-12-22T08:19:53.661379Z",
     "shell.execute_reply": "2022-12-22T08:19:53.660998Z",
     "shell.execute_reply.started": "2022-12-22T08:19:52.972304Z"
    },
    "tags": []
   },
   "outputs": [],
   "source": [
    "no_stop = ngrams_cv.fit_transform(df['text'])"
   ]
  },
  {
   "cell_type": "code",
   "execution_count": 150,
   "id": "f29334d2-5bd7-47c2-ac50-84940825ced5",
   "metadata": {
    "execution": {
     "iopub.execute_input": "2022-12-22T08:19:53.662017Z",
     "iopub.status.busy": "2022-12-22T08:19:53.661930Z",
     "iopub.status.idle": "2022-12-22T08:19:54.477411Z",
     "shell.execute_reply": "2022-12-22T08:19:54.476925Z",
     "shell.execute_reply.started": "2022-12-22T08:19:53.662006Z"
    },
    "tags": []
   },
   "outputs": [
    {
     "data": {
      "text/plain": [
       "(18626, 17710)"
      ]
     },
     "execution_count": 150,
     "metadata": {},
     "output_type": "execute_result"
    }
   ],
   "source": [
    "# assemble a dataframe from the transformed data\n",
    "no_stop = pd.DataFrame(no_stop.todense(), \n",
    "                       columns=ngrams_cv.get_feature_names_out())\n",
    "no_stop.shape"
   ]
  },
  {
   "cell_type": "markdown",
   "id": "e814cf3b-a6b2-4d03-bd43-1207e3bc4aee",
   "metadata": {},
   "source": [
    "Difference of almost 300 columns, which I believe matches approximately with the length of the stop word list.  I think this difference may become more pronounced when we start examinging the ngrams."
   ]
  },
  {
   "cell_type": "code",
   "execution_count": 151,
   "id": "b2128629-fd8d-4c86-bf99-5414d298e5e6",
   "metadata": {
    "execution": {
     "iopub.execute_input": "2022-12-22T08:19:54.478626Z",
     "iopub.status.busy": "2022-12-22T08:19:54.478329Z",
     "iopub.status.idle": "2022-12-22T08:19:56.418124Z",
     "shell.execute_reply": "2022-12-22T08:19:56.417525Z",
     "shell.execute_reply.started": "2022-12-22T08:19:54.478609Z"
    },
    "tags": []
   },
   "outputs": [
    {
     "data": {
      "text/plain": [
       "(18626, 276956)"
      ]
     },
     "execution_count": 151,
     "metadata": {},
     "output_type": "execute_result"
    }
   ],
   "source": [
    "# tokens and bigrams\n",
    "ngrams_cv = CountVectorizer(ngram_range=(1, 2))\n",
    "no_stop_bigrams = ngrams_cv.fit_transform(df['text'])\n",
    "no_stop_bigrams.shape"
   ]
  },
  {
   "cell_type": "code",
   "execution_count": 152,
   "id": "66fc44c5-4932-4e74-8eef-61e6b22ce28e",
   "metadata": {
    "execution": {
     "iopub.execute_input": "2022-12-22T08:19:56.419280Z",
     "iopub.status.busy": "2022-12-22T08:19:56.419016Z",
     "iopub.status.idle": "2022-12-22T08:19:57.852308Z",
     "shell.execute_reply": "2022-12-22T08:19:57.851944Z",
     "shell.execute_reply.started": "2022-12-22T08:19:56.419263Z"
    },
    "tags": []
   },
   "outputs": [
    {
     "data": {
      "text/plain": [
       "(18626, 274612)"
      ]
     },
     "execution_count": 152,
     "metadata": {},
     "output_type": "execute_result"
    }
   ],
   "source": [
    "ngrams_cv = CountVectorizer(stop_words='english', ngram_range=(1, 2))\n",
    "stop_bigrams = ngrams_cv.fit_transform(df['text'])\n",
    "stop_bigrams.shape"
   ]
  },
  {
   "cell_type": "markdown",
   "id": "8b0f1adf-b2df-4b3e-8600-1e257e00585d",
   "metadata": {},
   "source": [
    "~2400 feature/column difference when enabling/disabling stop_words and setting the ngram range to 1,2\n",
    "\n",
    "let's take a look at the bigrams without stop words and see what bigrams are common.  For this exploration, we'll limit to the top 500 features, so we can actually see what they are and not run into memory issues."
   ]
  },
  {
   "cell_type": "code",
   "execution_count": 153,
   "id": "027297fa-81db-4143-9a5d-8d9d9b13701d",
   "metadata": {
    "execution": {
     "iopub.execute_input": "2022-12-22T08:19:57.853055Z",
     "iopub.status.busy": "2022-12-22T08:19:57.852968Z",
     "iopub.status.idle": "2022-12-22T08:19:59.078985Z",
     "shell.execute_reply": "2022-12-22T08:19:59.078575Z",
     "shell.execute_reply.started": "2022-12-22T08:19:57.853043Z"
    },
    "tags": []
   },
   "outputs": [],
   "source": [
    "ngrams_cv = CountVectorizer(stop_words='english', \n",
    "                            max_features=500,\n",
    "                            ngram_range=(2, 2))\n",
    "stop_bigrams = ngrams_cv.fit_transform(df['text'])"
   ]
  },
  {
   "cell_type": "code",
   "execution_count": 154,
   "id": "c4ea8b6f-eac5-483c-afd4-31cf35fdb27a",
   "metadata": {
    "execution": {
     "iopub.execute_input": "2022-12-22T08:19:59.080136Z",
     "iopub.status.busy": "2022-12-22T08:19:59.079769Z",
     "iopub.status.idle": "2022-12-22T08:19:59.120204Z",
     "shell.execute_reply": "2022-12-22T08:19:59.119835Z",
     "shell.execute_reply.started": "2022-12-22T08:19:59.080104Z"
    },
    "tags": []
   },
   "outputs": [
    {
     "data": {
      "text/html": [
       "<div>\n",
       "<style scoped>\n",
       "    .dataframe tbody tr th:only-of-type {\n",
       "        vertical-align: middle;\n",
       "    }\n",
       "\n",
       "    .dataframe tbody tr th {\n",
       "        vertical-align: top;\n",
       "    }\n",
       "\n",
       "    .dataframe thead th {\n",
       "        text-align: right;\n",
       "    }\n",
       "</style>\n",
       "<table border=\"1\" class=\"dataframe\">\n",
       "  <thead>\n",
       "    <tr style=\"text-align: right;\">\n",
       "      <th></th>\n",
       "      <th>3rd party</th>\n",
       "      <th>4k tv</th>\n",
       "      <th>able download</th>\n",
       "      <th>able play</th>\n",
       "      <th>able use</th>\n",
       "      <th>aca neogeo</th>\n",
       "      <th>access account</th>\n",
       "      <th>access game</th>\n",
       "      <th>account able</th>\n",
       "      <th>account account</th>\n",
       "      <th>...</th>\n",
       "      <th>work help</th>\n",
       "      <th>work just</th>\n",
       "      <th>work perfectly</th>\n",
       "      <th>work try</th>\n",
       "      <th>work ve</th>\n",
       "      <th>worth buy</th>\n",
       "      <th>year ago</th>\n",
       "      <th>year old</th>\n",
       "      <th>year ve</th>\n",
       "      <th>zero dawn</th>\n",
       "    </tr>\n",
       "  </thead>\n",
       "  <tbody>\n",
       "    <tr>\n",
       "      <th>0</th>\n",
       "      <td>0</td>\n",
       "      <td>0</td>\n",
       "      <td>0</td>\n",
       "      <td>0</td>\n",
       "      <td>0</td>\n",
       "      <td>0</td>\n",
       "      <td>0</td>\n",
       "      <td>0</td>\n",
       "      <td>0</td>\n",
       "      <td>0</td>\n",
       "      <td>...</td>\n",
       "      <td>0</td>\n",
       "      <td>0</td>\n",
       "      <td>0</td>\n",
       "      <td>0</td>\n",
       "      <td>0</td>\n",
       "      <td>0</td>\n",
       "      <td>0</td>\n",
       "      <td>0</td>\n",
       "      <td>0</td>\n",
       "      <td>0</td>\n",
       "    </tr>\n",
       "    <tr>\n",
       "      <th>1</th>\n",
       "      <td>0</td>\n",
       "      <td>0</td>\n",
       "      <td>0</td>\n",
       "      <td>0</td>\n",
       "      <td>0</td>\n",
       "      <td>0</td>\n",
       "      <td>0</td>\n",
       "      <td>0</td>\n",
       "      <td>0</td>\n",
       "      <td>0</td>\n",
       "      <td>...</td>\n",
       "      <td>0</td>\n",
       "      <td>0</td>\n",
       "      <td>0</td>\n",
       "      <td>0</td>\n",
       "      <td>0</td>\n",
       "      <td>0</td>\n",
       "      <td>0</td>\n",
       "      <td>0</td>\n",
       "      <td>0</td>\n",
       "      <td>0</td>\n",
       "    </tr>\n",
       "    <tr>\n",
       "      <th>2</th>\n",
       "      <td>0</td>\n",
       "      <td>0</td>\n",
       "      <td>0</td>\n",
       "      <td>0</td>\n",
       "      <td>0</td>\n",
       "      <td>0</td>\n",
       "      <td>0</td>\n",
       "      <td>0</td>\n",
       "      <td>0</td>\n",
       "      <td>0</td>\n",
       "      <td>...</td>\n",
       "      <td>0</td>\n",
       "      <td>0</td>\n",
       "      <td>0</td>\n",
       "      <td>0</td>\n",
       "      <td>0</td>\n",
       "      <td>0</td>\n",
       "      <td>0</td>\n",
       "      <td>0</td>\n",
       "      <td>0</td>\n",
       "      <td>0</td>\n",
       "    </tr>\n",
       "  </tbody>\n",
       "</table>\n",
       "<p>3 rows × 500 columns</p>\n",
       "</div>"
      ],
      "text/plain": [
       "   3rd party  4k tv  able download  able play  able use  aca neogeo  \\\n",
       "0          0      0              0          0         0           0   \n",
       "1          0      0              0          0         0           0   \n",
       "2          0      0              0          0         0           0   \n",
       "\n",
       "   access account  access game  account able  account account  ...  work help  \\\n",
       "0               0            0             0                0  ...          0   \n",
       "1               0            0             0                0  ...          0   \n",
       "2               0            0             0                0  ...          0   \n",
       "\n",
       "   work just  work perfectly  work try  work ve  worth buy  year ago  \\\n",
       "0          0               0         0        0          0         0   \n",
       "1          0               0         0        0          0         0   \n",
       "2          0               0         0        0          0         0   \n",
       "\n",
       "   year old  year ve  zero dawn  \n",
       "0         0        0          0  \n",
       "1         0        0          0  \n",
       "2         0        0          0  \n",
       "\n",
       "[3 rows x 500 columns]"
      ]
     },
     "execution_count": 154,
     "metadata": {},
     "output_type": "execute_result"
    }
   ],
   "source": [
    "bigrams_df = pd.DataFrame(stop_bigrams.todense(), \n",
    "                          columns=ngrams_cv.get_feature_names_out())\n",
    "\n",
    "bigrams_df.head(3)"
   ]
  },
  {
   "cell_type": "code",
   "execution_count": 155,
   "id": "b610cef6-b8e8-481f-b9cb-767cc007bdaf",
   "metadata": {
    "execution": {
     "iopub.execute_input": "2022-12-22T08:19:59.120969Z",
     "iopub.status.busy": "2022-12-22T08:19:59.120875Z",
     "iopub.status.idle": "2022-12-22T08:19:59.138480Z",
     "shell.execute_reply": "2022-12-22T08:19:59.137884Z",
     "shell.execute_reply.started": "2022-12-22T08:19:59.120957Z"
    },
    "tags": []
   },
   "outputs": [
    {
     "data": {
      "text/plain": [
       "game pass        1852\n",
       "pre order        1473\n",
       "play game        1267\n",
       "ve try            737\n",
       "hard drive        649\n",
       "buy game          627\n",
       "need help         552\n",
       "game like         482\n",
       "game play         475\n",
       "want play         457\n",
       "pass ultimate     435\n",
       "just want         410\n",
       "able play         400\n",
       "download game     396\n",
       "thank advance     348\n",
       "feel like         348\n",
       "buy new           331\n",
       "game game         318\n",
       "gift card         317\n",
       "live gold         313\n",
       "dtype: int64"
      ]
     },
     "execution_count": 155,
     "metadata": {},
     "output_type": "execute_result"
    }
   ],
   "source": [
    "bigrams_df.sum().sort_values(ascending=False).head(20)"
   ]
  },
  {
   "cell_type": "code",
   "execution_count": 156,
   "id": "d67a5df9-5862-4775-9a08-6562eb52fd74",
   "metadata": {
    "execution": {
     "iopub.execute_input": "2022-12-22T08:19:59.140003Z",
     "iopub.status.busy": "2022-12-22T08:19:59.139471Z",
     "iopub.status.idle": "2022-12-22T08:20:00.697079Z",
     "shell.execute_reply": "2022-12-22T08:20:00.696727Z",
     "shell.execute_reply.started": "2022-12-22T08:19:59.139979Z"
    },
    "tags": []
   },
   "outputs": [],
   "source": [
    "ngrams_cv = CountVectorizer(ngram_range=(2, 2), \n",
    "                            max_features=500)\n",
    "no_stop_bigrams = ngrams_cv.fit_transform(df['text'])"
   ]
  },
  {
   "cell_type": "code",
   "execution_count": 157,
   "id": "82697fbc-ba02-4f49-b2dd-33aabed2481e",
   "metadata": {
    "execution": {
     "iopub.execute_input": "2022-12-22T08:20:00.697753Z",
     "iopub.status.busy": "2022-12-22T08:20:00.697653Z",
     "iopub.status.idle": "2022-12-22T08:20:00.734171Z",
     "shell.execute_reply": "2022-12-22T08:20:00.733779Z",
     "shell.execute_reply.started": "2022-12-22T08:20:00.697740Z"
    },
    "tags": []
   },
   "outputs": [
    {
     "data": {
      "text/html": [
       "<div>\n",
       "<style scoped>\n",
       "    .dataframe tbody tr th:only-of-type {\n",
       "        vertical-align: middle;\n",
       "    }\n",
       "\n",
       "    .dataframe tbody tr th {\n",
       "        vertical-align: top;\n",
       "    }\n",
       "\n",
       "    .dataframe thead th {\n",
       "        text-align: right;\n",
       "    }\n",
       "</style>\n",
       "<table border=\"1\" class=\"dataframe\">\n",
       "  <thead>\n",
       "    <tr style=\"text-align: right;\">\n",
       "      <th></th>\n",
       "      <th>able to</th>\n",
       "      <th>about it</th>\n",
       "      <th>about the</th>\n",
       "      <th>access to</th>\n",
       "      <th>account and</th>\n",
       "      <th>account be</th>\n",
       "      <th>account on</th>\n",
       "      <th>all access</th>\n",
       "      <th>all my</th>\n",
       "      <th>all of</th>\n",
       "      <th>...</th>\n",
       "      <th>would be</th>\n",
       "      <th>would like</th>\n",
       "      <th>would not</th>\n",
       "      <th>year ago</th>\n",
       "      <th>you be</th>\n",
       "      <th>you can</th>\n",
       "      <th>you do</th>\n",
       "      <th>you guy</th>\n",
       "      <th>you have</th>\n",
       "      <th>you think</th>\n",
       "    </tr>\n",
       "  </thead>\n",
       "  <tbody>\n",
       "    <tr>\n",
       "      <th>0</th>\n",
       "      <td>0</td>\n",
       "      <td>0</td>\n",
       "      <td>0</td>\n",
       "      <td>0</td>\n",
       "      <td>0</td>\n",
       "      <td>0</td>\n",
       "      <td>0</td>\n",
       "      <td>0</td>\n",
       "      <td>0</td>\n",
       "      <td>1</td>\n",
       "      <td>...</td>\n",
       "      <td>0</td>\n",
       "      <td>0</td>\n",
       "      <td>0</td>\n",
       "      <td>0</td>\n",
       "      <td>0</td>\n",
       "      <td>0</td>\n",
       "      <td>0</td>\n",
       "      <td>1</td>\n",
       "      <td>0</td>\n",
       "      <td>0</td>\n",
       "    </tr>\n",
       "    <tr>\n",
       "      <th>1</th>\n",
       "      <td>0</td>\n",
       "      <td>0</td>\n",
       "      <td>0</td>\n",
       "      <td>0</td>\n",
       "      <td>0</td>\n",
       "      <td>0</td>\n",
       "      <td>0</td>\n",
       "      <td>0</td>\n",
       "      <td>0</td>\n",
       "      <td>0</td>\n",
       "      <td>...</td>\n",
       "      <td>1</td>\n",
       "      <td>0</td>\n",
       "      <td>0</td>\n",
       "      <td>0</td>\n",
       "      <td>0</td>\n",
       "      <td>0</td>\n",
       "      <td>0</td>\n",
       "      <td>0</td>\n",
       "      <td>0</td>\n",
       "      <td>0</td>\n",
       "    </tr>\n",
       "    <tr>\n",
       "      <th>2</th>\n",
       "      <td>1</td>\n",
       "      <td>0</td>\n",
       "      <td>0</td>\n",
       "      <td>0</td>\n",
       "      <td>0</td>\n",
       "      <td>0</td>\n",
       "      <td>0</td>\n",
       "      <td>0</td>\n",
       "      <td>0</td>\n",
       "      <td>0</td>\n",
       "      <td>...</td>\n",
       "      <td>0</td>\n",
       "      <td>0</td>\n",
       "      <td>0</td>\n",
       "      <td>0</td>\n",
       "      <td>0</td>\n",
       "      <td>0</td>\n",
       "      <td>0</td>\n",
       "      <td>0</td>\n",
       "      <td>0</td>\n",
       "      <td>0</td>\n",
       "    </tr>\n",
       "  </tbody>\n",
       "</table>\n",
       "<p>3 rows × 500 columns</p>\n",
       "</div>"
      ],
      "text/plain": [
       "   able to  about it  about the  access to  account and  account be  \\\n",
       "0        0         0          0          0            0           0   \n",
       "1        0         0          0          0            0           0   \n",
       "2        1         0          0          0            0           0   \n",
       "\n",
       "   account on  all access  all my  all of  ...  would be  would like  \\\n",
       "0           0           0       0       1  ...         0           0   \n",
       "1           0           0       0       0  ...         1           0   \n",
       "2           0           0       0       0  ...         0           0   \n",
       "\n",
       "   would not  year ago  you be  you can  you do  you guy  you have  you think  \n",
       "0          0         0       0        0       0        1         0          0  \n",
       "1          0         0       0        0       0        0         0          0  \n",
       "2          0         0       0        0       0        0         0          0  \n",
       "\n",
       "[3 rows x 500 columns]"
      ]
     },
     "execution_count": 157,
     "metadata": {},
     "output_type": "execute_result"
    }
   ],
   "source": [
    "no_stop_bi = pd.DataFrame(no_stop_bigrams.todense(),\n",
    "                          columns=ngrams_cv.get_feature_names_out())\n",
    "no_stop_bi.head(3)"
   ]
  },
  {
   "cell_type": "code",
   "execution_count": 158,
   "id": "ebc9f0ad-f68f-4cd3-a1f8-5beef6a2602e",
   "metadata": {
    "execution": {
     "iopub.execute_input": "2022-12-22T08:20:00.735025Z",
     "iopub.status.busy": "2022-12-22T08:20:00.734920Z",
     "iopub.status.idle": "2022-12-22T08:20:00.750514Z",
     "shell.execute_reply": "2022-12-22T08:20:00.750056Z",
     "shell.execute_reply.started": "2022-12-22T08:20:00.735012Z"
    },
    "tags": []
   },
   "outputs": [
    {
     "data": {
      "text/plain": [
       "do not        7243\n",
       "it be         4958\n",
       "can not       3861\n",
       "on the        3525\n",
       "be not        3226\n",
       "want to       3094\n",
       "the game      3032\n",
       "of the        2772\n",
       "in the        2668\n",
       "try to        2598\n",
       "for the       2523\n",
       "to get        2434\n",
       "to play       2412\n",
       "on my         2380\n",
       "to the        2374\n",
       "be the        2187\n",
       "go to         2181\n",
       "and it        2166\n",
       "my account    2010\n",
       "be there      1938\n",
       "dtype: int64"
      ]
     },
     "execution_count": 158,
     "metadata": {},
     "output_type": "execute_result"
    }
   ],
   "source": [
    "no_stop_bi.sum().sort_values(ascending=False).head(20)"
   ]
  },
  {
   "cell_type": "markdown",
   "id": "bf64ecdb-53a6-4944-9288-21e3fc05b4af",
   "metadata": {},
   "source": [
    "The bigrams when using stop words certainly seem more relevant than the ones without stop words.  \"do not\", \"it be\", \"can not\" don't seem very relevant to either subreddit.  I might consider removing stop words in cleaning.  Let's first look at trigrams in the same way."
   ]
  },
  {
   "cell_type": "code",
   "execution_count": 159,
   "id": "f685a3df-2486-4697-80c6-ed84c7dcb5f9",
   "metadata": {
    "execution": {
     "iopub.execute_input": "2022-12-22T08:20:00.751603Z",
     "iopub.status.busy": "2022-12-22T08:20:00.751422Z",
     "iopub.status.idle": "2022-12-22T08:20:02.462485Z",
     "shell.execute_reply": "2022-12-22T08:20:02.461960Z",
     "shell.execute_reply.started": "2022-12-22T08:20:00.751565Z"
    },
    "tags": []
   },
   "outputs": [],
   "source": [
    "ngrams_cv = CountVectorizer(stop_words='english', \n",
    "                            max_features=500, \n",
    "                            ngram_range=(3, 3))\n",
    "stop_trigrams = ngrams_cv.fit_transform(df['text'])"
   ]
  },
  {
   "cell_type": "code",
   "execution_count": 160,
   "id": "96d16d8b-47e9-4562-ad51-4c21c1490d68",
   "metadata": {
    "execution": {
     "iopub.execute_input": "2022-12-22T08:20:02.463525Z",
     "iopub.status.busy": "2022-12-22T08:20:02.463402Z",
     "iopub.status.idle": "2022-12-22T08:20:02.492494Z",
     "shell.execute_reply": "2022-12-22T08:20:02.492097Z",
     "shell.execute_reply.started": "2022-12-22T08:20:02.463512Z"
    },
    "tags": []
   },
   "outputs": [
    {
     "data": {
      "text/html": [
       "<div>\n",
       "<style scoped>\n",
       "    .dataframe tbody tr th:only-of-type {\n",
       "        vertical-align: middle;\n",
       "    }\n",
       "\n",
       "    .dataframe tbody tr th {\n",
       "        vertical-align: top;\n",
       "    }\n",
       "\n",
       "    .dataframe thead th {\n",
       "        text-align: right;\n",
       "    }\n",
       "</style>\n",
       "<table border=\"1\" class=\"dataframe\">\n",
       "  <thead>\n",
       "    <tr style=\"text-align: right;\">\n",
       "      <th></th>\n",
       "      <th>3rd party controller</th>\n",
       "      <th>3rd party game</th>\n",
       "      <th>able access game</th>\n",
       "      <th>able buy game</th>\n",
       "      <th>able download game</th>\n",
       "      <th>able play game</th>\n",
       "      <th>able play online</th>\n",
       "      <th>able play series</th>\n",
       "      <th>able pre order</th>\n",
       "      <th>able run game</th>\n",
       "      <th>...</th>\n",
       "      <th>wave pre order</th>\n",
       "      <th>way play game</th>\n",
       "      <th>windows media imaging</th>\n",
       "      <th>work fine yesterday</th>\n",
       "      <th>work just fine</th>\n",
       "      <th>work perfectly fine</th>\n",
       "      <th>work ve try</th>\n",
       "      <th>year ago buy</th>\n",
       "      <th>year game pass</th>\n",
       "      <th>year live gold</th>\n",
       "    </tr>\n",
       "  </thead>\n",
       "  <tbody>\n",
       "    <tr>\n",
       "      <th>0</th>\n",
       "      <td>0</td>\n",
       "      <td>0</td>\n",
       "      <td>0</td>\n",
       "      <td>0</td>\n",
       "      <td>0</td>\n",
       "      <td>0</td>\n",
       "      <td>0</td>\n",
       "      <td>0</td>\n",
       "      <td>0</td>\n",
       "      <td>0</td>\n",
       "      <td>...</td>\n",
       "      <td>0</td>\n",
       "      <td>0</td>\n",
       "      <td>0</td>\n",
       "      <td>0</td>\n",
       "      <td>0</td>\n",
       "      <td>0</td>\n",
       "      <td>0</td>\n",
       "      <td>0</td>\n",
       "      <td>0</td>\n",
       "      <td>0</td>\n",
       "    </tr>\n",
       "    <tr>\n",
       "      <th>1</th>\n",
       "      <td>0</td>\n",
       "      <td>0</td>\n",
       "      <td>0</td>\n",
       "      <td>0</td>\n",
       "      <td>0</td>\n",
       "      <td>0</td>\n",
       "      <td>0</td>\n",
       "      <td>0</td>\n",
       "      <td>0</td>\n",
       "      <td>0</td>\n",
       "      <td>...</td>\n",
       "      <td>0</td>\n",
       "      <td>0</td>\n",
       "      <td>0</td>\n",
       "      <td>0</td>\n",
       "      <td>0</td>\n",
       "      <td>0</td>\n",
       "      <td>0</td>\n",
       "      <td>0</td>\n",
       "      <td>0</td>\n",
       "      <td>0</td>\n",
       "    </tr>\n",
       "    <tr>\n",
       "      <th>2</th>\n",
       "      <td>0</td>\n",
       "      <td>0</td>\n",
       "      <td>0</td>\n",
       "      <td>0</td>\n",
       "      <td>0</td>\n",
       "      <td>0</td>\n",
       "      <td>0</td>\n",
       "      <td>0</td>\n",
       "      <td>0</td>\n",
       "      <td>0</td>\n",
       "      <td>...</td>\n",
       "      <td>0</td>\n",
       "      <td>0</td>\n",
       "      <td>0</td>\n",
       "      <td>0</td>\n",
       "      <td>0</td>\n",
       "      <td>0</td>\n",
       "      <td>0</td>\n",
       "      <td>0</td>\n",
       "      <td>0</td>\n",
       "      <td>0</td>\n",
       "    </tr>\n",
       "  </tbody>\n",
       "</table>\n",
       "<p>3 rows × 500 columns</p>\n",
       "</div>"
      ],
      "text/plain": [
       "   3rd party controller  3rd party game  able access game  able buy game  \\\n",
       "0                     0               0                 0              0   \n",
       "1                     0               0                 0              0   \n",
       "2                     0               0                 0              0   \n",
       "\n",
       "   able download game  able play game  able play online  able play series  \\\n",
       "0                   0               0                 0                 0   \n",
       "1                   0               0                 0                 0   \n",
       "2                   0               0                 0                 0   \n",
       "\n",
       "   able pre order  able run game  ...  wave pre order  way play game  \\\n",
       "0               0              0  ...               0              0   \n",
       "1               0              0  ...               0              0   \n",
       "2               0              0  ...               0              0   \n",
       "\n",
       "   windows media imaging  work fine yesterday  work just fine  \\\n",
       "0                      0                    0               0   \n",
       "1                      0                    0               0   \n",
       "2                      0                    0               0   \n",
       "\n",
       "   work perfectly fine  work ve try  year ago buy  year game pass  \\\n",
       "0                    0            0             0               0   \n",
       "1                    0            0             0               0   \n",
       "2                    0            0             0               0   \n",
       "\n",
       "   year live gold  \n",
       "0               0  \n",
       "1               0  \n",
       "2               0  \n",
       "\n",
       "[3 rows x 500 columns]"
      ]
     },
     "execution_count": 160,
     "metadata": {},
     "output_type": "execute_result"
    }
   ],
   "source": [
    "trigrams_df = pd.DataFrame(stop_trigrams.todense(), \n",
    "                          columns=ngrams_cv.get_feature_names_out())\n",
    "\n",
    "trigrams_df.head(3)"
   ]
  },
  {
   "cell_type": "code",
   "execution_count": 161,
   "id": "2612ab7f-a2dc-46df-a562-c38a1b10acbd",
   "metadata": {
    "execution": {
     "iopub.execute_input": "2022-12-22T08:20:02.493265Z",
     "iopub.status.busy": "2022-12-22T08:20:02.493151Z",
     "iopub.status.idle": "2022-12-22T08:20:02.516674Z",
     "shell.execute_reply": "2022-12-22T08:20:02.516265Z",
     "shell.execute_reply.started": "2022-12-22T08:20:02.493253Z"
    },
    "tags": []
   },
   "outputs": [
    {
     "data": {
      "text/plain": [
       "game pass ultimate         431\n",
       "external hard drive        199\n",
       "filler filler filler       158\n",
       "game pass pc               148\n",
       "hour guide buy             116\n",
       "game game pass              99\n",
       "game pass game              90\n",
       "able play game              89\n",
       "horizon zero dawn           82\n",
       "buy game pass               81\n",
       "month game pass             78\n",
       "help greatly appreciate     74\n",
       "just want know              73\n",
       "pre order series            68\n",
       "want play game              68\n",
       "red dead redemption         67\n",
       "elite series controller     60\n",
       "account got hack            58\n",
       "spider man mile             57\n",
       "long story short            54\n",
       "dtype: int64"
      ]
     },
     "execution_count": 161,
     "metadata": {},
     "output_type": "execute_result"
    }
   ],
   "source": [
    "trigrams_df.sum().sort_values(ascending=False).head(20)"
   ]
  },
  {
   "cell_type": "code",
   "execution_count": 162,
   "id": "37b6916d-e655-4c02-ad7f-f8df68678f36",
   "metadata": {
    "execution": {
     "iopub.execute_input": "2022-12-22T08:20:02.517524Z",
     "iopub.status.busy": "2022-12-22T08:20:02.517385Z",
     "iopub.status.idle": "2022-12-22T08:20:05.399643Z",
     "shell.execute_reply": "2022-12-22T08:20:05.399179Z",
     "shell.execute_reply.started": "2022-12-22T08:20:02.517507Z"
    },
    "tags": []
   },
   "outputs": [],
   "source": [
    "ngrams_cv = CountVectorizer(ngram_range=(3, 3), \n",
    "                            max_features=500)\n",
    "no_stop_tri = ngrams_cv.fit_transform(df['text'])"
   ]
  },
  {
   "cell_type": "code",
   "execution_count": 163,
   "id": "7ff02f4c-66aa-493a-bdfd-8999cb3f6429",
   "metadata": {
    "execution": {
     "iopub.execute_input": "2022-12-22T08:20:05.400449Z",
     "iopub.status.busy": "2022-12-22T08:20:05.400356Z",
     "iopub.status.idle": "2022-12-22T08:20:05.440731Z",
     "shell.execute_reply": "2022-12-22T08:20:05.440390Z",
     "shell.execute_reply.started": "2022-12-22T08:20:05.400436Z"
    },
    "tags": []
   },
   "outputs": [
    {
     "data": {
      "text/html": [
       "<div>\n",
       "<style scoped>\n",
       "    .dataframe tbody tr th:only-of-type {\n",
       "        vertical-align: middle;\n",
       "    }\n",
       "\n",
       "    .dataframe tbody tr th {\n",
       "        vertical-align: top;\n",
       "    }\n",
       "\n",
       "    .dataframe thead th {\n",
       "        text-align: right;\n",
       "    }\n",
       "</style>\n",
       "<table border=\"1\" class=\"dataframe\">\n",
       "  <thead>\n",
       "    <tr style=\"text-align: right;\">\n",
       "      <th></th>\n",
       "      <th>able to get</th>\n",
       "      <th>able to play</th>\n",
       "      <th>able to use</th>\n",
       "      <th>account on my</th>\n",
       "      <th>all my game</th>\n",
       "      <th>all of my</th>\n",
       "      <th>all of the</th>\n",
       "      <th>all the game</th>\n",
       "      <th>an issue with</th>\n",
       "      <th>and be not</th>\n",
       "      <th>...</th>\n",
       "      <th>would be great</th>\n",
       "      <th>would be greatly</th>\n",
       "      <th>would have to</th>\n",
       "      <th>would like to</th>\n",
       "      <th>would love to</th>\n",
       "      <th>you can not</th>\n",
       "      <th>you do not</th>\n",
       "      <th>you guy think</th>\n",
       "      <th>you have to</th>\n",
       "      <th>you want to</th>\n",
       "    </tr>\n",
       "  </thead>\n",
       "  <tbody>\n",
       "    <tr>\n",
       "      <th>0</th>\n",
       "      <td>0</td>\n",
       "      <td>0</td>\n",
       "      <td>0</td>\n",
       "      <td>0</td>\n",
       "      <td>0</td>\n",
       "      <td>0</td>\n",
       "      <td>0</td>\n",
       "      <td>0</td>\n",
       "      <td>0</td>\n",
       "      <td>0</td>\n",
       "      <td>...</td>\n",
       "      <td>0</td>\n",
       "      <td>0</td>\n",
       "      <td>0</td>\n",
       "      <td>0</td>\n",
       "      <td>0</td>\n",
       "      <td>0</td>\n",
       "      <td>0</td>\n",
       "      <td>0</td>\n",
       "      <td>0</td>\n",
       "      <td>0</td>\n",
       "    </tr>\n",
       "    <tr>\n",
       "      <th>1</th>\n",
       "      <td>0</td>\n",
       "      <td>0</td>\n",
       "      <td>0</td>\n",
       "      <td>0</td>\n",
       "      <td>0</td>\n",
       "      <td>0</td>\n",
       "      <td>0</td>\n",
       "      <td>0</td>\n",
       "      <td>0</td>\n",
       "      <td>0</td>\n",
       "      <td>...</td>\n",
       "      <td>0</td>\n",
       "      <td>0</td>\n",
       "      <td>0</td>\n",
       "      <td>0</td>\n",
       "      <td>0</td>\n",
       "      <td>0</td>\n",
       "      <td>0</td>\n",
       "      <td>0</td>\n",
       "      <td>0</td>\n",
       "      <td>0</td>\n",
       "    </tr>\n",
       "    <tr>\n",
       "      <th>2</th>\n",
       "      <td>0</td>\n",
       "      <td>0</td>\n",
       "      <td>0</td>\n",
       "      <td>0</td>\n",
       "      <td>0</td>\n",
       "      <td>0</td>\n",
       "      <td>0</td>\n",
       "      <td>0</td>\n",
       "      <td>0</td>\n",
       "      <td>0</td>\n",
       "      <td>...</td>\n",
       "      <td>0</td>\n",
       "      <td>0</td>\n",
       "      <td>0</td>\n",
       "      <td>0</td>\n",
       "      <td>0</td>\n",
       "      <td>0</td>\n",
       "      <td>0</td>\n",
       "      <td>0</td>\n",
       "      <td>0</td>\n",
       "      <td>1</td>\n",
       "    </tr>\n",
       "  </tbody>\n",
       "</table>\n",
       "<p>3 rows × 500 columns</p>\n",
       "</div>"
      ],
      "text/plain": [
       "   able to get  able to play  able to use  account on my  all my game  \\\n",
       "0            0             0            0              0            0   \n",
       "1            0             0            0              0            0   \n",
       "2            0             0            0              0            0   \n",
       "\n",
       "   all of my  all of the  all the game  an issue with  and be not  ...  \\\n",
       "0          0           0             0              0           0  ...   \n",
       "1          0           0             0              0           0  ...   \n",
       "2          0           0             0              0           0  ...   \n",
       "\n",
       "   would be great  would be greatly  would have to  would like to  \\\n",
       "0               0                 0              0              0   \n",
       "1               0                 0              0              0   \n",
       "2               0                 0              0              0   \n",
       "\n",
       "   would love to  you can not  you do not  you guy think  you have to  \\\n",
       "0              0            0           0              0            0   \n",
       "1              0            0           0              0            0   \n",
       "2              0            0           0              0            0   \n",
       "\n",
       "   you want to  \n",
       "0            0  \n",
       "1            0  \n",
       "2            1  \n",
       "\n",
       "[3 rows x 500 columns]"
      ]
     },
     "execution_count": 163,
     "metadata": {},
     "output_type": "execute_result"
    }
   ],
   "source": [
    "no_stop_tri = pd.DataFrame(no_stop_tri.todense(),\n",
    "                          columns=ngrams_cv.get_feature_names_out())\n",
    "no_stop_tri.head(3)"
   ]
  },
  {
   "cell_type": "code",
   "execution_count": 164,
   "id": "a567c3ba-3716-4015-a0f3-8087bfc60172",
   "metadata": {
    "execution": {
     "iopub.execute_input": "2022-12-22T08:20:05.441786Z",
     "iopub.status.busy": "2022-12-22T08:20:05.441449Z",
     "iopub.status.idle": "2022-12-22T08:20:05.458042Z",
     "shell.execute_reply": "2022-12-22T08:20:05.457415Z",
     "shell.execute_reply.started": "2022-12-22T08:20:05.441769Z"
    },
    "tags": []
   },
   "outputs": [
    {
     "data": {
      "text/plain": [
       "be able to            1665\n",
       "do not have           1020\n",
       "do not know           1015\n",
       "it do not              765\n",
       "be go to               652\n",
       "do anyone know         598\n",
       "be there any           574\n",
       "and do not             562\n",
       "be try to              543\n",
       "but do not             534\n",
       "do not want            531\n",
       "be wonder if           513\n",
       "it be not              509\n",
       "do not work            460\n",
       "and can not            454\n",
       "not want to            450\n",
       "game pass ultimate     426\n",
       "want to play           423\n",
       "and it be              415\n",
       "but can not            390\n",
       "dtype: int64"
      ]
     },
     "execution_count": 164,
     "metadata": {},
     "output_type": "execute_result"
    }
   ],
   "source": [
    "no_stop_tri.sum().sort_values(ascending=False).head(20)"
   ]
  },
  {
   "cell_type": "markdown",
   "id": "1737a1c5-2dc2-451c-90c9-c726eb5e3859",
   "metadata": {},
   "source": [
    "Similarly to what we saw with bigrams, it would appear that having stop words gives a bit more meaning behind the words, and not common phrases like \"be able to\", or \"do not have\".\n",
    "\n",
    "I am interested in seeing how these bigram and trigram lists might change when using the TfidfVectorizer.  Since we've seen that including stop words gives us more meaningful results, we'll just look at those lists."
   ]
  },
  {
   "cell_type": "code",
   "execution_count": 165,
   "id": "bdd75732-0421-423f-b6c4-201da4fe7b8c",
   "metadata": {
    "execution": {
     "iopub.execute_input": "2022-12-22T08:20:05.459023Z",
     "iopub.status.busy": "2022-12-22T08:20:05.458815Z",
     "iopub.status.idle": "2022-12-22T08:20:06.783314Z",
     "shell.execute_reply": "2022-12-22T08:20:06.782890Z",
     "shell.execute_reply.started": "2022-12-22T08:20:05.459005Z"
    },
    "tags": []
   },
   "outputs": [],
   "source": [
    "ngrams_tf = TfidfVectorizer(stop_words='english', \n",
    "                            max_features=500,\n",
    "                            ngram_range=(2, 2))\n",
    "tf_stop_bigrams = ngrams_tf.fit_transform(df['text'])"
   ]
  },
  {
   "cell_type": "code",
   "execution_count": 166,
   "id": "1cdbd02b-9abf-4f9a-8cc3-d8ceded15624",
   "metadata": {
    "execution": {
     "iopub.execute_input": "2022-12-22T08:20:06.784149Z",
     "iopub.status.busy": "2022-12-22T08:20:06.784048Z",
     "iopub.status.idle": "2022-12-22T08:20:06.825797Z",
     "shell.execute_reply": "2022-12-22T08:20:06.825476Z",
     "shell.execute_reply.started": "2022-12-22T08:20:06.784137Z"
    },
    "tags": []
   },
   "outputs": [
    {
     "data": {
      "text/html": [
       "<div>\n",
       "<style scoped>\n",
       "    .dataframe tbody tr th:only-of-type {\n",
       "        vertical-align: middle;\n",
       "    }\n",
       "\n",
       "    .dataframe tbody tr th {\n",
       "        vertical-align: top;\n",
       "    }\n",
       "\n",
       "    .dataframe thead th {\n",
       "        text-align: right;\n",
       "    }\n",
       "</style>\n",
       "<table border=\"1\" class=\"dataframe\">\n",
       "  <thead>\n",
       "    <tr style=\"text-align: right;\">\n",
       "      <th></th>\n",
       "      <th>3rd party</th>\n",
       "      <th>4k tv</th>\n",
       "      <th>able download</th>\n",
       "      <th>able play</th>\n",
       "      <th>able use</th>\n",
       "      <th>aca neogeo</th>\n",
       "      <th>access account</th>\n",
       "      <th>access game</th>\n",
       "      <th>account able</th>\n",
       "      <th>account account</th>\n",
       "      <th>...</th>\n",
       "      <th>work help</th>\n",
       "      <th>work just</th>\n",
       "      <th>work perfectly</th>\n",
       "      <th>work try</th>\n",
       "      <th>work ve</th>\n",
       "      <th>worth buy</th>\n",
       "      <th>year ago</th>\n",
       "      <th>year old</th>\n",
       "      <th>year ve</th>\n",
       "      <th>zero dawn</th>\n",
       "    </tr>\n",
       "  </thead>\n",
       "  <tbody>\n",
       "    <tr>\n",
       "      <th>0</th>\n",
       "      <td>0.0</td>\n",
       "      <td>0.0</td>\n",
       "      <td>0.0</td>\n",
       "      <td>0.0</td>\n",
       "      <td>0.0</td>\n",
       "      <td>0.0</td>\n",
       "      <td>0.0</td>\n",
       "      <td>0.0</td>\n",
       "      <td>0.0</td>\n",
       "      <td>0.0</td>\n",
       "      <td>...</td>\n",
       "      <td>0.0</td>\n",
       "      <td>0.0</td>\n",
       "      <td>0.0</td>\n",
       "      <td>0.0</td>\n",
       "      <td>0.0</td>\n",
       "      <td>0.0</td>\n",
       "      <td>0.0</td>\n",
       "      <td>0.0</td>\n",
       "      <td>0.0</td>\n",
       "      <td>0.0</td>\n",
       "    </tr>\n",
       "    <tr>\n",
       "      <th>1</th>\n",
       "      <td>0.0</td>\n",
       "      <td>0.0</td>\n",
       "      <td>0.0</td>\n",
       "      <td>0.0</td>\n",
       "      <td>0.0</td>\n",
       "      <td>0.0</td>\n",
       "      <td>0.0</td>\n",
       "      <td>0.0</td>\n",
       "      <td>0.0</td>\n",
       "      <td>0.0</td>\n",
       "      <td>...</td>\n",
       "      <td>0.0</td>\n",
       "      <td>0.0</td>\n",
       "      <td>0.0</td>\n",
       "      <td>0.0</td>\n",
       "      <td>0.0</td>\n",
       "      <td>0.0</td>\n",
       "      <td>0.0</td>\n",
       "      <td>0.0</td>\n",
       "      <td>0.0</td>\n",
       "      <td>0.0</td>\n",
       "    </tr>\n",
       "    <tr>\n",
       "      <th>2</th>\n",
       "      <td>0.0</td>\n",
       "      <td>0.0</td>\n",
       "      <td>0.0</td>\n",
       "      <td>0.0</td>\n",
       "      <td>0.0</td>\n",
       "      <td>0.0</td>\n",
       "      <td>0.0</td>\n",
       "      <td>0.0</td>\n",
       "      <td>0.0</td>\n",
       "      <td>0.0</td>\n",
       "      <td>...</td>\n",
       "      <td>0.0</td>\n",
       "      <td>0.0</td>\n",
       "      <td>0.0</td>\n",
       "      <td>0.0</td>\n",
       "      <td>0.0</td>\n",
       "      <td>0.0</td>\n",
       "      <td>0.0</td>\n",
       "      <td>0.0</td>\n",
       "      <td>0.0</td>\n",
       "      <td>0.0</td>\n",
       "    </tr>\n",
       "  </tbody>\n",
       "</table>\n",
       "<p>3 rows × 500 columns</p>\n",
       "</div>"
      ],
      "text/plain": [
       "   3rd party  4k tv  able download  able play  able use  aca neogeo  \\\n",
       "0        0.0    0.0            0.0        0.0       0.0         0.0   \n",
       "1        0.0    0.0            0.0        0.0       0.0         0.0   \n",
       "2        0.0    0.0            0.0        0.0       0.0         0.0   \n",
       "\n",
       "   access account  access game  account able  account account  ...  work help  \\\n",
       "0             0.0          0.0           0.0              0.0  ...        0.0   \n",
       "1             0.0          0.0           0.0              0.0  ...        0.0   \n",
       "2             0.0          0.0           0.0              0.0  ...        0.0   \n",
       "\n",
       "   work just  work perfectly  work try  work ve  worth buy  year ago  \\\n",
       "0        0.0             0.0       0.0      0.0        0.0       0.0   \n",
       "1        0.0             0.0       0.0      0.0        0.0       0.0   \n",
       "2        0.0             0.0       0.0      0.0        0.0       0.0   \n",
       "\n",
       "   year old  year ve  zero dawn  \n",
       "0       0.0      0.0        0.0  \n",
       "1       0.0      0.0        0.0  \n",
       "2       0.0      0.0        0.0  \n",
       "\n",
       "[3 rows x 500 columns]"
      ]
     },
     "execution_count": 166,
     "metadata": {},
     "output_type": "execute_result"
    }
   ],
   "source": [
    "tf_bigrams_df = pd.DataFrame(tf_stop_bigrams.todense(), \n",
    "                            columns=ngrams_tf.get_feature_names_out())\n",
    "\n",
    "tf_bigrams_df.head(3)"
   ]
  },
  {
   "cell_type": "code",
   "execution_count": 167,
   "id": "b216190e-929e-4d52-ab57-20c78f74da74",
   "metadata": {
    "execution": {
     "iopub.execute_input": "2022-12-22T08:20:06.826759Z",
     "iopub.status.busy": "2022-12-22T08:20:06.826650Z",
     "iopub.status.idle": "2022-12-22T08:20:06.852445Z",
     "shell.execute_reply": "2022-12-22T08:20:06.851862Z",
     "shell.execute_reply.started": "2022-12-22T08:20:06.826747Z"
    },
    "tags": []
   },
   "outputs": [
    {
     "data": {
      "text/plain": [
       "pre order         603.132076\n",
       "game pass         482.605204\n",
       "play game         379.030415\n",
       "ve try            241.900370\n",
       "need help         230.779166\n",
       "buy game          205.911382\n",
       "hard drive        197.174832\n",
       "game play         177.269121\n",
       "game like         174.738149\n",
       "just want         173.170401\n",
       "want play         159.592257\n",
       "thank advance     153.591543\n",
       "able play         150.902558\n",
       "download game     145.205274\n",
       "feel like         140.724948\n",
       "ghost tsushima    139.293444\n",
       "gift card         136.527029\n",
       "want know         134.137629\n",
       "pass ultimate     132.716772\n",
       "buy new           131.130940\n",
       "dtype: float64"
      ]
     },
     "execution_count": 167,
     "metadata": {},
     "output_type": "execute_result"
    }
   ],
   "source": [
    "tf_bigrams_df.sum().sort_values(ascending=False).head(20)"
   ]
  },
  {
   "cell_type": "code",
   "execution_count": 168,
   "id": "c5dac623-81c9-4d69-9835-a6f4fd907a54",
   "metadata": {
    "execution": {
     "iopub.execute_input": "2022-12-22T08:20:06.853604Z",
     "iopub.status.busy": "2022-12-22T08:20:06.853321Z",
     "iopub.status.idle": "2022-12-22T08:20:08.622448Z",
     "shell.execute_reply": "2022-12-22T08:20:08.622101Z",
     "shell.execute_reply.started": "2022-12-22T08:20:06.853588Z"
    },
    "tags": []
   },
   "outputs": [],
   "source": [
    "ngrams_tf = TfidfVectorizer(stop_words='english', \n",
    "                            max_features=500,\n",
    "                            ngram_range=(3, 3))\n",
    "tf_no_stop_tri = ngrams_tf.fit_transform(df['text'])"
   ]
  },
  {
   "cell_type": "code",
   "execution_count": 169,
   "id": "641258b4-3de5-43a2-92ba-9710bee15aa6",
   "metadata": {
    "execution": {
     "iopub.execute_input": "2022-12-22T08:20:08.623131Z",
     "iopub.status.busy": "2022-12-22T08:20:08.623049Z",
     "iopub.status.idle": "2022-12-22T08:20:08.647689Z",
     "shell.execute_reply": "2022-12-22T08:20:08.647302Z",
     "shell.execute_reply.started": "2022-12-22T08:20:08.623119Z"
    },
    "tags": []
   },
   "outputs": [
    {
     "data": {
      "text/html": [
       "<div>\n",
       "<style scoped>\n",
       "    .dataframe tbody tr th:only-of-type {\n",
       "        vertical-align: middle;\n",
       "    }\n",
       "\n",
       "    .dataframe tbody tr th {\n",
       "        vertical-align: top;\n",
       "    }\n",
       "\n",
       "    .dataframe thead th {\n",
       "        text-align: right;\n",
       "    }\n",
       "</style>\n",
       "<table border=\"1\" class=\"dataframe\">\n",
       "  <thead>\n",
       "    <tr style=\"text-align: right;\">\n",
       "      <th></th>\n",
       "      <th>3rd party controller</th>\n",
       "      <th>3rd party game</th>\n",
       "      <th>able access game</th>\n",
       "      <th>able buy game</th>\n",
       "      <th>able download game</th>\n",
       "      <th>able play game</th>\n",
       "      <th>able play online</th>\n",
       "      <th>able play series</th>\n",
       "      <th>able pre order</th>\n",
       "      <th>able run game</th>\n",
       "      <th>...</th>\n",
       "      <th>wave pre order</th>\n",
       "      <th>way play game</th>\n",
       "      <th>windows media imaging</th>\n",
       "      <th>work fine yesterday</th>\n",
       "      <th>work just fine</th>\n",
       "      <th>work perfectly fine</th>\n",
       "      <th>work ve try</th>\n",
       "      <th>year ago buy</th>\n",
       "      <th>year game pass</th>\n",
       "      <th>year live gold</th>\n",
       "    </tr>\n",
       "  </thead>\n",
       "  <tbody>\n",
       "    <tr>\n",
       "      <th>0</th>\n",
       "      <td>0.0</td>\n",
       "      <td>0.0</td>\n",
       "      <td>0.0</td>\n",
       "      <td>0.0</td>\n",
       "      <td>0.0</td>\n",
       "      <td>0.0</td>\n",
       "      <td>0.0</td>\n",
       "      <td>0.0</td>\n",
       "      <td>0.0</td>\n",
       "      <td>0.0</td>\n",
       "      <td>...</td>\n",
       "      <td>0.0</td>\n",
       "      <td>0.0</td>\n",
       "      <td>0.0</td>\n",
       "      <td>0.0</td>\n",
       "      <td>0.0</td>\n",
       "      <td>0.0</td>\n",
       "      <td>0.0</td>\n",
       "      <td>0.0</td>\n",
       "      <td>0.0</td>\n",
       "      <td>0.0</td>\n",
       "    </tr>\n",
       "    <tr>\n",
       "      <th>1</th>\n",
       "      <td>0.0</td>\n",
       "      <td>0.0</td>\n",
       "      <td>0.0</td>\n",
       "      <td>0.0</td>\n",
       "      <td>0.0</td>\n",
       "      <td>0.0</td>\n",
       "      <td>0.0</td>\n",
       "      <td>0.0</td>\n",
       "      <td>0.0</td>\n",
       "      <td>0.0</td>\n",
       "      <td>...</td>\n",
       "      <td>0.0</td>\n",
       "      <td>0.0</td>\n",
       "      <td>0.0</td>\n",
       "      <td>0.0</td>\n",
       "      <td>0.0</td>\n",
       "      <td>0.0</td>\n",
       "      <td>0.0</td>\n",
       "      <td>0.0</td>\n",
       "      <td>0.0</td>\n",
       "      <td>0.0</td>\n",
       "    </tr>\n",
       "    <tr>\n",
       "      <th>2</th>\n",
       "      <td>0.0</td>\n",
       "      <td>0.0</td>\n",
       "      <td>0.0</td>\n",
       "      <td>0.0</td>\n",
       "      <td>0.0</td>\n",
       "      <td>0.0</td>\n",
       "      <td>0.0</td>\n",
       "      <td>0.0</td>\n",
       "      <td>0.0</td>\n",
       "      <td>0.0</td>\n",
       "      <td>...</td>\n",
       "      <td>0.0</td>\n",
       "      <td>0.0</td>\n",
       "      <td>0.0</td>\n",
       "      <td>0.0</td>\n",
       "      <td>0.0</td>\n",
       "      <td>0.0</td>\n",
       "      <td>0.0</td>\n",
       "      <td>0.0</td>\n",
       "      <td>0.0</td>\n",
       "      <td>0.0</td>\n",
       "    </tr>\n",
       "  </tbody>\n",
       "</table>\n",
       "<p>3 rows × 500 columns</p>\n",
       "</div>"
      ],
      "text/plain": [
       "   3rd party controller  3rd party game  able access game  able buy game  \\\n",
       "0                   0.0             0.0               0.0            0.0   \n",
       "1                   0.0             0.0               0.0            0.0   \n",
       "2                   0.0             0.0               0.0            0.0   \n",
       "\n",
       "   able download game  able play game  able play online  able play series  \\\n",
       "0                 0.0             0.0               0.0               0.0   \n",
       "1                 0.0             0.0               0.0               0.0   \n",
       "2                 0.0             0.0               0.0               0.0   \n",
       "\n",
       "   able pre order  able run game  ...  wave pre order  way play game  \\\n",
       "0             0.0            0.0  ...             0.0            0.0   \n",
       "1             0.0            0.0  ...             0.0            0.0   \n",
       "2             0.0            0.0  ...             0.0            0.0   \n",
       "\n",
       "   windows media imaging  work fine yesterday  work just fine  \\\n",
       "0                    0.0                  0.0             0.0   \n",
       "1                    0.0                  0.0             0.0   \n",
       "2                    0.0                  0.0             0.0   \n",
       "\n",
       "   work perfectly fine  work ve try  year ago buy  year game pass  \\\n",
       "0                  0.0          0.0           0.0             0.0   \n",
       "1                  0.0          0.0           0.0             0.0   \n",
       "2                  0.0          0.0           0.0             0.0   \n",
       "\n",
       "   year live gold  \n",
       "0             0.0  \n",
       "1             0.0  \n",
       "2             0.0  \n",
       "\n",
       "[3 rows x 500 columns]"
      ]
     },
     "execution_count": 169,
     "metadata": {},
     "output_type": "execute_result"
    }
   ],
   "source": [
    "tf_trigrams_df = pd.DataFrame(tf_no_stop_tri.todense(), \n",
    "                          columns=ngrams_tf.get_feature_names_out())\n",
    "\n",
    "tf_trigrams_df.head(3)"
   ]
  },
  {
   "cell_type": "code",
   "execution_count": 170,
   "id": "4dd57717-e6b3-43a2-bd39-ce6e608da2bb",
   "metadata": {
    "execution": {
     "iopub.execute_input": "2022-12-22T08:20:08.648437Z",
     "iopub.status.busy": "2022-12-22T08:20:08.648347Z",
     "iopub.status.idle": "2022-12-22T08:20:08.682463Z",
     "shell.execute_reply": "2022-12-22T08:20:08.681810Z",
     "shell.execute_reply.started": "2022-12-22T08:20:08.648426Z"
    },
    "tags": []
   },
   "outputs": [
    {
     "data": {
      "text/plain": [
       "game pass ultimate           180.577183\n",
       "external hard drive          105.985188\n",
       "game pass pc                  73.854905\n",
       "horizon zero dawn             60.248479\n",
       "just want know                59.796721\n",
       "help greatly appreciate       55.900169\n",
       "able play game                55.232659\n",
       "game game pass                49.592242\n",
       "red dead redemption           47.076881\n",
       "elite series controller       46.630325\n",
       "account got hack              46.456164\n",
       "want play game                46.170618\n",
       "game pass game                44.506698\n",
       "pre order series              44.478204\n",
       "long story short              43.279166\n",
       "make new account              42.096911\n",
       "game ve play                  41.744452\n",
       "buy game pass                 40.485502\n",
       "month game pass               38.916779\n",
       "backwards compatible game     37.238846\n",
       "dtype: float64"
      ]
     },
     "execution_count": 170,
     "metadata": {},
     "output_type": "execute_result"
    }
   ],
   "source": [
    "tf_trigrams_df.sum().sort_values(ascending=False).head(20)"
   ]
  },
  {
   "cell_type": "markdown",
   "id": "1720aa79-a3c5-44af-8584-0b5e69ef6809",
   "metadata": {},
   "source": [
    "There are differences in the two vectorizers, though much of the top 20 look very similar.  In reading through these, it feels like Tfidf is a little more meaningful with its approach to looking at frequency instead of pure counting, but we'll see what bears out in the modeling and grid searching. I don't think I'll go back through and remove stop words in the cleaning stage at this point, mainly because there are mechanisms in the vectorizers that can deal with them."
   ]
  },
  {
   "cell_type": "markdown",
   "id": "43324f52-e2ad-4c6b-ab69-2af924d10a95",
   "metadata": {
    "tags": []
   },
   "source": [
    "## Notes\n",
    "\n",
    "### Cleaning feedback:\n",
    "- Consider removing the word `game` as it appears in most posts\n",
    "\n",
    "### Modeling  feedback:\n",
    "- Consider using only word counts > 10 or > 15 for X\n",
    "- If needing to cut down gridsearch fits, lean towards using english stop words instead of both, None and english"
   ]
  }
 ],
 "metadata": {
  "kernelspec": {
   "display_name": "Python 3 (ipykernel)",
   "language": "python",
   "name": "python3"
  },
  "language_info": {
   "codemirror_mode": {
    "name": "ipython",
    "version": 3
   },
   "file_extension": ".py",
   "mimetype": "text/x-python",
   "name": "python",
   "nbconvert_exporter": "python",
   "pygments_lexer": "ipython3",
   "version": "3.9.15"
  }
 },
 "nbformat": 4,
 "nbformat_minor": 5
}
