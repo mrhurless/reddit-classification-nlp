{
 "cells": [
  {
   "cell_type": "markdown",
   "id": "ef051d23-d37c-49f8-a8f2-271876ed9535",
   "metadata": {},
   "source": [
    "# Reddit NLP and Classification - Data Cleaning"
   ]
  },
  {
   "cell_type": "markdown",
   "id": "a5bfcf38-d364-44b4-a0cc-e426b3d3f703",
   "metadata": {},
   "source": [
    "### Import Libraries"
   ]
  },
  {
   "cell_type": "code",
   "execution_count": 9,
   "id": "bc6c2b29-c083-4b9f-aa97-224c091b5c63",
   "metadata": {
    "execution": {
     "iopub.execute_input": "2022-12-22T07:54:50.785203Z",
     "iopub.status.busy": "2022-12-22T07:54:50.783391Z",
     "iopub.status.idle": "2022-12-22T07:54:50.831985Z",
     "shell.execute_reply": "2022-12-22T07:54:50.831045Z",
     "shell.execute_reply.started": "2022-12-22T07:54:50.784843Z"
    },
    "tags": []
   },
   "outputs": [],
   "source": [
    "import pandas as pd\n",
    "import numpy as np\n",
    "\n",
    "import re\n",
    "import string\n",
    "from html import unescape\n",
    "import spacy\n",
    "\n",
    "\n",
    "from sklearn.feature_extraction.text import CountVectorizer, TfidfVectorizer\n",
    "\n",
    "# this setting widens how many characters pandas will display in a column:\n",
    "pd.options.display.max_colwidth = 400"
   ]
  },
  {
   "cell_type": "markdown",
   "id": "41dd86bb-b062-4b58-926c-92168a2ad757",
   "metadata": {},
   "source": [
    "### Read Data\n",
    "\n",
    "We will be using the PlayStation and Xbox csv files provided and check the first rows of the data to make sure the data was read correctly."
   ]
  },
  {
   "cell_type": "code",
   "execution_count": 10,
   "id": "b14055cd-d917-4046-a45b-ceadca38ad13",
   "metadata": {
    "execution": {
     "iopub.execute_input": "2022-12-22T07:54:50.834763Z",
     "iopub.status.busy": "2022-12-22T07:54:50.834188Z",
     "iopub.status.idle": "2022-12-22T07:54:51.125456Z",
     "shell.execute_reply": "2022-12-22T07:54:51.124943Z",
     "shell.execute_reply.started": "2022-12-22T07:54:50.834748Z"
    }
   },
   "outputs": [],
   "source": [
    "# import data for subreddit 1 and subreddit 2\n",
    "ps = pd.read_csv('../data/playstation.csv')\n",
    "xb = pd.read_csv('../data/xbox.csv')"
   ]
  },
  {
   "cell_type": "code",
   "execution_count": 11,
   "id": "b8776212-ca3d-4eb2-b341-1fabe7ab1858",
   "metadata": {
    "execution": {
     "iopub.execute_input": "2022-12-22T07:54:51.126481Z",
     "iopub.status.busy": "2022-12-22T07:54:51.126371Z",
     "iopub.status.idle": "2022-12-22T07:54:51.147102Z",
     "shell.execute_reply": "2022-12-22T07:54:51.146679Z",
     "shell.execute_reply.started": "2022-12-22T07:54:51.126468Z"
    },
    "tags": []
   },
   "outputs": [
    {
     "data": {
      "text/html": [
       "<div>\n",
       "<style scoped>\n",
       "    .dataframe tbody tr th:only-of-type {\n",
       "        vertical-align: middle;\n",
       "    }\n",
       "\n",
       "    .dataframe tbody tr th {\n",
       "        vertical-align: top;\n",
       "    }\n",
       "\n",
       "    .dataframe thead th {\n",
       "        text-align: right;\n",
       "    }\n",
       "</style>\n",
       "<table border=\"1\" class=\"dataframe\">\n",
       "  <thead>\n",
       "    <tr style=\"text-align: right;\">\n",
       "      <th></th>\n",
       "      <th>subreddit</th>\n",
       "      <th>id</th>\n",
       "      <th>author</th>\n",
       "      <th>num_comments</th>\n",
       "      <th>selftext</th>\n",
       "      <th>title</th>\n",
       "      <th>upvote_ratio</th>\n",
       "      <th>url</th>\n",
       "    </tr>\n",
       "  </thead>\n",
       "  <tbody>\n",
       "    <tr>\n",
       "      <th>0</th>\n",
       "      <td>playstation</td>\n",
       "      <td>jc4b34</td>\n",
       "      <td>Blix404</td>\n",
       "      <td>8</td>\n",
       "      <td>PlayStation. Why\\n1st of PlayStation has been out since 2013 and you guys close to releasing the PS5 so why tf do you now all of a sudden start recording our party conversations.\\n2nd of I ain’t getting banned just cause some snowflake in my party chat felt the need to snitch on me. Fuck outta here with that BS.\\n\\n3rd. Xbox Doesn’t do that so why do you feel the need to do that you dickheads....</td>\n",
       "      <td>PARTY CHAT BEING RECORDED</td>\n",
       "      <td>1.0</td>\n",
       "      <td>https://www.reddit.com/r/playstation/comments/jc4b34/party_chat_being_recorded/</td>\n",
       "    </tr>\n",
       "    <tr>\n",
       "      <th>1</th>\n",
       "      <td>playstation</td>\n",
       "      <td>jc4070</td>\n",
       "      <td>ImmaPoodle</td>\n",
       "      <td>0</td>\n",
       "      <td>So watch dogs legion is coming out soon and with interesting mechanics and ray tracing I think it might be what people thought watch dogs 2 would be... a predecessor to GTA 5, ok let's be honest watch dogs 2 was an amazing game but it lacked that feeling that GTA had as well as the already large player base.\\n\\nBut this time with already tons of preordered copies of watch dogs legion in circle...</td>\n",
       "      <td>Ubisoft vs Rockstar</td>\n",
       "      <td>1.0</td>\n",
       "      <td>https://www.reddit.com/r/playstation/comments/jc4070/ubisoft_vs_rockstar/</td>\n",
       "    </tr>\n",
       "  </tbody>\n",
       "</table>\n",
       "</div>"
      ],
      "text/plain": [
       "     subreddit      id      author  num_comments  \\\n",
       "0  playstation  jc4b34     Blix404             8   \n",
       "1  playstation  jc4070  ImmaPoodle             0   \n",
       "\n",
       "                                                                                                                                                                                                                                                                                                                                                                                                          selftext  \\\n",
       "0  PlayStation. Why\\n1st of PlayStation has been out since 2013 and you guys close to releasing the PS5 so why tf do you now all of a sudden start recording our party conversations.\\n2nd of I ain’t getting banned just cause some snowflake in my party chat felt the need to snitch on me. Fuck outta here with that BS.\\n\\n3rd. Xbox Doesn’t do that so why do you feel the need to do that you dickheads....   \n",
       "1  So watch dogs legion is coming out soon and with interesting mechanics and ray tracing I think it might be what people thought watch dogs 2 would be... a predecessor to GTA 5, ok let's be honest watch dogs 2 was an amazing game but it lacked that feeling that GTA had as well as the already large player base.\\n\\nBut this time with already tons of preordered copies of watch dogs legion in circle...   \n",
       "\n",
       "                       title  upvote_ratio  \\\n",
       "0  PARTY CHAT BEING RECORDED           1.0   \n",
       "1        Ubisoft vs Rockstar           1.0   \n",
       "\n",
       "                                                                               url  \n",
       "0  https://www.reddit.com/r/playstation/comments/jc4b34/party_chat_being_recorded/  \n",
       "1        https://www.reddit.com/r/playstation/comments/jc4070/ubisoft_vs_rockstar/  "
      ]
     },
     "execution_count": 11,
     "metadata": {},
     "output_type": "execute_result"
    }
   ],
   "source": [
    "ps.head(2)"
   ]
  },
  {
   "cell_type": "code",
   "execution_count": 12,
   "id": "469f4079-8c53-4f34-bd87-5181ddde6c93",
   "metadata": {
    "execution": {
     "iopub.execute_input": "2022-12-22T07:54:51.148407Z",
     "iopub.status.busy": "2022-12-22T07:54:51.148109Z",
     "iopub.status.idle": "2022-12-22T07:54:51.155347Z",
     "shell.execute_reply": "2022-12-22T07:54:51.154830Z",
     "shell.execute_reply.started": "2022-12-22T07:54:51.148391Z"
    }
   },
   "outputs": [
    {
     "data": {
      "text/html": [
       "<div>\n",
       "<style scoped>\n",
       "    .dataframe tbody tr th:only-of-type {\n",
       "        vertical-align: middle;\n",
       "    }\n",
       "\n",
       "    .dataframe tbody tr th {\n",
       "        vertical-align: top;\n",
       "    }\n",
       "\n",
       "    .dataframe thead th {\n",
       "        text-align: right;\n",
       "    }\n",
       "</style>\n",
       "<table border=\"1\" class=\"dataframe\">\n",
       "  <thead>\n",
       "    <tr style=\"text-align: right;\">\n",
       "      <th></th>\n",
       "      <th>subreddit</th>\n",
       "      <th>id</th>\n",
       "      <th>author</th>\n",
       "      <th>num_comments</th>\n",
       "      <th>selftext</th>\n",
       "      <th>title</th>\n",
       "      <th>upvote_ratio</th>\n",
       "      <th>url</th>\n",
       "    </tr>\n",
       "  </thead>\n",
       "  <tbody>\n",
       "    <tr>\n",
       "      <th>0</th>\n",
       "      <td>xbox</td>\n",
       "      <td>jc40iu</td>\n",
       "      <td>ImmaPoodle</td>\n",
       "      <td>1</td>\n",
       "      <td>So watch dogs legion is coming out soon and with interesting mechanics and ray tracing I think it might be what people thought watch dogs 2 would be... a predecessor to GTA 5, ok let's be honest watch dogs 2 was an amazing game but it lacked that feeling that GTA had as well as the already large player base.\\n\\nBut this time with already tons of preordered copies of watch dogs legion in circle...</td>\n",
       "      <td>Ubisoft vs Rockstar</td>\n",
       "      <td>1.0</td>\n",
       "      <td>https://www.reddit.com/r/xbox/comments/jc40iu/ubisoft_vs_rockstar/</td>\n",
       "    </tr>\n",
       "    <tr>\n",
       "      <th>1</th>\n",
       "      <td>xbox</td>\n",
       "      <td>jc3ty3</td>\n",
       "      <td>jaaytf_</td>\n",
       "      <td>2</td>\n",
       "      <td>hey so my xbox one is turning on and instantly turning off. it’s so fast the sound of it coming on sounds cut off. i tried using the hairdryer technique, i borrowed a friends power brick, and nothing has worked. is there any last chance things i can do to fix it before i fully get rid of it bc it’s broken? \\n\\nalso, if it is 100% broken for some random reason, is there anything useful i can sa...</td>\n",
       "      <td>xbox one problems:)</td>\n",
       "      <td>1.0</td>\n",
       "      <td>https://www.reddit.com/r/xbox/comments/jc3ty3/xbox_one_problems/</td>\n",
       "    </tr>\n",
       "  </tbody>\n",
       "</table>\n",
       "</div>"
      ],
      "text/plain": [
       "  subreddit      id      author  num_comments  \\\n",
       "0      xbox  jc40iu  ImmaPoodle             1   \n",
       "1      xbox  jc3ty3     jaaytf_             2   \n",
       "\n",
       "                                                                                                                                                                                                                                                                                                                                                                                                          selftext  \\\n",
       "0  So watch dogs legion is coming out soon and with interesting mechanics and ray tracing I think it might be what people thought watch dogs 2 would be... a predecessor to GTA 5, ok let's be honest watch dogs 2 was an amazing game but it lacked that feeling that GTA had as well as the already large player base.\\n\\nBut this time with already tons of preordered copies of watch dogs legion in circle...   \n",
       "1  hey so my xbox one is turning on and instantly turning off. it’s so fast the sound of it coming on sounds cut off. i tried using the hairdryer technique, i borrowed a friends power brick, and nothing has worked. is there any last chance things i can do to fix it before i fully get rid of it bc it’s broken? \\n\\nalso, if it is 100% broken for some random reason, is there anything useful i can sa...   \n",
       "\n",
       "                 title  upvote_ratio  \\\n",
       "0  Ubisoft vs Rockstar           1.0   \n",
       "1  xbox one problems:)           1.0   \n",
       "\n",
       "                                                                  url  \n",
       "0  https://www.reddit.com/r/xbox/comments/jc40iu/ubisoft_vs_rockstar/  \n",
       "1    https://www.reddit.com/r/xbox/comments/jc3ty3/xbox_one_problems/  "
      ]
     },
     "execution_count": 12,
     "metadata": {},
     "output_type": "execute_result"
    }
   ],
   "source": [
    "xb.head(2)"
   ]
  },
  {
   "cell_type": "code",
   "execution_count": 13,
   "id": "99d3323a-126f-4119-9ae6-0d71daadf7ad",
   "metadata": {
    "execution": {
     "iopub.execute_input": "2022-12-22T07:54:51.157743Z",
     "iopub.status.busy": "2022-12-22T07:54:51.157542Z",
     "iopub.status.idle": "2022-12-22T07:54:51.162467Z",
     "shell.execute_reply": "2022-12-22T07:54:51.161990Z",
     "shell.execute_reply.started": "2022-12-22T07:54:51.157717Z"
    }
   },
   "outputs": [
    {
     "data": {
      "text/plain": [
       "((10021, 8), (10005, 8))"
      ]
     },
     "execution_count": 13,
     "metadata": {},
     "output_type": "execute_result"
    }
   ],
   "source": [
    "ps.shape, xb.shape"
   ]
  },
  {
   "cell_type": "code",
   "execution_count": 14,
   "id": "d67e40ba-bf5c-419d-84d8-aff53ce2bbf2",
   "metadata": {
    "execution": {
     "iopub.execute_input": "2022-12-22T07:54:51.163589Z",
     "iopub.status.busy": "2022-12-22T07:54:51.163447Z",
     "iopub.status.idle": "2022-12-22T07:54:51.171097Z",
     "shell.execute_reply": "2022-12-22T07:54:51.170582Z",
     "shell.execute_reply.started": "2022-12-22T07:54:51.163572Z"
    }
   },
   "outputs": [
    {
     "data": {
      "text/plain": [
       "Index(['subreddit', 'id', 'author', 'num_comments', 'selftext', 'title',\n",
       "       'upvote_ratio', 'url'],\n",
       "      dtype='object')"
      ]
     },
     "execution_count": 14,
     "metadata": {},
     "output_type": "execute_result"
    }
   ],
   "source": [
    "ps.columns"
   ]
  },
  {
   "cell_type": "code",
   "execution_count": 15,
   "id": "a4a0bc6b-6157-4ea7-9c55-a3410444d88d",
   "metadata": {
    "execution": {
     "iopub.execute_input": "2022-12-22T07:54:51.171982Z",
     "iopub.status.busy": "2022-12-22T07:54:51.171727Z",
     "iopub.status.idle": "2022-12-22T07:54:51.175595Z",
     "shell.execute_reply": "2022-12-22T07:54:51.175155Z",
     "shell.execute_reply.started": "2022-12-22T07:54:51.171960Z"
    },
    "tags": []
   },
   "outputs": [
    {
     "data": {
      "text/plain": [
       "Index(['subreddit', 'id', 'author', 'num_comments', 'selftext', 'title',\n",
       "       'upvote_ratio', 'url'],\n",
       "      dtype='object')"
      ]
     },
     "execution_count": 15,
     "metadata": {},
     "output_type": "execute_result"
    }
   ],
   "source": [
    "xb.columns"
   ]
  },
  {
   "cell_type": "code",
   "execution_count": 16,
   "id": "4dc762ba-419d-4194-8d21-37e4b5bf42df",
   "metadata": {
    "execution": {
     "iopub.execute_input": "2022-12-22T07:54:51.176441Z",
     "iopub.status.busy": "2022-12-22T07:54:51.176326Z",
     "iopub.status.idle": "2022-12-22T07:54:51.181930Z",
     "shell.execute_reply": "2022-12-22T07:54:51.181477Z",
     "shell.execute_reply.started": "2022-12-22T07:54:51.176429Z"
    }
   },
   "outputs": [
    {
     "data": {
      "text/plain": [
       "subreddit        object\n",
       "id               object\n",
       "author           object\n",
       "num_comments      int64\n",
       "selftext         object\n",
       "title            object\n",
       "upvote_ratio    float64\n",
       "url              object\n",
       "dtype: object"
      ]
     },
     "execution_count": 16,
     "metadata": {},
     "output_type": "execute_result"
    }
   ],
   "source": [
    "ps.dtypes"
   ]
  },
  {
   "cell_type": "markdown",
   "id": "c34a1a85-141e-40d9-9b36-56e3f0f4d12f",
   "metadata": {},
   "source": [
    "#### Null values\n",
    "\n",
    "Find and treat null values"
   ]
  },
  {
   "cell_type": "code",
   "execution_count": 17,
   "id": "bb004c16-9dbc-4d1a-bbe4-da6c862da553",
   "metadata": {
    "execution": {
     "iopub.execute_input": "2022-12-22T07:54:51.183153Z",
     "iopub.status.busy": "2022-12-22T07:54:51.182992Z",
     "iopub.status.idle": "2022-12-22T07:54:51.210232Z",
     "shell.execute_reply": "2022-12-22T07:54:51.209814Z",
     "shell.execute_reply.started": "2022-12-22T07:54:51.183139Z"
    }
   },
   "outputs": [
    {
     "data": {
      "text/plain": [
       "selftext    83\n",
       "dtype: int64"
      ]
     },
     "execution_count": 17,
     "metadata": {},
     "output_type": "execute_result"
    }
   ],
   "source": [
    "ps.isnull().sum()[ps.isnull().sum() > 0]"
   ]
  },
  {
   "cell_type": "code",
   "execution_count": 18,
   "id": "d7931a01-e357-45cc-ad27-6c21ac6e8881",
   "metadata": {
    "execution": {
     "iopub.execute_input": "2022-12-22T07:54:51.212105Z",
     "iopub.status.busy": "2022-12-22T07:54:51.211835Z",
     "iopub.status.idle": "2022-12-22T07:54:51.231340Z",
     "shell.execute_reply": "2022-12-22T07:54:51.230879Z",
     "shell.execute_reply.started": "2022-12-22T07:54:51.212079Z"
    }
   },
   "outputs": [
    {
     "data": {
      "text/plain": [
       "selftext    888\n",
       "dtype: int64"
      ]
     },
     "execution_count": 18,
     "metadata": {},
     "output_type": "execute_result"
    }
   ],
   "source": [
    "xb.isnull().sum()[xb.isnull().sum() > 0]"
   ]
  },
  {
   "cell_type": "markdown",
   "id": "89bc32fa-4994-46d7-a8dd-04c3be5d3dd7",
   "metadata": {},
   "source": [
    "Given the volume of data that is present here, I'm going to drop the rows with missing values."
   ]
  },
  {
   "cell_type": "code",
   "execution_count": 19,
   "id": "46f3bcb8-2129-4a40-98c4-cca7470f7ccf",
   "metadata": {
    "execution": {
     "iopub.execute_input": "2022-12-22T07:54:51.232563Z",
     "iopub.status.busy": "2022-12-22T07:54:51.232238Z",
     "iopub.status.idle": "2022-12-22T07:54:51.248641Z",
     "shell.execute_reply": "2022-12-22T07:54:51.248148Z",
     "shell.execute_reply.started": "2022-12-22T07:54:51.232542Z"
    }
   },
   "outputs": [],
   "source": [
    "ps.dropna(inplace=True)"
   ]
  },
  {
   "cell_type": "code",
   "execution_count": 20,
   "id": "1499d213-0be9-4718-8566-0dd32c1e23c1",
   "metadata": {
    "execution": {
     "iopub.execute_input": "2022-12-22T07:54:51.249422Z",
     "iopub.status.busy": "2022-12-22T07:54:51.249327Z",
     "iopub.status.idle": "2022-12-22T07:54:51.260454Z",
     "shell.execute_reply": "2022-12-22T07:54:51.260078Z",
     "shell.execute_reply.started": "2022-12-22T07:54:51.249411Z"
    }
   },
   "outputs": [],
   "source": [
    "xb.dropna(inplace=True)"
   ]
  },
  {
   "cell_type": "markdown",
   "id": "0ac12917-5b79-4179-95ad-108f62777d3e",
   "metadata": {},
   "source": [
    "### Additional Cleaning Approach\n",
    "\n",
    "Things that I would like to address in cleaning (many derived from the class brainstorm):\n",
    "- Duplicated or deleted/redacted posts\n",
    "- Combine selftext and title so only treating one feature\n",
    "- Make all lower case and strip leading/trailing spaces\n",
    "- URLs\n",
    "- Encoded characters\n",
    "- Lemmatization\n",
    "- Punctuation\n",
    "- Extra spaces\n",
    "- Numerics\n",
    "- Keywords (playstation, xbox, ps3, ps4, ps5, sony, microsoft, etc.) to not 'cheat' on the project\n",
    "\n",
    "\n",
    "After cleaning, during EDA, there may be additional items identified that will be added to this list, but this should be a good starting point.\n",
    "\n",
    "> **NOTE** Some sampling was used throughout the steps below to check text to identify any concerns and see how various operations worked.  That code is commented out to make the notebook more digestible."
   ]
  },
  {
   "cell_type": "code",
   "execution_count": 21,
   "id": "9bcd3b48-5380-4c3f-a602-7c659c6aceef",
   "metadata": {
    "execution": {
     "iopub.execute_input": "2022-12-22T07:54:51.261502Z",
     "iopub.status.busy": "2022-12-22T07:54:51.261382Z",
     "iopub.status.idle": "2022-12-22T07:54:51.265177Z",
     "shell.execute_reply": "2022-12-22T07:54:51.264701Z",
     "shell.execute_reply.started": "2022-12-22T07:54:51.261484Z"
    },
    "tags": []
   },
   "outputs": [
    {
     "data": {
      "text/plain": [
       "(9938, 9117)"
      ]
     },
     "execution_count": 21,
     "metadata": {},
     "output_type": "execute_result"
    }
   ],
   "source": [
    "# check count of observations after dropping records\n",
    "ps.shape[0], xb.shape[0]"
   ]
  },
  {
   "cell_type": "markdown",
   "id": "9cfda368-4e27-4b0c-8fc7-3ab86bba526e",
   "metadata": {},
   "source": [
    "#### Check for and clean deleted and duplicated posts\n",
    "\n",
    "Look for duplicates in the data, and treat if needed."
   ]
  },
  {
   "cell_type": "code",
   "execution_count": 22,
   "id": "9e724f68-4629-4203-a869-17a8865f5e81",
   "metadata": {
    "execution": {
     "iopub.execute_input": "2022-12-22T07:54:51.270115Z",
     "iopub.status.busy": "2022-12-22T07:54:51.269899Z",
     "iopub.status.idle": "2022-12-22T07:54:51.299772Z",
     "shell.execute_reply": "2022-12-22T07:54:51.299404Z",
     "shell.execute_reply.started": "2022-12-22T07:54:51.270090Z"
    }
   },
   "outputs": [
    {
     "data": {
      "text/plain": [
       "39"
      ]
     },
     "execution_count": 22,
     "metadata": {},
     "output_type": "execute_result"
    }
   ],
   "source": [
    "ps.duplicated(['selftext', 'title']).sum()"
   ]
  },
  {
   "cell_type": "markdown",
   "id": "0163c0d6-8317-419a-9a11-9c56a3df83a6",
   "metadata": {},
   "source": [
    "Take a look at what is duplicated to see if there are any interesting insights or patterns."
   ]
  },
  {
   "cell_type": "code",
   "execution_count": 23,
   "id": "cecb003e-0be4-45ce-b84b-d94f7fd8cfde",
   "metadata": {
    "execution": {
     "iopub.execute_input": "2022-12-22T07:54:51.300672Z",
     "iopub.status.busy": "2022-12-22T07:54:51.300502Z",
     "iopub.status.idle": "2022-12-22T07:54:51.302917Z",
     "shell.execute_reply": "2022-12-22T07:54:51.302388Z",
     "shell.execute_reply.started": "2022-12-22T07:54:51.300660Z"
    },
    "tags": []
   },
   "outputs": [],
   "source": [
    "# ps[ps.duplicated(['selftext', 'title'])]"
   ]
  },
  {
   "cell_type": "markdown",
   "id": "d1636b0f-70d9-4e82-89b3-90e36e9258e7",
   "metadata": {},
   "source": [
    "There was at least one post that appears as `[deleted]`, so let's check for that before we start dropping any data.\n",
    "\n",
    "Also, an example post that has a few elements illustrated that we might want to clean like the encoded characters, currency symbols, etc.:\n",
    "\n",
    "Are the almost +45€ worth it? (from around 120€ to 154€)\\n\\nPlanning on using it with the Logitech G29 + gear shifter (which I'll only buy once I also get the steering wheel stand).\\n\\nNot a heavy racing player, just looking for a better experience when playing racing games.\\n\\n&amp;#x200B;\\n\\nAlso: I'm open for other suggestionAre the almost +45€ worth it? (from around 120€ to 154€)\\n\\nPlanning on using it with the Logitech G29 + gear shifter (which I'll only buy once I also get the steering wheel stand).\\n\\nNot a heavy racing player, just looking for a better experience when playing racing games.\\n\\n&amp;#x200B;\\n\\nAlso: I'm open for other suggestion\n",
    "\n",
    "- `&#x200B;` apparently is hex-encoded whitespace (ref: https://www.reddit.com/r/OutOfTheLoop/comments/9abjhm/what_does_x200b_mean/)\n",
    "- `&amp` appears to be an HTML entity.  The list for HTML 4 is longer, but HTML 2 is: `&quot;, &amp;, &lt;, and &gt`.  May start with these and then expand if needed. (ref: https://www.htmlhelp.com/reference/html40/entities/special.html)\n",
    "- `\\n` lots of newline escape sequences as well."
   ]
  },
  {
   "cell_type": "markdown",
   "id": "cbb636e9-0bc2-4af7-8468-6940be3f9183",
   "metadata": {},
   "source": [
    "Investigate deleted"
   ]
  },
  {
   "cell_type": "code",
   "execution_count": 24,
   "id": "7bf90b58-8357-447b-89d7-189c013ac511",
   "metadata": {
    "execution": {
     "iopub.execute_input": "2022-12-22T07:54:51.304286Z",
     "iopub.status.busy": "2022-12-22T07:54:51.304148Z",
     "iopub.status.idle": "2022-12-22T07:54:51.313223Z",
     "shell.execute_reply": "2022-12-22T07:54:51.312811Z",
     "shell.execute_reply.started": "2022-12-22T07:54:51.304274Z"
    },
    "tags": []
   },
   "outputs": [
    {
     "data": {
      "text/plain": [
       "125"
      ]
     },
     "execution_count": 24,
     "metadata": {},
     "output_type": "execute_result"
    }
   ],
   "source": [
    "# find how many posts have selftext set to [deleted]\n",
    "len(ps[ps['selftext'] == '[deleted]'])"
   ]
  },
  {
   "cell_type": "code",
   "execution_count": 25,
   "id": "f609ecd4-f333-4427-b604-71300bc00699",
   "metadata": {
    "execution": {
     "iopub.execute_input": "2022-12-22T07:54:51.314384Z",
     "iopub.status.busy": "2022-12-22T07:54:51.314125Z",
     "iopub.status.idle": "2022-12-22T07:54:51.319108Z",
     "shell.execute_reply": "2022-12-22T07:54:51.318701Z",
     "shell.execute_reply.started": "2022-12-22T07:54:51.314359Z"
    },
    "tags": []
   },
   "outputs": [
    {
     "data": {
      "text/plain": [
       "0"
      ]
     },
     "execution_count": 25,
     "metadata": {},
     "output_type": "execute_result"
    }
   ],
   "source": [
    "# check to see if there are deleted titles as well\n",
    "len(ps[ps['title'] == '[deleted]'])"
   ]
  },
  {
   "cell_type": "code",
   "execution_count": 26,
   "id": "1a5934cd-6761-42f2-913e-1a3d99df8cdd",
   "metadata": {
    "execution": {
     "iopub.execute_input": "2022-12-22T07:54:51.319845Z",
     "iopub.status.busy": "2022-12-22T07:54:51.319759Z",
     "iopub.status.idle": "2022-12-22T07:54:51.325228Z",
     "shell.execute_reply": "2022-12-22T07:54:51.324665Z",
     "shell.execute_reply.started": "2022-12-22T07:54:51.319833Z"
    },
    "tags": []
   },
   "outputs": [
    {
     "data": {
      "text/plain": [
       "200"
      ]
     },
     "execution_count": 26,
     "metadata": {},
     "output_type": "execute_result"
    }
   ],
   "source": [
    "# check Xbox data for deleted as well\n",
    "len(xb[xb['selftext'] == '[deleted]'])"
   ]
  },
  {
   "cell_type": "code",
   "execution_count": 27,
   "id": "263e6602-3da8-4b6b-addf-279eb99af409",
   "metadata": {
    "execution": {
     "iopub.execute_input": "2022-12-22T07:54:51.326421Z",
     "iopub.status.busy": "2022-12-22T07:54:51.326181Z",
     "iopub.status.idle": "2022-12-22T07:54:51.331215Z",
     "shell.execute_reply": "2022-12-22T07:54:51.330654Z",
     "shell.execute_reply.started": "2022-12-22T07:54:51.326399Z"
    }
   },
   "outputs": [
    {
     "data": {
      "text/plain": [
       "0"
      ]
     },
     "execution_count": 27,
     "metadata": {},
     "output_type": "execute_result"
    }
   ],
   "source": [
    "# check Xbox titles for deleted\n",
    "len(xb[xb['title'] == '[deleted]'])"
   ]
  },
  {
   "cell_type": "markdown",
   "id": "3907e4bc-236b-4eb2-9f47-c784d03e8fb8",
   "metadata": {},
   "source": [
    "Drop rows with `[deleted]`selftext"
   ]
  },
  {
   "cell_type": "code",
   "execution_count": 28,
   "id": "08347d03-9eb1-4436-beec-8ed1eeef87d7",
   "metadata": {
    "execution": {
     "iopub.execute_input": "2022-12-22T07:54:51.332601Z",
     "iopub.status.busy": "2022-12-22T07:54:51.332275Z",
     "iopub.status.idle": "2022-12-22T07:54:51.342047Z",
     "shell.execute_reply": "2022-12-22T07:54:51.341459Z",
     "shell.execute_reply.started": "2022-12-22T07:54:51.332576Z"
    }
   },
   "outputs": [],
   "source": [
    "ps.drop(ps[ps['selftext'] == '[deleted]'].index, inplace=True)\n",
    "xb.drop(xb[xb['selftext'] == '[deleted]'].index, inplace=True)"
   ]
  },
  {
   "cell_type": "markdown",
   "id": "a65f70ec-6c96-4fd4-a296-f5713e61a4b5",
   "metadata": {
    "execution": {
     "iopub.execute_input": "2022-12-15T01:35:57.737278Z",
     "iopub.status.busy": "2022-12-15T01:35:57.736589Z",
     "iopub.status.idle": "2022-12-15T01:35:57.750377Z",
     "shell.execute_reply": "2022-12-15T01:35:57.747998Z",
     "shell.execute_reply.started": "2022-12-15T01:35:57.737215Z"
    }
   },
   "source": [
    "Drop duplicate rows"
   ]
  },
  {
   "cell_type": "code",
   "execution_count": 29,
   "id": "d89361f0-7fff-41ad-91d6-e982db78bb23",
   "metadata": {
    "execution": {
     "iopub.execute_input": "2022-12-22T07:54:51.343030Z",
     "iopub.status.busy": "2022-12-22T07:54:51.342930Z",
     "iopub.status.idle": "2022-12-22T07:54:51.375275Z",
     "shell.execute_reply": "2022-12-22T07:54:51.374886Z",
     "shell.execute_reply.started": "2022-12-22T07:54:51.343019Z"
    }
   },
   "outputs": [],
   "source": [
    "ps.drop_duplicates(['selftext', 'title'], inplace=True)\n",
    "xb.drop_duplicates(['selftext', 'title'], inplace=True)"
   ]
  },
  {
   "cell_type": "markdown",
   "id": "6af2fe53-4a20-4951-af85-60606bb8a7ec",
   "metadata": {},
   "source": [
    "#### Combine selftext and title so only treating one feature\n",
    "\n",
    "I will create a single text column that includes the words from the title and the selftext, so that additional cleaning functions will only need to operate on one feature.\n",
    "\n",
    "Leaving selftext and title features for possible use in EDA, but will likely drop before any NLP processing."
   ]
  },
  {
   "cell_type": "code",
   "execution_count": 30,
   "id": "f37891aa-000e-4c1a-8818-a7d86d4e0b0b",
   "metadata": {
    "execution": {
     "iopub.execute_input": "2022-12-22T07:54:51.375949Z",
     "iopub.status.busy": "2022-12-22T07:54:51.375860Z",
     "iopub.status.idle": "2022-12-22T07:54:51.392349Z",
     "shell.execute_reply": "2022-12-22T07:54:51.391944Z",
     "shell.execute_reply.started": "2022-12-22T07:54:51.375938Z"
    },
    "tags": []
   },
   "outputs": [],
   "source": [
    "ps['text'] = ps['title'] + ' ' + ps['selftext']\n",
    "xb['text'] = xb['title'] + ' ' + xb['selftext']"
   ]
  },
  {
   "cell_type": "code",
   "execution_count": 31,
   "id": "6f3ac3a2-4633-4a5b-8f16-1a417c264031",
   "metadata": {
    "execution": {
     "iopub.execute_input": "2022-12-22T07:54:51.393340Z",
     "iopub.status.busy": "2022-12-22T07:54:51.393169Z",
     "iopub.status.idle": "2022-12-22T07:54:51.400681Z",
     "shell.execute_reply": "2022-12-22T07:54:51.400302Z",
     "shell.execute_reply.started": "2022-12-22T07:54:51.393327Z"
    },
    "tags": []
   },
   "outputs": [
    {
     "data": {
      "text/html": [
       "<div>\n",
       "<style scoped>\n",
       "    .dataframe tbody tr th:only-of-type {\n",
       "        vertical-align: middle;\n",
       "    }\n",
       "\n",
       "    .dataframe tbody tr th {\n",
       "        vertical-align: top;\n",
       "    }\n",
       "\n",
       "    .dataframe thead th {\n",
       "        text-align: right;\n",
       "    }\n",
       "</style>\n",
       "<table border=\"1\" class=\"dataframe\">\n",
       "  <thead>\n",
       "    <tr style=\"text-align: right;\">\n",
       "      <th></th>\n",
       "      <th>subreddit</th>\n",
       "      <th>id</th>\n",
       "      <th>author</th>\n",
       "      <th>num_comments</th>\n",
       "      <th>selftext</th>\n",
       "      <th>title</th>\n",
       "      <th>upvote_ratio</th>\n",
       "      <th>url</th>\n",
       "      <th>text</th>\n",
       "    </tr>\n",
       "  </thead>\n",
       "  <tbody>\n",
       "    <tr>\n",
       "      <th>0</th>\n",
       "      <td>playstation</td>\n",
       "      <td>jc4b34</td>\n",
       "      <td>Blix404</td>\n",
       "      <td>8</td>\n",
       "      <td>PlayStation. Why\\n1st of PlayStation has been out since 2013 and you guys close to releasing the PS5 so why tf do you now all of a sudden start recording our party conversations.\\n2nd of I ain’t getting banned just cause some snowflake in my party chat felt the need to snitch on me. Fuck outta here with that BS.\\n\\n3rd. Xbox Doesn’t do that so why do you feel the need to do that you dickheads....</td>\n",
       "      <td>PARTY CHAT BEING RECORDED</td>\n",
       "      <td>1.0</td>\n",
       "      <td>https://www.reddit.com/r/playstation/comments/jc4b34/party_chat_being_recorded/</td>\n",
       "      <td>PARTY CHAT BEING RECORDED PlayStation. Why\\n1st of PlayStation has been out since 2013 and you guys close to releasing the PS5 so why tf do you now all of a sudden start recording our party conversations.\\n2nd of I ain’t getting banned just cause some snowflake in my party chat felt the need to snitch on me. Fuck outta here with that BS.\\n\\n3rd. Xbox Doesn’t do that so why do you feel the need...</td>\n",
       "    </tr>\n",
       "    <tr>\n",
       "      <th>1</th>\n",
       "      <td>playstation</td>\n",
       "      <td>jc4070</td>\n",
       "      <td>ImmaPoodle</td>\n",
       "      <td>0</td>\n",
       "      <td>So watch dogs legion is coming out soon and with interesting mechanics and ray tracing I think it might be what people thought watch dogs 2 would be... a predecessor to GTA 5, ok let's be honest watch dogs 2 was an amazing game but it lacked that feeling that GTA had as well as the already large player base.\\n\\nBut this time with already tons of preordered copies of watch dogs legion in circle...</td>\n",
       "      <td>Ubisoft vs Rockstar</td>\n",
       "      <td>1.0</td>\n",
       "      <td>https://www.reddit.com/r/playstation/comments/jc4070/ubisoft_vs_rockstar/</td>\n",
       "      <td>Ubisoft vs Rockstar So watch dogs legion is coming out soon and with interesting mechanics and ray tracing I think it might be what people thought watch dogs 2 would be... a predecessor to GTA 5, ok let's be honest watch dogs 2 was an amazing game but it lacked that feeling that GTA had as well as the already large player base.\\n\\nBut this time with already tons of preordered copies of watch d...</td>\n",
       "    </tr>\n",
       "  </tbody>\n",
       "</table>\n",
       "</div>"
      ],
      "text/plain": [
       "     subreddit      id      author  num_comments  \\\n",
       "0  playstation  jc4b34     Blix404             8   \n",
       "1  playstation  jc4070  ImmaPoodle             0   \n",
       "\n",
       "                                                                                                                                                                                                                                                                                                                                                                                                          selftext  \\\n",
       "0  PlayStation. Why\\n1st of PlayStation has been out since 2013 and you guys close to releasing the PS5 so why tf do you now all of a sudden start recording our party conversations.\\n2nd of I ain’t getting banned just cause some snowflake in my party chat felt the need to snitch on me. Fuck outta here with that BS.\\n\\n3rd. Xbox Doesn’t do that so why do you feel the need to do that you dickheads....   \n",
       "1  So watch dogs legion is coming out soon and with interesting mechanics and ray tracing I think it might be what people thought watch dogs 2 would be... a predecessor to GTA 5, ok let's be honest watch dogs 2 was an amazing game but it lacked that feeling that GTA had as well as the already large player base.\\n\\nBut this time with already tons of preordered copies of watch dogs legion in circle...   \n",
       "\n",
       "                       title  upvote_ratio  \\\n",
       "0  PARTY CHAT BEING RECORDED           1.0   \n",
       "1        Ubisoft vs Rockstar           1.0   \n",
       "\n",
       "                                                                               url  \\\n",
       "0  https://www.reddit.com/r/playstation/comments/jc4b34/party_chat_being_recorded/   \n",
       "1        https://www.reddit.com/r/playstation/comments/jc4070/ubisoft_vs_rockstar/   \n",
       "\n",
       "                                                                                                                                                                                                                                                                                                                                                                                                              text  \n",
       "0  PARTY CHAT BEING RECORDED PlayStation. Why\\n1st of PlayStation has been out since 2013 and you guys close to releasing the PS5 so why tf do you now all of a sudden start recording our party conversations.\\n2nd of I ain’t getting banned just cause some snowflake in my party chat felt the need to snitch on me. Fuck outta here with that BS.\\n\\n3rd. Xbox Doesn’t do that so why do you feel the need...  \n",
       "1  Ubisoft vs Rockstar So watch dogs legion is coming out soon and with interesting mechanics and ray tracing I think it might be what people thought watch dogs 2 would be... a predecessor to GTA 5, ok let's be honest watch dogs 2 was an amazing game but it lacked that feeling that GTA had as well as the already large player base.\\n\\nBut this time with already tons of preordered copies of watch d...  "
      ]
     },
     "execution_count": 31,
     "metadata": {},
     "output_type": "execute_result"
    }
   ],
   "source": [
    "ps.head(2)"
   ]
  },
  {
   "cell_type": "markdown",
   "id": "4737b9ad-922b-4fe4-8082-713e87a0ae27",
   "metadata": {},
   "source": [
    "#### Make all lower case and strip leading/trailing spaces"
   ]
  },
  {
   "cell_type": "code",
   "execution_count": 32,
   "id": "c49f355a-f737-4837-b36a-ee66ee92378d",
   "metadata": {
    "execution": {
     "iopub.execute_input": "2022-12-22T07:54:51.401760Z",
     "iopub.status.busy": "2022-12-22T07:54:51.401563Z",
     "iopub.status.idle": "2022-12-22T07:54:51.408363Z",
     "shell.execute_reply": "2022-12-22T07:54:51.407949Z",
     "shell.execute_reply.started": "2022-12-22T07:54:51.401746Z"
    }
   },
   "outputs": [],
   "source": [
    "# create function that can be re-used or added to a class later\n",
    "# may want to augment to accept df names and column name(s) to \n",
    "# make it more robust\n",
    "\n",
    "def lcase_ss(text):\n",
    "    '''\n",
    "    fn returns all lower case text with spaces stripped (.lower() .strip())\n",
    "    '''\n",
    "    return text.lower().strip()"
   ]
  },
  {
   "cell_type": "code",
   "execution_count": 33,
   "id": "ef20dd03-ad5b-4611-a013-dabf6636b532",
   "metadata": {
    "execution": {
     "iopub.execute_input": "2022-12-22T07:54:51.409153Z",
     "iopub.status.busy": "2022-12-22T07:54:51.409055Z",
     "iopub.status.idle": "2022-12-22T07:54:51.434888Z",
     "shell.execute_reply": "2022-12-22T07:54:51.434422Z",
     "shell.execute_reply.started": "2022-12-22T07:54:51.409140Z"
    },
    "tags": []
   },
   "outputs": [],
   "source": [
    "ps['text'] = ps['text'].apply(lcase_ss)\n",
    "xb['text'] = xb['text'].apply(lcase_ss)"
   ]
  },
  {
   "cell_type": "code",
   "execution_count": 34,
   "id": "1e79f8d1-40c8-41a6-8de6-c808d1449249",
   "metadata": {
    "execution": {
     "iopub.execute_input": "2022-12-22T07:54:51.435882Z",
     "iopub.status.busy": "2022-12-22T07:54:51.435765Z",
     "iopub.status.idle": "2022-12-22T07:54:51.442919Z",
     "shell.execute_reply": "2022-12-22T07:54:51.442290Z",
     "shell.execute_reply.started": "2022-12-22T07:54:51.435869Z"
    },
    "tags": []
   },
   "outputs": [
    {
     "data": {
      "text/html": [
       "<div>\n",
       "<style scoped>\n",
       "    .dataframe tbody tr th:only-of-type {\n",
       "        vertical-align: middle;\n",
       "    }\n",
       "\n",
       "    .dataframe tbody tr th {\n",
       "        vertical-align: top;\n",
       "    }\n",
       "\n",
       "    .dataframe thead th {\n",
       "        text-align: right;\n",
       "    }\n",
       "</style>\n",
       "<table border=\"1\" class=\"dataframe\">\n",
       "  <thead>\n",
       "    <tr style=\"text-align: right;\">\n",
       "      <th></th>\n",
       "      <th>subreddit</th>\n",
       "      <th>id</th>\n",
       "      <th>author</th>\n",
       "      <th>num_comments</th>\n",
       "      <th>selftext</th>\n",
       "      <th>title</th>\n",
       "      <th>upvote_ratio</th>\n",
       "      <th>url</th>\n",
       "      <th>text</th>\n",
       "    </tr>\n",
       "  </thead>\n",
       "  <tbody>\n",
       "    <tr>\n",
       "      <th>0</th>\n",
       "      <td>xbox</td>\n",
       "      <td>jc40iu</td>\n",
       "      <td>ImmaPoodle</td>\n",
       "      <td>1</td>\n",
       "      <td>So watch dogs legion is coming out soon and with interesting mechanics and ray tracing I think it might be what people thought watch dogs 2 would be... a predecessor to GTA 5, ok let's be honest watch dogs 2 was an amazing game but it lacked that feeling that GTA had as well as the already large player base.\\n\\nBut this time with already tons of preordered copies of watch dogs legion in circle...</td>\n",
       "      <td>Ubisoft vs Rockstar</td>\n",
       "      <td>1.0</td>\n",
       "      <td>https://www.reddit.com/r/xbox/comments/jc40iu/ubisoft_vs_rockstar/</td>\n",
       "      <td>ubisoft vs rockstar so watch dogs legion is coming out soon and with interesting mechanics and ray tracing i think it might be what people thought watch dogs 2 would be... a predecessor to gta 5, ok let's be honest watch dogs 2 was an amazing game but it lacked that feeling that gta had as well as the already large player base.\\n\\nbut this time with already tons of preordered copies of watch d...</td>\n",
       "    </tr>\n",
       "    <tr>\n",
       "      <th>1</th>\n",
       "      <td>xbox</td>\n",
       "      <td>jc3ty3</td>\n",
       "      <td>jaaytf_</td>\n",
       "      <td>2</td>\n",
       "      <td>hey so my xbox one is turning on and instantly turning off. it’s so fast the sound of it coming on sounds cut off. i tried using the hairdryer technique, i borrowed a friends power brick, and nothing has worked. is there any last chance things i can do to fix it before i fully get rid of it bc it’s broken? \\n\\nalso, if it is 100% broken for some random reason, is there anything useful i can sa...</td>\n",
       "      <td>xbox one problems:)</td>\n",
       "      <td>1.0</td>\n",
       "      <td>https://www.reddit.com/r/xbox/comments/jc3ty3/xbox_one_problems/</td>\n",
       "      <td>xbox one problems:) hey so my xbox one is turning on and instantly turning off. it’s so fast the sound of it coming on sounds cut off. i tried using the hairdryer technique, i borrowed a friends power brick, and nothing has worked. is there any last chance things i can do to fix it before i fully get rid of it bc it’s broken? \\n\\nalso, if it is 100% broken for some random reason, is there anyt...</td>\n",
       "    </tr>\n",
       "  </tbody>\n",
       "</table>\n",
       "</div>"
      ],
      "text/plain": [
       "  subreddit      id      author  num_comments  \\\n",
       "0      xbox  jc40iu  ImmaPoodle             1   \n",
       "1      xbox  jc3ty3     jaaytf_             2   \n",
       "\n",
       "                                                                                                                                                                                                                                                                                                                                                                                                          selftext  \\\n",
       "0  So watch dogs legion is coming out soon and with interesting mechanics and ray tracing I think it might be what people thought watch dogs 2 would be... a predecessor to GTA 5, ok let's be honest watch dogs 2 was an amazing game but it lacked that feeling that GTA had as well as the already large player base.\\n\\nBut this time with already tons of preordered copies of watch dogs legion in circle...   \n",
       "1  hey so my xbox one is turning on and instantly turning off. it’s so fast the sound of it coming on sounds cut off. i tried using the hairdryer technique, i borrowed a friends power brick, and nothing has worked. is there any last chance things i can do to fix it before i fully get rid of it bc it’s broken? \\n\\nalso, if it is 100% broken for some random reason, is there anything useful i can sa...   \n",
       "\n",
       "                 title  upvote_ratio  \\\n",
       "0  Ubisoft vs Rockstar           1.0   \n",
       "1  xbox one problems:)           1.0   \n",
       "\n",
       "                                                                  url  \\\n",
       "0  https://www.reddit.com/r/xbox/comments/jc40iu/ubisoft_vs_rockstar/   \n",
       "1    https://www.reddit.com/r/xbox/comments/jc3ty3/xbox_one_problems/   \n",
       "\n",
       "                                                                                                                                                                                                                                                                                                                                                                                                              text  \n",
       "0  ubisoft vs rockstar so watch dogs legion is coming out soon and with interesting mechanics and ray tracing i think it might be what people thought watch dogs 2 would be... a predecessor to gta 5, ok let's be honest watch dogs 2 was an amazing game but it lacked that feeling that gta had as well as the already large player base.\\n\\nbut this time with already tons of preordered copies of watch d...  \n",
       "1  xbox one problems:) hey so my xbox one is turning on and instantly turning off. it’s so fast the sound of it coming on sounds cut off. i tried using the hairdryer technique, i borrowed a friends power brick, and nothing has worked. is there any last chance things i can do to fix it before i fully get rid of it bc it’s broken? \\n\\nalso, if it is 100% broken for some random reason, is there anyt...  "
      ]
     },
     "execution_count": 34,
     "metadata": {},
     "output_type": "execute_result"
    }
   ],
   "source": [
    "xb.head(2)"
   ]
  },
  {
   "cell_type": "markdown",
   "id": "ddbdfbbc-c35c-49e7-aed1-bc0d7fc7b3d7",
   "metadata": {},
   "source": [
    "#### URLs\n",
    "In order to be able to remove URLs effectively, I think they should be removed before additional processing.   "
   ]
  },
  {
   "cell_type": "code",
   "execution_count": 35,
   "id": "9f1ace05-8c41-4523-a084-a7972d764a29",
   "metadata": {
    "execution": {
     "iopub.execute_input": "2022-12-22T07:54:51.443888Z",
     "iopub.status.busy": "2022-12-22T07:54:51.443789Z",
     "iopub.status.idle": "2022-12-22T07:54:51.472601Z",
     "shell.execute_reply": "2022-12-22T07:54:51.472087Z",
     "shell.execute_reply.started": "2022-12-22T07:54:51.443875Z"
    },
    "tags": []
   },
   "outputs": [
    {
     "data": {
      "text/plain": [
       "(365, 393)"
      ]
     },
     "execution_count": 35,
     "metadata": {},
     "output_type": "execute_result"
    }
   ],
   "source": [
    "# found URL regex at : https://urlregex.com\n",
    "url_p = 'http[s]?://(?:[a-zA-Z]|[0-9]|[$-_@.&+]|[!*\\(\\),]|(?:%[0-9a-fA-F][0-9a-fA-F]))+'\n",
    "\n",
    "# check to see if any matches in the text\n",
    "ps['text'].str.contains(url_p).sum(), xb['text'].str.contains(url_p).sum()"
   ]
  },
  {
   "cell_type": "markdown",
   "id": "6feee819-4735-4a5c-ab73-7c30ff97559f",
   "metadata": {},
   "source": [
    "Since that pattern seemed to identify some URLs in the text, I will remove them"
   ]
  },
  {
   "cell_type": "code",
   "execution_count": 36,
   "id": "a1307ca3-728d-4ec1-a810-08aee5e67742",
   "metadata": {
    "execution": {
     "iopub.execute_input": "2022-12-22T07:54:51.473734Z",
     "iopub.status.busy": "2022-12-22T07:54:51.473376Z",
     "iopub.status.idle": "2022-12-22T07:54:51.496817Z",
     "shell.execute_reply": "2022-12-22T07:54:51.496401Z",
     "shell.execute_reply.started": "2022-12-22T07:54:51.473707Z"
    },
    "tags": []
   },
   "outputs": [],
   "source": [
    "ps['text'] = ps['text'].str.replace(url_p, '', regex=True)\n",
    "xb['text'] = xb['text'].str.replace(url_p, '', regex=True)"
   ]
  },
  {
   "cell_type": "code",
   "execution_count": 37,
   "id": "3ac34478-36a0-45ac-9448-64afba7f99aa",
   "metadata": {
    "execution": {
     "iopub.execute_input": "2022-12-22T07:54:51.497764Z",
     "iopub.status.busy": "2022-12-22T07:54:51.497637Z",
     "iopub.status.idle": "2022-12-22T07:54:51.514601Z",
     "shell.execute_reply": "2022-12-22T07:54:51.514088Z",
     "shell.execute_reply.started": "2022-12-22T07:54:51.497750Z"
    },
    "tags": []
   },
   "outputs": [
    {
     "data": {
      "text/plain": [
       "(0, 0)"
      ]
     },
     "execution_count": 37,
     "metadata": {},
     "output_type": "execute_result"
    }
   ],
   "source": [
    "# check that worked\n",
    "ps['text'].str.contains(url_p).sum(), xb['text'].str.contains(url_p).sum()"
   ]
  },
  {
   "cell_type": "markdown",
   "id": "ef875460-da42-4fc8-a7e9-cd4d9df0c2bb",
   "metadata": {},
   "source": [
    "#### Encoded Characters\n",
    "\n",
    "Again, like URLs, we will want to process any encoded characters, specifically, I spotted some of the HTML encoded characters, so we'll tackle those first and can come back and change this later if we need to."
   ]
  },
  {
   "cell_type": "code",
   "execution_count": 38,
   "id": "f9a3f766-1459-4cff-aed0-586b708213b9",
   "metadata": {
    "execution": {
     "iopub.execute_input": "2022-12-22T07:54:51.515683Z",
     "iopub.status.busy": "2022-12-22T07:54:51.515517Z",
     "iopub.status.idle": "2022-12-22T07:54:51.517965Z",
     "shell.execute_reply": "2022-12-22T07:54:51.517565Z",
     "shell.execute_reply.started": "2022-12-22T07:54:51.515664Z"
    }
   },
   "outputs": [],
   "source": [
    "# https://stackoverflow.com/questions/26127775/remove-html-entities-and-extract-text-content-using-regex\n",
    "# in that same stackoverflow, another user points to an unescape function in \n",
    "# html python library, that is what I ended up using"
   ]
  },
  {
   "cell_type": "code",
   "execution_count": 39,
   "id": "ebcdb9ad-3379-4c39-8718-5862b62f20fa",
   "metadata": {
    "execution": {
     "iopub.execute_input": "2022-12-22T07:54:51.518742Z",
     "iopub.status.busy": "2022-12-22T07:54:51.518550Z",
     "iopub.status.idle": "2022-12-22T07:54:51.528195Z",
     "shell.execute_reply": "2022-12-22T07:54:51.527733Z",
     "shell.execute_reply.started": "2022-12-22T07:54:51.518723Z"
    },
    "tags": []
   },
   "outputs": [],
   "source": [
    "# get rid of html escape characters\n",
    "ps['text'] = ps['text'].apply(unescape)\n",
    "xb['text'] = xb['text'].apply(unescape)"
   ]
  },
  {
   "cell_type": "markdown",
   "id": "9de55ade-07e7-48a7-80b4-fa9ee73bf0dc",
   "metadata": {},
   "source": [
    "While thinking about encoded characters and such, I will also remove `&#x200B;` and `\\n` here"
   ]
  },
  {
   "cell_type": "code",
   "execution_count": 40,
   "id": "22f87a6a-76e1-4ee0-92af-f10b17e10436",
   "metadata": {
    "execution": {
     "iopub.execute_input": "2022-12-22T07:54:51.529256Z",
     "iopub.status.busy": "2022-12-22T07:54:51.529060Z",
     "iopub.status.idle": "2022-12-22T07:54:51.542469Z",
     "shell.execute_reply": "2022-12-22T07:54:51.541870Z",
     "shell.execute_reply.started": "2022-12-22T07:54:51.529230Z"
    }
   },
   "outputs": [],
   "source": [
    "ps['text'] = ps['text'].str.replace('\\n', ' ', regex=True)\n",
    "xb['text'] = xb['text'].str.replace('\\n', ' ', regex=True)"
   ]
  },
  {
   "cell_type": "code",
   "execution_count": 41,
   "id": "6c368280-07bd-4d1f-9510-9b684ee4780b",
   "metadata": {
    "execution": {
     "iopub.execute_input": "2022-12-22T07:54:51.543261Z",
     "iopub.status.busy": "2022-12-22T07:54:51.543155Z",
     "iopub.status.idle": "2022-12-22T07:54:51.553638Z",
     "shell.execute_reply": "2022-12-22T07:54:51.553217Z",
     "shell.execute_reply.started": "2022-12-22T07:54:51.543249Z"
    }
   },
   "outputs": [],
   "source": [
    "ps['text'] = ps['text'].str.replace('\\u200B', ' ', regex=True)\n",
    "xb['text'] = xb['text'].str.replace('\\u200B', ' ', regex=True)"
   ]
  },
  {
   "cell_type": "markdown",
   "id": "ac4728f4-83b2-4694-b09d-f8277b154661",
   "metadata": {},
   "source": [
    "#### Lemmatization\n",
    "\n",
    "Before moving forward with some of the other cleaning processes, I'll lemmatize at this point and also have Spacy remove punctuation."
   ]
  },
  {
   "cell_type": "code",
   "execution_count": 42,
   "id": "12e083fc-55e4-46bc-971e-4f2ff78d9591",
   "metadata": {
    "execution": {
     "iopub.execute_input": "2022-12-22T07:54:51.554708Z",
     "iopub.status.busy": "2022-12-22T07:54:51.554567Z",
     "iopub.status.idle": "2022-12-22T07:54:52.779447Z",
     "shell.execute_reply": "2022-12-22T07:54:52.779055Z",
     "shell.execute_reply.started": "2022-12-22T07:54:51.554695Z"
    },
    "tags": []
   },
   "outputs": [],
   "source": [
    "# load spacy model\n",
    "nlp = spacy.load('en_core_web_md')"
   ]
  },
  {
   "cell_type": "code",
   "execution_count": 43,
   "id": "167f5f0b-782a-45c7-929a-64ae25887c9b",
   "metadata": {
    "execution": {
     "iopub.execute_input": "2022-12-22T07:54:52.780169Z",
     "iopub.status.busy": "2022-12-22T07:54:52.780068Z",
     "iopub.status.idle": "2022-12-22T07:54:52.782888Z",
     "shell.execute_reply": "2022-12-22T07:54:52.782561Z",
     "shell.execute_reply.started": "2022-12-22T07:54:52.780157Z"
    }
   },
   "outputs": [],
   "source": [
    "# from spacy walkthrough\n",
    "# ' '.join([token.lemma_ for token in ex if token.pos_ not in ['AUX', 'PUNCT', \"PRON\"]])\n",
    "\n",
    "def spacy_lem(text):\n",
    "    # create spacy doc\n",
    "    doc = nlp(text)\n",
    "    return ' '.join([token.lemma_ for token in doc if token.pos_ != 'PUNCT'])"
   ]
  },
  {
   "cell_type": "code",
   "execution_count": 44,
   "id": "15bc8707-8dfa-45b8-aaaa-3f5e1374df9a",
   "metadata": {
    "execution": {
     "iopub.execute_input": "2022-12-22T07:54:52.783680Z",
     "iopub.status.busy": "2022-12-22T07:54:52.783582Z",
     "iopub.status.idle": "2022-12-22T07:57:05.491401Z",
     "shell.execute_reply": "2022-12-22T07:57:05.490301Z",
     "shell.execute_reply.started": "2022-12-22T07:54:52.783668Z"
    },
    "tags": []
   },
   "outputs": [],
   "source": [
    "# lemmatize and remove punctuation from first dataframe\n",
    "ps['text'] = ps['text'].apply(spacy_lem)"
   ]
  },
  {
   "cell_type": "code",
   "execution_count": 45,
   "id": "3701a357-5d53-4bb2-a36b-dd3be8b0f696",
   "metadata": {
    "execution": {
     "iopub.execute_input": "2022-12-22T07:57:05.492995Z",
     "iopub.status.busy": "2022-12-22T07:57:05.492847Z",
     "iopub.status.idle": "2022-12-22T07:57:05.496627Z",
     "shell.execute_reply": "2022-12-22T07:57:05.496112Z",
     "shell.execute_reply.started": "2022-12-22T07:57:05.492977Z"
    },
    "tags": []
   },
   "outputs": [],
   "source": [
    "# ps['text'].sample(20)"
   ]
  },
  {
   "cell_type": "code",
   "execution_count": 46,
   "id": "0b35171d-00ba-4a9b-9e35-71e2ebfedc48",
   "metadata": {
    "execution": {
     "iopub.execute_input": "2022-12-22T07:57:05.497837Z",
     "iopub.status.busy": "2022-12-22T07:57:05.497408Z",
     "iopub.status.idle": "2022-12-22T07:59:01.637943Z",
     "shell.execute_reply": "2022-12-22T07:59:01.637137Z",
     "shell.execute_reply.started": "2022-12-22T07:57:05.497822Z"
    }
   },
   "outputs": [],
   "source": [
    "# lemmatize and remove punctuation from second dataframe\n",
    "xb['text'] = xb['text'].apply(spacy_lem)"
   ]
  },
  {
   "cell_type": "code",
   "execution_count": 47,
   "id": "376115d3-aae9-476b-8821-d3b67188b8d7",
   "metadata": {
    "execution": {
     "iopub.execute_input": "2022-12-22T07:59:01.639475Z",
     "iopub.status.busy": "2022-12-22T07:59:01.639225Z",
     "iopub.status.idle": "2022-12-22T07:59:01.642576Z",
     "shell.execute_reply": "2022-12-22T07:59:01.642113Z",
     "shell.execute_reply.started": "2022-12-22T07:59:01.639456Z"
    },
    "tags": []
   },
   "outputs": [],
   "source": [
    "# xb['text'].sample(20)"
   ]
  },
  {
   "cell_type": "markdown",
   "id": "a431af30-5937-4777-85c9-7805d8c4c2ac",
   "metadata": {},
   "source": [
    "#### Punctuation\n",
    "\n",
    "The spacy process above cleared most of the punctutation, but from some of the samples I inspected above, it looked like some punctuation is still present.  Let's remove common punctuation marks from text."
   ]
  },
  {
   "cell_type": "code",
   "execution_count": 48,
   "id": "aa8029eb-2f87-43d5-b09c-d04d4b04755d",
   "metadata": {
    "execution": {
     "iopub.execute_input": "2022-12-22T07:59:01.643288Z",
     "iopub.status.busy": "2022-12-22T07:59:01.643205Z",
     "iopub.status.idle": "2022-12-22T07:59:01.646615Z",
     "shell.execute_reply": "2022-12-22T07:59:01.646167Z",
     "shell.execute_reply.started": "2022-12-22T07:59:01.643277Z"
    },
    "tags": []
   },
   "outputs": [],
   "source": [
    "# neat little regex thing from \n",
    "# https://stackoverflow.com/questions/265960/best-way-to-strip-punctuation-from-a-string\n",
    "punc_p = re.compile('[%s]' % re.escape(string.punctuation))"
   ]
  },
  {
   "cell_type": "code",
   "execution_count": 49,
   "id": "49f1fe3b-e55c-4d37-b385-6487c78c0e9b",
   "metadata": {
    "execution": {
     "iopub.execute_input": "2022-12-22T07:59:01.653640Z",
     "iopub.status.busy": "2022-12-22T07:59:01.653440Z",
     "iopub.status.idle": "2022-12-22T07:59:01.725847Z",
     "shell.execute_reply": "2022-12-22T07:59:01.725375Z",
     "shell.execute_reply.started": "2022-12-22T07:59:01.653623Z"
    },
    "tags": []
   },
   "outputs": [],
   "source": [
    "# replacing with a space, as I saw later on that some things, like if they were\n",
    "# separated by / would be confusing to discern\n",
    "ps['text'] = ps['text'].str.replace(punc_p, ' ', regex=True)\n",
    "xb['text'] = xb['text'].str.replace(punc_p, ' ', regex=True)"
   ]
  },
  {
   "cell_type": "code",
   "execution_count": 50,
   "id": "b0961d2b-cc48-491c-908c-ce0a9342e9a3",
   "metadata": {
    "execution": {
     "iopub.execute_input": "2022-12-22T07:59:01.726542Z",
     "iopub.status.busy": "2022-12-22T07:59:01.726456Z",
     "iopub.status.idle": "2022-12-22T07:59:01.729032Z",
     "shell.execute_reply": "2022-12-22T07:59:01.728585Z",
     "shell.execute_reply.started": "2022-12-22T07:59:01.726531Z"
    },
    "tags": []
   },
   "outputs": [],
   "source": [
    "# ps['text'].sample(20)"
   ]
  },
  {
   "cell_type": "markdown",
   "id": "1bf046d6-315d-49a8-b5aa-f910fe099d9a",
   "metadata": {},
   "source": [
    "#### Extra Spaces\n",
    "Remove all extra spaces from the text"
   ]
  },
  {
   "cell_type": "code",
   "execution_count": 51,
   "id": "eecf3c01-27a1-4ade-9303-72659da10f9d",
   "metadata": {
    "execution": {
     "iopub.execute_input": "2022-12-22T07:59:01.729841Z",
     "iopub.status.busy": "2022-12-22T07:59:01.729734Z",
     "iopub.status.idle": "2022-12-22T07:59:01.790688Z",
     "shell.execute_reply": "2022-12-22T07:59:01.789936Z",
     "shell.execute_reply.started": "2022-12-22T07:59:01.729829Z"
    },
    "tags": []
   },
   "outputs": [
    {
     "data": {
      "text/plain": [
       "(5212, 4645)"
      ]
     },
     "execution_count": 51,
     "metadata": {},
     "output_type": "execute_result"
    }
   ],
   "source": [
    "# check for extra spaces\n",
    "ps['text'].str.contains('\\s\\s+').sum(), xb['text'].str.contains('\\s\\s+').sum()"
   ]
  },
  {
   "cell_type": "code",
   "execution_count": 52,
   "id": "db5c4f40-3c5a-4ef4-a6ce-849cd3b38111",
   "metadata": {
    "execution": {
     "iopub.execute_input": "2022-12-22T07:59:01.792507Z",
     "iopub.status.busy": "2022-12-22T07:59:01.792021Z",
     "iopub.status.idle": "2022-12-22T07:59:01.905854Z",
     "shell.execute_reply": "2022-12-22T07:59:01.905388Z",
     "shell.execute_reply.started": "2022-12-22T07:59:01.792465Z"
    },
    "tags": []
   },
   "outputs": [],
   "source": [
    "ps['text'] = ps['text'].str.replace('\\s\\s+', ' ', regex=True)\n",
    "xb['text'] = xb['text'].str.replace('\\s\\s+', ' ', regex=True)"
   ]
  },
  {
   "cell_type": "markdown",
   "id": "ceabd761-e5e9-420e-b025-e9bcf45ed5a6",
   "metadata": {},
   "source": [
    "#### Numerics\n",
    "I'd like to remove numbers that don't have additional letters trailing them, so that we can preserve things like 1080p or 4K."
   ]
  },
  {
   "cell_type": "code",
   "execution_count": 53,
   "id": "10d35cc3-5784-40fa-9723-db13591d351b",
   "metadata": {
    "execution": {
     "iopub.execute_input": "2022-12-22T07:59:01.906752Z",
     "iopub.status.busy": "2022-12-22T07:59:01.906635Z",
     "iopub.status.idle": "2022-12-22T07:59:01.992517Z",
     "shell.execute_reply": "2022-12-22T07:59:01.992136Z",
     "shell.execute_reply.started": "2022-12-22T07:59:01.906741Z"
    },
    "tags": []
   },
   "outputs": [
    {
     "data": {
      "text/plain": [
       "(4282, 4196)"
      ]
     },
     "execution_count": 53,
     "metadata": {},
     "output_type": "execute_result"
    }
   ],
   "source": [
    "ps['text'].str.contains(r'\\b\\d+\\b').sum(), xb['text'].str.contains(r'\\b\\d+\\b').sum()"
   ]
  },
  {
   "cell_type": "code",
   "execution_count": 54,
   "id": "73d7a3e1-8415-4c92-8599-bde8c288f903",
   "metadata": {
    "execution": {
     "iopub.execute_input": "2022-12-22T07:59:01.993693Z",
     "iopub.status.busy": "2022-12-22T07:59:01.993369Z",
     "iopub.status.idle": "2022-12-22T07:59:02.136094Z",
     "shell.execute_reply": "2022-12-22T07:59:02.135692Z",
     "shell.execute_reply.started": "2022-12-22T07:59:01.993679Z"
    },
    "tags": []
   },
   "outputs": [],
   "source": [
    "ps['text'] = ps['text'].str.replace(r'\\b\\d+\\b', '', regex=True)\n",
    "xb['text'] = xb['text'].str.replace(r'\\b\\d+\\b', '', regex=True)"
   ]
  },
  {
   "cell_type": "code",
   "execution_count": 55,
   "id": "3095079f-05be-4aba-bbbe-24995eaf1d07",
   "metadata": {
    "execution": {
     "iopub.execute_input": "2022-12-22T07:59:02.136763Z",
     "iopub.status.busy": "2022-12-22T07:59:02.136667Z",
     "iopub.status.idle": "2022-12-22T07:59:02.267282Z",
     "shell.execute_reply": "2022-12-22T07:59:02.266827Z",
     "shell.execute_reply.started": "2022-12-22T07:59:02.136752Z"
    },
    "tags": []
   },
   "outputs": [
    {
     "data": {
      "text/plain": [
       "(0, 0)"
      ]
     },
     "execution_count": 55,
     "metadata": {},
     "output_type": "execute_result"
    }
   ],
   "source": [
    "ps['text'].str.contains(r'\\b\\d+\\b').sum(), xb['text'].str.contains(r'\\b\\d+\\b').sum()"
   ]
  },
  {
   "cell_type": "code",
   "execution_count": 56,
   "id": "693f93c8-e27d-4c7d-9e00-24229a69e7ea",
   "metadata": {
    "execution": {
     "iopub.execute_input": "2022-12-22T07:59:02.268306Z",
     "iopub.status.busy": "2022-12-22T07:59:02.268145Z",
     "iopub.status.idle": "2022-12-22T07:59:02.270708Z",
     "shell.execute_reply": "2022-12-22T07:59:02.270266Z",
     "shell.execute_reply.started": "2022-12-22T07:59:02.268288Z"
    },
    "tags": []
   },
   "outputs": [],
   "source": [
    "# ps['text'].sample(20)"
   ]
  },
  {
   "cell_type": "markdown",
   "id": "0f95f01e-2b16-48cb-b0ef-8a65480f0b05",
   "metadata": {},
   "source": [
    "#### Keyword Removal\n",
    "\n",
    "Create a list of content specific keywords to remove.  Having terms like playstation, sony, microsoft, and xbox prevalent in posts pertaining to one platform or the other is not advised for this project."
   ]
  },
  {
   "cell_type": "code",
   "execution_count": 57,
   "id": "f8fa3685-4f55-464f-848b-2e13c41fd80c",
   "metadata": {
    "execution": {
     "iopub.execute_input": "2022-12-22T07:59:02.271690Z",
     "iopub.status.busy": "2022-12-22T07:59:02.271335Z",
     "iopub.status.idle": "2022-12-22T07:59:02.413181Z",
     "shell.execute_reply": "2022-12-22T07:59:02.412770Z",
     "shell.execute_reply.started": "2022-12-22T07:59:02.271669Z"
    },
    "tags": []
   },
   "outputs": [],
   "source": [
    "kwds = ['playstation', 'xbox', 'ps', 'ps2', 'ps3', 'ps4', 'ps5', 'sony', 'microsoft']\n",
    "\n",
    "for kw in kwds:\n",
    "    ps['text'] = ps['text'].str.replace(kw, '', regex=True)\n",
    "    xb['text'] = xb['text'].str.replace(kw, '', regex=True)"
   ]
  },
  {
   "cell_type": "code",
   "execution_count": 58,
   "id": "f57ddfdc-e157-425c-b043-a397ba83940d",
   "metadata": {
    "execution": {
     "iopub.execute_input": "2022-12-22T07:59:02.414092Z",
     "iopub.status.busy": "2022-12-22T07:59:02.413979Z",
     "iopub.status.idle": "2022-12-22T07:59:02.423582Z",
     "shell.execute_reply": "2022-12-22T07:59:02.423073Z",
     "shell.execute_reply.started": "2022-12-22T07:59:02.414079Z"
    },
    "tags": []
   },
   "outputs": [
    {
     "data": {
      "text/plain": [
       "0"
      ]
     },
     "execution_count": 58,
     "metadata": {},
     "output_type": "execute_result"
    }
   ],
   "source": [
    "ps['text'].str.contains('playstation').sum()"
   ]
  },
  {
   "cell_type": "markdown",
   "id": "7f475131-5cda-4620-966c-0c2217688f86",
   "metadata": {},
   "source": [
    "### Final Checks, Merge, Export\n",
    "\n",
    "- Check shapes of DataFrames to make sure the target distribution will be similar for modeling.\n",
    "- Drop any remaining features that are not needed.\n",
    "- Merge the two DataFrames.\n",
    "- Export a single, cleaned, CSV for EDA, preprocessing, modeling.\n"
   ]
  },
  {
   "cell_type": "code",
   "execution_count": 59,
   "id": "81c86e4d-8012-469b-8c11-06ca99b48d08",
   "metadata": {
    "execution": {
     "iopub.execute_input": "2022-12-22T07:59:02.424587Z",
     "iopub.status.busy": "2022-12-22T07:59:02.424434Z",
     "iopub.status.idle": "2022-12-22T07:59:02.428185Z",
     "shell.execute_reply": "2022-12-22T07:59:02.427709Z",
     "shell.execute_reply.started": "2022-12-22T07:59:02.424575Z"
    },
    "tags": []
   },
   "outputs": [
    {
     "data": {
      "text/plain": [
       "((9775, 9), (8889, 9))"
      ]
     },
     "execution_count": 59,
     "metadata": {},
     "output_type": "execute_result"
    }
   ],
   "source": [
    "ps.shape, xb.shape"
   ]
  },
  {
   "cell_type": "code",
   "execution_count": 60,
   "id": "91885b62-68d1-4064-9383-27484a1ced16",
   "metadata": {
    "execution": {
     "iopub.execute_input": "2022-12-22T07:59:02.429174Z",
     "iopub.status.busy": "2022-12-22T07:59:02.429026Z",
     "iopub.status.idle": "2022-12-22T07:59:02.433537Z",
     "shell.execute_reply": "2022-12-22T07:59:02.432979Z",
     "shell.execute_reply.started": "2022-12-22T07:59:02.429158Z"
    }
   },
   "outputs": [
    {
     "data": {
      "text/plain": [
       "(Index(['subreddit', 'id', 'author', 'num_comments', 'selftext', 'title',\n",
       "        'upvote_ratio', 'url', 'text'],\n",
       "       dtype='object'),\n",
       " Index(['subreddit', 'id', 'author', 'num_comments', 'selftext', 'title',\n",
       "        'upvote_ratio', 'url', 'text'],\n",
       "       dtype='object'))"
      ]
     },
     "execution_count": 60,
     "metadata": {},
     "output_type": "execute_result"
    }
   ],
   "source": [
    "ps.columns, xb.columns"
   ]
  },
  {
   "cell_type": "code",
   "execution_count": 61,
   "id": "4dcb1ee4-a489-47bf-9fc3-b2fc75ca34ac",
   "metadata": {
    "execution": {
     "iopub.execute_input": "2022-12-22T07:59:02.434615Z",
     "iopub.status.busy": "2022-12-22T07:59:02.434398Z",
     "iopub.status.idle": "2022-12-22T07:59:02.441463Z",
     "shell.execute_reply": "2022-12-22T07:59:02.441053Z",
     "shell.execute_reply.started": "2022-12-22T07:59:02.434602Z"
    },
    "tags": []
   },
   "outputs": [
    {
     "data": {
      "text/html": [
       "<div>\n",
       "<style scoped>\n",
       "    .dataframe tbody tr th:only-of-type {\n",
       "        vertical-align: middle;\n",
       "    }\n",
       "\n",
       "    .dataframe tbody tr th {\n",
       "        vertical-align: top;\n",
       "    }\n",
       "\n",
       "    .dataframe thead th {\n",
       "        text-align: right;\n",
       "    }\n",
       "</style>\n",
       "<table border=\"1\" class=\"dataframe\">\n",
       "  <thead>\n",
       "    <tr style=\"text-align: right;\">\n",
       "      <th></th>\n",
       "      <th>subreddit</th>\n",
       "      <th>id</th>\n",
       "      <th>author</th>\n",
       "      <th>num_comments</th>\n",
       "      <th>selftext</th>\n",
       "      <th>title</th>\n",
       "      <th>upvote_ratio</th>\n",
       "      <th>url</th>\n",
       "      <th>text</th>\n",
       "    </tr>\n",
       "  </thead>\n",
       "  <tbody>\n",
       "    <tr>\n",
       "      <th>0</th>\n",
       "      <td>playstation</td>\n",
       "      <td>jc4b34</td>\n",
       "      <td>Blix404</td>\n",
       "      <td>8</td>\n",
       "      <td>PlayStation. Why\\n1st of PlayStation has been out since 2013 and you guys close to releasing the PS5 so why tf do you now all of a sudden start recording our party conversations.\\n2nd of I ain’t getting banned just cause some snowflake in my party chat felt the need to snitch on me. Fuck outta here with that BS.\\n\\n3rd. Xbox Doesn’t do that so why do you feel the need to do that you dickheads....</td>\n",
       "      <td>PARTY CHAT BEING RECORDED</td>\n",
       "      <td>1.0</td>\n",
       "      <td>https://www.reddit.com/r/playstation/comments/jc4b34/party_chat_being_recorded/</td>\n",
       "      <td>party chat be record  why 1st of  have be out since  and you guy close to release the 5 so why tf do you now all of a sudden start record our party conversation 2nd of I ai not getting ban just cause some snowflake in my party chat feel the need to snitch on I fuck outta here with that bs 3rd  do not do that so why do you feel the need to do that you dickhead just prove to be more and more of ...</td>\n",
       "    </tr>\n",
       "    <tr>\n",
       "      <th>1</th>\n",
       "      <td>playstation</td>\n",
       "      <td>jc4070</td>\n",
       "      <td>ImmaPoodle</td>\n",
       "      <td>0</td>\n",
       "      <td>So watch dogs legion is coming out soon and with interesting mechanics and ray tracing I think it might be what people thought watch dogs 2 would be... a predecessor to GTA 5, ok let's be honest watch dogs 2 was an amazing game but it lacked that feeling that GTA had as well as the already large player base.\\n\\nBut this time with already tons of preordered copies of watch dogs legion in circle...</td>\n",
       "      <td>Ubisoft vs Rockstar</td>\n",
       "      <td>1.0</td>\n",
       "      <td>https://www.reddit.com/r/playstation/comments/jc4070/ubisoft_vs_rockstar/</td>\n",
       "      <td>ubisoft vs rockstar so watch dog legion be come out soon and with interesting mechanic and ray trace I think it might be what people think watch dog  would be a predecessor to gta  ok let us be honest watch dog  be an amazing game but it lack that feeling that gta have as well as the already large player base but this time with already ton of preordere copy of watch dog legion in circle and ro...</td>\n",
       "    </tr>\n",
       "  </tbody>\n",
       "</table>\n",
       "</div>"
      ],
      "text/plain": [
       "     subreddit      id      author  num_comments  \\\n",
       "0  playstation  jc4b34     Blix404             8   \n",
       "1  playstation  jc4070  ImmaPoodle             0   \n",
       "\n",
       "                                                                                                                                                                                                                                                                                                                                                                                                          selftext  \\\n",
       "0  PlayStation. Why\\n1st of PlayStation has been out since 2013 and you guys close to releasing the PS5 so why tf do you now all of a sudden start recording our party conversations.\\n2nd of I ain’t getting banned just cause some snowflake in my party chat felt the need to snitch on me. Fuck outta here with that BS.\\n\\n3rd. Xbox Doesn’t do that so why do you feel the need to do that you dickheads....   \n",
       "1  So watch dogs legion is coming out soon and with interesting mechanics and ray tracing I think it might be what people thought watch dogs 2 would be... a predecessor to GTA 5, ok let's be honest watch dogs 2 was an amazing game but it lacked that feeling that GTA had as well as the already large player base.\\n\\nBut this time with already tons of preordered copies of watch dogs legion in circle...   \n",
       "\n",
       "                       title  upvote_ratio  \\\n",
       "0  PARTY CHAT BEING RECORDED           1.0   \n",
       "1        Ubisoft vs Rockstar           1.0   \n",
       "\n",
       "                                                                               url  \\\n",
       "0  https://www.reddit.com/r/playstation/comments/jc4b34/party_chat_being_recorded/   \n",
       "1        https://www.reddit.com/r/playstation/comments/jc4070/ubisoft_vs_rockstar/   \n",
       "\n",
       "                                                                                                                                                                                                                                                                                                                                                                                                              text  \n",
       "0  party chat be record  why 1st of  have be out since  and you guy close to release the 5 so why tf do you now all of a sudden start record our party conversation 2nd of I ai not getting ban just cause some snowflake in my party chat feel the need to snitch on I fuck outta here with that bs 3rd  do not do that so why do you feel the need to do that you dickhead just prove to be more and more of ...  \n",
       "1  ubisoft vs rockstar so watch dog legion be come out soon and with interesting mechanic and ray trace I think it might be what people think watch dog  would be a predecessor to gta  ok let us be honest watch dog  be an amazing game but it lack that feeling that gta have as well as the already large player base but this time with already ton of preordere copy of watch dog legion in circle and ro...  "
      ]
     },
     "execution_count": 61,
     "metadata": {},
     "output_type": "execute_result"
    }
   ],
   "source": [
    "ps.head(2)"
   ]
  },
  {
   "cell_type": "markdown",
   "id": "6fd6892a-73df-468b-8dcb-ee33ee91673e",
   "metadata": {},
   "source": [
    "As this classification is focused around posts, titles, and comments, and the cleaning and duplicate checks have already been performed, the following features will be removed:\n",
    "- id\n",
    "- url\n",
    "- upvote ratio\n",
    "\n",
    "I'll leave the remaining columns as they might be used for EDA."
   ]
  },
  {
   "cell_type": "code",
   "execution_count": 62,
   "id": "82716f12-89c4-4080-a685-1968769a4d1a",
   "metadata": {
    "execution": {
     "iopub.execute_input": "2022-12-22T07:59:02.442375Z",
     "iopub.status.busy": "2022-12-22T07:59:02.442144Z",
     "iopub.status.idle": "2022-12-22T07:59:02.456143Z",
     "shell.execute_reply": "2022-12-22T07:59:02.455528Z",
     "shell.execute_reply.started": "2022-12-22T07:59:02.442362Z"
    }
   },
   "outputs": [],
   "source": [
    "drop = ['id', 'url', 'upvote_ratio']\n",
    "\n",
    "ps.drop(columns=drop, inplace=True)\n",
    "xb.drop(columns=drop, inplace=True)"
   ]
  },
  {
   "cell_type": "markdown",
   "id": "8326ca7f-61f6-4a1a-8557-cd0e7e6460aa",
   "metadata": {},
   "source": [
    "#### Merge and Export"
   ]
  },
  {
   "cell_type": "code",
   "execution_count": 63,
   "id": "e18de0c5-4181-4f3f-96d1-36873b7aecc4",
   "metadata": {
    "execution": {
     "iopub.execute_input": "2022-12-22T07:59:02.457007Z",
     "iopub.status.busy": "2022-12-22T07:59:02.456898Z",
     "iopub.status.idle": "2022-12-22T07:59:02.460992Z",
     "shell.execute_reply": "2022-12-22T07:59:02.460516Z",
     "shell.execute_reply.started": "2022-12-22T07:59:02.456995Z"
    }
   },
   "outputs": [
    {
     "data": {
      "text/plain": [
       "((9775, 6), (8889, 6))"
      ]
     },
     "execution_count": 63,
     "metadata": {},
     "output_type": "execute_result"
    }
   ],
   "source": [
    "# check final shapes\n",
    "ps.shape, xb.shape"
   ]
  },
  {
   "cell_type": "code",
   "execution_count": 64,
   "id": "ecbd7044-f8fd-4272-baea-c3b04a12117c",
   "metadata": {
    "execution": {
     "iopub.execute_input": "2022-12-22T07:59:02.462091Z",
     "iopub.status.busy": "2022-12-22T07:59:02.461926Z",
     "iopub.status.idle": "2022-12-22T07:59:02.465475Z",
     "shell.execute_reply": "2022-12-22T07:59:02.464987Z",
     "shell.execute_reply.started": "2022-12-22T07:59:02.462077Z"
    }
   },
   "outputs": [
    {
     "data": {
      "text/plain": [
       "set()"
      ]
     },
     "execution_count": 64,
     "metadata": {},
     "output_type": "execute_result"
    }
   ],
   "source": [
    "# diff the columns\n",
    "set(ps.columns) - set(xb.columns)"
   ]
  },
  {
   "cell_type": "code",
   "execution_count": 65,
   "id": "d53c3046-e0c9-4644-b8dc-be9a62d34c44",
   "metadata": {
    "execution": {
     "iopub.execute_input": "2022-12-22T07:59:02.466259Z",
     "iopub.status.busy": "2022-12-22T07:59:02.466164Z",
     "iopub.status.idle": "2022-12-22T07:59:02.472721Z",
     "shell.execute_reply": "2022-12-22T07:59:02.472342Z",
     "shell.execute_reply.started": "2022-12-22T07:59:02.466248Z"
    },
    "tags": []
   },
   "outputs": [],
   "source": [
    "# create a combined data frame\n",
    "clean_df = pd.concat([ps, xb])"
   ]
  },
  {
   "cell_type": "code",
   "execution_count": 66,
   "id": "cf08dd70-de1b-4a33-9f24-9c07ad860f14",
   "metadata": {
    "execution": {
     "iopub.execute_input": "2022-12-22T07:59:02.473625Z",
     "iopub.status.busy": "2022-12-22T07:59:02.473435Z",
     "iopub.status.idle": "2022-12-22T07:59:02.476709Z",
     "shell.execute_reply": "2022-12-22T07:59:02.476339Z",
     "shell.execute_reply.started": "2022-12-22T07:59:02.473605Z"
    }
   },
   "outputs": [
    {
     "data": {
      "text/plain": [
       "(18664, 6)"
      ]
     },
     "execution_count": 66,
     "metadata": {},
     "output_type": "execute_result"
    }
   ],
   "source": [
    "# check the shape of the combined dataframe\n",
    "clean_df.shape"
   ]
  },
  {
   "cell_type": "code",
   "execution_count": 67,
   "id": "eb625cad-ef79-41b7-a02c-7eadb0f023ef",
   "metadata": {
    "execution": {
     "iopub.execute_input": "2022-12-22T07:59:02.477382Z",
     "iopub.status.busy": "2022-12-22T07:59:02.477256Z",
     "iopub.status.idle": "2022-12-22T07:59:02.719805Z",
     "shell.execute_reply": "2022-12-22T07:59:02.719247Z",
     "shell.execute_reply.started": "2022-12-22T07:59:02.477369Z"
    },
    "tags": []
   },
   "outputs": [],
   "source": [
    "# export the dataframe as csv\n",
    "clean_df.to_csv('../data/reddit_cleaned.csv', index=False)"
   ]
  }
 ],
 "metadata": {
  "kernelspec": {
   "display_name": "Python 3 (ipykernel)",
   "language": "python",
   "name": "python3"
  },
  "language_info": {
   "codemirror_mode": {
    "name": "ipython",
    "version": 3
   },
   "file_extension": ".py",
   "mimetype": "text/x-python",
   "name": "python",
   "nbconvert_exporter": "python",
   "pygments_lexer": "ipython3",
   "version": "3.9.15"
  }
 },
 "nbformat": 4,
 "nbformat_minor": 5
}
