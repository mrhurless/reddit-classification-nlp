{
 "cells": [
  {
   "cell_type": "markdown",
   "id": "320ab87b-b892-4ef4-8c85-cf97cf0997c0",
   "metadata": {},
   "source": [
    "# NLP Classification Modeling\n",
    "\n",
    "> **NOTE** Many of the cells are commented out since if they were run they may take hours to complete.  I have left cells relating to the final selected model active, so if all cells are run as is, this notebook could take 30 minutes or longer to complete."
   ]
  },
  {
   "cell_type": "markdown",
   "id": "1aa2472b-dd6c-4a72-8d57-b1256a1321fb",
   "metadata": {},
   "source": [
    "### Import Libraries"
   ]
  },
  {
   "cell_type": "code",
   "execution_count": 86,
   "id": "6f7ff2a9-51e2-49aa-af1e-b2bdcaa7e40e",
   "metadata": {
    "execution": {
     "iopub.execute_input": "2022-12-23T01:04:21.964860Z",
     "iopub.status.busy": "2022-12-23T01:04:21.963960Z",
     "iopub.status.idle": "2022-12-23T01:04:21.978620Z",
     "shell.execute_reply": "2022-12-23T01:04:21.978078Z",
     "shell.execute_reply.started": "2022-12-23T01:04:21.964807Z"
    },
    "tags": []
   },
   "outputs": [],
   "source": [
    "import numpy as np\n",
    "import pandas as pd\n",
    "\n",
    "import matplotlib.pyplot as plt\n",
    "from wordcloud import WordCloud\n",
    "\n",
    "from sklearn.pipeline import Pipeline\n",
    "from sklearn.preprocessing import StandardScaler\n",
    "from sklearn.feature_extraction.text import CountVectorizer, TfidfVectorizer\n",
    "from sklearn.model_selection import train_test_split, GridSearchCV\n",
    "\n",
    "from sklearn.linear_model import LogisticRegression\n",
    "from sklearn.ensemble import RandomForestClassifier\n",
    "from sklearn.tree import DecisionTreeClassifier\n",
    "from sklearn.neighbors import KNeighborsClassifier\n",
    "\n",
    "from sklearn.metrics import (ConfusionMatrixDisplay, classification_report, \n",
    "                             RocCurveDisplay)\n",
    "\n",
    "# this setting widens how many characters pandas will display in a column:\n",
    "pd.options.display.max_colwidth = 400"
   ]
  },
  {
   "cell_type": "markdown",
   "id": "c532b890-914c-4799-8640-0314b4c1152c",
   "metadata": {},
   "source": [
    "### Read Data"
   ]
  },
  {
   "cell_type": "code",
   "execution_count": 87,
   "id": "b40541b2-e324-47bf-ae48-2a5aa4abc0be",
   "metadata": {
    "execution": {
     "iopub.execute_input": "2022-12-23T01:04:21.980350Z",
     "iopub.status.busy": "2022-12-23T01:04:21.980183Z",
     "iopub.status.idle": "2022-12-23T01:04:22.184777Z",
     "shell.execute_reply": "2022-12-23T01:04:22.184251Z",
     "shell.execute_reply.started": "2022-12-23T01:04:21.980336Z"
    }
   },
   "outputs": [],
   "source": [
    "df = pd.read_csv('../data/reddit_cleaned.csv')"
   ]
  },
  {
   "cell_type": "code",
   "execution_count": 88,
   "id": "e590ec22-1625-4c58-9512-5f44c664f6f4",
   "metadata": {
    "execution": {
     "iopub.execute_input": "2022-12-23T01:04:22.185635Z",
     "iopub.status.busy": "2022-12-23T01:04:22.185532Z",
     "iopub.status.idle": "2022-12-23T01:04:22.193790Z",
     "shell.execute_reply": "2022-12-23T01:04:22.193430Z",
     "shell.execute_reply.started": "2022-12-23T01:04:22.185624Z"
    }
   },
   "outputs": [
    {
     "data": {
      "text/html": [
       "<div>\n",
       "<style scoped>\n",
       "    .dataframe tbody tr th:only-of-type {\n",
       "        vertical-align: middle;\n",
       "    }\n",
       "\n",
       "    .dataframe tbody tr th {\n",
       "        vertical-align: top;\n",
       "    }\n",
       "\n",
       "    .dataframe thead th {\n",
       "        text-align: right;\n",
       "    }\n",
       "</style>\n",
       "<table border=\"1\" class=\"dataframe\">\n",
       "  <thead>\n",
       "    <tr style=\"text-align: right;\">\n",
       "      <th></th>\n",
       "      <th>subreddit</th>\n",
       "      <th>author</th>\n",
       "      <th>num_comments</th>\n",
       "      <th>selftext</th>\n",
       "      <th>title</th>\n",
       "      <th>text</th>\n",
       "    </tr>\n",
       "  </thead>\n",
       "  <tbody>\n",
       "    <tr>\n",
       "      <th>0</th>\n",
       "      <td>playstation</td>\n",
       "      <td>Blix404</td>\n",
       "      <td>8</td>\n",
       "      <td>PlayStation. Why\\n1st of PlayStation has been out since 2013 and you guys close to releasing the PS5 so why tf do you now all of a sudden start recording our party conversations.\\n2nd of I ain’t getting banned just cause some snowflake in my party chat felt the need to snitch on me. Fuck outta here with that BS.\\n\\n3rd. Xbox Doesn’t do that so why do you feel the need to do that you dickheads....</td>\n",
       "      <td>PARTY CHAT BEING RECORDED</td>\n",
       "      <td>party chat be record  why 1st of  have be out since  and you guy close to release the 5 so why tf do you now all of a sudden start record our party conversation 2nd of I ai not getting ban just cause some snowflake in my party chat feel the need to snitch on I fuck outta here with that bs 3rd  do not do that so why do you feel the need to do that you dickhead just prove to be more and more of ...</td>\n",
       "    </tr>\n",
       "    <tr>\n",
       "      <th>1</th>\n",
       "      <td>playstation</td>\n",
       "      <td>ImmaPoodle</td>\n",
       "      <td>0</td>\n",
       "      <td>So watch dogs legion is coming out soon and with interesting mechanics and ray tracing I think it might be what people thought watch dogs 2 would be... a predecessor to GTA 5, ok let's be honest watch dogs 2 was an amazing game but it lacked that feeling that GTA had as well as the already large player base.\\n\\nBut this time with already tons of preordered copies of watch dogs legion in circle...</td>\n",
       "      <td>Ubisoft vs Rockstar</td>\n",
       "      <td>ubisoft vs rockstar so watch dog legion be come out soon and with interesting mechanic and ray trace I think it might be what people think watch dog  would be a predecessor to gta  ok let us be honest watch dog  be an amazing game but it lack that feeling that gta have as well as the already large player base but this time with already ton of preordere copy of watch dog legion in circle and ro...</td>\n",
       "    </tr>\n",
       "    <tr>\n",
       "      <th>2</th>\n",
       "      <td>playstation</td>\n",
       "      <td>georgios82</td>\n",
       "      <td>6</td>\n",
       "      <td>So guys let me get this straight. If you want to temporarily invite someone to your party, then they will be automatically (permanently) added to the chat as well? Not only that but from my understanding they will also be able to see all older discussions that took place in that group? Am I missing something here? Is there a way to avoid this?</td>\n",
       "      <td>Question regarding the recent party changes</td>\n",
       "      <td>question regard the recent party change so guy let I get this straight if you want to temporarily invite someone to your party then they will be automatically permanently add to the chat as well not only that but from my understanding they will also be able to see all old discussion that take place in that group be I miss something here be there a way to avoid this</td>\n",
       "    </tr>\n",
       "  </tbody>\n",
       "</table>\n",
       "</div>"
      ],
      "text/plain": [
       "     subreddit      author  num_comments  \\\n",
       "0  playstation     Blix404             8   \n",
       "1  playstation  ImmaPoodle             0   \n",
       "2  playstation  georgios82             6   \n",
       "\n",
       "                                                                                                                                                                                                                                                                                                                                                                                                          selftext  \\\n",
       "0  PlayStation. Why\\n1st of PlayStation has been out since 2013 and you guys close to releasing the PS5 so why tf do you now all of a sudden start recording our party conversations.\\n2nd of I ain’t getting banned just cause some snowflake in my party chat felt the need to snitch on me. Fuck outta here with that BS.\\n\\n3rd. Xbox Doesn’t do that so why do you feel the need to do that you dickheads....   \n",
       "1  So watch dogs legion is coming out soon and with interesting mechanics and ray tracing I think it might be what people thought watch dogs 2 would be... a predecessor to GTA 5, ok let's be honest watch dogs 2 was an amazing game but it lacked that feeling that GTA had as well as the already large player base.\\n\\nBut this time with already tons of preordered copies of watch dogs legion in circle...   \n",
       "2                                                        So guys let me get this straight. If you want to temporarily invite someone to your party, then they will be automatically (permanently) added to the chat as well? Not only that but from my understanding they will also be able to see all older discussions that took place in that group? Am I missing something here? Is there a way to avoid this?   \n",
       "\n",
       "                                         title  \\\n",
       "0                    PARTY CHAT BEING RECORDED   \n",
       "1                          Ubisoft vs Rockstar   \n",
       "2  Question regarding the recent party changes   \n",
       "\n",
       "                                                                                                                                                                                                                                                                                                                                                                                                              text  \n",
       "0  party chat be record  why 1st of  have be out since  and you guy close to release the 5 so why tf do you now all of a sudden start record our party conversation 2nd of I ai not getting ban just cause some snowflake in my party chat feel the need to snitch on I fuck outta here with that bs 3rd  do not do that so why do you feel the need to do that you dickhead just prove to be more and more of ...  \n",
       "1  ubisoft vs rockstar so watch dog legion be come out soon and with interesting mechanic and ray trace I think it might be what people think watch dog  would be a predecessor to gta  ok let us be honest watch dog  be an amazing game but it lack that feeling that gta have as well as the already large player base but this time with already ton of preordere copy of watch dog legion in circle and ro...  \n",
       "2                                  question regard the recent party change so guy let I get this straight if you want to temporarily invite someone to your party then they will be automatically permanently add to the chat as well not only that but from my understanding they will also be able to see all old discussion that take place in that group be I miss something here be there a way to avoid this  "
      ]
     },
     "execution_count": 88,
     "metadata": {},
     "output_type": "execute_result"
    }
   ],
   "source": [
    "df.head(3)"
   ]
  },
  {
   "cell_type": "markdown",
   "id": "06f5b114-d629-4135-adbb-4e406e093861",
   "metadata": {},
   "source": [
    "Transform the subreddit feature to binary for use in our classification modeling"
   ]
  },
  {
   "cell_type": "code",
   "execution_count": 89,
   "id": "b08e704a-2594-4f16-a03b-ad3ac15ae7be",
   "metadata": {
    "execution": {
     "iopub.execute_input": "2022-12-23T01:04:22.194806Z",
     "iopub.status.busy": "2022-12-23T01:04:22.194650Z",
     "iopub.status.idle": "2022-12-23T01:04:22.203535Z",
     "shell.execute_reply": "2022-12-23T01:04:22.203176Z",
     "shell.execute_reply.started": "2022-12-23T01:04:22.194794Z"
    }
   },
   "outputs": [
    {
     "data": {
      "text/plain": [
       "playstation    52.37\n",
       "xbox           47.63\n",
       "Name: subreddit, dtype: float64"
      ]
     },
     "execution_count": 89,
     "metadata": {},
     "output_type": "execute_result"
    }
   ],
   "source": [
    "df['subreddit'].value_counts(normalize=True).mul(100).round(2)"
   ]
  },
  {
   "cell_type": "code",
   "execution_count": 90,
   "id": "110cb6d1-1210-4695-99a1-2077c0a0fa42",
   "metadata": {
    "execution": {
     "iopub.execute_input": "2022-12-23T01:04:22.205377Z",
     "iopub.status.busy": "2022-12-23T01:04:22.205214Z",
     "iopub.status.idle": "2022-12-23T01:04:22.214742Z",
     "shell.execute_reply": "2022-12-23T01:04:22.214326Z",
     "shell.execute_reply.started": "2022-12-23T01:04:22.205363Z"
    },
    "tags": []
   },
   "outputs": [],
   "source": [
    "df['subreddit'] = df['subreddit'].map(lambda x: 1 if x == 'playstation' else 0)"
   ]
  },
  {
   "cell_type": "code",
   "execution_count": 91,
   "id": "455bec4f-e8c8-4c4f-9b92-34e13feab75f",
   "metadata": {
    "execution": {
     "iopub.execute_input": "2022-12-23T01:04:22.215434Z",
     "iopub.status.busy": "2022-12-23T01:04:22.215331Z",
     "iopub.status.idle": "2022-12-23T01:04:22.220865Z",
     "shell.execute_reply": "2022-12-23T01:04:22.220418Z",
     "shell.execute_reply.started": "2022-12-23T01:04:22.215421Z"
    },
    "tags": []
   },
   "outputs": [
    {
     "data": {
      "text/plain": [
       "1    52.37\n",
       "0    47.63\n",
       "Name: subreddit, dtype: float64"
      ]
     },
     "execution_count": 91,
     "metadata": {},
     "output_type": "execute_result"
    }
   ],
   "source": [
    "df['subreddit'].value_counts(normalize=True).mul(100).round(2)"
   ]
  },
  {
   "cell_type": "markdown",
   "id": "f6f3c168-552f-4cea-8e2b-62ccc8da5c16",
   "metadata": {},
   "source": [
    "1 = Playstation<br>\n",
    "0 = Xbox"
   ]
  },
  {
   "cell_type": "code",
   "execution_count": 92,
   "id": "fe187945-e92a-473d-8ccd-6faa27355eae",
   "metadata": {
    "execution": {
     "iopub.execute_input": "2022-12-23T01:04:22.223085Z",
     "iopub.status.busy": "2022-12-23T01:04:22.222835Z",
     "iopub.status.idle": "2022-12-23T01:04:22.226544Z",
     "shell.execute_reply": "2022-12-23T01:04:22.226073Z",
     "shell.execute_reply.started": "2022-12-23T01:04:22.223067Z"
    },
    "tags": []
   },
   "outputs": [],
   "source": [
    "# rename as target since that is easier for me to remember\n",
    "df.rename({'subreddit': 'target'}, axis=1, inplace=True)"
   ]
  },
  {
   "cell_type": "markdown",
   "id": "f4dbeabc-f16b-4ec9-9742-47f021ef5481",
   "metadata": {},
   "source": [
    "### Configure X, y, and split"
   ]
  },
  {
   "cell_type": "code",
   "execution_count": 93,
   "id": "9e2cbc42-ed93-4447-b9d2-d45716458b01",
   "metadata": {
    "execution": {
     "iopub.execute_input": "2022-12-23T01:04:22.227286Z",
     "iopub.status.busy": "2022-12-23T01:04:22.227201Z",
     "iopub.status.idle": "2022-12-23T01:04:22.270822Z",
     "shell.execute_reply": "2022-12-23T01:04:22.270441Z",
     "shell.execute_reply.started": "2022-12-23T01:04:22.227275Z"
    },
    "tags": []
   },
   "outputs": [],
   "source": [
    "X = df['text']\n",
    "y = df['target']\n",
    "\n",
    "X_train, X_test, y_train, y_test = train_test_split(X, y, random_state=415,\n",
    "                                                    stratify=y)"
   ]
  },
  {
   "cell_type": "code",
   "execution_count": 94,
   "id": "80fd0a20-881f-4f93-a242-7449f394a95e",
   "metadata": {
    "execution": {
     "iopub.execute_input": "2022-12-23T01:04:22.271589Z",
     "iopub.status.busy": "2022-12-23T01:04:22.271483Z",
     "iopub.status.idle": "2022-12-23T01:04:22.274812Z",
     "shell.execute_reply": "2022-12-23T01:04:22.274512Z",
     "shell.execute_reply.started": "2022-12-23T01:04:22.271576Z"
    }
   },
   "outputs": [
    {
     "data": {
      "text/plain": [
       "((13998,), (4666,), (13998,), (4666,))"
      ]
     },
     "execution_count": 94,
     "metadata": {},
     "output_type": "execute_result"
    }
   ],
   "source": [
    "X_train.shape, X_test.shape, y_train.shape, y_test.shape"
   ]
  },
  {
   "cell_type": "markdown",
   "id": "3ea0a4ed-1f01-4b45-a804-fe79356367fc",
   "metadata": {},
   "source": [
    "## Modeling\n",
    "\n",
    "Overall, I'd like to look at a few different models by first checking their scores with default settings in both CountVectorizer and TfidfVectorizer processing with the default settings, and then an additional GridSearch for each model to try and identify which classifier I would like to tune and select for production.  \n",
    "\n",
    "I'll start by establishing the baseline, and then work through various models to try and identify which one should be tuned for the best predictive power. \n",
    "\n",
    "> Note: I have commented out some of the code that requires long periods of time to run, such as the Grid Searches, in order to be able to run this entire notebook relatively quickly upon opening."
   ]
  },
  {
   "cell_type": "markdown",
   "id": "9cd0b6c1-6c3d-488c-82cd-db7702167ea3",
   "metadata": {},
   "source": [
    "### Baseline"
   ]
  },
  {
   "cell_type": "markdown",
   "id": "c0a65e1d-1368-4a4c-9324-747aaaf500a3",
   "metadata": {},
   "source": [
    "To calculate our baseline, since we're classifying, we'll look at the majority class of the y of the data.  For our model to provide value, it will need to do better than just predicting the majority class each time."
   ]
  },
  {
   "cell_type": "code",
   "execution_count": 95,
   "id": "dafd51f1-dd1f-405f-9855-9e0f7eb05451",
   "metadata": {
    "execution": {
     "iopub.execute_input": "2022-12-23T01:04:22.275422Z",
     "iopub.status.busy": "2022-12-23T01:04:22.275331Z",
     "iopub.status.idle": "2022-12-23T01:04:22.279655Z",
     "shell.execute_reply": "2022-12-23T01:04:22.279268Z",
     "shell.execute_reply.started": "2022-12-23T01:04:22.275411Z"
    }
   },
   "outputs": [
    {
     "data": {
      "text/plain": [
       "1    52.37\n",
       "0    47.63\n",
       "Name: target, dtype: float64"
      ]
     },
     "execution_count": 95,
     "metadata": {},
     "output_type": "execute_result"
    }
   ],
   "source": [
    "y.value_counts(normalize=True).mul(100).round(2)"
   ]
  },
  {
   "cell_type": "markdown",
   "id": "7463829b-810e-4fba-a35b-92ea72239f75",
   "metadata": {},
   "source": [
    "Compare the train and test split stratification"
   ]
  },
  {
   "cell_type": "code",
   "execution_count": 96,
   "id": "6bf70ab2-9950-4899-9b84-340e385290cc",
   "metadata": {
    "execution": {
     "iopub.execute_input": "2022-12-23T01:04:22.280392Z",
     "iopub.status.busy": "2022-12-23T01:04:22.280303Z",
     "iopub.status.idle": "2022-12-23T01:04:22.284404Z",
     "shell.execute_reply": "2022-12-23T01:04:22.283976Z",
     "shell.execute_reply.started": "2022-12-23T01:04:22.280382Z"
    },
    "tags": []
   },
   "outputs": [
    {
     "name": "stdout",
     "output_type": "stream",
     "text": [
      "1    0.523718\n",
      "0    0.476282\n",
      "Name: target, dtype: float64\n",
      "1    0.523789\n",
      "0    0.476211\n",
      "Name: target, dtype: float64\n"
     ]
    }
   ],
   "source": [
    "print(y_train.value_counts(normalize=True))\n",
    "print(y_test.value_counts(normalize=True))"
   ]
  },
  {
   "cell_type": "markdown",
   "id": "c32f8e26-c9f2-4831-ae19-be40e818f481",
   "metadata": {},
   "source": [
    "We'll need our models to perform better than 52.4% accuracy in order to be better than just always predicting the majority class (1 = playstation)."
   ]
  },
  {
   "cell_type": "markdown",
   "id": "6ab6a9bb-2e7b-4c67-ba9d-46f320656774",
   "metadata": {},
   "source": [
    "### Decision Tree"
   ]
  },
  {
   "cell_type": "markdown",
   "id": "1ec43413-1d84-47b1-b13f-a68582dd12c0",
   "metadata": {},
   "source": [
    "#### Configure Decision Tree Pipelines"
   ]
  },
  {
   "cell_type": "markdown",
   "id": "00d84c67-ebe6-4782-8acd-bb1038109004",
   "metadata": {},
   "source": [
    "DecisionTreeClassifier with CountVectorizer"
   ]
  },
  {
   "cell_type": "code",
   "execution_count": 97,
   "id": "e6119343-894e-4b3c-888a-174f8cb6abbf",
   "metadata": {
    "execution": {
     "iopub.execute_input": "2022-12-23T01:04:22.285328Z",
     "iopub.status.busy": "2022-12-23T01:04:22.285172Z",
     "iopub.status.idle": "2022-12-23T01:04:22.288251Z",
     "shell.execute_reply": "2022-12-23T01:04:22.287746Z",
     "shell.execute_reply.started": "2022-12-23T01:04:22.285305Z"
    },
    "tags": []
   },
   "outputs": [],
   "source": [
    "dtc_cv = Pipeline([\n",
    "    ('cv', CountVectorizer()),\n",
    "    ('dtc', DecisionTreeClassifier())\n",
    "])"
   ]
  },
  {
   "cell_type": "code",
   "execution_count": 98,
   "id": "6180a4c1-e6de-4458-9413-162704af22bb",
   "metadata": {
    "execution": {
     "iopub.execute_input": "2022-12-23T01:04:22.289324Z",
     "iopub.status.busy": "2022-12-23T01:04:22.289210Z",
     "iopub.status.idle": "2022-12-23T01:04:25.367349Z",
     "shell.execute_reply": "2022-12-23T01:04:25.366996Z",
     "shell.execute_reply.started": "2022-12-23T01:04:22.289311Z"
    },
    "tags": []
   },
   "outputs": [
    {
     "data": {
      "text/html": [
       "<style>#sk-container-id-9 {color: black;background-color: white;}#sk-container-id-9 pre{padding: 0;}#sk-container-id-9 div.sk-toggleable {background-color: white;}#sk-container-id-9 label.sk-toggleable__label {cursor: pointer;display: block;width: 100%;margin-bottom: 0;padding: 0.3em;box-sizing: border-box;text-align: center;}#sk-container-id-9 label.sk-toggleable__label-arrow:before {content: \"▸\";float: left;margin-right: 0.25em;color: #696969;}#sk-container-id-9 label.sk-toggleable__label-arrow:hover:before {color: black;}#sk-container-id-9 div.sk-estimator:hover label.sk-toggleable__label-arrow:before {color: black;}#sk-container-id-9 div.sk-toggleable__content {max-height: 0;max-width: 0;overflow: hidden;text-align: left;background-color: #f0f8ff;}#sk-container-id-9 div.sk-toggleable__content pre {margin: 0.2em;color: black;border-radius: 0.25em;background-color: #f0f8ff;}#sk-container-id-9 input.sk-toggleable__control:checked~div.sk-toggleable__content {max-height: 200px;max-width: 100%;overflow: auto;}#sk-container-id-9 input.sk-toggleable__control:checked~label.sk-toggleable__label-arrow:before {content: \"▾\";}#sk-container-id-9 div.sk-estimator input.sk-toggleable__control:checked~label.sk-toggleable__label {background-color: #d4ebff;}#sk-container-id-9 div.sk-label input.sk-toggleable__control:checked~label.sk-toggleable__label {background-color: #d4ebff;}#sk-container-id-9 input.sk-hidden--visually {border: 0;clip: rect(1px 1px 1px 1px);clip: rect(1px, 1px, 1px, 1px);height: 1px;margin: -1px;overflow: hidden;padding: 0;position: absolute;width: 1px;}#sk-container-id-9 div.sk-estimator {font-family: monospace;background-color: #f0f8ff;border: 1px dotted black;border-radius: 0.25em;box-sizing: border-box;margin-bottom: 0.5em;}#sk-container-id-9 div.sk-estimator:hover {background-color: #d4ebff;}#sk-container-id-9 div.sk-parallel-item::after {content: \"\";width: 100%;border-bottom: 1px solid gray;flex-grow: 1;}#sk-container-id-9 div.sk-label:hover label.sk-toggleable__label {background-color: #d4ebff;}#sk-container-id-9 div.sk-serial::before {content: \"\";position: absolute;border-left: 1px solid gray;box-sizing: border-box;top: 0;bottom: 0;left: 50%;z-index: 0;}#sk-container-id-9 div.sk-serial {display: flex;flex-direction: column;align-items: center;background-color: white;padding-right: 0.2em;padding-left: 0.2em;position: relative;}#sk-container-id-9 div.sk-item {position: relative;z-index: 1;}#sk-container-id-9 div.sk-parallel {display: flex;align-items: stretch;justify-content: center;background-color: white;position: relative;}#sk-container-id-9 div.sk-item::before, #sk-container-id-9 div.sk-parallel-item::before {content: \"\";position: absolute;border-left: 1px solid gray;box-sizing: border-box;top: 0;bottom: 0;left: 50%;z-index: -1;}#sk-container-id-9 div.sk-parallel-item {display: flex;flex-direction: column;z-index: 1;position: relative;background-color: white;}#sk-container-id-9 div.sk-parallel-item:first-child::after {align-self: flex-end;width: 50%;}#sk-container-id-9 div.sk-parallel-item:last-child::after {align-self: flex-start;width: 50%;}#sk-container-id-9 div.sk-parallel-item:only-child::after {width: 0;}#sk-container-id-9 div.sk-dashed-wrapped {border: 1px dashed gray;margin: 0 0.4em 0.5em 0.4em;box-sizing: border-box;padding-bottom: 0.4em;background-color: white;}#sk-container-id-9 div.sk-label label {font-family: monospace;font-weight: bold;display: inline-block;line-height: 1.2em;}#sk-container-id-9 div.sk-label-container {text-align: center;}#sk-container-id-9 div.sk-container {/* jupyter's `normalize.less` sets `[hidden] { display: none; }` but bootstrap.min.css set `[hidden] { display: none !important; }` so we also need the `!important` here to be able to override the default hidden behavior on the sphinx rendered scikit-learn.org. See: https://github.com/scikit-learn/scikit-learn/issues/21755 */display: inline-block !important;position: relative;}#sk-container-id-9 div.sk-text-repr-fallback {display: none;}</style><div id=\"sk-container-id-9\" class=\"sk-top-container\"><div class=\"sk-text-repr-fallback\"><pre>Pipeline(steps=[(&#x27;cv&#x27;, CountVectorizer()), (&#x27;dtc&#x27;, DecisionTreeClassifier())])</pre><b>In a Jupyter environment, please rerun this cell to show the HTML representation or trust the notebook. <br />On GitHub, the HTML representation is unable to render, please try loading this page with nbviewer.org.</b></div><div class=\"sk-container\" hidden><div class=\"sk-item sk-dashed-wrapped\"><div class=\"sk-label-container\"><div class=\"sk-label sk-toggleable\"><input class=\"sk-toggleable__control sk-hidden--visually\" id=\"sk-estimator-id-27\" type=\"checkbox\" ><label for=\"sk-estimator-id-27\" class=\"sk-toggleable__label sk-toggleable__label-arrow\">Pipeline</label><div class=\"sk-toggleable__content\"><pre>Pipeline(steps=[(&#x27;cv&#x27;, CountVectorizer()), (&#x27;dtc&#x27;, DecisionTreeClassifier())])</pre></div></div></div><div class=\"sk-serial\"><div class=\"sk-item\"><div class=\"sk-estimator sk-toggleable\"><input class=\"sk-toggleable__control sk-hidden--visually\" id=\"sk-estimator-id-28\" type=\"checkbox\" ><label for=\"sk-estimator-id-28\" class=\"sk-toggleable__label sk-toggleable__label-arrow\">CountVectorizer</label><div class=\"sk-toggleable__content\"><pre>CountVectorizer()</pre></div></div></div><div class=\"sk-item\"><div class=\"sk-estimator sk-toggleable\"><input class=\"sk-toggleable__control sk-hidden--visually\" id=\"sk-estimator-id-29\" type=\"checkbox\" ><label for=\"sk-estimator-id-29\" class=\"sk-toggleable__label sk-toggleable__label-arrow\">DecisionTreeClassifier</label><div class=\"sk-toggleable__content\"><pre>DecisionTreeClassifier()</pre></div></div></div></div></div></div></div>"
      ],
      "text/plain": [
       "Pipeline(steps=[('cv', CountVectorizer()), ('dtc', DecisionTreeClassifier())])"
      ]
     },
     "execution_count": 98,
     "metadata": {},
     "output_type": "execute_result"
    }
   ],
   "source": [
    "# fit with default settings for CountVectorizer and DeciscionTree\n",
    "dtc_cv.fit(X_train, y_train)"
   ]
  },
  {
   "cell_type": "code",
   "execution_count": 99,
   "id": "cebcac56-c2fc-4092-b1b2-24a9f5b8f81c",
   "metadata": {
    "execution": {
     "iopub.execute_input": "2022-12-23T01:04:25.370525Z",
     "iopub.status.busy": "2022-12-23T01:04:25.370406Z",
     "iopub.status.idle": "2022-12-23T01:04:25.960971Z",
     "shell.execute_reply": "2022-12-23T01:04:25.960662Z",
     "shell.execute_reply.started": "2022-12-23T01:04:25.370510Z"
    },
    "tags": []
   },
   "outputs": [
    {
     "data": {
      "text/plain": [
       "(0.9997856836690956, 0.7130304329189884)"
      ]
     },
     "execution_count": 99,
     "metadata": {},
     "output_type": "execute_result"
    }
   ],
   "source": [
    "# score with default settings for CountVectorizer and DeciscionTree\n",
    "dtc_cv.score(X_train, y_train), dtc_cv.score(X_test, y_test)"
   ]
  },
  {
   "cell_type": "markdown",
   "id": "b5a57773-a253-4c34-b8e8-b4a664af72ad",
   "metadata": {},
   "source": [
    "DecisionTree Classifier with TfidfVectorizer"
   ]
  },
  {
   "cell_type": "code",
   "execution_count": 100,
   "id": "1c5ba5ed-5b53-49eb-9a5e-c5188600ea45",
   "metadata": {
    "execution": {
     "iopub.execute_input": "2022-12-23T01:04:25.961732Z",
     "iopub.status.busy": "2022-12-23T01:04:25.961633Z",
     "iopub.status.idle": "2022-12-23T01:04:25.964261Z",
     "shell.execute_reply": "2022-12-23T01:04:25.963923Z",
     "shell.execute_reply.started": "2022-12-23T01:04:25.961714Z"
    },
    "tags": []
   },
   "outputs": [],
   "source": [
    "dtc_tdf = Pipeline([\n",
    "    ('tf', TfidfVectorizer()),\n",
    "    ('dtc', DecisionTreeClassifier())\n",
    "])"
   ]
  },
  {
   "cell_type": "code",
   "execution_count": 101,
   "id": "92f847be-6496-45e5-a079-b40a4970d7f9",
   "metadata": {
    "execution": {
     "iopub.execute_input": "2022-12-23T01:04:25.964916Z",
     "iopub.status.busy": "2022-12-23T01:04:25.964827Z",
     "iopub.status.idle": "2022-12-23T01:04:30.000588Z",
     "shell.execute_reply": "2022-12-23T01:04:30.000234Z",
     "shell.execute_reply.started": "2022-12-23T01:04:25.964905Z"
    },
    "tags": []
   },
   "outputs": [
    {
     "data": {
      "text/html": [
       "<style>#sk-container-id-10 {color: black;background-color: white;}#sk-container-id-10 pre{padding: 0;}#sk-container-id-10 div.sk-toggleable {background-color: white;}#sk-container-id-10 label.sk-toggleable__label {cursor: pointer;display: block;width: 100%;margin-bottom: 0;padding: 0.3em;box-sizing: border-box;text-align: center;}#sk-container-id-10 label.sk-toggleable__label-arrow:before {content: \"▸\";float: left;margin-right: 0.25em;color: #696969;}#sk-container-id-10 label.sk-toggleable__label-arrow:hover:before {color: black;}#sk-container-id-10 div.sk-estimator:hover label.sk-toggleable__label-arrow:before {color: black;}#sk-container-id-10 div.sk-toggleable__content {max-height: 0;max-width: 0;overflow: hidden;text-align: left;background-color: #f0f8ff;}#sk-container-id-10 div.sk-toggleable__content pre {margin: 0.2em;color: black;border-radius: 0.25em;background-color: #f0f8ff;}#sk-container-id-10 input.sk-toggleable__control:checked~div.sk-toggleable__content {max-height: 200px;max-width: 100%;overflow: auto;}#sk-container-id-10 input.sk-toggleable__control:checked~label.sk-toggleable__label-arrow:before {content: \"▾\";}#sk-container-id-10 div.sk-estimator input.sk-toggleable__control:checked~label.sk-toggleable__label {background-color: #d4ebff;}#sk-container-id-10 div.sk-label input.sk-toggleable__control:checked~label.sk-toggleable__label {background-color: #d4ebff;}#sk-container-id-10 input.sk-hidden--visually {border: 0;clip: rect(1px 1px 1px 1px);clip: rect(1px, 1px, 1px, 1px);height: 1px;margin: -1px;overflow: hidden;padding: 0;position: absolute;width: 1px;}#sk-container-id-10 div.sk-estimator {font-family: monospace;background-color: #f0f8ff;border: 1px dotted black;border-radius: 0.25em;box-sizing: border-box;margin-bottom: 0.5em;}#sk-container-id-10 div.sk-estimator:hover {background-color: #d4ebff;}#sk-container-id-10 div.sk-parallel-item::after {content: \"\";width: 100%;border-bottom: 1px solid gray;flex-grow: 1;}#sk-container-id-10 div.sk-label:hover label.sk-toggleable__label {background-color: #d4ebff;}#sk-container-id-10 div.sk-serial::before {content: \"\";position: absolute;border-left: 1px solid gray;box-sizing: border-box;top: 0;bottom: 0;left: 50%;z-index: 0;}#sk-container-id-10 div.sk-serial {display: flex;flex-direction: column;align-items: center;background-color: white;padding-right: 0.2em;padding-left: 0.2em;position: relative;}#sk-container-id-10 div.sk-item {position: relative;z-index: 1;}#sk-container-id-10 div.sk-parallel {display: flex;align-items: stretch;justify-content: center;background-color: white;position: relative;}#sk-container-id-10 div.sk-item::before, #sk-container-id-10 div.sk-parallel-item::before {content: \"\";position: absolute;border-left: 1px solid gray;box-sizing: border-box;top: 0;bottom: 0;left: 50%;z-index: -1;}#sk-container-id-10 div.sk-parallel-item {display: flex;flex-direction: column;z-index: 1;position: relative;background-color: white;}#sk-container-id-10 div.sk-parallel-item:first-child::after {align-self: flex-end;width: 50%;}#sk-container-id-10 div.sk-parallel-item:last-child::after {align-self: flex-start;width: 50%;}#sk-container-id-10 div.sk-parallel-item:only-child::after {width: 0;}#sk-container-id-10 div.sk-dashed-wrapped {border: 1px dashed gray;margin: 0 0.4em 0.5em 0.4em;box-sizing: border-box;padding-bottom: 0.4em;background-color: white;}#sk-container-id-10 div.sk-label label {font-family: monospace;font-weight: bold;display: inline-block;line-height: 1.2em;}#sk-container-id-10 div.sk-label-container {text-align: center;}#sk-container-id-10 div.sk-container {/* jupyter's `normalize.less` sets `[hidden] { display: none; }` but bootstrap.min.css set `[hidden] { display: none !important; }` so we also need the `!important` here to be able to override the default hidden behavior on the sphinx rendered scikit-learn.org. See: https://github.com/scikit-learn/scikit-learn/issues/21755 */display: inline-block !important;position: relative;}#sk-container-id-10 div.sk-text-repr-fallback {display: none;}</style><div id=\"sk-container-id-10\" class=\"sk-top-container\"><div class=\"sk-text-repr-fallback\"><pre>Pipeline(steps=[(&#x27;tf&#x27;, TfidfVectorizer()), (&#x27;dtc&#x27;, DecisionTreeClassifier())])</pre><b>In a Jupyter environment, please rerun this cell to show the HTML representation or trust the notebook. <br />On GitHub, the HTML representation is unable to render, please try loading this page with nbviewer.org.</b></div><div class=\"sk-container\" hidden><div class=\"sk-item sk-dashed-wrapped\"><div class=\"sk-label-container\"><div class=\"sk-label sk-toggleable\"><input class=\"sk-toggleable__control sk-hidden--visually\" id=\"sk-estimator-id-30\" type=\"checkbox\" ><label for=\"sk-estimator-id-30\" class=\"sk-toggleable__label sk-toggleable__label-arrow\">Pipeline</label><div class=\"sk-toggleable__content\"><pre>Pipeline(steps=[(&#x27;tf&#x27;, TfidfVectorizer()), (&#x27;dtc&#x27;, DecisionTreeClassifier())])</pre></div></div></div><div class=\"sk-serial\"><div class=\"sk-item\"><div class=\"sk-estimator sk-toggleable\"><input class=\"sk-toggleable__control sk-hidden--visually\" id=\"sk-estimator-id-31\" type=\"checkbox\" ><label for=\"sk-estimator-id-31\" class=\"sk-toggleable__label sk-toggleable__label-arrow\">TfidfVectorizer</label><div class=\"sk-toggleable__content\"><pre>TfidfVectorizer()</pre></div></div></div><div class=\"sk-item\"><div class=\"sk-estimator sk-toggleable\"><input class=\"sk-toggleable__control sk-hidden--visually\" id=\"sk-estimator-id-32\" type=\"checkbox\" ><label for=\"sk-estimator-id-32\" class=\"sk-toggleable__label sk-toggleable__label-arrow\">DecisionTreeClassifier</label><div class=\"sk-toggleable__content\"><pre>DecisionTreeClassifier()</pre></div></div></div></div></div></div></div>"
      ],
      "text/plain": [
       "Pipeline(steps=[('tf', TfidfVectorizer()), ('dtc', DecisionTreeClassifier())])"
      ]
     },
     "execution_count": 101,
     "metadata": {},
     "output_type": "execute_result"
    }
   ],
   "source": [
    "# fit with default settings for TfidfVectorizer and DeciscionTree\n",
    "dtc_tdf.fit(X_train, y_train)"
   ]
  },
  {
   "cell_type": "code",
   "execution_count": 102,
   "id": "a141842f-09b0-40d0-9940-f52c11d72504",
   "metadata": {
    "execution": {
     "iopub.execute_input": "2022-12-23T01:04:30.001283Z",
     "iopub.status.busy": "2022-12-23T01:04:30.001195Z",
     "iopub.status.idle": "2022-12-23T01:04:30.612050Z",
     "shell.execute_reply": "2022-12-23T01:04:30.611664Z",
     "shell.execute_reply.started": "2022-12-23T01:04:30.001272Z"
    },
    "tags": []
   },
   "outputs": [
    {
     "data": {
      "text/plain": [
       "(0.9997856836690956, 0.6954564937848264)"
      ]
     },
     "execution_count": 102,
     "metadata": {},
     "output_type": "execute_result"
    }
   ],
   "source": [
    "# score with default settings for TfidfVectorizer and DeciscionTree\n",
    "dtc_tdf.score(X_train, y_train), dtc_tdf.score(X_test, y_test)"
   ]
  },
  {
   "cell_type": "markdown",
   "id": "95740bc1-96ff-420c-92ad-aef644ab85e3",
   "metadata": {},
   "source": [
    "As we can expect with DecisionTree, we're seeing the model overfit, which can tend to happen, and the model isn't generalizing to the test data very will.  In this case, it appears that the CountVectorizer is performing a little bit better than the TfidfVectorizer, at least when both have their default settings.  The CV version is about 1% more accurate."
   ]
  },
  {
   "cell_type": "markdown",
   "id": "71512af3-421d-4c9f-be6f-372e7e1a1125",
   "metadata": {},
   "source": [
    "#### GridSearch\n",
    "\n",
    "GridSearch to use coarse hyperparameter searching, instead of default parameters, in order to find and select the best model for tuning."
   ]
  },
  {
   "cell_type": "markdown",
   "id": "485232f0-c627-45f8-bef8-d95fdab5f24e",
   "metadata": {},
   "source": [
    "GridSearching both CountVectorizer and TfidfVectorizer"
   ]
  },
  {
   "cell_type": "code",
   "execution_count": 103,
   "id": "06b34b15-3869-4c4a-a04d-9ce829500a8b",
   "metadata": {
    "execution": {
     "iopub.execute_input": "2022-12-23T01:04:30.612783Z",
     "iopub.status.busy": "2022-12-23T01:04:30.612696Z",
     "iopub.status.idle": "2022-12-23T01:04:30.616384Z",
     "shell.execute_reply": "2022-12-23T01:04:30.615884Z",
     "shell.execute_reply.started": "2022-12-23T01:04:30.612772Z"
    },
    "tags": []
   },
   "outputs": [],
   "source": [
    "# set two\n",
    "cv_dtc_params = {\n",
    "    'cv__stop_words': ['english'],\n",
    "    'cv__max_df': [0.8, 0.85, 0.90],\n",
    "    'cv__min_df': [6, 10, 15],\n",
    "    'cv__ngram_range': [(1,2), (1,3)],\n",
    "    'cv__max_features': [5_000, 10_000, 15_000],\n",
    "    'dtc__criterion': ['gini', 'entropy'],\n",
    "    'dtc__max_depth': [25, 50, 100],\n",
    "    'dtc__min_samples_split': [10, 50, 100],\n",
    "    'dtc__max_features': [None, 'sqrt']\n",
    "}\n",
    "\n",
    "## set one\n",
    "# cv_dtc_params = {\n",
    "#     'cv__stop_words': [None, 'english'],\n",
    "#     'cv__max_df': [0.85, 0.95],\n",
    "#     'cv__min_df': [4, 5, 6],\n",
    "#     'cv__ngram_range': [(1,1), (1,2), (2,2)],\n",
    "#     'cv__max_features': [1_000, 5_000, 10_000],\n",
    "#     'dtc__criterion': ['gini', 'entropy'],\n",
    "#     'dtc__max_depth': [3, 10, 20],\n",
    "#     'dtc__min_samples_split': [2, 4, 10],\n",
    "#     'dtc__max_features': [None, 'sqrt', 'log2']\n",
    "# }"
   ]
  },
  {
   "cell_type": "code",
   "execution_count": 104,
   "id": "92965260-d7b3-43b0-b1f0-1c63e73080b9",
   "metadata": {
    "execution": {
     "iopub.execute_input": "2022-12-23T01:04:30.616942Z",
     "iopub.status.busy": "2022-12-23T01:04:30.616860Z",
     "iopub.status.idle": "2022-12-23T01:04:30.619255Z",
     "shell.execute_reply": "2022-12-23T01:04:30.618876Z",
     "shell.execute_reply.started": "2022-12-23T01:04:30.616932Z"
    },
    "tags": []
   },
   "outputs": [],
   "source": [
    "# # configure GridSearch\n",
    "# gs_dtc_cv = GridSearchCV(dtc_cv, cv_dtc_params, n_jobs=-1, verbose=1)\n",
    "\n",
    "# # fit with training data\n",
    "# gs_dtc_cv.fit(X_train, y_train)\n",
    "\n",
    "# # output the best params after GridSearch is complete\n",
    "# gs_dtc_cv.best_params_"
   ]
  },
  {
   "cell_type": "code",
   "execution_count": 105,
   "id": "e9ad762b-f81d-4d2d-be2d-a678dda406c1",
   "metadata": {
    "execution": {
     "iopub.execute_input": "2022-12-23T01:04:30.620028Z",
     "iopub.status.busy": "2022-12-23T01:04:30.619898Z",
     "iopub.status.idle": "2022-12-23T01:04:30.622398Z",
     "shell.execute_reply": "2022-12-23T01:04:30.622009Z",
     "shell.execute_reply.started": "2022-12-23T01:04:30.620015Z"
    },
    "tags": []
   },
   "outputs": [],
   "source": [
    "# # get train and test scores from the model fit with the parameters from \n",
    "# # GridSearch\n",
    "# gs_dtc_cv.score(X_train, y_train), gs_dtc_cv.score(X_test, y_test)"
   ]
  },
  {
   "cell_type": "markdown",
   "id": "40e6b589-3d88-4012-8043-a5e584d725dc",
   "metadata": {
    "execution": {
     "iopub.execute_input": "2022-12-20T04:15:36.052818Z",
     "iopub.status.busy": "2022-12-20T04:15:36.052401Z",
     "iopub.status.idle": "2022-12-20T04:56:50.447234Z",
     "shell.execute_reply": "2022-12-20T04:56:50.446636Z",
     "shell.execute_reply.started": "2022-12-20T04:15:36.052785Z"
    },
    "tags": []
   },
   "source": [
    "Decision Tree w/CountVectorizer Results\n",
    "- set two (0.8478354050578654, 0.744320617231033)\n",
    "    - 'cv__max_df': 0.85,\n",
    "    - 'cv__max_features': 10000,\n",
    "    - 'cv__min_df': 6,\n",
    "    - 'cv__ngram_range': (1, 3),\n",
    "    - 'cv__stop_words': 'english',\n",
    "    - 'dtc__criterion': 'entropy',\n",
    "    - 'dtc__max_depth': 100,\n",
    "    - 'dtc__max_features': None,\n",
    "    - 'dtc__min_samples_split': 100\n",
    "\n",
    "- set one (0.769609944277754, 0.7368195456493785)\n",
    "    - 'cv__max_df': 0.85,\n",
    "    - 'cv__max_features': 10000,\n",
    "    - 'cv__min_df': 6,\n",
    "    - 'cv__ngram_range': (1, 2),\n",
    "    - 'cv__stop_words': None,\n",
    "    - 'dtc__criterion': 'entropy',\n",
    "    - 'dtc__max_depth': 20,\n",
    "    - 'dtc__max_features': None,\n",
    "    - 'dtc__min_samples_split': 10"
   ]
  },
  {
   "cell_type": "code",
   "execution_count": 106,
   "id": "56b65ff6-57e1-46b9-8052-0b3bc3ef9386",
   "metadata": {
    "execution": {
     "iopub.execute_input": "2022-12-23T01:04:30.623303Z",
     "iopub.status.busy": "2022-12-23T01:04:30.623054Z",
     "iopub.status.idle": "2022-12-23T01:04:30.626434Z",
     "shell.execute_reply": "2022-12-23T01:04:30.626000Z",
     "shell.execute_reply.started": "2022-12-23T01:04:30.623289Z"
    },
    "tags": []
   },
   "outputs": [],
   "source": [
    "# set two\n",
    "tdf_dtc_params = {\n",
    "    'tf__stop_words': ['english'],\n",
    "    'tf__max_features': [4_000, 5_000, 7_500],\n",
    "    'tf__min_df': [3, 4, 10],\n",
    "    'tf__ngram_range': [(1,2), (1,3)],\n",
    "    'dtc__criterion': ['gini', 'entropy'],\n",
    "    'dtc__max_depth': [25, 50, 75],\n",
    "    'dtc__min_samples_split': [4, 5, 6],\n",
    "    'dtc__max_features': [None, 'sqrt']\n",
    "}\n",
    "\n",
    "# # set one\n",
    "# tdf_dtc_params = {\n",
    "#     'tf__stop_words': ['english'],\n",
    "#     'tf__max_features': [1_000, 5_000, 10_000],\n",
    "#     'tf__min_df': [1, 3, 5],\n",
    "#     'tf__ngram_range': [(1,2), (1,3)],\n",
    "#     'dtc__criterion': ['gini', 'entropy'],\n",
    "#     'dtc__max_depth': [3, 10, 20],\n",
    "#     'dtc__min_samples_split': [2, 5, 10],\n",
    "#     'dtc__max_features': [None, 'sqrt']\n",
    "# }"
   ]
  },
  {
   "cell_type": "code",
   "execution_count": 107,
   "id": "f2232b43-62b8-462a-a95c-d174a319d9bf",
   "metadata": {
    "execution": {
     "iopub.execute_input": "2022-12-23T01:04:30.627102Z",
     "iopub.status.busy": "2022-12-23T01:04:30.627014Z",
     "iopub.status.idle": "2022-12-23T01:04:30.629284Z",
     "shell.execute_reply": "2022-12-23T01:04:30.628944Z",
     "shell.execute_reply.started": "2022-12-23T01:04:30.627090Z"
    },
    "tags": []
   },
   "outputs": [],
   "source": [
    "# # configure GridSearch\n",
    "# gs_dtc_tf = GridSearchCV(dtc_tdf, tdf_dtc_params, n_jobs=-1, verbose=1)\n",
    "\n",
    "# # fit with training data\n",
    "# gs_dtc_tf.fit(X_train, y_train)\n",
    "\n",
    "# # output the best params after GridSearch is complete\n",
    "# gs_dtc_tf.best_params_"
   ]
  },
  {
   "cell_type": "code",
   "execution_count": 108,
   "id": "b7acf779-b15d-4f35-8df7-b873bef31689",
   "metadata": {
    "execution": {
     "iopub.execute_input": "2022-12-23T01:04:30.630083Z",
     "iopub.status.busy": "2022-12-23T01:04:30.629947Z",
     "iopub.status.idle": "2022-12-23T01:04:30.631928Z",
     "shell.execute_reply": "2022-12-23T01:04:30.631563Z",
     "shell.execute_reply.started": "2022-12-23T01:04:30.630072Z"
    },
    "tags": []
   },
   "outputs": [],
   "source": [
    "# # get train and test scores from the model fit with the parameters from \n",
    "# # GridSearch\n",
    "# gs_dtc_tf.score(X_train, y_train), gs_dtc_tf.score(X_test, y_test)"
   ]
  },
  {
   "cell_type": "markdown",
   "id": "a2986fa2-39fc-4cd9-b9e5-e27a4cc2a292",
   "metadata": {
    "execution": {
     "iopub.execute_input": "2022-12-20T05:02:49.171948Z",
     "iopub.status.busy": "2022-12-20T05:02:49.171547Z",
     "iopub.status.idle": "2022-12-20T05:17:38.253586Z",
     "shell.execute_reply": "2022-12-20T05:17:38.253038Z",
     "shell.execute_reply.started": "2022-12-20T05:02:49.171915Z"
    },
    "tags": []
   },
   "source": [
    "Decision Tree w/TfidfVectorizer Results\n",
    "- set two (0.9172024574939277, 0.7353193313330476)\n",
    "    - 'dtc__criterion': 'gini',\n",
    "    - 'dtc__max_depth': 75,\n",
    "    - 'dtc__max_features': None,\n",
    "    - 'dtc__min_samples_split': 5,\n",
    "    - 'tf__max_features': 7500,\n",
    "    - 'tf__min_df': 3,\n",
    "    - 'tf__ngram_range': (1, 2),\n",
    "    - 'tf__stop_words': 'english'\n",
    "\n",
    "- set one  (0.7657522503214745, 0.7297471067295328)\n",
    "    - 'dtc__criterion': 'gini',\n",
    "    - 'dtc__max_depth': 20,\n",
    "    - 'dtc__max_features': None,\n",
    "    - 'dtc__min_samples_split': 5,\n",
    "    - 'tf__max_features': 5000,\n",
    "    - 'tf__min_df': 3,\n",
    "    - 'tf__ngram_range': (1, 3),\n",
    "    - 'tf__stop_words': 'english'"
   ]
  },
  {
   "cell_type": "markdown",
   "id": "910842f2-d493-4db2-a6a3-deb2e6fea52f",
   "metadata": {},
   "source": [
    "#### Best Decision Tree\n",
    "\n",
    "The best performing Decision Tree:\n",
    "- Train: 0.845\n",
    "- Test:  0.744\n",
    "\n",
    "Params\n",
    "- 'cv__max_df': 0.85,\n",
    "- 'cv__max_features': 10000,\n",
    "- 'cv__min_df': 6,\n",
    "- 'cv__ngram_range': (1, 3),\n",
    "- 'cv__stop_words': 'english',\n",
    "- 'dtc__criterion': 'entropy',\n",
    "- 'dtc__max_depth': 100,\n",
    "- 'dtc__max_features': None,\n",
    "- 'dtc__min_samples_split': 100"
   ]
  },
  {
   "cell_type": "markdown",
   "id": "6ec2aca9-63a5-4387-8a9e-cc232fb9bc2d",
   "metadata": {},
   "source": [
    "These scores are certainly improved from the baseline, but not much of an improvement from the default settings with each vectorizer paired with a Decision Tree classifier. The overfit that appeared on the train score from the default settings appears to be reduced, probably in part to limiting how deep the decision tree was able to go, especially on the first set of grid search parameters.  \n",
    "\n",
    "The second grid search only improved the test scores marginally.  From these results, I think a different classifier will be more effective.  Let's move to a Random Forest classifier and see how that performs."
   ]
  },
  {
   "cell_type": "markdown",
   "id": "aaab7147-1fa7-41a9-91c4-bb2cc5429398",
   "metadata": {},
   "source": [
    "### Random Forest"
   ]
  },
  {
   "cell_type": "markdown",
   "id": "d6613a31-cb74-47a6-8ab0-2fdae460360e",
   "metadata": {},
   "source": [
    "#### Configure Random Forest Pipelines"
   ]
  },
  {
   "cell_type": "markdown",
   "id": "f402e32b-b397-489e-9c2d-44be5b873ad6",
   "metadata": {},
   "source": [
    "Random Forest with CountVectorizer"
   ]
  },
  {
   "cell_type": "code",
   "execution_count": 109,
   "id": "13d3e180-ff59-45f3-93cc-b00415929d4d",
   "metadata": {
    "execution": {
     "iopub.execute_input": "2022-12-23T01:04:30.632650Z",
     "iopub.status.busy": "2022-12-23T01:04:30.632563Z",
     "iopub.status.idle": "2022-12-23T01:04:30.635253Z",
     "shell.execute_reply": "2022-12-23T01:04:30.634860Z",
     "shell.execute_reply.started": "2022-12-23T01:04:30.632639Z"
    },
    "tags": []
   },
   "outputs": [],
   "source": [
    "rf_cv = Pipeline([\n",
    "    ('cv', CountVectorizer()),\n",
    "    ('rf', RandomForestClassifier())\n",
    "])"
   ]
  },
  {
   "cell_type": "code",
   "execution_count": 110,
   "id": "111981d8-c091-4570-81b3-f169710a8ffd",
   "metadata": {
    "execution": {
     "iopub.execute_input": "2022-12-23T01:04:30.636200Z",
     "iopub.status.busy": "2022-12-23T01:04:30.636031Z",
     "iopub.status.idle": "2022-12-23T01:04:41.585007Z",
     "shell.execute_reply": "2022-12-23T01:04:41.584661Z",
     "shell.execute_reply.started": "2022-12-23T01:04:30.636180Z"
    },
    "tags": []
   },
   "outputs": [
    {
     "data": {
      "text/html": [
       "<style>#sk-container-id-11 {color: black;background-color: white;}#sk-container-id-11 pre{padding: 0;}#sk-container-id-11 div.sk-toggleable {background-color: white;}#sk-container-id-11 label.sk-toggleable__label {cursor: pointer;display: block;width: 100%;margin-bottom: 0;padding: 0.3em;box-sizing: border-box;text-align: center;}#sk-container-id-11 label.sk-toggleable__label-arrow:before {content: \"▸\";float: left;margin-right: 0.25em;color: #696969;}#sk-container-id-11 label.sk-toggleable__label-arrow:hover:before {color: black;}#sk-container-id-11 div.sk-estimator:hover label.sk-toggleable__label-arrow:before {color: black;}#sk-container-id-11 div.sk-toggleable__content {max-height: 0;max-width: 0;overflow: hidden;text-align: left;background-color: #f0f8ff;}#sk-container-id-11 div.sk-toggleable__content pre {margin: 0.2em;color: black;border-radius: 0.25em;background-color: #f0f8ff;}#sk-container-id-11 input.sk-toggleable__control:checked~div.sk-toggleable__content {max-height: 200px;max-width: 100%;overflow: auto;}#sk-container-id-11 input.sk-toggleable__control:checked~label.sk-toggleable__label-arrow:before {content: \"▾\";}#sk-container-id-11 div.sk-estimator input.sk-toggleable__control:checked~label.sk-toggleable__label {background-color: #d4ebff;}#sk-container-id-11 div.sk-label input.sk-toggleable__control:checked~label.sk-toggleable__label {background-color: #d4ebff;}#sk-container-id-11 input.sk-hidden--visually {border: 0;clip: rect(1px 1px 1px 1px);clip: rect(1px, 1px, 1px, 1px);height: 1px;margin: -1px;overflow: hidden;padding: 0;position: absolute;width: 1px;}#sk-container-id-11 div.sk-estimator {font-family: monospace;background-color: #f0f8ff;border: 1px dotted black;border-radius: 0.25em;box-sizing: border-box;margin-bottom: 0.5em;}#sk-container-id-11 div.sk-estimator:hover {background-color: #d4ebff;}#sk-container-id-11 div.sk-parallel-item::after {content: \"\";width: 100%;border-bottom: 1px solid gray;flex-grow: 1;}#sk-container-id-11 div.sk-label:hover label.sk-toggleable__label {background-color: #d4ebff;}#sk-container-id-11 div.sk-serial::before {content: \"\";position: absolute;border-left: 1px solid gray;box-sizing: border-box;top: 0;bottom: 0;left: 50%;z-index: 0;}#sk-container-id-11 div.sk-serial {display: flex;flex-direction: column;align-items: center;background-color: white;padding-right: 0.2em;padding-left: 0.2em;position: relative;}#sk-container-id-11 div.sk-item {position: relative;z-index: 1;}#sk-container-id-11 div.sk-parallel {display: flex;align-items: stretch;justify-content: center;background-color: white;position: relative;}#sk-container-id-11 div.sk-item::before, #sk-container-id-11 div.sk-parallel-item::before {content: \"\";position: absolute;border-left: 1px solid gray;box-sizing: border-box;top: 0;bottom: 0;left: 50%;z-index: -1;}#sk-container-id-11 div.sk-parallel-item {display: flex;flex-direction: column;z-index: 1;position: relative;background-color: white;}#sk-container-id-11 div.sk-parallel-item:first-child::after {align-self: flex-end;width: 50%;}#sk-container-id-11 div.sk-parallel-item:last-child::after {align-self: flex-start;width: 50%;}#sk-container-id-11 div.sk-parallel-item:only-child::after {width: 0;}#sk-container-id-11 div.sk-dashed-wrapped {border: 1px dashed gray;margin: 0 0.4em 0.5em 0.4em;box-sizing: border-box;padding-bottom: 0.4em;background-color: white;}#sk-container-id-11 div.sk-label label {font-family: monospace;font-weight: bold;display: inline-block;line-height: 1.2em;}#sk-container-id-11 div.sk-label-container {text-align: center;}#sk-container-id-11 div.sk-container {/* jupyter's `normalize.less` sets `[hidden] { display: none; }` but bootstrap.min.css set `[hidden] { display: none !important; }` so we also need the `!important` here to be able to override the default hidden behavior on the sphinx rendered scikit-learn.org. See: https://github.com/scikit-learn/scikit-learn/issues/21755 */display: inline-block !important;position: relative;}#sk-container-id-11 div.sk-text-repr-fallback {display: none;}</style><div id=\"sk-container-id-11\" class=\"sk-top-container\"><div class=\"sk-text-repr-fallback\"><pre>Pipeline(steps=[(&#x27;cv&#x27;, CountVectorizer()), (&#x27;rf&#x27;, RandomForestClassifier())])</pre><b>In a Jupyter environment, please rerun this cell to show the HTML representation or trust the notebook. <br />On GitHub, the HTML representation is unable to render, please try loading this page with nbviewer.org.</b></div><div class=\"sk-container\" hidden><div class=\"sk-item sk-dashed-wrapped\"><div class=\"sk-label-container\"><div class=\"sk-label sk-toggleable\"><input class=\"sk-toggleable__control sk-hidden--visually\" id=\"sk-estimator-id-33\" type=\"checkbox\" ><label for=\"sk-estimator-id-33\" class=\"sk-toggleable__label sk-toggleable__label-arrow\">Pipeline</label><div class=\"sk-toggleable__content\"><pre>Pipeline(steps=[(&#x27;cv&#x27;, CountVectorizer()), (&#x27;rf&#x27;, RandomForestClassifier())])</pre></div></div></div><div class=\"sk-serial\"><div class=\"sk-item\"><div class=\"sk-estimator sk-toggleable\"><input class=\"sk-toggleable__control sk-hidden--visually\" id=\"sk-estimator-id-34\" type=\"checkbox\" ><label for=\"sk-estimator-id-34\" class=\"sk-toggleable__label sk-toggleable__label-arrow\">CountVectorizer</label><div class=\"sk-toggleable__content\"><pre>CountVectorizer()</pre></div></div></div><div class=\"sk-item\"><div class=\"sk-estimator sk-toggleable\"><input class=\"sk-toggleable__control sk-hidden--visually\" id=\"sk-estimator-id-35\" type=\"checkbox\" ><label for=\"sk-estimator-id-35\" class=\"sk-toggleable__label sk-toggleable__label-arrow\">RandomForestClassifier</label><div class=\"sk-toggleable__content\"><pre>RandomForestClassifier()</pre></div></div></div></div></div></div></div>"
      ],
      "text/plain": [
       "Pipeline(steps=[('cv', CountVectorizer()), ('rf', RandomForestClassifier())])"
      ]
     },
     "execution_count": 110,
     "metadata": {},
     "output_type": "execute_result"
    }
   ],
   "source": [
    "# fit with default parameters\n",
    "rf_cv.fit(X_train, y_train)"
   ]
  },
  {
   "cell_type": "code",
   "execution_count": 111,
   "id": "49bd62fe-d811-4f3e-9f4d-56a59d18af64",
   "metadata": {
    "execution": {
     "iopub.execute_input": "2022-12-23T01:04:41.585813Z",
     "iopub.status.busy": "2022-12-23T01:04:41.585729Z",
     "iopub.status.idle": "2022-12-23T01:04:42.806794Z",
     "shell.execute_reply": "2022-12-23T01:04:42.806471Z",
     "shell.execute_reply.started": "2022-12-23T01:04:41.585802Z"
    },
    "tags": []
   },
   "outputs": [
    {
     "data": {
      "text/plain": [
       "(0.9997856836690956, 0.8004714959279897)"
      ]
     },
     "execution_count": 111,
     "metadata": {},
     "output_type": "execute_result"
    }
   ],
   "source": [
    "# score train and test data with default parameters\n",
    "rf_cv.score(X_train, y_train), rf_cv.score(X_test, y_test)"
   ]
  },
  {
   "cell_type": "markdown",
   "id": "28353897-e385-4913-9aad-1bbe58bfbb51",
   "metadata": {},
   "source": [
    "Random Forest with TfidfVectorizer"
   ]
  },
  {
   "cell_type": "code",
   "execution_count": 112,
   "id": "a5026b9f-4cf7-4641-8fbd-3b0a1ae9e743",
   "metadata": {
    "execution": {
     "iopub.execute_input": "2022-12-23T01:04:42.807575Z",
     "iopub.status.busy": "2022-12-23T01:04:42.807488Z",
     "iopub.status.idle": "2022-12-23T01:04:42.810064Z",
     "shell.execute_reply": "2022-12-23T01:04:42.809721Z",
     "shell.execute_reply.started": "2022-12-23T01:04:42.807564Z"
    },
    "tags": []
   },
   "outputs": [],
   "source": [
    "rf_tdf = Pipeline([\n",
    "    ('tf', TfidfVectorizer()),\n",
    "    ('rf', RandomForestClassifier())\n",
    "])"
   ]
  },
  {
   "cell_type": "code",
   "execution_count": 113,
   "id": "e88c9f63-906d-4396-bbc4-36c155d96c5d",
   "metadata": {
    "execution": {
     "iopub.execute_input": "2022-12-23T01:04:42.810820Z",
     "iopub.status.busy": "2022-12-23T01:04:42.810689Z",
     "iopub.status.idle": "2022-12-23T01:04:53.153658Z",
     "shell.execute_reply": "2022-12-23T01:04:53.153354Z",
     "shell.execute_reply.started": "2022-12-23T01:04:42.810808Z"
    },
    "tags": []
   },
   "outputs": [
    {
     "data": {
      "text/html": [
       "<style>#sk-container-id-12 {color: black;background-color: white;}#sk-container-id-12 pre{padding: 0;}#sk-container-id-12 div.sk-toggleable {background-color: white;}#sk-container-id-12 label.sk-toggleable__label {cursor: pointer;display: block;width: 100%;margin-bottom: 0;padding: 0.3em;box-sizing: border-box;text-align: center;}#sk-container-id-12 label.sk-toggleable__label-arrow:before {content: \"▸\";float: left;margin-right: 0.25em;color: #696969;}#sk-container-id-12 label.sk-toggleable__label-arrow:hover:before {color: black;}#sk-container-id-12 div.sk-estimator:hover label.sk-toggleable__label-arrow:before {color: black;}#sk-container-id-12 div.sk-toggleable__content {max-height: 0;max-width: 0;overflow: hidden;text-align: left;background-color: #f0f8ff;}#sk-container-id-12 div.sk-toggleable__content pre {margin: 0.2em;color: black;border-radius: 0.25em;background-color: #f0f8ff;}#sk-container-id-12 input.sk-toggleable__control:checked~div.sk-toggleable__content {max-height: 200px;max-width: 100%;overflow: auto;}#sk-container-id-12 input.sk-toggleable__control:checked~label.sk-toggleable__label-arrow:before {content: \"▾\";}#sk-container-id-12 div.sk-estimator input.sk-toggleable__control:checked~label.sk-toggleable__label {background-color: #d4ebff;}#sk-container-id-12 div.sk-label input.sk-toggleable__control:checked~label.sk-toggleable__label {background-color: #d4ebff;}#sk-container-id-12 input.sk-hidden--visually {border: 0;clip: rect(1px 1px 1px 1px);clip: rect(1px, 1px, 1px, 1px);height: 1px;margin: -1px;overflow: hidden;padding: 0;position: absolute;width: 1px;}#sk-container-id-12 div.sk-estimator {font-family: monospace;background-color: #f0f8ff;border: 1px dotted black;border-radius: 0.25em;box-sizing: border-box;margin-bottom: 0.5em;}#sk-container-id-12 div.sk-estimator:hover {background-color: #d4ebff;}#sk-container-id-12 div.sk-parallel-item::after {content: \"\";width: 100%;border-bottom: 1px solid gray;flex-grow: 1;}#sk-container-id-12 div.sk-label:hover label.sk-toggleable__label {background-color: #d4ebff;}#sk-container-id-12 div.sk-serial::before {content: \"\";position: absolute;border-left: 1px solid gray;box-sizing: border-box;top: 0;bottom: 0;left: 50%;z-index: 0;}#sk-container-id-12 div.sk-serial {display: flex;flex-direction: column;align-items: center;background-color: white;padding-right: 0.2em;padding-left: 0.2em;position: relative;}#sk-container-id-12 div.sk-item {position: relative;z-index: 1;}#sk-container-id-12 div.sk-parallel {display: flex;align-items: stretch;justify-content: center;background-color: white;position: relative;}#sk-container-id-12 div.sk-item::before, #sk-container-id-12 div.sk-parallel-item::before {content: \"\";position: absolute;border-left: 1px solid gray;box-sizing: border-box;top: 0;bottom: 0;left: 50%;z-index: -1;}#sk-container-id-12 div.sk-parallel-item {display: flex;flex-direction: column;z-index: 1;position: relative;background-color: white;}#sk-container-id-12 div.sk-parallel-item:first-child::after {align-self: flex-end;width: 50%;}#sk-container-id-12 div.sk-parallel-item:last-child::after {align-self: flex-start;width: 50%;}#sk-container-id-12 div.sk-parallel-item:only-child::after {width: 0;}#sk-container-id-12 div.sk-dashed-wrapped {border: 1px dashed gray;margin: 0 0.4em 0.5em 0.4em;box-sizing: border-box;padding-bottom: 0.4em;background-color: white;}#sk-container-id-12 div.sk-label label {font-family: monospace;font-weight: bold;display: inline-block;line-height: 1.2em;}#sk-container-id-12 div.sk-label-container {text-align: center;}#sk-container-id-12 div.sk-container {/* jupyter's `normalize.less` sets `[hidden] { display: none; }` but bootstrap.min.css set `[hidden] { display: none !important; }` so we also need the `!important` here to be able to override the default hidden behavior on the sphinx rendered scikit-learn.org. See: https://github.com/scikit-learn/scikit-learn/issues/21755 */display: inline-block !important;position: relative;}#sk-container-id-12 div.sk-text-repr-fallback {display: none;}</style><div id=\"sk-container-id-12\" class=\"sk-top-container\"><div class=\"sk-text-repr-fallback\"><pre>Pipeline(steps=[(&#x27;tf&#x27;, TfidfVectorizer()), (&#x27;rf&#x27;, RandomForestClassifier())])</pre><b>In a Jupyter environment, please rerun this cell to show the HTML representation or trust the notebook. <br />On GitHub, the HTML representation is unable to render, please try loading this page with nbviewer.org.</b></div><div class=\"sk-container\" hidden><div class=\"sk-item sk-dashed-wrapped\"><div class=\"sk-label-container\"><div class=\"sk-label sk-toggleable\"><input class=\"sk-toggleable__control sk-hidden--visually\" id=\"sk-estimator-id-36\" type=\"checkbox\" ><label for=\"sk-estimator-id-36\" class=\"sk-toggleable__label sk-toggleable__label-arrow\">Pipeline</label><div class=\"sk-toggleable__content\"><pre>Pipeline(steps=[(&#x27;tf&#x27;, TfidfVectorizer()), (&#x27;rf&#x27;, RandomForestClassifier())])</pre></div></div></div><div class=\"sk-serial\"><div class=\"sk-item\"><div class=\"sk-estimator sk-toggleable\"><input class=\"sk-toggleable__control sk-hidden--visually\" id=\"sk-estimator-id-37\" type=\"checkbox\" ><label for=\"sk-estimator-id-37\" class=\"sk-toggleable__label sk-toggleable__label-arrow\">TfidfVectorizer</label><div class=\"sk-toggleable__content\"><pre>TfidfVectorizer()</pre></div></div></div><div class=\"sk-item\"><div class=\"sk-estimator sk-toggleable\"><input class=\"sk-toggleable__control sk-hidden--visually\" id=\"sk-estimator-id-38\" type=\"checkbox\" ><label for=\"sk-estimator-id-38\" class=\"sk-toggleable__label sk-toggleable__label-arrow\">RandomForestClassifier</label><div class=\"sk-toggleable__content\"><pre>RandomForestClassifier()</pre></div></div></div></div></div></div></div>"
      ],
      "text/plain": [
       "Pipeline(steps=[('tf', TfidfVectorizer()), ('rf', RandomForestClassifier())])"
      ]
     },
     "execution_count": 113,
     "metadata": {},
     "output_type": "execute_result"
    }
   ],
   "source": [
    "# fit with default parameters\n",
    "rf_tdf.fit(X_train, y_train)"
   ]
  },
  {
   "cell_type": "code",
   "execution_count": 114,
   "id": "c6018f5b-c340-485d-82b9-9039c5542546",
   "metadata": {
    "execution": {
     "iopub.execute_input": "2022-12-23T01:04:53.154322Z",
     "iopub.status.busy": "2022-12-23T01:04:53.154236Z",
     "iopub.status.idle": "2022-12-23T01:04:54.346111Z",
     "shell.execute_reply": "2022-12-23T01:04:54.345609Z",
     "shell.execute_reply.started": "2022-12-23T01:04:53.154311Z"
    },
    "tags": []
   },
   "outputs": [
    {
     "data": {
      "text/plain": [
       "(0.9997856836690956, 0.7918988426918131)"
      ]
     },
     "execution_count": 114,
     "metadata": {},
     "output_type": "execute_result"
    }
   ],
   "source": [
    "# score train and test data with default parameters\n",
    "rf_tdf.score(X_train, y_train), rf_tdf.score(X_test, y_test)"
   ]
  },
  {
   "cell_type": "markdown",
   "id": "a37ec120-10fd-455c-a8d2-2c7f385f80c0",
   "metadata": {},
   "source": [
    "Even though these models are overfit on the training data, like we saw on Decision Tree classifier, the Random Forest classifier is generalizing to the test data fairly well.  With default settings this is an accuracy increase of 27 percentage points over the baseline and about 5 points better than the Decision Tree classifier."
   ]
  },
  {
   "cell_type": "markdown",
   "id": "5f8b5225-da26-41cd-8dbc-a83f47982fac",
   "metadata": {},
   "source": [
    "#### GridSearch\n",
    "\n",
    "GridSearch to use coarse hyperparameter searching, instead of default parameters, in order to find and select the best model for tuning."
   ]
  },
  {
   "cell_type": "markdown",
   "id": "4ed2b571-03e3-4131-ba04-2761f7e6ba9c",
   "metadata": {},
   "source": [
    "For the first set of parameters in the grid search, I'll use same parameters that yielded the best results from the Decision Trees section for each vectorizer."
   ]
  },
  {
   "cell_type": "markdown",
   "id": "befe0063-0d5b-4f9f-b34f-162f0f670e26",
   "metadata": {},
   "source": [
    "GridSearching both CountVectorizer and TfidfVectorizer"
   ]
  },
  {
   "cell_type": "code",
   "execution_count": 115,
   "id": "0bff1d96-ba79-49b3-a022-6e9781e14f6c",
   "metadata": {
    "execution": {
     "iopub.execute_input": "2022-12-23T01:04:54.346792Z",
     "iopub.status.busy": "2022-12-23T01:04:54.346708Z",
     "iopub.status.idle": "2022-12-23T01:04:54.349160Z",
     "shell.execute_reply": "2022-12-23T01:04:54.348817Z",
     "shell.execute_reply.started": "2022-12-23T01:04:54.346782Z"
    },
    "tags": []
   },
   "outputs": [],
   "source": [
    "# set two\n",
    "# cv_rf_params = {\n",
    "#     'cv__stop_words': ['english'],\n",
    "#     'cv__max_df': [0.85, 0.90],\n",
    "#     'cv__min_df': [6],\n",
    "#     'cv__ngram_range': [(1,2), (1,3)],\n",
    "#     'cv__max_features': [5_000, 10_000],\n",
    "#     'rf__n_estimators': [750, 1000, 1500],\n",
    "#     'rf__max_depth': [200, 500],\n",
    "#     'rf__max_samples': [0.85, 0.9],\n",
    "#     'rf__max_features': ['sqrt', 'log2']\n",
    "# }\n",
    "\n",
    "# set one\n",
    "# cv_rf_params = {\n",
    "#     'cv__stop_words': ['english'],\n",
    "#     'cv__max_df': [0.8, 0.85, 0.90],\n",
    "#     'cv__min_df': [3, 6, 9],\n",
    "#     'cv__ngram_range': [(1,2), (1,3)],\n",
    "#     'cv__max_features': [5_000, 10_000, 15_000],\n",
    "#     'rf__n_estimators': [100, 500, 750],\n",
    "#     'rf__max_depth': [50, 100, 200],\n",
    "#     'rf__max_samples': [0.8, 0.9, 1.0],\n",
    "#     'rf__max_features': ['sqrt', 'log2']\n",
    "# }"
   ]
  },
  {
   "cell_type": "code",
   "execution_count": 116,
   "id": "36deae92-67bf-4c59-8a3e-027045018e68",
   "metadata": {
    "execution": {
     "iopub.execute_input": "2022-12-23T01:04:54.349852Z",
     "iopub.status.busy": "2022-12-23T01:04:54.349773Z",
     "iopub.status.idle": "2022-12-23T01:04:54.351985Z",
     "shell.execute_reply": "2022-12-23T01:04:54.351623Z",
     "shell.execute_reply.started": "2022-12-23T01:04:54.349842Z"
    },
    "tags": []
   },
   "outputs": [],
   "source": [
    "# # configure GridSearch\n",
    "# gs_rf_cv = GridSearchCV(rf_cv, cv_rf_params, n_jobs=-1, verbose=1)\n",
    "\n",
    "# # fit with training data\n",
    "# gs_rf_cv.fit(X_train, y_train)\n",
    "\n",
    "# # output the best params after GridSearch is complete\n",
    "# gs_rf_cv.best_params_"
   ]
  },
  {
   "cell_type": "code",
   "execution_count": 117,
   "id": "afe5cee4-945c-4d92-ab76-22c24c058b65",
   "metadata": {
    "execution": {
     "iopub.execute_input": "2022-12-23T01:04:54.352758Z",
     "iopub.status.busy": "2022-12-23T01:04:54.352646Z",
     "iopub.status.idle": "2022-12-23T01:04:54.355159Z",
     "shell.execute_reply": "2022-12-23T01:04:54.354662Z",
     "shell.execute_reply.started": "2022-12-23T01:04:54.352739Z"
    },
    "tags": []
   },
   "outputs": [],
   "source": [
    "# # get train and test scores from the model fit with the parameters from \n",
    "# # GridSearch\n",
    "# gs_rf_cv.score(X_train, y_train), gs_rf_cv.score(X_test, y_test)"
   ]
  },
  {
   "cell_type": "markdown",
   "id": "db6aea5c-a120-477a-8a8d-768617aedfc0",
   "metadata": {
    "execution": {
     "iopub.execute_input": "2022-12-20T23:04:01.541725Z",
     "iopub.status.busy": "2022-12-20T23:04:01.541305Z",
     "iopub.status.idle": "2022-12-20T23:47:49.726965Z",
     "shell.execute_reply": "2022-12-20T23:47:49.725953Z",
     "shell.execute_reply.started": "2022-12-20T23:04:01.541664Z"
    },
    "tags": []
   },
   "source": [
    "Random Forest w/CountVectorizer Results\n",
    "- set two (0.9962137448206887, 0.8009001285897985)\n",
    "    - 'cv__max_df': 0.9,\n",
    "    - 'cv__max_features': 10000,\n",
    "    - 'cv__min_df': 6,\n",
    "    - 'cv__ngram_range': (1, 2),\n",
    "    - 'cv__stop_words': 'english',\n",
    "    - 'rf__max_depth': 500,\n",
    "    - 'rf__max_features': 'log2',\n",
    "    - 'rf__max_samples': 0.85,\n",
    "    - 'rf__n_estimators': 1000\n",
    "\n",
    "- set one (0.9864980711530219, 0.8015430775825118)\n",
    "    - 'cv__max_df': 0.85,\n",
    "    - 'cv__max_features': 5000,\n",
    "    - 'cv__min_df': 6,\n",
    "    - 'cv__ngram_range': (1, 2),\n",
    "    - 'cv__stop_words': 'english',\n",
    "    - 'rf__max_depth': 200,\n",
    "    - 'rf__max_features': 'log2',\n",
    "    - 'rf__max_samples': 0.9,\n",
    "    - 'rf__n_estimators': 750"
   ]
  },
  {
   "cell_type": "code",
   "execution_count": 118,
   "id": "71881902-b486-4ea7-b207-6316a8bde205",
   "metadata": {
    "execution": {
     "iopub.execute_input": "2022-12-23T01:04:54.355859Z",
     "iopub.status.busy": "2022-12-23T01:04:54.355756Z",
     "iopub.status.idle": "2022-12-23T01:04:54.359543Z",
     "shell.execute_reply": "2022-12-23T01:04:54.359085Z",
     "shell.execute_reply.started": "2022-12-23T01:04:54.355848Z"
    },
    "tags": []
   },
   "outputs": [],
   "source": [
    "# set three\n",
    "tdf_rf_params = {\n",
    "    'tf__stop_words': ['english'],\n",
    "    'tf__max_features': [10_000],\n",
    "    'tf__min_df': [6],\n",
    "    'tf__ngram_range': [(1,2)],\n",
    "    'rf__n_estimators': [100, 500, 1000],\n",
    "    'rf__max_depth': [50, 100, 200],\n",
    "    'rf__max_samples': [0.8, 0.9, 1.0],\n",
    "    'rf__max_features': ['sqrt', 'log2']\n",
    "}\n",
    "\n",
    "# set one\n",
    "# tdf_rf_params = {\n",
    "#     'tf__stop_words': ['english'],\n",
    "#     'tf__max_features': [10_000, 15_000],\n",
    "#     'tf__min_df': [3, 6, 9],\n",
    "#     'tf__ngram_range': [(1,2), (1,3)]#,\n",
    "#     # 'rf__n_estimators': [100, 500, 750],\n",
    "#     # 'rf__max_depth': [50, 100, 200],\n",
    "#     # 'rf__max_samples': [0.8, 0.9, 1.0],\n",
    "#     # 'rf__max_features': ['sqrt', 'log2']\n",
    "# }"
   ]
  },
  {
   "cell_type": "code",
   "execution_count": 119,
   "id": "142317fc-ca0a-4aab-a765-ff65392f7fea",
   "metadata": {
    "execution": {
     "iopub.execute_input": "2022-12-23T01:04:54.360482Z",
     "iopub.status.busy": "2022-12-23T01:04:54.360346Z",
     "iopub.status.idle": "2022-12-23T01:04:54.362543Z",
     "shell.execute_reply": "2022-12-23T01:04:54.362181Z",
     "shell.execute_reply.started": "2022-12-23T01:04:54.360470Z"
    },
    "tags": []
   },
   "outputs": [],
   "source": [
    "# # configure GridSearch\n",
    "# gs_rf_tdf = GridSearchCV(rf_tdf, tdf_rf_params, n_jobs=-1, verbose=1)\n",
    "\n",
    "# # fit with training data\n",
    "# gs_rf_tdf.fit(X_train, y_train)\n",
    "\n",
    "# # output the best params after GridSearch is complete\n",
    "# gs_rf_tdf.best_params_"
   ]
  },
  {
   "cell_type": "code",
   "execution_count": 120,
   "id": "8f718c8a-c7f1-46d9-8081-f00cbeb716a2",
   "metadata": {
    "execution": {
     "iopub.execute_input": "2022-12-23T01:04:54.363302Z",
     "iopub.status.busy": "2022-12-23T01:04:54.363206Z",
     "iopub.status.idle": "2022-12-23T01:04:54.365443Z",
     "shell.execute_reply": "2022-12-23T01:04:54.365101Z",
     "shell.execute_reply.started": "2022-12-23T01:04:54.363290Z"
    },
    "tags": []
   },
   "outputs": [],
   "source": [
    "# # get train and test scores from the model fit with the parameters from \n",
    "# # GridSearch\n",
    "# gs_rf_tdf.score(X_train, y_train), gs_rf_tdf.score(X_test, y_test)"
   ]
  },
  {
   "cell_type": "markdown",
   "id": "844e79b8-6a80-4ac3-a5d4-27ade48f3d77",
   "metadata": {
    "execution": {
     "iopub.execute_input": "2022-12-20T16:35:28.328699Z",
     "iopub.status.busy": "2022-12-20T16:35:28.328277Z",
     "iopub.status.idle": "2022-12-20T16:46:06.320389Z",
     "shell.execute_reply": "2022-12-20T16:46:06.319904Z",
     "shell.execute_reply.started": "2022-12-20T16:35:28.328664Z"
    },
    "tags": []
   },
   "source": [
    "Random Forest w/TfidfVectorizer Results\n",
    "- set three (0.9933561937419632, 0.7931847406772397)\n",
    "     - 'rf__max_depth': 200,\n",
    "     - 'rf__max_features': 'log2',\n",
    "     - 'rf__max_samples': 1.0,\n",
    "     - 'rf__n_estimators': 1000,\n",
    "     - 'tf__max_features': 10000,\n",
    "     - 'tf__min_df': 6,\n",
    "     - 'tf__ngram_range': (1, 2),\n",
    "     - 'tf__stop_words': 'english'\n",
    "\n",
    "- set two (0.9993570510072868, 0.8002571795970853)\n",
    "     - 'tf__max_features': 10000,\n",
    "     - 'tf__min_df': 6,\n",
    "     - 'tf__ngram_range': (1, 2),\n",
    "     - 'tf__stop_words': 'english'\n",
    "    \n",
    "- set one few tf params (0.9993570510072868, 0.7916845263609087)\n",
    "     - 'tf__max_features': 10000, 'tf__min_df': 6, 'tf__stop_words': 'english'"
   ]
  },
  {
   "cell_type": "markdown",
   "id": "764715f2-32f4-471c-b519-ac4fde3c97da",
   "metadata": {},
   "source": [
    "#### Best Random Forest\n",
    "\n",
    "The best performing Random Forest:\n",
    "- Train: .986\n",
    "- Test:  .802\n",
    "\n",
    "Params\n",
    "- 'cv__max_df': 0.85,\n",
    "- 'cv__max_features': 5000,\n",
    "- 'cv__min_df': 6,\n",
    "- 'cv__ngram_range': (1, 2),\n",
    "- 'cv__stop_words': 'english',\n",
    "- 'rf__max_depth': 200,\n",
    "- 'rf__max_features': 'log2',\n",
    "- 'rf__max_samples': 0.9,\n",
    "- 'rf__n_estimators': 750\n",
    "\n",
    "The Random Forest models, appear to be the highest performing so far.  Even though these models are showing they are overfit to the training data, they are still generalizing to the test data fairly well. It is likely a front runner for choice as the production model for this project, but I will wait until I finish with the modeling before making that decision."
   ]
  },
  {
   "cell_type": "markdown",
   "id": "1e94f511-0f3f-4734-84dd-6615218d5b25",
   "metadata": {},
   "source": [
    "### k Nearest Neighbors"
   ]
  },
  {
   "cell_type": "markdown",
   "id": "eea95e7a-a162-46d1-b586-74d11ecf1b54",
   "metadata": {},
   "source": [
    "Now that I've evaluated two different tree-based models, let's look at kNN and see how it performs. With kNN the data will need to be scaled as well, so I'll configure a pipeline."
   ]
  },
  {
   "cell_type": "markdown",
   "id": "b203cb1a-b7a0-4b58-87a9-ab8f743a1967",
   "metadata": {},
   "source": [
    "#### Configure Random k Nearest Neighors Pipelines"
   ]
  },
  {
   "cell_type": "markdown",
   "id": "44a01688-56c2-431c-9027-f07b8e40d845",
   "metadata": {},
   "source": [
    "kNN with CountVectorizer"
   ]
  },
  {
   "cell_type": "code",
   "execution_count": 121,
   "id": "2c9cf668-3abb-4932-9bda-a69ad8573649",
   "metadata": {
    "execution": {
     "iopub.execute_input": "2022-12-23T01:04:54.366273Z",
     "iopub.status.busy": "2022-12-23T01:04:54.366132Z",
     "iopub.status.idle": "2022-12-23T01:04:54.368851Z",
     "shell.execute_reply": "2022-12-23T01:04:54.368498Z",
     "shell.execute_reply.started": "2022-12-23T01:04:54.366262Z"
    },
    "tags": []
   },
   "outputs": [],
   "source": [
    "knn_pipe = Pipeline([\n",
    "    ('cv', CountVectorizer()),\n",
    "    ('ss', StandardScaler(with_mean=False)),\n",
    "    ('knn', KNeighborsClassifier())\n",
    "])"
   ]
  },
  {
   "cell_type": "code",
   "execution_count": 122,
   "id": "f98dee5a-1148-4dc4-9a86-85aa30e286ec",
   "metadata": {
    "execution": {
     "iopub.execute_input": "2022-12-23T01:04:54.369730Z",
     "iopub.status.busy": "2022-12-23T01:04:54.369579Z",
     "iopub.status.idle": "2022-12-23T01:04:54.892390Z",
     "shell.execute_reply": "2022-12-23T01:04:54.892041Z",
     "shell.execute_reply.started": "2022-12-23T01:04:54.369711Z"
    },
    "tags": []
   },
   "outputs": [
    {
     "data": {
      "text/html": [
       "<style>#sk-container-id-13 {color: black;background-color: white;}#sk-container-id-13 pre{padding: 0;}#sk-container-id-13 div.sk-toggleable {background-color: white;}#sk-container-id-13 label.sk-toggleable__label {cursor: pointer;display: block;width: 100%;margin-bottom: 0;padding: 0.3em;box-sizing: border-box;text-align: center;}#sk-container-id-13 label.sk-toggleable__label-arrow:before {content: \"▸\";float: left;margin-right: 0.25em;color: #696969;}#sk-container-id-13 label.sk-toggleable__label-arrow:hover:before {color: black;}#sk-container-id-13 div.sk-estimator:hover label.sk-toggleable__label-arrow:before {color: black;}#sk-container-id-13 div.sk-toggleable__content {max-height: 0;max-width: 0;overflow: hidden;text-align: left;background-color: #f0f8ff;}#sk-container-id-13 div.sk-toggleable__content pre {margin: 0.2em;color: black;border-radius: 0.25em;background-color: #f0f8ff;}#sk-container-id-13 input.sk-toggleable__control:checked~div.sk-toggleable__content {max-height: 200px;max-width: 100%;overflow: auto;}#sk-container-id-13 input.sk-toggleable__control:checked~label.sk-toggleable__label-arrow:before {content: \"▾\";}#sk-container-id-13 div.sk-estimator input.sk-toggleable__control:checked~label.sk-toggleable__label {background-color: #d4ebff;}#sk-container-id-13 div.sk-label input.sk-toggleable__control:checked~label.sk-toggleable__label {background-color: #d4ebff;}#sk-container-id-13 input.sk-hidden--visually {border: 0;clip: rect(1px 1px 1px 1px);clip: rect(1px, 1px, 1px, 1px);height: 1px;margin: -1px;overflow: hidden;padding: 0;position: absolute;width: 1px;}#sk-container-id-13 div.sk-estimator {font-family: monospace;background-color: #f0f8ff;border: 1px dotted black;border-radius: 0.25em;box-sizing: border-box;margin-bottom: 0.5em;}#sk-container-id-13 div.sk-estimator:hover {background-color: #d4ebff;}#sk-container-id-13 div.sk-parallel-item::after {content: \"\";width: 100%;border-bottom: 1px solid gray;flex-grow: 1;}#sk-container-id-13 div.sk-label:hover label.sk-toggleable__label {background-color: #d4ebff;}#sk-container-id-13 div.sk-serial::before {content: \"\";position: absolute;border-left: 1px solid gray;box-sizing: border-box;top: 0;bottom: 0;left: 50%;z-index: 0;}#sk-container-id-13 div.sk-serial {display: flex;flex-direction: column;align-items: center;background-color: white;padding-right: 0.2em;padding-left: 0.2em;position: relative;}#sk-container-id-13 div.sk-item {position: relative;z-index: 1;}#sk-container-id-13 div.sk-parallel {display: flex;align-items: stretch;justify-content: center;background-color: white;position: relative;}#sk-container-id-13 div.sk-item::before, #sk-container-id-13 div.sk-parallel-item::before {content: \"\";position: absolute;border-left: 1px solid gray;box-sizing: border-box;top: 0;bottom: 0;left: 50%;z-index: -1;}#sk-container-id-13 div.sk-parallel-item {display: flex;flex-direction: column;z-index: 1;position: relative;background-color: white;}#sk-container-id-13 div.sk-parallel-item:first-child::after {align-self: flex-end;width: 50%;}#sk-container-id-13 div.sk-parallel-item:last-child::after {align-self: flex-start;width: 50%;}#sk-container-id-13 div.sk-parallel-item:only-child::after {width: 0;}#sk-container-id-13 div.sk-dashed-wrapped {border: 1px dashed gray;margin: 0 0.4em 0.5em 0.4em;box-sizing: border-box;padding-bottom: 0.4em;background-color: white;}#sk-container-id-13 div.sk-label label {font-family: monospace;font-weight: bold;display: inline-block;line-height: 1.2em;}#sk-container-id-13 div.sk-label-container {text-align: center;}#sk-container-id-13 div.sk-container {/* jupyter's `normalize.less` sets `[hidden] { display: none; }` but bootstrap.min.css set `[hidden] { display: none !important; }` so we also need the `!important` here to be able to override the default hidden behavior on the sphinx rendered scikit-learn.org. See: https://github.com/scikit-learn/scikit-learn/issues/21755 */display: inline-block !important;position: relative;}#sk-container-id-13 div.sk-text-repr-fallback {display: none;}</style><div id=\"sk-container-id-13\" class=\"sk-top-container\"><div class=\"sk-text-repr-fallback\"><pre>Pipeline(steps=[(&#x27;cv&#x27;, CountVectorizer()),\n",
       "                (&#x27;ss&#x27;, StandardScaler(with_mean=False)),\n",
       "                (&#x27;knn&#x27;, KNeighborsClassifier())])</pre><b>In a Jupyter environment, please rerun this cell to show the HTML representation or trust the notebook. <br />On GitHub, the HTML representation is unable to render, please try loading this page with nbviewer.org.</b></div><div class=\"sk-container\" hidden><div class=\"sk-item sk-dashed-wrapped\"><div class=\"sk-label-container\"><div class=\"sk-label sk-toggleable\"><input class=\"sk-toggleable__control sk-hidden--visually\" id=\"sk-estimator-id-39\" type=\"checkbox\" ><label for=\"sk-estimator-id-39\" class=\"sk-toggleable__label sk-toggleable__label-arrow\">Pipeline</label><div class=\"sk-toggleable__content\"><pre>Pipeline(steps=[(&#x27;cv&#x27;, CountVectorizer()),\n",
       "                (&#x27;ss&#x27;, StandardScaler(with_mean=False)),\n",
       "                (&#x27;knn&#x27;, KNeighborsClassifier())])</pre></div></div></div><div class=\"sk-serial\"><div class=\"sk-item\"><div class=\"sk-estimator sk-toggleable\"><input class=\"sk-toggleable__control sk-hidden--visually\" id=\"sk-estimator-id-40\" type=\"checkbox\" ><label for=\"sk-estimator-id-40\" class=\"sk-toggleable__label sk-toggleable__label-arrow\">CountVectorizer</label><div class=\"sk-toggleable__content\"><pre>CountVectorizer()</pre></div></div></div><div class=\"sk-item\"><div class=\"sk-estimator sk-toggleable\"><input class=\"sk-toggleable__control sk-hidden--visually\" id=\"sk-estimator-id-41\" type=\"checkbox\" ><label for=\"sk-estimator-id-41\" class=\"sk-toggleable__label sk-toggleable__label-arrow\">StandardScaler</label><div class=\"sk-toggleable__content\"><pre>StandardScaler(with_mean=False)</pre></div></div></div><div class=\"sk-item\"><div class=\"sk-estimator sk-toggleable\"><input class=\"sk-toggleable__control sk-hidden--visually\" id=\"sk-estimator-id-42\" type=\"checkbox\" ><label for=\"sk-estimator-id-42\" class=\"sk-toggleable__label sk-toggleable__label-arrow\">KNeighborsClassifier</label><div class=\"sk-toggleable__content\"><pre>KNeighborsClassifier()</pre></div></div></div></div></div></div></div>"
      ],
      "text/plain": [
       "Pipeline(steps=[('cv', CountVectorizer()),\n",
       "                ('ss', StandardScaler(with_mean=False)),\n",
       "                ('knn', KNeighborsClassifier())])"
      ]
     },
     "execution_count": 122,
     "metadata": {},
     "output_type": "execute_result"
    }
   ],
   "source": [
    "# fit with default parameters\n",
    "knn_pipe.fit(X_train, y_train)"
   ]
  },
  {
   "cell_type": "code",
   "execution_count": 123,
   "id": "3e9e3359-cbe7-40a9-90c9-ac9b25bdac7d",
   "metadata": {
    "execution": {
     "iopub.execute_input": "2022-12-23T01:04:54.893297Z",
     "iopub.status.busy": "2022-12-23T01:04:54.893202Z",
     "iopub.status.idle": "2022-12-23T01:05:05.335663Z",
     "shell.execute_reply": "2022-12-23T01:05:05.335335Z",
     "shell.execute_reply.started": "2022-12-23T01:04:54.893286Z"
    },
    "tags": []
   },
   "outputs": [
    {
     "data": {
      "text/plain": [
       "(0.735533647663952, 0.6050150021431633)"
      ]
     },
     "execution_count": 123,
     "metadata": {},
     "output_type": "execute_result"
    }
   ],
   "source": [
    "# score train and test with default parameters\n",
    "knn_pipe.score(X_train, y_train), knn_pipe.score(X_test, y_test)"
   ]
  },
  {
   "cell_type": "markdown",
   "id": "3e460762-157d-4b19-a599-8d65f06bef3b",
   "metadata": {},
   "source": [
    "kNN with TfidfVectorizer"
   ]
  },
  {
   "cell_type": "code",
   "execution_count": 124,
   "id": "03df8e3a-1bf7-4453-8eab-29a3da6232a5",
   "metadata": {
    "execution": {
     "iopub.execute_input": "2022-12-23T01:05:05.336324Z",
     "iopub.status.busy": "2022-12-23T01:05:05.336239Z",
     "iopub.status.idle": "2022-12-23T01:05:05.338911Z",
     "shell.execute_reply": "2022-12-23T01:05:05.338599Z",
     "shell.execute_reply.started": "2022-12-23T01:05:05.336313Z"
    },
    "tags": []
   },
   "outputs": [],
   "source": [
    "knn_pipe_tf = Pipeline([\n",
    "    ('tf', TfidfVectorizer()),\n",
    "    ('ss', StandardScaler(with_mean=False)),\n",
    "    ('knn', KNeighborsClassifier())\n",
    "])"
   ]
  },
  {
   "cell_type": "code",
   "execution_count": 125,
   "id": "15716e9d-6fe1-4774-b7ea-eb6621151af9",
   "metadata": {
    "execution": {
     "iopub.execute_input": "2022-12-23T01:05:05.339551Z",
     "iopub.status.busy": "2022-12-23T01:05:05.339472Z",
     "iopub.status.idle": "2022-12-23T01:05:05.814523Z",
     "shell.execute_reply": "2022-12-23T01:05:05.814198Z",
     "shell.execute_reply.started": "2022-12-23T01:05:05.339542Z"
    },
    "tags": []
   },
   "outputs": [
    {
     "data": {
      "text/html": [
       "<style>#sk-container-id-14 {color: black;background-color: white;}#sk-container-id-14 pre{padding: 0;}#sk-container-id-14 div.sk-toggleable {background-color: white;}#sk-container-id-14 label.sk-toggleable__label {cursor: pointer;display: block;width: 100%;margin-bottom: 0;padding: 0.3em;box-sizing: border-box;text-align: center;}#sk-container-id-14 label.sk-toggleable__label-arrow:before {content: \"▸\";float: left;margin-right: 0.25em;color: #696969;}#sk-container-id-14 label.sk-toggleable__label-arrow:hover:before {color: black;}#sk-container-id-14 div.sk-estimator:hover label.sk-toggleable__label-arrow:before {color: black;}#sk-container-id-14 div.sk-toggleable__content {max-height: 0;max-width: 0;overflow: hidden;text-align: left;background-color: #f0f8ff;}#sk-container-id-14 div.sk-toggleable__content pre {margin: 0.2em;color: black;border-radius: 0.25em;background-color: #f0f8ff;}#sk-container-id-14 input.sk-toggleable__control:checked~div.sk-toggleable__content {max-height: 200px;max-width: 100%;overflow: auto;}#sk-container-id-14 input.sk-toggleable__control:checked~label.sk-toggleable__label-arrow:before {content: \"▾\";}#sk-container-id-14 div.sk-estimator input.sk-toggleable__control:checked~label.sk-toggleable__label {background-color: #d4ebff;}#sk-container-id-14 div.sk-label input.sk-toggleable__control:checked~label.sk-toggleable__label {background-color: #d4ebff;}#sk-container-id-14 input.sk-hidden--visually {border: 0;clip: rect(1px 1px 1px 1px);clip: rect(1px, 1px, 1px, 1px);height: 1px;margin: -1px;overflow: hidden;padding: 0;position: absolute;width: 1px;}#sk-container-id-14 div.sk-estimator {font-family: monospace;background-color: #f0f8ff;border: 1px dotted black;border-radius: 0.25em;box-sizing: border-box;margin-bottom: 0.5em;}#sk-container-id-14 div.sk-estimator:hover {background-color: #d4ebff;}#sk-container-id-14 div.sk-parallel-item::after {content: \"\";width: 100%;border-bottom: 1px solid gray;flex-grow: 1;}#sk-container-id-14 div.sk-label:hover label.sk-toggleable__label {background-color: #d4ebff;}#sk-container-id-14 div.sk-serial::before {content: \"\";position: absolute;border-left: 1px solid gray;box-sizing: border-box;top: 0;bottom: 0;left: 50%;z-index: 0;}#sk-container-id-14 div.sk-serial {display: flex;flex-direction: column;align-items: center;background-color: white;padding-right: 0.2em;padding-left: 0.2em;position: relative;}#sk-container-id-14 div.sk-item {position: relative;z-index: 1;}#sk-container-id-14 div.sk-parallel {display: flex;align-items: stretch;justify-content: center;background-color: white;position: relative;}#sk-container-id-14 div.sk-item::before, #sk-container-id-14 div.sk-parallel-item::before {content: \"\";position: absolute;border-left: 1px solid gray;box-sizing: border-box;top: 0;bottom: 0;left: 50%;z-index: -1;}#sk-container-id-14 div.sk-parallel-item {display: flex;flex-direction: column;z-index: 1;position: relative;background-color: white;}#sk-container-id-14 div.sk-parallel-item:first-child::after {align-self: flex-end;width: 50%;}#sk-container-id-14 div.sk-parallel-item:last-child::after {align-self: flex-start;width: 50%;}#sk-container-id-14 div.sk-parallel-item:only-child::after {width: 0;}#sk-container-id-14 div.sk-dashed-wrapped {border: 1px dashed gray;margin: 0 0.4em 0.5em 0.4em;box-sizing: border-box;padding-bottom: 0.4em;background-color: white;}#sk-container-id-14 div.sk-label label {font-family: monospace;font-weight: bold;display: inline-block;line-height: 1.2em;}#sk-container-id-14 div.sk-label-container {text-align: center;}#sk-container-id-14 div.sk-container {/* jupyter's `normalize.less` sets `[hidden] { display: none; }` but bootstrap.min.css set `[hidden] { display: none !important; }` so we also need the `!important` here to be able to override the default hidden behavior on the sphinx rendered scikit-learn.org. See: https://github.com/scikit-learn/scikit-learn/issues/21755 */display: inline-block !important;position: relative;}#sk-container-id-14 div.sk-text-repr-fallback {display: none;}</style><div id=\"sk-container-id-14\" class=\"sk-top-container\"><div class=\"sk-text-repr-fallback\"><pre>Pipeline(steps=[(&#x27;tf&#x27;, TfidfVectorizer()),\n",
       "                (&#x27;ss&#x27;, StandardScaler(with_mean=False)),\n",
       "                (&#x27;knn&#x27;, KNeighborsClassifier())])</pre><b>In a Jupyter environment, please rerun this cell to show the HTML representation or trust the notebook. <br />On GitHub, the HTML representation is unable to render, please try loading this page with nbviewer.org.</b></div><div class=\"sk-container\" hidden><div class=\"sk-item sk-dashed-wrapped\"><div class=\"sk-label-container\"><div class=\"sk-label sk-toggleable\"><input class=\"sk-toggleable__control sk-hidden--visually\" id=\"sk-estimator-id-43\" type=\"checkbox\" ><label for=\"sk-estimator-id-43\" class=\"sk-toggleable__label sk-toggleable__label-arrow\">Pipeline</label><div class=\"sk-toggleable__content\"><pre>Pipeline(steps=[(&#x27;tf&#x27;, TfidfVectorizer()),\n",
       "                (&#x27;ss&#x27;, StandardScaler(with_mean=False)),\n",
       "                (&#x27;knn&#x27;, KNeighborsClassifier())])</pre></div></div></div><div class=\"sk-serial\"><div class=\"sk-item\"><div class=\"sk-estimator sk-toggleable\"><input class=\"sk-toggleable__control sk-hidden--visually\" id=\"sk-estimator-id-44\" type=\"checkbox\" ><label for=\"sk-estimator-id-44\" class=\"sk-toggleable__label sk-toggleable__label-arrow\">TfidfVectorizer</label><div class=\"sk-toggleable__content\"><pre>TfidfVectorizer()</pre></div></div></div><div class=\"sk-item\"><div class=\"sk-estimator sk-toggleable\"><input class=\"sk-toggleable__control sk-hidden--visually\" id=\"sk-estimator-id-45\" type=\"checkbox\" ><label for=\"sk-estimator-id-45\" class=\"sk-toggleable__label sk-toggleable__label-arrow\">StandardScaler</label><div class=\"sk-toggleable__content\"><pre>StandardScaler(with_mean=False)</pre></div></div></div><div class=\"sk-item\"><div class=\"sk-estimator sk-toggleable\"><input class=\"sk-toggleable__control sk-hidden--visually\" id=\"sk-estimator-id-46\" type=\"checkbox\" ><label for=\"sk-estimator-id-46\" class=\"sk-toggleable__label sk-toggleable__label-arrow\">KNeighborsClassifier</label><div class=\"sk-toggleable__content\"><pre>KNeighborsClassifier()</pre></div></div></div></div></div></div></div>"
      ],
      "text/plain": [
       "Pipeline(steps=[('tf', TfidfVectorizer()),\n",
       "                ('ss', StandardScaler(with_mean=False)),\n",
       "                ('knn', KNeighborsClassifier())])"
      ]
     },
     "execution_count": 125,
     "metadata": {},
     "output_type": "execute_result"
    }
   ],
   "source": [
    "# fit with default parameters\n",
    "knn_pipe_tf.fit(X_train, y_train)"
   ]
  },
  {
   "cell_type": "code",
   "execution_count": 126,
   "id": "e73750ba-c073-45c2-bc10-e66b0afaeea8",
   "metadata": {
    "execution": {
     "iopub.execute_input": "2022-12-23T01:05:05.820585Z",
     "iopub.status.busy": "2022-12-23T01:05:05.820447Z",
     "iopub.status.idle": "2022-12-23T01:05:17.155922Z",
     "shell.execute_reply": "2022-12-23T01:05:17.155522Z",
     "shell.execute_reply.started": "2022-12-23T01:05:05.820572Z"
    },
    "tags": []
   },
   "outputs": [
    {
     "data": {
      "text/plain": [
       "(0.8129732818974139, 0.6140162880411487)"
      ]
     },
     "execution_count": 126,
     "metadata": {},
     "output_type": "execute_result"
    }
   ],
   "source": [
    "# score train and test with default parameters\n",
    "knn_pipe_tf.score(X_train, y_train), knn_pipe_tf.score(X_test, y_test)"
   ]
  },
  {
   "cell_type": "markdown",
   "id": "c0261581-7d96-428c-aedd-d614b1b97021",
   "metadata": {},
   "source": [
    "#### GridSearch\n",
    "\n",
    "GridSearch to use coarse hyperparameter searching, instead of default parameters, in order to find and select the best model for tuning."
   ]
  },
  {
   "cell_type": "markdown",
   "id": "a38c6be3-95a4-435f-8c72-03a5ce17b535",
   "metadata": {},
   "source": [
    "GridSearching both CountVectorizer and TfidfVectorizer"
   ]
  },
  {
   "cell_type": "code",
   "execution_count": 127,
   "id": "edadd78f-d16e-4cdf-af55-c100b02e915b",
   "metadata": {
    "execution": {
     "iopub.execute_input": "2022-12-23T01:05:17.157019Z",
     "iopub.status.busy": "2022-12-23T01:05:17.156694Z",
     "iopub.status.idle": "2022-12-23T01:05:17.160474Z",
     "shell.execute_reply": "2022-12-23T01:05:17.160009Z",
     "shell.execute_reply.started": "2022-12-23T01:05:17.157004Z"
    },
    "tags": []
   },
   "outputs": [],
   "source": [
    "# set two\n",
    "cv_knn_params = {\n",
    "    'cv__max_df': [0.85, 0.95],\n",
    "    'cv__max_features':[5000, 10_000],\n",
    "    'cv__min_df': [6],\n",
    "    'cv__ngram_range': [(1, 2), (1,3)],\n",
    "    'cv__stop_words': ['english'],\n",
    "    'knn__n_neighbors': [5, 7],\n",
    "    'knn__weights': ['uniform', 'distance'],\n",
    "    'knn__p': [1, 2]\n",
    "}\n",
    "\n",
    "# set one\n",
    "# cv_knn_params = {\n",
    "#     'cv__max_df': [0.85],\n",
    "#     'cv__max_features':[ 5000],\n",
    "#     'cv__min_df': [6],\n",
    "#     'cv__ngram_range': [(1, 2)],\n",
    "#     'cv__stop_words': ['english'],\n",
    "#     'knn__n_neighbors': [5, 7, 9],\n",
    "#     'knn__weights': ['uniform', 'distance'],\n",
    "#     'knn__p': [1, 2]\n",
    "# }"
   ]
  },
  {
   "cell_type": "code",
   "execution_count": 128,
   "id": "24ff88cc-5caf-4fc0-ae94-eed083991b19",
   "metadata": {
    "execution": {
     "iopub.execute_input": "2022-12-23T01:05:17.161266Z",
     "iopub.status.busy": "2022-12-23T01:05:17.161170Z",
     "iopub.status.idle": "2022-12-23T01:05:17.163452Z",
     "shell.execute_reply": "2022-12-23T01:05:17.163045Z",
     "shell.execute_reply.started": "2022-12-23T01:05:17.161255Z"
    },
    "tags": []
   },
   "outputs": [],
   "source": [
    "# # configure GridSearch\n",
    "# gs_cv_knn = GridSearchCV(knn_pipe, cv_knn_params, n_jobs=-1, verbose=1)\n",
    "\n",
    "# # fit with training data\n",
    "# gs_cv_knn.fit(X_train, y_train)\n",
    "\n",
    "# # output the best params after GridSearch is complete\n",
    "# gs_cv_knn.best_params_"
   ]
  },
  {
   "cell_type": "code",
   "execution_count": 129,
   "id": "0f217ed6-9040-4559-8874-c616e94970b3",
   "metadata": {
    "execution": {
     "iopub.execute_input": "2022-12-23T01:05:17.164283Z",
     "iopub.status.busy": "2022-12-23T01:05:17.164189Z",
     "iopub.status.idle": "2022-12-23T01:05:17.166545Z",
     "shell.execute_reply": "2022-12-23T01:05:17.166138Z",
     "shell.execute_reply.started": "2022-12-23T01:05:17.164271Z"
    },
    "tags": []
   },
   "outputs": [],
   "source": [
    "# # get train and test scores from the model fit with the parameters from \n",
    "# # GridSearch\n",
    "# gs_cv_knn.score(X_train, y_train), gs_cv_knn.score(X_test, y_test)"
   ]
  },
  {
   "cell_type": "markdown",
   "id": "08fa5717-33ee-4d72-856b-a05791fb0823",
   "metadata": {
    "execution": {
     "iopub.execute_input": "2022-12-20T17:22:59.589777Z",
     "iopub.status.busy": "2022-12-20T17:22:59.589348Z"
    },
    "tags": []
   },
   "source": [
    "kNN w/CountVectorizer Results\n",
    "- set two (0.9992141734533505, 0.6217316759537077)\n",
    "    - 'cv__max_df': 0.85,\n",
    "    - 'cv__max_features': 5000,\n",
    "    - 'cv__min_df': 6,\n",
    "    - 'cv__ngram_range': (1, 3),\n",
    "    - 'cv__stop_words': 'english',\n",
    "    - 'knn__n_neighbors': 5,\n",
    "    - 'knn__p': 2,\n",
    "    - 'knn__weights': 'distance'\n",
    "\n",
    "- set one (0.9992141734533505, 0.6243034719245607)\n",
    "    - 'cv__max_df': 0.85,\n",
    "    - 'cv__max_features': 5000,\n",
    "    - 'cv__min_df': 6,\n",
    "    - 'cv__ngram_range': (1, 2),\n",
    "    - 'cv__stop_words': 'english',\n",
    "    - 'knn__n_neighbors': 5,\n",
    "    - 'knn__weights': 'distance'"
   ]
  },
  {
   "cell_type": "code",
   "execution_count": 130,
   "id": "4701106b-53a2-403e-af24-bd2e5b534f7c",
   "metadata": {
    "execution": {
     "iopub.execute_input": "2022-12-23T01:05:17.167485Z",
     "iopub.status.busy": "2022-12-23T01:05:17.167356Z",
     "iopub.status.idle": "2022-12-23T01:05:17.170990Z",
     "shell.execute_reply": "2022-12-23T01:05:17.170546Z",
     "shell.execute_reply.started": "2022-12-23T01:05:17.167472Z"
    },
    "tags": []
   },
   "outputs": [],
   "source": [
    "# set two\n",
    "tdf_knn_params = {\n",
    "    'tf__stop_words': ['english'],\n",
    "    'tf__max_features': [7_500, 10_000],\n",
    "    'tf__min_df': [6],\n",
    "    'tf__ngram_range': [(1,2), (1,3)],\n",
    "    'knn__n_neighbors': [5, 7],\n",
    "    'knn__weights': ['uniform', 'distance'],\n",
    "    'knn__p': [1, 2]\n",
    "}\n",
    "\n",
    "# set one\n",
    "# tdf_knn_params = {\n",
    "#     'tf__stop_words': ['english'],\n",
    "#     'tf__max_features': [10_000],\n",
    "#     'tf__min_df': [6],\n",
    "#     'tf__ngram_range': [(1,2)],\n",
    "#     'knn__n_neighbors': [5, 7, 9],\n",
    "#     'knn__weights': ['uniform', 'distance']\n",
    "# }"
   ]
  },
  {
   "cell_type": "code",
   "execution_count": 131,
   "id": "c64a203c-a686-4b60-aeb1-858bb344a11a",
   "metadata": {
    "execution": {
     "iopub.execute_input": "2022-12-23T01:05:17.171878Z",
     "iopub.status.busy": "2022-12-23T01:05:17.171777Z",
     "iopub.status.idle": "2022-12-23T01:05:17.174509Z",
     "shell.execute_reply": "2022-12-23T01:05:17.174065Z",
     "shell.execute_reply.started": "2022-12-23T01:05:17.171866Z"
    },
    "tags": []
   },
   "outputs": [],
   "source": [
    "# # configure GridSearch\n",
    "# gs_tdf_knn = GridSearchCV(knn_pipe_tf, tdf_knn_params, n_jobs=-1, verbose=1)\n",
    "\n",
    "# # fit with training data\n",
    "# gs_tdf_knn.fit(X_train, y_train)\n",
    "\n",
    "# # output the best params after GridSearch is complete\n",
    "# gs_tdf_knn.best_params_"
   ]
  },
  {
   "cell_type": "code",
   "execution_count": 132,
   "id": "0d0867c6-0045-4daf-98a2-a79161017e44",
   "metadata": {
    "execution": {
     "iopub.execute_input": "2022-12-23T01:05:17.175181Z",
     "iopub.status.busy": "2022-12-23T01:05:17.175089Z",
     "iopub.status.idle": "2022-12-23T01:05:17.177454Z",
     "shell.execute_reply": "2022-12-23T01:05:17.177078Z",
     "shell.execute_reply.started": "2022-12-23T01:05:17.175169Z"
    },
    "tags": []
   },
   "outputs": [],
   "source": [
    "# # get train and test scores from the model fit with the parameters from \n",
    "# # GridSearch\n",
    "# gs_tdf_knn.score(X_train, y_train), gs_tdf_knn.score(X_test, y_test)"
   ]
  },
  {
   "cell_type": "markdown",
   "id": "8537b4d1-27d8-42da-8bd5-26650a3da977",
   "metadata": {
    "execution": {
     "iopub.execute_input": "2022-12-20T17:32:24.252548Z",
     "iopub.status.busy": "2022-12-20T17:32:24.252075Z",
     "iopub.status.idle": "2022-12-20T17:34:26.737075Z",
     "shell.execute_reply": "2022-12-20T17:34:26.736434Z",
     "shell.execute_reply.started": "2022-12-20T17:32:24.252513Z"
    },
    "tags": []
   },
   "source": [
    "kNN w/TfidfVectorizer Results:\n",
    "- set two (0.9993570510072868, 0.5225032147449635)\n",
    "    - 'knn__n_neighbors': 5,\n",
    "    - 'knn__p': 2,\n",
    "    - 'knn__weights': 'distance',\n",
    "    - 'tf__max_features': 7500,\n",
    "    - 'tf__min_df': 6,\n",
    "    - 'tf__ngram_range': (1, 3),\n",
    "    - 'tf__stop_words': 'english'\n",
    "\n",
    "- set one (0.9992141734533505, 0.6243034719245607)\n",
    "    - 'knn__n_neighbors': 5,\n",
    "    - 'knn__weights': 'distance',\n",
    "    - 'tf__max_features': 10000,\n",
    "    - 'tf__min_df': 6,\n",
    "    - 'tf__ngram_range': (1, 2),\n",
    "    - 'tf__stop_words': 'english'"
   ]
  },
  {
   "cell_type": "markdown",
   "id": "1c3a114d-ae42-4d05-b28d-8c6a4ce67fde",
   "metadata": {},
   "source": [
    "This model is not generalizing to the test data very well.  With two grid searches, I was only able to raise the accuracy score about 2 percentage points."
   ]
  },
  {
   "cell_type": "markdown",
   "id": "4c77b7c0-3ab7-4ed5-814f-a307b350033f",
   "metadata": {},
   "source": [
    "#### Best KNN Model\n",
    "\n",
    "The best performing KNN:\n",
    "- Train: 0.999\n",
    "- Test:  0.624\n",
    "\n",
    "Params\n",
    "- 'cv__max_df': 0.85,\n",
    "- 'cv__max_features': 5000,\n",
    "- 'cv__min_df': 6,\n",
    "- 'cv__ngram_range': (1, 2),\n",
    "- 'cv__stop_words': 'english',\n",
    "- 'knn__n_neighbors': 5,\n",
    "- 'knn__weights': 'distance'\n",
    "\n",
    "When considering this kNN model in the context of NLP, it does occur to me that it probably isn't the best choice as kNN suffers with high dimensionality.  I was also considering if the scaling/standardization was needed or not (it was included in the pipeline), due to the features being on the same scale, especially with a TfidfVectorizer.  Since I've decided not to choose this model, I did not spend additional time investigating this."
   ]
  },
  {
   "cell_type": "markdown",
   "id": "9a9ebf73-b325-4c0e-922c-360fef0e89d0",
   "metadata": {
    "tags": []
   },
   "source": [
    "### Logistic Regression"
   ]
  },
  {
   "cell_type": "markdown",
   "id": "740408e2-8300-40a0-9858-4e423140b10b",
   "metadata": {},
   "source": [
    "#### Build Logistic Regression Pipelines\n",
    "\n",
    "To continue exploring various models, I'll configure pipelines for both CountVectorizer and TfidfVectorizer with logistic regression to see the different performance and to be able to GridSearch for optimal parameters."
   ]
  },
  {
   "cell_type": "markdown",
   "id": "2e2c1a3b-049f-4f14-9427-629c0d57cf76",
   "metadata": {},
   "source": [
    "Logistic Regression CountVectorizer"
   ]
  },
  {
   "cell_type": "code",
   "execution_count": 133,
   "id": "48cbe854-4ab2-4521-a086-75c07ece24c7",
   "metadata": {
    "execution": {
     "iopub.execute_input": "2022-12-23T01:05:17.178318Z",
     "iopub.status.busy": "2022-12-23T01:05:17.178170Z",
     "iopub.status.idle": "2022-12-23T01:05:17.181090Z",
     "shell.execute_reply": "2022-12-23T01:05:17.180625Z",
     "shell.execute_reply.started": "2022-12-23T01:05:17.178305Z"
    },
    "tags": []
   },
   "outputs": [],
   "source": [
    "lr_cv_pipe = Pipeline([\n",
    "    ('cv', CountVectorizer()),\n",
    "    ('lr', LogisticRegression(solver='liblinear', max_iter=10_000))\n",
    "])"
   ]
  },
  {
   "cell_type": "code",
   "execution_count": 134,
   "id": "e46baa12-3c61-4514-8195-e93c44b18208",
   "metadata": {
    "execution": {
     "iopub.execute_input": "2022-12-23T01:05:17.181988Z",
     "iopub.status.busy": "2022-12-23T01:05:17.181849Z",
     "iopub.status.idle": "2022-12-23T01:05:18.511316Z",
     "shell.execute_reply": "2022-12-23T01:05:18.510926Z",
     "shell.execute_reply.started": "2022-12-23T01:05:17.181974Z"
    },
    "tags": []
   },
   "outputs": [
    {
     "data": {
      "text/html": [
       "<style>#sk-container-id-15 {color: black;background-color: white;}#sk-container-id-15 pre{padding: 0;}#sk-container-id-15 div.sk-toggleable {background-color: white;}#sk-container-id-15 label.sk-toggleable__label {cursor: pointer;display: block;width: 100%;margin-bottom: 0;padding: 0.3em;box-sizing: border-box;text-align: center;}#sk-container-id-15 label.sk-toggleable__label-arrow:before {content: \"▸\";float: left;margin-right: 0.25em;color: #696969;}#sk-container-id-15 label.sk-toggleable__label-arrow:hover:before {color: black;}#sk-container-id-15 div.sk-estimator:hover label.sk-toggleable__label-arrow:before {color: black;}#sk-container-id-15 div.sk-toggleable__content {max-height: 0;max-width: 0;overflow: hidden;text-align: left;background-color: #f0f8ff;}#sk-container-id-15 div.sk-toggleable__content pre {margin: 0.2em;color: black;border-radius: 0.25em;background-color: #f0f8ff;}#sk-container-id-15 input.sk-toggleable__control:checked~div.sk-toggleable__content {max-height: 200px;max-width: 100%;overflow: auto;}#sk-container-id-15 input.sk-toggleable__control:checked~label.sk-toggleable__label-arrow:before {content: \"▾\";}#sk-container-id-15 div.sk-estimator input.sk-toggleable__control:checked~label.sk-toggleable__label {background-color: #d4ebff;}#sk-container-id-15 div.sk-label input.sk-toggleable__control:checked~label.sk-toggleable__label {background-color: #d4ebff;}#sk-container-id-15 input.sk-hidden--visually {border: 0;clip: rect(1px 1px 1px 1px);clip: rect(1px, 1px, 1px, 1px);height: 1px;margin: -1px;overflow: hidden;padding: 0;position: absolute;width: 1px;}#sk-container-id-15 div.sk-estimator {font-family: monospace;background-color: #f0f8ff;border: 1px dotted black;border-radius: 0.25em;box-sizing: border-box;margin-bottom: 0.5em;}#sk-container-id-15 div.sk-estimator:hover {background-color: #d4ebff;}#sk-container-id-15 div.sk-parallel-item::after {content: \"\";width: 100%;border-bottom: 1px solid gray;flex-grow: 1;}#sk-container-id-15 div.sk-label:hover label.sk-toggleable__label {background-color: #d4ebff;}#sk-container-id-15 div.sk-serial::before {content: \"\";position: absolute;border-left: 1px solid gray;box-sizing: border-box;top: 0;bottom: 0;left: 50%;z-index: 0;}#sk-container-id-15 div.sk-serial {display: flex;flex-direction: column;align-items: center;background-color: white;padding-right: 0.2em;padding-left: 0.2em;position: relative;}#sk-container-id-15 div.sk-item {position: relative;z-index: 1;}#sk-container-id-15 div.sk-parallel {display: flex;align-items: stretch;justify-content: center;background-color: white;position: relative;}#sk-container-id-15 div.sk-item::before, #sk-container-id-15 div.sk-parallel-item::before {content: \"\";position: absolute;border-left: 1px solid gray;box-sizing: border-box;top: 0;bottom: 0;left: 50%;z-index: -1;}#sk-container-id-15 div.sk-parallel-item {display: flex;flex-direction: column;z-index: 1;position: relative;background-color: white;}#sk-container-id-15 div.sk-parallel-item:first-child::after {align-self: flex-end;width: 50%;}#sk-container-id-15 div.sk-parallel-item:last-child::after {align-self: flex-start;width: 50%;}#sk-container-id-15 div.sk-parallel-item:only-child::after {width: 0;}#sk-container-id-15 div.sk-dashed-wrapped {border: 1px dashed gray;margin: 0 0.4em 0.5em 0.4em;box-sizing: border-box;padding-bottom: 0.4em;background-color: white;}#sk-container-id-15 div.sk-label label {font-family: monospace;font-weight: bold;display: inline-block;line-height: 1.2em;}#sk-container-id-15 div.sk-label-container {text-align: center;}#sk-container-id-15 div.sk-container {/* jupyter's `normalize.less` sets `[hidden] { display: none; }` but bootstrap.min.css set `[hidden] { display: none !important; }` so we also need the `!important` here to be able to override the default hidden behavior on the sphinx rendered scikit-learn.org. See: https://github.com/scikit-learn/scikit-learn/issues/21755 */display: inline-block !important;position: relative;}#sk-container-id-15 div.sk-text-repr-fallback {display: none;}</style><div id=\"sk-container-id-15\" class=\"sk-top-container\"><div class=\"sk-text-repr-fallback\"><pre>Pipeline(steps=[(&#x27;cv&#x27;, CountVectorizer()),\n",
       "                (&#x27;lr&#x27;, LogisticRegression(max_iter=10000, solver=&#x27;liblinear&#x27;))])</pre><b>In a Jupyter environment, please rerun this cell to show the HTML representation or trust the notebook. <br />On GitHub, the HTML representation is unable to render, please try loading this page with nbviewer.org.</b></div><div class=\"sk-container\" hidden><div class=\"sk-item sk-dashed-wrapped\"><div class=\"sk-label-container\"><div class=\"sk-label sk-toggleable\"><input class=\"sk-toggleable__control sk-hidden--visually\" id=\"sk-estimator-id-47\" type=\"checkbox\" ><label for=\"sk-estimator-id-47\" class=\"sk-toggleable__label sk-toggleable__label-arrow\">Pipeline</label><div class=\"sk-toggleable__content\"><pre>Pipeline(steps=[(&#x27;cv&#x27;, CountVectorizer()),\n",
       "                (&#x27;lr&#x27;, LogisticRegression(max_iter=10000, solver=&#x27;liblinear&#x27;))])</pre></div></div></div><div class=\"sk-serial\"><div class=\"sk-item\"><div class=\"sk-estimator sk-toggleable\"><input class=\"sk-toggleable__control sk-hidden--visually\" id=\"sk-estimator-id-48\" type=\"checkbox\" ><label for=\"sk-estimator-id-48\" class=\"sk-toggleable__label sk-toggleable__label-arrow\">CountVectorizer</label><div class=\"sk-toggleable__content\"><pre>CountVectorizer()</pre></div></div></div><div class=\"sk-item\"><div class=\"sk-estimator sk-toggleable\"><input class=\"sk-toggleable__control sk-hidden--visually\" id=\"sk-estimator-id-49\" type=\"checkbox\" ><label for=\"sk-estimator-id-49\" class=\"sk-toggleable__label sk-toggleable__label-arrow\">LogisticRegression</label><div class=\"sk-toggleable__content\"><pre>LogisticRegression(max_iter=10000, solver=&#x27;liblinear&#x27;)</pre></div></div></div></div></div></div></div>"
      ],
      "text/plain": [
       "Pipeline(steps=[('cv', CountVectorizer()),\n",
       "                ('lr', LogisticRegression(max_iter=10000, solver='liblinear'))])"
      ]
     },
     "execution_count": 134,
     "metadata": {},
     "output_type": "execute_result"
    }
   ],
   "source": [
    "# fit with mostly defaults, choosing liblinear to be able to use l1 and l2\n",
    "# also increased max_iter for convergence\n",
    "lr_cv_pipe.fit(X_train, y_train)"
   ]
  },
  {
   "cell_type": "code",
   "execution_count": 135,
   "id": "d08be2f6-114f-4a00-9f0c-fb9bfb550ce5",
   "metadata": {
    "execution": {
     "iopub.execute_input": "2022-12-23T01:05:18.512021Z",
     "iopub.status.busy": "2022-12-23T01:05:18.511935Z",
     "iopub.status.idle": "2022-12-23T01:05:19.116335Z",
     "shell.execute_reply": "2022-12-23T01:05:19.116044Z",
     "shell.execute_reply.started": "2022-12-23T01:05:18.512010Z"
    },
    "tags": []
   },
   "outputs": [
    {
     "data": {
      "text/plain": [
       "(0.9360622946135162, 0.8062580368624089)"
      ]
     },
     "execution_count": 135,
     "metadata": {},
     "output_type": "execute_result"
    }
   ],
   "source": [
    "# score train and test with mostly default parameters\n",
    "lr_cv_pipe.score(X_train, y_train), lr_cv_pipe.score(X_test, y_test)"
   ]
  },
  {
   "cell_type": "markdown",
   "id": "0ebe3859-e9a8-4fa3-9246-d07b610eca2a",
   "metadata": {},
   "source": [
    "Logistic Regression TfidfVectorizer"
   ]
  },
  {
   "cell_type": "code",
   "execution_count": 136,
   "id": "7a7ebd63-60be-4994-85c1-87f9efe0f88b",
   "metadata": {
    "execution": {
     "iopub.execute_input": "2022-12-23T01:05:19.117073Z",
     "iopub.status.busy": "2022-12-23T01:05:19.116984Z",
     "iopub.status.idle": "2022-12-23T01:05:19.119778Z",
     "shell.execute_reply": "2022-12-23T01:05:19.119306Z",
     "shell.execute_reply.started": "2022-12-23T01:05:19.117062Z"
    },
    "tags": []
   },
   "outputs": [],
   "source": [
    "lr_tdf_pipe = Pipeline([\n",
    "    ('tf', TfidfVectorizer()),\n",
    "    ('lr', LogisticRegression(solver='liblinear', max_iter=10_000))\n",
    "])"
   ]
  },
  {
   "cell_type": "code",
   "execution_count": 137,
   "id": "284019bf-8742-4c0d-ba82-796ec7b3c190",
   "metadata": {
    "execution": {
     "iopub.execute_input": "2022-12-23T01:05:19.120331Z",
     "iopub.status.busy": "2022-12-23T01:05:19.120254Z",
     "iopub.status.idle": "2022-12-23T01:05:19.666144Z",
     "shell.execute_reply": "2022-12-23T01:05:19.665804Z",
     "shell.execute_reply.started": "2022-12-23T01:05:19.120321Z"
    },
    "tags": []
   },
   "outputs": [
    {
     "data": {
      "text/html": [
       "<style>#sk-container-id-16 {color: black;background-color: white;}#sk-container-id-16 pre{padding: 0;}#sk-container-id-16 div.sk-toggleable {background-color: white;}#sk-container-id-16 label.sk-toggleable__label {cursor: pointer;display: block;width: 100%;margin-bottom: 0;padding: 0.3em;box-sizing: border-box;text-align: center;}#sk-container-id-16 label.sk-toggleable__label-arrow:before {content: \"▸\";float: left;margin-right: 0.25em;color: #696969;}#sk-container-id-16 label.sk-toggleable__label-arrow:hover:before {color: black;}#sk-container-id-16 div.sk-estimator:hover label.sk-toggleable__label-arrow:before {color: black;}#sk-container-id-16 div.sk-toggleable__content {max-height: 0;max-width: 0;overflow: hidden;text-align: left;background-color: #f0f8ff;}#sk-container-id-16 div.sk-toggleable__content pre {margin: 0.2em;color: black;border-radius: 0.25em;background-color: #f0f8ff;}#sk-container-id-16 input.sk-toggleable__control:checked~div.sk-toggleable__content {max-height: 200px;max-width: 100%;overflow: auto;}#sk-container-id-16 input.sk-toggleable__control:checked~label.sk-toggleable__label-arrow:before {content: \"▾\";}#sk-container-id-16 div.sk-estimator input.sk-toggleable__control:checked~label.sk-toggleable__label {background-color: #d4ebff;}#sk-container-id-16 div.sk-label input.sk-toggleable__control:checked~label.sk-toggleable__label {background-color: #d4ebff;}#sk-container-id-16 input.sk-hidden--visually {border: 0;clip: rect(1px 1px 1px 1px);clip: rect(1px, 1px, 1px, 1px);height: 1px;margin: -1px;overflow: hidden;padding: 0;position: absolute;width: 1px;}#sk-container-id-16 div.sk-estimator {font-family: monospace;background-color: #f0f8ff;border: 1px dotted black;border-radius: 0.25em;box-sizing: border-box;margin-bottom: 0.5em;}#sk-container-id-16 div.sk-estimator:hover {background-color: #d4ebff;}#sk-container-id-16 div.sk-parallel-item::after {content: \"\";width: 100%;border-bottom: 1px solid gray;flex-grow: 1;}#sk-container-id-16 div.sk-label:hover label.sk-toggleable__label {background-color: #d4ebff;}#sk-container-id-16 div.sk-serial::before {content: \"\";position: absolute;border-left: 1px solid gray;box-sizing: border-box;top: 0;bottom: 0;left: 50%;z-index: 0;}#sk-container-id-16 div.sk-serial {display: flex;flex-direction: column;align-items: center;background-color: white;padding-right: 0.2em;padding-left: 0.2em;position: relative;}#sk-container-id-16 div.sk-item {position: relative;z-index: 1;}#sk-container-id-16 div.sk-parallel {display: flex;align-items: stretch;justify-content: center;background-color: white;position: relative;}#sk-container-id-16 div.sk-item::before, #sk-container-id-16 div.sk-parallel-item::before {content: \"\";position: absolute;border-left: 1px solid gray;box-sizing: border-box;top: 0;bottom: 0;left: 50%;z-index: -1;}#sk-container-id-16 div.sk-parallel-item {display: flex;flex-direction: column;z-index: 1;position: relative;background-color: white;}#sk-container-id-16 div.sk-parallel-item:first-child::after {align-self: flex-end;width: 50%;}#sk-container-id-16 div.sk-parallel-item:last-child::after {align-self: flex-start;width: 50%;}#sk-container-id-16 div.sk-parallel-item:only-child::after {width: 0;}#sk-container-id-16 div.sk-dashed-wrapped {border: 1px dashed gray;margin: 0 0.4em 0.5em 0.4em;box-sizing: border-box;padding-bottom: 0.4em;background-color: white;}#sk-container-id-16 div.sk-label label {font-family: monospace;font-weight: bold;display: inline-block;line-height: 1.2em;}#sk-container-id-16 div.sk-label-container {text-align: center;}#sk-container-id-16 div.sk-container {/* jupyter's `normalize.less` sets `[hidden] { display: none; }` but bootstrap.min.css set `[hidden] { display: none !important; }` so we also need the `!important` here to be able to override the default hidden behavior on the sphinx rendered scikit-learn.org. See: https://github.com/scikit-learn/scikit-learn/issues/21755 */display: inline-block !important;position: relative;}#sk-container-id-16 div.sk-text-repr-fallback {display: none;}</style><div id=\"sk-container-id-16\" class=\"sk-top-container\"><div class=\"sk-text-repr-fallback\"><pre>Pipeline(steps=[(&#x27;tf&#x27;, TfidfVectorizer()),\n",
       "                (&#x27;lr&#x27;, LogisticRegression(max_iter=10000, solver=&#x27;liblinear&#x27;))])</pre><b>In a Jupyter environment, please rerun this cell to show the HTML representation or trust the notebook. <br />On GitHub, the HTML representation is unable to render, please try loading this page with nbviewer.org.</b></div><div class=\"sk-container\" hidden><div class=\"sk-item sk-dashed-wrapped\"><div class=\"sk-label-container\"><div class=\"sk-label sk-toggleable\"><input class=\"sk-toggleable__control sk-hidden--visually\" id=\"sk-estimator-id-50\" type=\"checkbox\" ><label for=\"sk-estimator-id-50\" class=\"sk-toggleable__label sk-toggleable__label-arrow\">Pipeline</label><div class=\"sk-toggleable__content\"><pre>Pipeline(steps=[(&#x27;tf&#x27;, TfidfVectorizer()),\n",
       "                (&#x27;lr&#x27;, LogisticRegression(max_iter=10000, solver=&#x27;liblinear&#x27;))])</pre></div></div></div><div class=\"sk-serial\"><div class=\"sk-item\"><div class=\"sk-estimator sk-toggleable\"><input class=\"sk-toggleable__control sk-hidden--visually\" id=\"sk-estimator-id-51\" type=\"checkbox\" ><label for=\"sk-estimator-id-51\" class=\"sk-toggleable__label sk-toggleable__label-arrow\">TfidfVectorizer</label><div class=\"sk-toggleable__content\"><pre>TfidfVectorizer()</pre></div></div></div><div class=\"sk-item\"><div class=\"sk-estimator sk-toggleable\"><input class=\"sk-toggleable__control sk-hidden--visually\" id=\"sk-estimator-id-52\" type=\"checkbox\" ><label for=\"sk-estimator-id-52\" class=\"sk-toggleable__label sk-toggleable__label-arrow\">LogisticRegression</label><div class=\"sk-toggleable__content\"><pre>LogisticRegression(max_iter=10000, solver=&#x27;liblinear&#x27;)</pre></div></div></div></div></div></div></div>"
      ],
      "text/plain": [
       "Pipeline(steps=[('tf', TfidfVectorizer()),\n",
       "                ('lr', LogisticRegression(max_iter=10000, solver='liblinear'))])"
      ]
     },
     "execution_count": 137,
     "metadata": {},
     "output_type": "execute_result"
    }
   ],
   "source": [
    "# fit with mostly defaults, choosing liblinear to be able to use l1 and l2\n",
    "# also increased max_iter for convergence\n",
    "lr_tdf_pipe.fit(X_train, y_train)"
   ]
  },
  {
   "cell_type": "code",
   "execution_count": 138,
   "id": "505a96d4-882d-48be-9bee-01be56055924",
   "metadata": {
    "execution": {
     "iopub.execute_input": "2022-12-23T01:05:19.666893Z",
     "iopub.status.busy": "2022-12-23T01:05:19.666805Z",
     "iopub.status.idle": "2022-12-23T01:05:20.270753Z",
     "shell.execute_reply": "2022-12-23T01:05:20.270460Z",
     "shell.execute_reply.started": "2022-12-23T01:05:19.666882Z"
    },
    "tags": []
   },
   "outputs": [
    {
     "data": {
      "text/plain": [
       "(0.8624089155593656, 0.8088298328332619)"
      ]
     },
     "execution_count": 138,
     "metadata": {},
     "output_type": "execute_result"
    }
   ],
   "source": [
    "# score train and test with mostly default parameters\n",
    "lr_tdf_pipe.score(X_train, y_train), lr_tdf_pipe.score(X_test, y_test)"
   ]
  },
  {
   "cell_type": "markdown",
   "id": "e9fa69de-a71b-4920-83d0-865da29bff80",
   "metadata": {},
   "source": [
    "#### GridSearch\n",
    "\n",
    "GridSearch to try and tune the hyperparameters for the various pipelines."
   ]
  },
  {
   "cell_type": "markdown",
   "id": "39b276fb-24f4-49e8-b4f5-226516645655",
   "metadata": {},
   "source": [
    "GridSearching both CountVectorizer and TfidfVectorizer"
   ]
  },
  {
   "cell_type": "code",
   "execution_count": 139,
   "id": "359887c6-3aef-4ee4-90c1-3125b729c587",
   "metadata": {
    "execution": {
     "iopub.execute_input": "2022-12-23T01:05:20.271481Z",
     "iopub.status.busy": "2022-12-23T01:05:20.271391Z",
     "iopub.status.idle": "2022-12-23T01:05:20.275283Z",
     "shell.execute_reply": "2022-12-23T01:05:20.274727Z",
     "shell.execute_reply.started": "2022-12-23T01:05:20.271470Z"
    },
    "tags": []
   },
   "outputs": [],
   "source": [
    "# set three\n",
    "cv_params = {\n",
    "    'cv__stop_words': [None, 'english'],\n",
    "    'cv__max_df': [0.85, 0.9, .95],\n",
    "    'cv__min_df': [4, 5, 6],\n",
    "    'cv__ngram_range': [(1,2), (1,3), (2,3)],\n",
    "    'cv__max_features': [13_000, 14_000, 15_000],\n",
    "    'lr__C': [0.08, 0.1, 0.2],\n",
    "    'lr__penalty': ['l1', 'l2']\n",
    "}\n",
    "\n",
    "# set two\n",
    "# cv_params = {\n",
    "#     'cv__stop_words': [None, 'english'],\n",
    "#     'cv__max_df': [0.8, 0.9, .95, 1.0],\n",
    "#     'cv__min_df': [2, 5, 6, 7],\n",
    "#     'cv__ngram_range': [(1,2), (1,3), (2,3)],\n",
    "#     'cv__max_features': [12_500, 15_000, 17_500],\n",
    "#     'lr__C': [0.01, 0.1, 0.5, 1],\n",
    "#     'lr__penalty': ['l1', 'l2']\n",
    "# }"
   ]
  },
  {
   "cell_type": "code",
   "execution_count": 140,
   "id": "257544cc-8f5d-4e9d-b2e9-c8c45917d726",
   "metadata": {
    "execution": {
     "iopub.execute_input": "2022-12-23T01:05:20.276233Z",
     "iopub.status.busy": "2022-12-23T01:05:20.276026Z",
     "iopub.status.idle": "2022-12-23T01:05:20.278305Z",
     "shell.execute_reply": "2022-12-23T01:05:20.277931Z",
     "shell.execute_reply.started": "2022-12-23T01:05:20.276218Z"
    },
    "tags": []
   },
   "outputs": [],
   "source": [
    "# # configure GridSearch\n",
    "# gs_cv = GridSearchCV(lr_cv_pipe, cv_params, n_jobs=-1, verbose=1)\n",
    "\n",
    "# # fit with training data\n",
    "# gs_cv.fit(X_train, y_train)\n",
    "\n",
    "# # output the best params after GridSearch is complete\n",
    "# gs_cv.best_params_"
   ]
  },
  {
   "cell_type": "code",
   "execution_count": 141,
   "id": "a1f67728-dc76-4fe6-9043-06d6e93c802a",
   "metadata": {
    "execution": {
     "iopub.execute_input": "2022-12-23T01:05:20.278856Z",
     "iopub.status.busy": "2022-12-23T01:05:20.278773Z",
     "iopub.status.idle": "2022-12-23T01:05:20.280898Z",
     "shell.execute_reply": "2022-12-23T01:05:20.280586Z",
     "shell.execute_reply.started": "2022-12-23T01:05:20.278845Z"
    },
    "tags": []
   },
   "outputs": [],
   "source": [
    "# # get train and test scores from the model fit with the parameters from \n",
    "# # GridSearch\n",
    "# gs_cv.score(X_train, y_train), gs_cv.score(X_test, y_test)"
   ]
  },
  {
   "cell_type": "markdown",
   "id": "8fd9c6c0-ff17-4146-9a85-2813bad66342",
   "metadata": {
    "execution": {
     "iopub.execute_input": "2022-12-18T09:14:55.185321Z",
     "iopub.status.busy": "2022-12-18T09:14:55.184636Z",
     "iopub.status.idle": "2022-12-18T10:14:37.422604Z",
     "shell.execute_reply": "2022-12-18T10:14:37.421970Z",
     "shell.execute_reply.started": "2022-12-18T09:14:55.185255Z"
    },
    "tags": []
   },
   "source": [
    "Logistic Regression w/CountVectorizer Results\n",
    "\n",
    "- set two same scores as one since same hps found\n",
    "- (0.9422060294327761, 0.8148306900985856)\n",
    "    - 'cv__max_df': 0.9,\n",
    "    - 'cv__max_features': 15000,\n",
    "    - 'cv__min_df': 5,\n",
    "    - 'cv__ngram_range': (1, 2),\n",
    "    - 'cv__stop_words': None,\n",
    "    - 'lr__C': 0.1,\n",
    "    - 'lr__penalty': 'l2'\n",
    "\n",
    "- set one (0.9422060294327761, 0.8148306900985856)\n",
    "    - 'cv__max_df': 0.9,\n",
    "    - 'cv__max_features': 15000,\n",
    "    - 'cv__min_df': 5,\n",
    "    - 'cv__ngram_range': (1, 2),\n",
    "    - 'cv__stop_words': None,\n",
    "    - 'lr__C': 0.1,\n",
    "    - 'lr__penalty': 'l2'"
   ]
  },
  {
   "cell_type": "code",
   "execution_count": 142,
   "id": "bd245f1a-e12b-4636-8e54-d321ce49c304",
   "metadata": {
    "execution": {
     "iopub.execute_input": "2022-12-23T01:05:20.281787Z",
     "iopub.status.busy": "2022-12-23T01:05:20.281606Z",
     "iopub.status.idle": "2022-12-23T01:05:20.284644Z",
     "shell.execute_reply": "2022-12-23T01:05:20.284280Z",
     "shell.execute_reply.started": "2022-12-23T01:05:20.281767Z"
    },
    "tags": []
   },
   "outputs": [],
   "source": [
    "# set two\n",
    "tdf_params = {\n",
    "    'tf__stop_words': [None, 'english'],\n",
    "    'tf__max_features': [12_500, 15_000, 17_500],\n",
    "    'tf__ngram_range': [(1,2), (1,3),(2,3)],\n",
    "    'lr__C': [5, 10, 15],\n",
    "    'lr__penalty': ['l1', 'l2']\n",
    "}\n",
    "\n",
    "# set one\n",
    "# tdf_params = {\n",
    "#     'tf__stop_words': [None, 'english'],\n",
    "#     'tf__max_features': [1000,5000, 10_000, 15_000],\n",
    "#     'tf__ngram_range': [(1,1), (1,2), (2,2)],\n",
    "#     'lr__C': [0.1, 0.5, 1, 10],\n",
    "#     'lr__penalty': ['l1', 'l2']\n",
    "# }"
   ]
  },
  {
   "cell_type": "code",
   "execution_count": 143,
   "id": "a734aa55-eb0b-40bc-81ec-87c7ed9207ee",
   "metadata": {
    "execution": {
     "iopub.execute_input": "2022-12-23T01:05:20.285376Z",
     "iopub.status.busy": "2022-12-23T01:05:20.285285Z",
     "iopub.status.idle": "2022-12-23T01:05:20.287893Z",
     "shell.execute_reply": "2022-12-23T01:05:20.287504Z",
     "shell.execute_reply.started": "2022-12-23T01:05:20.285365Z"
    },
    "tags": []
   },
   "outputs": [],
   "source": [
    "# # configure GridSearch\n",
    "# gs_tdf = GridSearchCV(lr_tdf_pipe, tdf_params, n_jobs=-1, verbose=1)\n",
    "\n",
    "# # fit with training data\n",
    "# gs_tdf.fit(X_train, y_train)\n",
    "\n",
    "# # output the best params after GridSearch is complete\n",
    "# gs_tdf.best_params_"
   ]
  },
  {
   "cell_type": "code",
   "execution_count": 144,
   "id": "efe6f99e-203b-4835-a031-86f95d6fe50a",
   "metadata": {
    "execution": {
     "iopub.execute_input": "2022-12-23T01:05:20.288643Z",
     "iopub.status.busy": "2022-12-23T01:05:20.288553Z",
     "iopub.status.idle": "2022-12-23T01:05:20.290894Z",
     "shell.execute_reply": "2022-12-23T01:05:20.290520Z",
     "shell.execute_reply.started": "2022-12-23T01:05:20.288631Z"
    },
    "tags": []
   },
   "outputs": [],
   "source": [
    "# # get train and test scores from the model fit with the parameters from \n",
    "# # GridSearch\n",
    "\n",
    "# gs_tdf.score(X_train, y_train), gs_tdf.score(X_test, y_test)"
   ]
  },
  {
   "cell_type": "markdown",
   "id": "bd07d0b9-fdd0-4e20-bfb9-241a2941ee7b",
   "metadata": {
    "execution": {
     "iopub.execute_input": "2022-12-19T05:27:58.068838Z",
     "iopub.status.busy": "2022-12-19T05:27:58.067705Z",
     "iopub.status.idle": "2022-12-19T05:52:56.664413Z",
     "shell.execute_reply": "2022-12-19T05:52:56.662811Z",
     "shell.execute_reply.started": "2022-12-19T05:27:58.068775Z"
    },
    "tags": []
   },
   "source": [
    "Logistic Regression w/TfidfVectorizer\n",
    "- set two (0.9614230604372053, 0.8180454350621518)\n",
    "    - 'lr__C': 5,\n",
    "    - 'lr__penalty': 'l2',\n",
    "    - 'tf__max_features': 17500,\n",
    "    - 'tf__ngram_range': (1, 2),\n",
    "    - 'tf__stop_words': None\n",
    "\n",
    "- set one (0.9794256322331761, 0.8174024860694384)\n",
    "    - 'lr__C': 10,\n",
    "    - 'lr__penalty': 'l2',\n",
    "    - 'tf__max_features': 15000,\n",
    "    - 'tf__ngram_range': (1, 2),\n",
    "    - 'tf__stop_words': None"
   ]
  },
  {
   "cell_type": "markdown",
   "id": "d323fc94-5406-4e91-9001-2760ee7975a5",
   "metadata": {},
   "source": [
    "#### Best Logistic Regression Model\n",
    "\n",
    "For the purposes of this project, even though the logistic regression model is performing better than some of the other models, knowing that this data doesn't meet assumptions required for logistic regression, such as normality, I will not choose logistic regression as a production model.\n",
    "\n",
    "The best performing Logistic Regression:\n",
    "- Train: 0.961\n",
    "- Test:  0.818\n",
    "\n",
    "Params\n",
    "- 'lr__C': 5,\n",
    "- 'lr__penalty': 'l2',\n",
    "- 'tf__max_features': 17500,\n",
    "- 'tf__ngram_range': (1, 2),\n",
    "- 'tf__stop_words': None\n"
   ]
  },
  {
   "cell_type": "markdown",
   "id": "b1216180-c678-489a-b93e-50be27311d24",
   "metadata": {},
   "source": [
    "## Model Selection and Tuning\n",
    "\n",
    "Now that we have tried a number of different models, we'll select the best one, given the information we have collected, and then attempt to further refine/tune that model as the final model."
   ]
  },
  {
   "cell_type": "markdown",
   "id": "970c05cd-489a-4f66-9d9c-843c8e823d31",
   "metadata": {},
   "source": [
    "### Selection: Random Forest\n",
    "\n",
    "After going through a couple of Grid Search attempts through each of the models, above, the leading model was a Random Forest model that had the highest accuracy and was appropriate for NLP data.  As mentioned, logistic regression is excluded from this given the assumptions that model has about the underlying data, and kNN due to the high dimensionality of the data.\n",
    "\n",
    "In this section, we'll continue to Grid Search to tune the Random Forest model, starting from the best parameter set so far:\n",
    "\n",
    "The best performing Random Forest:\n",
    "- Train: .986\n",
    "- Test:  .802\n",
    "\n",
    "Params\n",
    "- 'cv__max_df': 0.85,\n",
    "- 'cv__max_features': 5000,\n",
    "- 'cv__min_df': 6,\n",
    "- 'cv__ngram_range': (1, 2),\n",
    "- 'cv__stop_words': 'english',\n",
    "- 'rf__max_depth': 200,\n",
    "- 'rf__max_features': 'log2',\n",
    "- 'rf__max_samples': 0.9,\n",
    "- 'rf__n_estimators': 750\n",
    "\n",
    "Using this information, we'll further refine the Grid Search to try and achieve a better score on the test data.  I will bring the pipeline and parameters down from the Random Forest section and start to search for parameters to improve performance."
   ]
  },
  {
   "cell_type": "code",
   "execution_count": 145,
   "id": "56d26a62-670c-4ce8-b3f3-89d490dc4005",
   "metadata": {
    "execution": {
     "iopub.execute_input": "2022-12-23T01:05:20.291587Z",
     "iopub.status.busy": "2022-12-23T01:05:20.291479Z",
     "iopub.status.idle": "2022-12-23T01:05:20.295174Z",
     "shell.execute_reply": "2022-12-23T01:05:20.294823Z",
     "shell.execute_reply.started": "2022-12-23T01:05:20.291570Z"
    },
    "tags": []
   },
   "outputs": [],
   "source": [
    "# this looks like a leading model, so trying to tune it a bit further\n",
    "# reducing the sets so I can iterate through some grid searches more quickly\n",
    "\n",
    "# set six \n",
    "# try adding more max samples feature to try and control subsample size\n",
    "# and address some of the overfitting\n",
    "cv_rf_params = {\n",
    "    'cv__stop_words': [None],\n",
    "    'cv__max_df': [0.85],\n",
    "    'cv__min_df': [6],\n",
    "    'cv__ngram_range': [(1,2)],\n",
    "    'cv__max_features': [12_000, 15_000],\n",
    "    'rf__n_estimators': [2_000, 3_000],\n",
    "    'rf__max_depth': [750],\n",
    "    'rf__max_samples': [0.5, 0.6, 0.7, 0.85],\n",
    "    'rf__max_features': ['log2']\n",
    "}\n",
    "\n",
    "# set five\n",
    "# cv_rf_params = {\n",
    "#     'cv__stop_words': [None],\n",
    "#     'cv__max_df': [0.85],\n",
    "#     'cv__min_df': [6],\n",
    "#     'cv__ngram_range': [(1,2)],\n",
    "#     'cv__max_features': [12_000, 13_500, 15_000],\n",
    "#     'rf__n_estimators': [2_000, 3_000, 4_000],\n",
    "#     'rf__max_depth': [750],\n",
    "#     'rf__max_samples': [0.85],\n",
    "#     'rf__max_features': ['log2']\n",
    "# }\n",
    "\n",
    "# set four\n",
    "# cv_rf_params = {\n",
    "#     'cv__stop_words': [None],\n",
    "#     'cv__max_df': [0.85, 0.90],\n",
    "#     'cv__min_df': [6],\n",
    "#     'cv__ngram_range': [(1,2), (1,3)],\n",
    "#     'cv__max_features': [15_000, 20_000],\n",
    "#     'rf__n_estimators': [1000, 2500],\n",
    "#     'rf__max_depth': [750, 1000],\n",
    "#     'rf__max_samples': [0.85],\n",
    "#     'rf__max_features': ['log2']\n",
    "# }\n",
    "\n",
    "# set three\n",
    "# cv_rf_params = {\n",
    "#     'cv__stop_words': ['english', None],\n",
    "#     'cv__max_df': [0.85, 0.90],\n",
    "#     'cv__min_df': [6],\n",
    "#     'cv__ngram_range': [(1,2)],\n",
    "#     'cv__max_features': [10_000, 15_000],\n",
    "#     'rf__n_estimators': [1000],\n",
    "#     'rf__max_depth': [500, 750],\n",
    "#     'rf__max_samples': [0.85],\n",
    "#     'rf__max_features': ['log2']\n",
    "# }"
   ]
  },
  {
   "cell_type": "code",
   "execution_count": 146,
   "id": "183594ec-a905-45d0-93dd-930becd70101",
   "metadata": {
    "execution": {
     "iopub.execute_input": "2022-12-23T01:05:20.296212Z",
     "iopub.status.busy": "2022-12-23T01:05:20.295818Z",
     "iopub.status.idle": "2022-12-23T01:43:58.098506Z",
     "shell.execute_reply": "2022-12-23T01:43:58.097539Z",
     "shell.execute_reply.started": "2022-12-23T01:05:20.296197Z"
    },
    "tags": []
   },
   "outputs": [
    {
     "name": "stdout",
     "output_type": "stream",
     "text": [
      "Fitting 5 folds for each of 16 candidates, totalling 80 fits\n"
     ]
    },
    {
     "name": "stderr",
     "output_type": "stream",
     "text": [
      "/Users/matt/opt/anaconda3/lib/python3.9/site-packages/joblib/externals/loky/process_executor.py:702: UserWarning: A worker stopped while some jobs were given to the executor. This can be caused by a too short worker timeout or by a memory leak.\n",
      "  warnings.warn(\n"
     ]
    },
    {
     "data": {
      "text/plain": [
       "{'cv__max_df': 0.85,\n",
       " 'cv__max_features': 12000,\n",
       " 'cv__min_df': 6,\n",
       " 'cv__ngram_range': (1, 2),\n",
       " 'cv__stop_words': None,\n",
       " 'rf__max_depth': 750,\n",
       " 'rf__max_features': 'log2',\n",
       " 'rf__max_samples': 0.85,\n",
       " 'rf__n_estimators': 2000}"
      ]
     },
     "execution_count": 146,
     "metadata": {},
     "output_type": "execute_result"
    }
   ],
   "source": [
    "# configure GridSearch\n",
    "gs_rf_cv = GridSearchCV(rf_cv, cv_rf_params, n_jobs=-1, verbose=1)\n",
    "\n",
    "# fit with training data\n",
    "gs_rf_cv.fit(X_train, y_train)\n",
    "\n",
    "# output the best params after GridSearch is complete\n",
    "gs_rf_cv.best_params_"
   ]
  },
  {
   "cell_type": "code",
   "execution_count": 147,
   "id": "c36f9cf2-43b7-4646-a000-afaf932ae416",
   "metadata": {
    "execution": {
     "iopub.execute_input": "2022-12-23T01:43:58.101087Z",
     "iopub.status.busy": "2022-12-23T01:43:58.100944Z",
     "iopub.status.idle": "2022-12-23T01:44:21.864275Z",
     "shell.execute_reply": "2022-12-23T01:44:21.863945Z",
     "shell.execute_reply.started": "2022-12-23T01:43:58.101068Z"
    },
    "tags": []
   },
   "outputs": [
    {
     "data": {
      "text/plain": [
       "(0.9994284897842549, 0.8122588941277326)"
      ]
     },
     "execution_count": 147,
     "metadata": {},
     "output_type": "execute_result"
    }
   ],
   "source": [
    "# get train and test scores from the model fit with the parameters from \n",
    "# GridSearch\n",
    "gs_rf_cv.score(X_train, y_train), gs_rf_cv.score(X_test, y_test)"
   ]
  },
  {
   "cell_type": "markdown",
   "id": "7211d2f1-a417-4f29-99b6-1d8358d10941",
   "metadata": {
    "execution": {
     "iopub.execute_input": "2022-12-20T23:04:01.541725Z",
     "iopub.status.busy": "2022-12-20T23:04:01.541305Z",
     "iopub.status.idle": "2022-12-20T23:47:49.726965Z",
     "shell.execute_reply": "2022-12-20T23:47:49.725953Z",
     "shell.execute_reply.started": "2022-12-20T23:04:01.541664Z"
    },
    "tags": []
   },
   "source": [
    "Random Forest Tuning Results<br>\n",
    "Best Result is set six:\n",
    "- set six (0.9994284897842549, 0.8156879554222032)\n",
    "    - 'cv__max_df': 0.85,\n",
    "    - 'cv__max_features': 12000,\n",
    "    - 'cv__min_df': 6,\n",
    "    - 'cv__ngram_range': (1, 2),\n",
    "    - 'cv__stop_words': None,\n",
    "    - 'rf__max_depth': 750,\n",
    "    - 'rf__max_features': 'log2',\n",
    "    - 'rf__max_samples': 0.85,\n",
    "    - 'rf__n_estimators': 2000\n",
    " \n",
    "- set five (0.9994284897842549, 0.812473210458637)\n",
    "    - 'cv__max_df': 0.85,\n",
    "    - 'cv__max_features': 12000,\n",
    "    - 'cv__min_df': 6,\n",
    "    - 'cv__ngram_range': (1, 2),\n",
    "    - 'cv__stop_words': None,\n",
    "    - 'rf__max_depth': 750,\n",
    "    - 'rf__max_features': 'log2',\n",
    "    - 'rf__max_samples': 0.85,\n",
    "    - 'rf__n_estimators': 3000\n",
    "\n",
    "\n",
    "- set four (0.9996428061151593, 0.8101157308186884)\n",
    "    - 'cv__max_df': 0.85,\n",
    "    - 'cv__max_features': 15000,\n",
    "    - 'cv__min_df': 6,\n",
    "    - 'cv__ngram_range': (1, 2),\n",
    "    - 'cv__stop_words': None,\n",
    "    - 'rf__max_depth': 750,\n",
    "    - 'rf__max_features': 'log2',\n",
    "    - 'rf__max_samples': 0.85,\n",
    "    - 'rf__n_estimators': 2500\n",
    "\n",
    "- set three (0.9996428061151593, 0.8152593227603944)\n",
    "    - 'cv__max_df': 0.9,\n",
    "    - 'cv__max_features': 15000,\n",
    "    - 'cv__min_df': 6,\n",
    "    - 'cv__ngram_range': (1, 2),\n",
    "    - 'cv__stop_words': None,\n",
    "    - 'rf__max_depth': 750,\n",
    "    - 'rf__max_features': 'log2',\n",
    "    - 'rf__max_samples': 0.85,\n",
    "    - 'rf__n_estimators': 1000"
   ]
  },
  {
   "cell_type": "markdown",
   "id": "9517e905-79fb-44de-b3b9-b7bf9cdd6358",
   "metadata": {},
   "source": [
    "Even though all the models are still showing signs of overfitting on the training data, they are performing well on the test data.  I will move forward with the selected model, using the parameters from 'set six'.  This shows a 1.3 percentage point increase over the model that was found during the initial Grid Search, and is significantly better than the baseline of 52.4%.  Using this model, we'll do some further evaluation below."
   ]
  },
  {
   "cell_type": "markdown",
   "id": "7e16c28d-3e46-42f9-9369-752f6bf60f12",
   "metadata": {},
   "source": [
    "## Model Evalution\n",
    "\n",
    "From the modeling steps above, I've selected the Random Forest classifier for the production model.  Here I'll evaluate the model, focusing on accuracy, but also investigate what the model may not be classifying well."
   ]
  },
  {
   "cell_type": "markdown",
   "id": "c85df47d-52fe-4640-888d-4598c7d2d4fd",
   "metadata": {},
   "source": [
    "#### Classification Report"
   ]
  },
  {
   "cell_type": "code",
   "execution_count": 148,
   "id": "e44ab09b-f055-4b04-9b7c-79b49744a3f5",
   "metadata": {
    "execution": {
     "iopub.execute_input": "2022-12-23T01:44:21.865317Z",
     "iopub.status.busy": "2022-12-23T01:44:21.865234Z",
     "iopub.status.idle": "2022-12-23T01:44:28.022914Z",
     "shell.execute_reply": "2022-12-23T01:44:28.022383Z",
     "shell.execute_reply.started": "2022-12-23T01:44:21.865306Z"
    },
    "tags": []
   },
   "outputs": [
    {
     "name": "stdout",
     "output_type": "stream",
     "text": [
      "              precision    recall  f1-score   support\n",
      "\n",
      "        Xbox       0.85      0.73      0.79      2222\n",
      " Playstation       0.78      0.89      0.83      2444\n",
      "\n",
      "    accuracy                           0.81      4666\n",
      "   macro avg       0.82      0.81      0.81      4666\n",
      "weighted avg       0.82      0.81      0.81      4666\n",
      "\n"
     ]
    }
   ],
   "source": [
    "print(classification_report(y_test, \n",
    "                            gs_rf_cv.predict(X_test), \n",
    "                            target_names=['Xbox', 'Playstation']\n",
    "                           ))"
   ]
  },
  {
   "cell_type": "markdown",
   "id": "226dd7b2-d952-4602-ad80-612381e2db00",
   "metadata": {},
   "source": [
    "For Playstation, the majority class, this report is showing that the model was good at capturing many of the positive classifications with the recall score of 0.89. Precision is a bit lower than recall, but refers to when the model predicted postive, 78% of those positive predications were correctly identified as positive.  A higher precision gives us more confidence that if the model predicts positive, the record will actually be positive.  \n",
    "\n",
    "In the classification report, we see the opposite is true for the minority class (Xbox). This could be due to some of the words used--when looking through the project, like the feature importances section below, there were words that showed high importance that appeared to be Xbox related.  Perhaps this explains some of the increased precision for the Xbox class.\n",
    "\n",
    "Overall, there are generally tradeoffs between precision and recall, so looking at the f1 score gives us a look at the balance between these tradeoffs.  The scores in this case are right around the overall accuracy and are good in the context of trying to exceed the 75% accuracy target for this POC."
   ]
  },
  {
   "cell_type": "markdown",
   "id": "f15f95f6-bde9-415b-b919-6baa1e9cadf9",
   "metadata": {},
   "source": [
    "#### Confusion Matrix"
   ]
  },
  {
   "cell_type": "code",
   "execution_count": 149,
   "id": "92b213f3-4826-492e-b842-3c4821194c2a",
   "metadata": {
    "execution": {
     "iopub.execute_input": "2022-12-23T01:44:28.024045Z",
     "iopub.status.busy": "2022-12-23T01:44:28.023927Z",
     "iopub.status.idle": "2022-12-23T01:44:34.365750Z",
     "shell.execute_reply": "2022-12-23T01:44:34.365395Z",
     "shell.execute_reply.started": "2022-12-23T01:44:28.024034Z"
    },
    "tags": []
   },
   "outputs": [
    {
     "data": {
      "image/png": "[encoded data removed]",
      "text/plain": [
       "<Figure size 640x480 with 2 Axes>"
      ]
     },
     "metadata": {},
     "output_type": "display_data"
    }
   ],
   "source": [
    "ConfusionMatrixDisplay.from_estimator(gs_rf_cv, X_test, y_test, \n",
    "                                      cmap='Blues')\n",
    "\n",
    "plt.title('Random Forest Confusion Matrix\\n(1 = Playstation, 0 = Xbox)');"
   ]
  },
  {
   "cell_type": "markdown",
   "id": "8882d9af-e4bc-4719-9ca9-a8be54dcff6f",
   "metadata": {},
   "source": [
    "When viewing the confusion matrix, it looks like the most problematic area for prediction are the false positives, observations that the model thought would be 1/Playstation, but were actually 0/Xbox.  This makes sense given what we saw with the precision and recall scores from the classification report.  I'm most interested in the false positives so I will try and look at some of the text from those observations below."
   ]
  },
  {
   "cell_type": "markdown",
   "id": "e475c494-19b8-44d0-831b-f650798e600e",
   "metadata": {},
   "source": [
    "#### ROC "
   ]
  },
  {
   "cell_type": "markdown",
   "id": "f1f48a59-33fe-4d60-a965-905fe528b7a0",
   "metadata": {},
   "source": [
    "We'll plot the ROC AUC for the selected Random Forest model."
   ]
  },
  {
   "cell_type": "code",
   "execution_count": 150,
   "id": "e149af2d-782f-467f-9c5f-17cf3238ae58",
   "metadata": {
    "execution": {
     "iopub.execute_input": "2022-12-23T01:44:34.366905Z",
     "iopub.status.busy": "2022-12-23T01:44:34.366628Z",
     "iopub.status.idle": "2022-12-23T01:44:40.902449Z",
     "shell.execute_reply": "2022-12-23T01:44:40.901883Z",
     "shell.execute_reply.started": "2022-12-23T01:44:34.366891Z"
    },
    "tags": []
   },
   "outputs": [
    {
     "data": {
      "image/png": "[encoded data removed]",
      "text/plain": [
       "<Figure size 640x480 with 1 Axes>"
      ]
     },
     "metadata": {},
     "output_type": "display_data"
    }
   ],
   "source": [
    "# from a classification lesson\n",
    "# Create an ax object\n",
    "ax = plt.gca()\n",
    "\n",
    "# Use RocCurveDisplay for both estimators\n",
    "RocCurveDisplay.from_estimator(gs_rf_cv, X_test, y_test, \n",
    "                               ax=ax, name='Random Forest')\n",
    "\n",
    "# Add 'worst case scenario' line\n",
    "plt.plot([0,1], [0,1], label='no prediction value', \n",
    "         linestyle='--', color='gray')\n",
    "\n",
    "# Necessary to label the baseline\n",
    "plt.legend();"
   ]
  },
  {
   "cell_type": "markdown",
   "id": "3a5633bd-30c1-44d9-969d-e044873aa29f",
   "metadata": {},
   "source": [
    "This ROC AUC is fairly high (0.89).  In this chart, you are looking at the area above the dotted line, which represents if the model had no prediction value, and under the curved blue line.  The more area under the curve (AUC) the better the model is at discriminating between classes."
   ]
  },
  {
   "cell_type": "markdown",
   "id": "0ace6d77-0f6e-442c-aaa1-278b58b844cf",
   "metadata": {},
   "source": [
    "#### Specific Classification Examples\n",
    "\n",
    "I will attempt to look at some of the specific examples, both positive and negative in order to understand any elements that might be contributing to the classification errors."
   ]
  },
  {
   "cell_type": "code",
   "execution_count": 151,
   "id": "9359f6b9-c4c0-460f-8eae-cbf9a831548c",
   "metadata": {
    "execution": {
     "iopub.execute_input": "2022-12-23T01:44:40.903289Z",
     "iopub.status.busy": "2022-12-23T01:44:40.903161Z",
     "iopub.status.idle": "2022-12-23T01:44:47.005406Z",
     "shell.execute_reply": "2022-12-23T01:44:47.005035Z",
     "shell.execute_reply.started": "2022-12-23T01:44:40.903273Z"
    },
    "tags": []
   },
   "outputs": [],
   "source": [
    "# make predictions using model\n",
    "y_preds = gs_rf_cv.predict(X_test)"
   ]
  },
  {
   "cell_type": "code",
   "execution_count": 152,
   "id": "5fc42a1c-2fc0-4072-b03d-0fb5d2b9885e",
   "metadata": {
    "execution": {
     "iopub.execute_input": "2022-12-23T01:44:47.006079Z",
     "iopub.status.busy": "2022-12-23T01:44:47.005987Z",
     "iopub.status.idle": "2022-12-23T01:44:53.114157Z",
     "shell.execute_reply": "2022-12-23T01:44:53.113786Z",
     "shell.execute_reply.started": "2022-12-23T01:44:47.006068Z"
    },
    "tags": []
   },
   "outputs": [],
   "source": [
    "# get predicted probabilities using model\n",
    "y_probs = gs_rf_cv.predict_proba(X_test)"
   ]
  },
  {
   "cell_type": "code",
   "execution_count": 153,
   "id": "0a935287-f391-4ea6-8719-f7a10644be60",
   "metadata": {
    "execution": {
     "iopub.execute_input": "2022-12-23T01:44:53.114948Z",
     "iopub.status.busy": "2022-12-23T01:44:53.114863Z",
     "iopub.status.idle": "2022-12-23T01:44:53.122220Z",
     "shell.execute_reply": "2022-12-23T01:44:53.121928Z",
     "shell.execute_reply.started": "2022-12-23T01:44:53.114937Z"
    },
    "tags": []
   },
   "outputs": [],
   "source": [
    "# build a dataframe using the information from X_test, y_test, preds, and probs\n",
    "# https://stackoverflow.com/questions/48947194/add-randomforestclassifier-predict-proba-results-to-original-dataframe\n",
    "\n",
    "eval_df = pd.DataFrame(X_test)\n",
    "eval_df['target'] = y_test\n",
    "eval_df['pred'] = y_preds\n",
    "eval_df['prob_0'] = y_probs[:,0] \n",
    "eval_df['prob_1'] = y_probs[:,1]"
   ]
  },
  {
   "cell_type": "code",
   "execution_count": 154,
   "id": "f4fce717-9ae6-407e-836f-eb86cbcb7c90",
   "metadata": {
    "execution": {
     "iopub.execute_input": "2022-12-23T01:44:53.123017Z",
     "iopub.status.busy": "2022-12-23T01:44:53.122868Z",
     "iopub.status.idle": "2022-12-23T01:44:53.128523Z",
     "shell.execute_reply": "2022-12-23T01:44:53.128196Z",
     "shell.execute_reply.started": "2022-12-23T01:44:53.123006Z"
    },
    "tags": []
   },
   "outputs": [
    {
     "data": {
      "text/html": [
       "<div>\n",
       "<style scoped>\n",
       "    .dataframe tbody tr th:only-of-type {\n",
       "        vertical-align: middle;\n",
       "    }\n",
       "\n",
       "    .dataframe tbody tr th {\n",
       "        vertical-align: top;\n",
       "    }\n",
       "\n",
       "    .dataframe thead th {\n",
       "        text-align: right;\n",
       "    }\n",
       "</style>\n",
       "<table border=\"1\" class=\"dataframe\">\n",
       "  <thead>\n",
       "    <tr style=\"text-align: right;\">\n",
       "      <th></th>\n",
       "      <th>text</th>\n",
       "      <th>target</th>\n",
       "      <th>pred</th>\n",
       "      <th>prob_0</th>\n",
       "      <th>prob_1</th>\n",
       "    </tr>\n",
       "  </thead>\n",
       "  <tbody>\n",
       "    <tr>\n",
       "      <th>16782</th>\n",
       "      <td>will not let I buy   game normally I would think this be too personal but I remember everyone have issue download last month s  game with gold and be wonder if it be maybe a large problem</td>\n",
       "      <td>0</td>\n",
       "      <td>0</td>\n",
       "      <td>0.660000</td>\n",
       "      <td>0.340000</td>\n",
       "    </tr>\n",
       "    <tr>\n",
       "      <th>7212</th>\n",
       "      <td>free trial go recently get back into gaming and notice the free trial be not there anyone else</td>\n",
       "      <td>1</td>\n",
       "      <td>1</td>\n",
       "      <td>0.441944</td>\n",
       "      <td>0.558056</td>\n",
       "    </tr>\n",
       "    <tr>\n",
       "      <th>1139</th>\n",
       "      <td>which game be you skip on the 4 to play on the 5 for the first time watch dog legion bring this to my attention out in  week on 4 or   week 5 seem silly to play it on 4 when you could test out your 5 with it</td>\n",
       "      <td>1</td>\n",
       "      <td>1</td>\n",
       "      <td>0.348500</td>\n",
       "      <td>0.651500</td>\n",
       "    </tr>\n",
       "    <tr>\n",
       "      <th>16635</th>\n",
       "      <td>be it possible to do the  year of  gamepass conversion from gold if you ve already do it I buy the  gamepass conversion a year ago it expire this week I be wonder if its possible to get a year of gold then buy the gamepass ultimate conversion again to get another year of ultimate I more or less live check to check and can not guarantee I will have that money every month to do it so it be more ...</td>\n",
       "      <td>0</td>\n",
       "      <td>0</td>\n",
       "      <td>0.774500</td>\n",
       "      <td>0.225500</td>\n",
       "    </tr>\n",
       "    <tr>\n",
       "      <th>4806</th>\n",
       "      <td>question for 5 backwards compatibility early today ign just release a video talk about how vague the 5 s backward compatibility will be able to work which accord to a statement from ubisoft mean that mainly 4 title will be playable on the   while 3 and 2 game will not but now that statement be be redact and it seem like we may only get to play 4 game on the   but nothing be be really make offi...</td>\n",
       "      <td>1</td>\n",
       "      <td>1</td>\n",
       "      <td>0.406500</td>\n",
       "      <td>0.593500</td>\n",
       "    </tr>\n",
       "  </tbody>\n",
       "</table>\n",
       "</div>"
      ],
      "text/plain": [
       "                                                                                                                                                                                                                                                                                                                                                                                                                  text  \\\n",
       "16782                                                                                                                                                                                                                      will not let I buy   game normally I would think this be too personal but I remember everyone have issue download last month s  game with gold and be wonder if it be maybe a large problem   \n",
       "7212                                                                                                                                                                                                                                                                                                                    free trial go recently get back into gaming and notice the free trial be not there anyone else   \n",
       "1139                                                                                                                                                                                                   which game be you skip on the 4 to play on the 5 for the first time watch dog legion bring this to my attention out in  week on 4 or   week 5 seem silly to play it on 4 when you could test out your 5 with it   \n",
       "16635  be it possible to do the  year of  gamepass conversion from gold if you ve already do it I buy the  gamepass conversion a year ago it expire this week I be wonder if its possible to get a year of gold then buy the gamepass ultimate conversion again to get another year of ultimate I more or less live check to check and can not guarantee I will have that money every month to do it so it be more ...   \n",
       "4806   question for 5 backwards compatibility early today ign just release a video talk about how vague the 5 s backward compatibility will be able to work which accord to a statement from ubisoft mean that mainly 4 title will be playable on the   while 3 and 2 game will not but now that statement be be redact and it seem like we may only get to play 4 game on the   but nothing be be really make offi...   \n",
       "\n",
       "       target  pred    prob_0    prob_1  \n",
       "16782       0     0  0.660000  0.340000  \n",
       "7212        1     1  0.441944  0.558056  \n",
       "1139        1     1  0.348500  0.651500  \n",
       "16635       0     0  0.774500  0.225500  \n",
       "4806        1     1  0.406500  0.593500  "
      ]
     },
     "execution_count": 154,
     "metadata": {},
     "output_type": "execute_result"
    }
   ],
   "source": [
    "eval_df.head()"
   ]
  },
  {
   "cell_type": "markdown",
   "id": "41596096-f136-4c09-a00b-36716554efe0",
   "metadata": {},
   "source": [
    "Trying to focus in on the false positive records that were prevalent in the confusion matrix."
   ]
  },
  {
   "cell_type": "code",
   "execution_count": 155,
   "id": "b1291c51-9642-4cef-872d-98b4a1f3383b",
   "metadata": {
    "execution": {
     "iopub.execute_input": "2022-12-23T01:44:53.129272Z",
     "iopub.status.busy": "2022-12-23T01:44:53.129172Z",
     "iopub.status.idle": "2022-12-23T01:44:53.138138Z",
     "shell.execute_reply": "2022-12-23T01:44:53.137636Z",
     "shell.execute_reply.started": "2022-12-23T01:44:53.129261Z"
    },
    "tags": []
   },
   "outputs": [
    {
     "data": {
      "text/html": [
       "<div>\n",
       "<style scoped>\n",
       "    .dataframe tbody tr th:only-of-type {\n",
       "        vertical-align: middle;\n",
       "    }\n",
       "\n",
       "    .dataframe tbody tr th {\n",
       "        vertical-align: top;\n",
       "    }\n",
       "\n",
       "    .dataframe thead th {\n",
       "        text-align: right;\n",
       "    }\n",
       "</style>\n",
       "<table border=\"1\" class=\"dataframe\">\n",
       "  <thead>\n",
       "    <tr style=\"text-align: right;\">\n",
       "      <th></th>\n",
       "      <th>text</th>\n",
       "      <th>target</th>\n",
       "      <th>pred</th>\n",
       "      <th>prob_0</th>\n",
       "      <th>prob_1</th>\n",
       "    </tr>\n",
       "  </thead>\n",
       "  <tbody>\n",
       "    <tr>\n",
       "      <th>11042</th>\n",
       "      <td>another pre order sale do you think that  be go to do another pre order sale I hope so so more people can try and get it</td>\n",
       "      <td>0</td>\n",
       "      <td>1</td>\n",
       "      <td>0.237000</td>\n",
       "      <td>0.763000</td>\n",
       "    </tr>\n",
       "    <tr>\n",
       "      <th>12224</th>\n",
       "      <td>tell I why any opinion anybody have experience with this game be it worth download I tend to be a fan of story drive game be it similar to the last of we type of game it kind of give I alan wake vibe from look at the trailer</td>\n",
       "      <td>0</td>\n",
       "      <td>1</td>\n",
       "      <td>0.243500</td>\n",
       "      <td>0.756500</td>\n",
       "    </tr>\n",
       "    <tr>\n",
       "      <th>18505</th>\n",
       "      <td>I get my  account scamme the person delete all of my email and then add there how can I get it back the also change the password</td>\n",
       "      <td>0</td>\n",
       "      <td>1</td>\n",
       "      <td>0.244667</td>\n",
       "      <td>0.755333</td>\n",
       "    </tr>\n",
       "    <tr>\n",
       "      <th>11885</th>\n",
       "      <td>any 4k ole 120hz tv recommendation just got pre order time to complete the experience</td>\n",
       "      <td>0</td>\n",
       "      <td>1</td>\n",
       "      <td>0.259834</td>\n",
       "      <td>0.740166</td>\n",
       "    </tr>\n",
       "    <tr>\n",
       "      <th>16042</th>\n",
       "      <td>can I get my money back for a pre order that I do not cancel I pre order tannenberg a couple of week ago for £   and I get an email from  yesterday say that my pre order have be cancel can I still get my money back</td>\n",
       "      <td>0</td>\n",
       "      <td>1</td>\n",
       "      <td>0.260833</td>\n",
       "      <td>0.739167</td>\n",
       "    </tr>\n",
       "    <tr>\n",
       "      <th>...</th>\n",
       "      <td>...</td>\n",
       "      <td>...</td>\n",
       "      <td>...</td>\n",
       "      <td>...</td>\n",
       "      <td>...</td>\n",
       "    </tr>\n",
       "    <tr>\n",
       "      <th>16921</th>\n",
       "      <td>how to connect original  to computer monitor dvi or vga do some research on my side it seem there be few or no option have anyone have experience do this I would need a converter or some sort to go from a v to the monitor and sound</td>\n",
       "      <td>0</td>\n",
       "      <td>1</td>\n",
       "      <td>0.498500</td>\n",
       "      <td>0.501500</td>\n",
       "    </tr>\n",
       "    <tr>\n",
       "      <th>9875</th>\n",
       "      <td>boot help stop ok so basically there ’ this one man in  that boot people I know that the new update come out but supposedly there be still a way to boot I be wonder what can be do to stop this and if not I would enjoy to boot he myself with my phone but I know that most be fake any help</td>\n",
       "      <td>0</td>\n",
       "      <td>1</td>\n",
       "      <td>0.498500</td>\n",
       "      <td>0.501500</td>\n",
       "    </tr>\n",
       "    <tr>\n",
       "      <th>13265</th>\n",
       "      <td>why do ppl like achievement I be curious what be it about achievement that get people hype</td>\n",
       "      <td>0</td>\n",
       "      <td>1</td>\n",
       "      <td>0.498962</td>\n",
       "      <td>0.501038</td>\n",
       "    </tr>\n",
       "    <tr>\n",
       "      <th>9995</th>\n",
       "      <td>why be the cable for the original  so unconvential this be a question which have be in the back of my mind for a while but I ve never think to try and research it until now but I can not seem to find any article or answer on google for some reason do anyone know why  decide to go with this design</td>\n",
       "      <td>0</td>\n",
       "      <td>1</td>\n",
       "      <td>0.499500</td>\n",
       "      <td>0.500500</td>\n",
       "    </tr>\n",
       "    <tr>\n",
       "      <th>17439</th>\n",
       "      <td>controller not work at certain angle hey everyone so I recently buy the cyberpunk  controller and I notice when I press the a button at certain angle mainly if it ’ the rim of the button that it ’s not register the button as be press I test this on my old controller and it be not happen at all no matter how hard or where I press it the button activate so I send back the controller and recently...</td>\n",
       "      <td>0</td>\n",
       "      <td>1</td>\n",
       "      <td>0.499500</td>\n",
       "      <td>0.500500</td>\n",
       "    </tr>\n",
       "  </tbody>\n",
       "</table>\n",
       "<p>601 rows × 5 columns</p>\n",
       "</div>"
      ],
      "text/plain": [
       "                                                                                                                                                                                                                                                                                                                                                                                                                  text  \\\n",
       "11042                                                                                                                                                                                                                                                                                         another pre order sale do you think that  be go to do another pre order sale I hope so so more people can try and get it   \n",
       "12224                                                                                                                                                                                 tell I why any opinion anybody have experience with this game be it worth download I tend to be a fan of story drive game be it similar to the last of we type of game it kind of give I alan wake vibe from look at the trailer   \n",
       "18505                                                                                                                                                                                                                                                                                 I get my  account scamme the person delete all of my email and then add there how can I get it back the also change the password   \n",
       "11885                                                                                                                                                                                                                                                                                                                            any 4k ole 120hz tv recommendation just got pre order time to complete the experience   \n",
       "16042                                                                                                                                                                                           can I get my money back for a pre order that I do not cancel I pre order tannenberg a couple of week ago for £   and I get an email from  yesterday say that my pre order have be cancel can I still get my money back   \n",
       "...                                                                                                                                                                                                                                                                                                                                                                                                                ...   \n",
       "16921                                                                                                                                                                          how to connect original  to computer monitor dvi or vga do some research on my side it seem there be few or no option have anyone have experience do this I would need a converter or some sort to go from a v to the monitor and sound   \n",
       "9875                                                                                                                   boot help stop ok so basically there ’ this one man in  that boot people I know that the new update come out but supposedly there be still a way to boot I be wonder what can be do to stop this and if not I would enjoy to boot he myself with my phone but I know that most be fake any help   \n",
       "13265                                                                                                                                                                                                                                                                                                                       why do ppl like achievement I be curious what be it about achievement that get people hype   \n",
       "9995                                                                                                         why be the cable for the original  so unconvential this be a question which have be in the back of my mind for a while but I ve never think to try and research it until now but I can not seem to find any article or answer on google for some reason do anyone know why  decide to go with this design   \n",
       "17439  controller not work at certain angle hey everyone so I recently buy the cyberpunk  controller and I notice when I press the a button at certain angle mainly if it ’ the rim of the button that it ’s not register the button as be press I test this on my old controller and it be not happen at all no matter how hard or where I press it the button activate so I send back the controller and recently...   \n",
       "\n",
       "       target  pred    prob_0    prob_1  \n",
       "11042       0     1  0.237000  0.763000  \n",
       "12224       0     1  0.243500  0.756500  \n",
       "18505       0     1  0.244667  0.755333  \n",
       "11885       0     1  0.259834  0.740166  \n",
       "16042       0     1  0.260833  0.739167  \n",
       "...       ...   ...       ...       ...  \n",
       "16921       0     1  0.498500  0.501500  \n",
       "9875        0     1  0.498500  0.501500  \n",
       "13265       0     1  0.498962  0.501038  \n",
       "9995        0     1  0.499500  0.500500  \n",
       "17439       0     1  0.499500  0.500500  \n",
       "\n",
       "[601 rows x 5 columns]"
      ]
     },
     "execution_count": 155,
     "metadata": {},
     "output_type": "execute_result"
    }
   ],
   "source": [
    "eval_df[\n",
    "    (eval_df['target'] == 0) &\n",
    "    (eval_df['pred'] == 1)\n",
    "].sort_values(by='prob_1', ascending=False)"
   ]
  },
  {
   "cell_type": "markdown",
   "id": "6dde55a2-9024-409d-a7af-58f3d7208265",
   "metadata": {},
   "source": [
    "It looks like there are multiple observations that are above 70% probability for 1/Playstation, but were actually from the Xbox subreddit.  Let's investigate those a bit more closely."
   ]
  },
  {
   "cell_type": "code",
   "execution_count": 156,
   "id": "a8958a6e-e830-4d26-9dd2-951aa8ea6220",
   "metadata": {
    "execution": {
     "iopub.execute_input": "2022-12-23T01:44:53.139143Z",
     "iopub.status.busy": "2022-12-23T01:44:53.139017Z",
     "iopub.status.idle": "2022-12-23T01:44:53.144507Z",
     "shell.execute_reply": "2022-12-23T01:44:53.144163Z",
     "shell.execute_reply.started": "2022-12-23T01:44:53.139131Z"
    },
    "tags": []
   },
   "outputs": [],
   "source": [
    "# show the text of posts that were from the Xbox subreddit, but predicted\n",
    "# to be from the playstation subreddit with 70% probability or higher\n",
    "# save in a variable to re-use for the wordcloud\n",
    "\n",
    "fps = eval_df.loc[eval_df[\n",
    "        (eval_df['target'] == 0) &\n",
    "        (eval_df['pred'] == 1) &\n",
    "        (eval_df['prob_1'] > 0.7)\n",
    "    ].index].sort_values(by='prob_1', ascending=False)[['text']]"
   ]
  },
  {
   "cell_type": "code",
   "execution_count": 157,
   "id": "dc59acc1-4bcb-42b9-9a71-6adc091deb90",
   "metadata": {
    "execution": {
     "iopub.execute_input": "2022-12-23T01:44:53.145630Z",
     "iopub.status.busy": "2022-12-23T01:44:53.145467Z",
     "iopub.status.idle": "2022-12-23T01:44:53.149211Z",
     "shell.execute_reply": "2022-12-23T01:44:53.148477Z",
     "shell.execute_reply.started": "2022-12-23T01:44:53.145615Z"
    }
   },
   "outputs": [
    {
     "data": {
      "text/plain": [
       "13"
      ]
     },
     "execution_count": 157,
     "metadata": {},
     "output_type": "execute_result"
    }
   ],
   "source": [
    "len(fps)"
   ]
  },
  {
   "cell_type": "code",
   "execution_count": 158,
   "id": "8f9e96a8-daa3-4bf7-ba2c-0eb02424f682",
   "metadata": {
    "execution": {
     "iopub.execute_input": "2022-12-23T01:44:53.150582Z",
     "iopub.status.busy": "2022-12-23T01:44:53.150352Z",
     "iopub.status.idle": "2022-12-23T01:44:53.155881Z",
     "shell.execute_reply": "2022-12-23T01:44:53.155516Z",
     "shell.execute_reply.started": "2022-12-23T01:44:53.150564Z"
    }
   },
   "outputs": [
    {
     "data": {
      "text/html": [
       "<div>\n",
       "<style scoped>\n",
       "    .dataframe tbody tr th:only-of-type {\n",
       "        vertical-align: middle;\n",
       "    }\n",
       "\n",
       "    .dataframe tbody tr th {\n",
       "        vertical-align: top;\n",
       "    }\n",
       "\n",
       "    .dataframe thead th {\n",
       "        text-align: right;\n",
       "    }\n",
       "</style>\n",
       "<table border=\"1\" class=\"dataframe\">\n",
       "  <thead>\n",
       "    <tr style=\"text-align: right;\">\n",
       "      <th></th>\n",
       "      <th>text</th>\n",
       "    </tr>\n",
       "  </thead>\n",
       "  <tbody>\n",
       "    <tr>\n",
       "      <th>11042</th>\n",
       "      <td>another pre order sale do you think that  be go to do another pre order sale I hope so so more people can try and get it</td>\n",
       "    </tr>\n",
       "    <tr>\n",
       "      <th>12224</th>\n",
       "      <td>tell I why any opinion anybody have experience with this game be it worth download I tend to be a fan of story drive game be it similar to the last of we type of game it kind of give I alan wake vibe from look at the trailer</td>\n",
       "    </tr>\n",
       "    <tr>\n",
       "      <th>18505</th>\n",
       "      <td>I get my  account scamme the person delete all of my email and then add there how can I get it back the also change the password</td>\n",
       "    </tr>\n",
       "    <tr>\n",
       "      <th>11885</th>\n",
       "      <td>any 4k ole 120hz tv recommendation just got pre order time to complete the experience</td>\n",
       "    </tr>\n",
       "    <tr>\n",
       "      <th>16042</th>\n",
       "      <td>can I get my money back for a pre order that I do not cancel I pre order tannenberg a couple of week ago for £   and I get an email from  yesterday say that my pre order have be cancel can I still get my money back</td>\n",
       "    </tr>\n",
       "    <tr>\n",
       "      <th>11817</th>\n",
       "      <td>anyone know why cyberpunk be only  usd seem cheap think something be wrong when pre order it</td>\n",
       "    </tr>\n",
       "    <tr>\n",
       "      <th>18560</th>\n",
       "      <td>need help contact  anyway I can get a call with  I ’m have complication at the moment my account got hack and they change everything in a matter of a couple minute even got pass my 2fa but I ’m not worried since I have very recent billing info to prove it be mine but I ’m have more trouble actually get in contact with they</td>\n",
       "    </tr>\n",
       "    <tr>\n",
       "      <th>11822</th>\n",
       "      <td>so will store get more stock like tomorrow will I have another chance at preordere again or do I got to wait for release</td>\n",
       "    </tr>\n",
       "    <tr>\n",
       "      <th>16127</th>\n",
       "      <td>rock of age  unavailable hey guy I notice roa  be come out yesterday today and got really hype on the come soon section but now it say unavailable and have be remove from come soon despite   release date in the story anybody else have success</td>\n",
       "    </tr>\n",
       "    <tr>\n",
       "      <th>10689</th>\n",
       "      <td>really annoying account recovery I have and  account that I stop use in  it be delete from my  and I do not know the email password or phone number for the account all I know be the username I know it seem like it be a stretch but be there anyway to get my account back any info be helpful</td>\n",
       "    </tr>\n",
       "    <tr>\n",
       "      <th>17628</th>\n",
       "      <td>my  account be steal my  account be steal I ve lose so many game and countless hour of work on they be there anyway I can get my account back all the detail be change</td>\n",
       "    </tr>\n",
       "    <tr>\n",
       "      <th>9787</th>\n",
       "      <td>I preorder cyberpunk what be the  store preorder bonus and I preordere on  because I feel like there will be exclusive content on  becuaas they be kinda partner up</td>\n",
       "    </tr>\n",
       "    <tr>\n",
       "      <th>11895</th>\n",
       "      <td>what ’s  shipping like  seem to be the safe bet when it come to preordering what ’ their shipping process like be they reputable for ship arrive on time safe packaging obviously mail slow atm but hopefully  can get the console out on time actually there ’ a good chance of they shipping console a bit early to combat slow shipping time so I would not be surprised if some of we get our system a d...</td>\n",
       "    </tr>\n",
       "  </tbody>\n",
       "</table>\n",
       "</div>"
      ],
      "text/plain": [
       "                                                                                                                                                                                                                                                                                                                                                                                                                  text\n",
       "11042                                                                                                                                                                                                                                                                                         another pre order sale do you think that  be go to do another pre order sale I hope so so more people can try and get it\n",
       "12224                                                                                                                                                                                 tell I why any opinion anybody have experience with this game be it worth download I tend to be a fan of story drive game be it similar to the last of we type of game it kind of give I alan wake vibe from look at the trailer\n",
       "18505                                                                                                                                                                                                                                                                                 I get my  account scamme the person delete all of my email and then add there how can I get it back the also change the password\n",
       "11885                                                                                                                                                                                                                                                                                                                            any 4k ole 120hz tv recommendation just got pre order time to complete the experience\n",
       "16042                                                                                                                                                                                           can I get my money back for a pre order that I do not cancel I pre order tannenberg a couple of week ago for £   and I get an email from  yesterday say that my pre order have be cancel can I still get my money back\n",
       "11817                                                                                                                                                                                                                                                                                                                     anyone know why cyberpunk be only  usd seem cheap think something be wrong when pre order it\n",
       "18560                                                                             need help contact  anyway I can get a call with  I ’m have complication at the moment my account got hack and they change everything in a matter of a couple minute even got pass my 2fa but I ’m not worried since I have very recent billing info to prove it be mine but I ’m have more trouble actually get in contact with they\n",
       "11822                                                                                                                                                                                                                                                                                         so will store get more stock like tomorrow will I have another chance at preordere again or do I got to wait for release\n",
       "16127                                                                                                                                                               rock of age  unavailable hey guy I notice roa  be come out yesterday today and got really hype on the come soon section but now it say unavailable and have be remove from come soon despite   release date in the story anybody else have success\n",
       "10689                                                                                                                really annoying account recovery I have and  account that I stop use in  it be delete from my  and I do not know the email password or phone number for the account all I know be the username I know it seem like it be a stretch but be there anyway to get my account back any info be helpful\n",
       "17628                                                                                                                                                                                                                                           my  account be steal my  account be steal I ve lose so many game and countless hour of work on they be there anyway I can get my account back all the detail be change\n",
       "9787                                                                                                                                                                                                                                               I preorder cyberpunk what be the  store preorder bonus and I preordere on  because I feel like there will be exclusive content on  becuaas they be kinda partner up\n",
       "11895  what ’s  shipping like  seem to be the safe bet when it come to preordering what ’ their shipping process like be they reputable for ship arrive on time safe packaging obviously mail slow atm but hopefully  can get the console out on time actually there ’ a good chance of they shipping console a bit early to combat slow shipping time so I would not be surprised if some of we get our system a d..."
      ]
     },
     "execution_count": 158,
     "metadata": {},
     "output_type": "execute_result"
    }
   ],
   "source": [
    "fps"
   ]
  },
  {
   "cell_type": "markdown",
   "id": "5677c91b-a087-4a39-969f-097753b172da",
   "metadata": {},
   "source": [
    "There doesn't seem to be any obvious pattern in these posts, although I do see variations of \"pre order\" and \"account\" show up fairly often.  But largely, these are posts that I could see being classified as either since they are most related to general order/pre order and account issues.  Both platforms would have accounts and pre-orders, so I can see how the model may have a difficult time classifying these posts."
   ]
  },
  {
   "cell_type": "markdown",
   "id": "7e813166-6ac5-4b17-931a-ec72b6292e35",
   "metadata": {},
   "source": [
    "##### Word Cloud\n",
    "\n",
    "Let's create word cloud with the 25 most frequent words from the high-percent-probability posts that we were looking at above."
   ]
  },
  {
   "cell_type": "code",
   "execution_count": 163,
   "id": "43069f5c-fce9-4f49-8937-f93cefef1e13",
   "metadata": {
    "execution": {
     "iopub.execute_input": "2022-12-23T03:55:11.515662Z",
     "iopub.status.busy": "2022-12-23T03:55:11.514171Z",
     "iopub.status.idle": "2022-12-23T03:55:12.518721Z",
     "shell.execute_reply": "2022-12-23T03:55:12.518225Z",
     "shell.execute_reply.started": "2022-12-23T03:55:11.515596Z"
    },
    "tags": []
   },
   "outputs": [
    {
     "data": {
      "image/png": "[encoded data removed]",
      "text/plain": [
       "<Figure size 1200x800 with 1 Axes>"
      ]
     },
     "metadata": {},
     "output_type": "display_data"
    }
   ],
   "source": [
    "# https://www.python-graph-gallery.com/wordcloud/\n",
    "# https://stackoverflow.com/questions/43606339/generate-word-cloud-from-single-column-pandas-dataframe\n",
    "\n",
    "plt.figure(figsize=(12,8))#\n",
    "\n",
    "# Create the wordcloud object\n",
    "wordcloud = WordCloud(width=1920,\n",
    "                      height=1080,\n",
    "                      max_words=25,\n",
    "                      background_color='beige'\n",
    "                     ).generate(' '.join(fps['text']))\n",
    "\n",
    "# Display the generated image:\n",
    "plt.imshow(wordcloud, interpolation='bilinear')\n",
    "plt.axis(\"off\")\n",
    "plt.margins(x=0, y=0)\n",
    "plt.show()"
   ]
  },
  {
   "cell_type": "markdown",
   "id": "d57673a4-dde1-4b79-86c1-39cdc110523b",
   "metadata": {},
   "source": [
    "Looking through this word cloud, there aren't a lot of words that would be specific to Playstation or Xbox, so I can understand that it may have been difficult for the model to distinguish between the classes for these posts."
   ]
  },
  {
   "cell_type": "markdown",
   "id": "5136342d-577d-4dec-a91a-de6d4ed311ad",
   "metadata": {},
   "source": [
    "#### Check Feature Importances\n",
    "\n",
    "Check the feature importance values to see if there is anything interesting here.  Given the large amount of features that is feeding the model, I'm not expecting to find anything particularly meaningful, but thought it would be worthwhile to see."
   ]
  },
  {
   "cell_type": "code",
   "execution_count": 160,
   "id": "96302c37-ba05-4e38-bfb5-56f7c2d32b4f",
   "metadata": {
    "execution": {
     "iopub.execute_input": "2022-12-23T01:44:54.050414Z",
     "iopub.status.busy": "2022-12-23T01:44:54.050324Z",
     "iopub.status.idle": "2022-12-23T01:44:54.355638Z",
     "shell.execute_reply": "2022-12-23T01:44:54.355290Z",
     "shell.execute_reply.started": "2022-12-23T01:44:54.050402Z"
    }
   },
   "outputs": [],
   "source": [
    "# create a dataframe by extracting feature importances and set the index\n",
    "# to the feature names\n",
    "\n",
    "feats = pd.DataFrame(\n",
    "    gs_rf_cv.best_estimator_.named_steps.rf.feature_importances_,\n",
    "    index=gs_rf_cv.best_estimator_.named_steps.cv.get_feature_names_out())"
   ]
  },
  {
   "cell_type": "code",
   "execution_count": 161,
   "id": "f13e2474-8c18-45e5-8b8e-e2ad66c5df2b",
   "metadata": {
    "execution": {
     "iopub.execute_input": "2022-12-23T01:44:54.356332Z",
     "iopub.status.busy": "2022-12-23T01:44:54.356236Z",
     "iopub.status.idle": "2022-12-23T01:44:54.358985Z",
     "shell.execute_reply": "2022-12-23T01:44:54.358644Z",
     "shell.execute_reply.started": "2022-12-23T01:44:54.356321Z"
    },
    "tags": []
   },
   "outputs": [],
   "source": [
    "# rename the column\n",
    "feats.rename({0: 'importance'}, axis=1, inplace=True)"
   ]
  },
  {
   "cell_type": "code",
   "execution_count": 162,
   "id": "135c1d4c-4c00-41ed-8946-f139a6bb5be2",
   "metadata": {
    "execution": {
     "iopub.execute_input": "2022-12-23T01:44:54.359614Z",
     "iopub.status.busy": "2022-12-23T01:44:54.359534Z",
     "iopub.status.idle": "2022-12-23T01:44:54.365845Z",
     "shell.execute_reply": "2022-12-23T01:44:54.365423Z",
     "shell.execute_reply.started": "2022-12-23T01:44:54.359603Z"
    },
    "tags": []
   },
   "outputs": [
    {
     "data": {
      "text/html": [
       "<div>\n",
       "<style scoped>\n",
       "    .dataframe tbody tr th:only-of-type {\n",
       "        vertical-align: middle;\n",
       "    }\n",
       "\n",
       "    .dataframe tbody tr th {\n",
       "        vertical-align: top;\n",
       "    }\n",
       "\n",
       "    .dataframe thead th {\n",
       "        text-align: right;\n",
       "    }\n",
       "</style>\n",
       "<table border=\"1\" class=\"dataframe\">\n",
       "  <thead>\n",
       "    <tr style=\"text-align: right;\">\n",
       "      <th></th>\n",
       "      <th>importance</th>\n",
       "    </tr>\n",
       "  </thead>\n",
       "  <tbody>\n",
       "    <tr>\n",
       "      <th>series</th>\n",
       "      <td>0.011594</td>\n",
       "    </tr>\n",
       "    <tr>\n",
       "      <th>the series</th>\n",
       "      <td>0.005991</td>\n",
       "    </tr>\n",
       "    <tr>\n",
       "      <th>one</th>\n",
       "      <td>0.005646</td>\n",
       "    </tr>\n",
       "    <tr>\n",
       "      <th>game pass</th>\n",
       "      <td>0.005412</td>\n",
       "    </tr>\n",
       "    <tr>\n",
       "      <th>pass</th>\n",
       "      <td>0.004166</td>\n",
       "    </tr>\n",
       "    <tr>\n",
       "      <th>be</th>\n",
       "      <td>0.003469</td>\n",
       "    </tr>\n",
       "    <tr>\n",
       "      <th>my one</th>\n",
       "      <td>0.003228</td>\n",
       "    </tr>\n",
       "    <tr>\n",
       "      <th>the</th>\n",
       "      <td>0.003165</td>\n",
       "    </tr>\n",
       "    <tr>\n",
       "      <th>to</th>\n",
       "      <td>0.002927</td>\n",
       "    </tr>\n",
       "    <tr>\n",
       "      <th>gold</th>\n",
       "      <td>0.002824</td>\n",
       "    </tr>\n",
       "  </tbody>\n",
       "</table>\n",
       "</div>"
      ],
      "text/plain": [
       "            importance\n",
       "series        0.011594\n",
       "the series    0.005991\n",
       "one           0.005646\n",
       "game pass     0.005412\n",
       "pass          0.004166\n",
       "be            0.003469\n",
       "my one        0.003228\n",
       "the           0.003165\n",
       "to            0.002927\n",
       "gold          0.002824"
      ]
     },
     "execution_count": 162,
     "metadata": {},
     "output_type": "execute_result"
    }
   ],
   "source": [
    "# get the top 10 features by importance\n",
    "feats.sort_values(by='importance', ascending=False).head(10)"
   ]
  },
  {
   "cell_type": "markdown",
   "id": "553054f9-f799-4296-b7cf-1a524550c6f8",
   "metadata": {},
   "source": [
    "This is where it would be helpful to have domain expertise to see if any of these terms are truly meaningful.  I just did a google search for game pass, and that actually does return what looks to be some subscription service for Xbox, so that is pretty neat that although it wasn't obvious to me that this was related to Microsoft or Xbox that the model did find this and it's an important piece to how the posts are classified.  \n",
    "\n",
    "It also looks like the current generation of Xbox consoles have \"series\" in the name, so I can see how that would be important here as well.  Perhaps this accounts for the slighly higher precision score in the classification report for Xbox over Playstation."
   ]
  },
  {
   "cell_type": "markdown",
   "id": "83a5c287-753e-4844-b9f0-df526e955bc6",
   "metadata": {},
   "source": [
    "## Conclusions and Next Steps"
   ]
  },
  {
   "cell_type": "markdown",
   "id": "284eff50-02d3-4947-8735-f2e183902e44",
   "metadata": {},
   "source": [
    "The modeling that was performed improved the accuracy from a 52% baseline accuracy, given the majority class, to 82% accuracy with the chosen Random Forest model after tuning.  This exceeds the 75% target for Kontaku, so they should proceed with the remainder of their analysis.  This proof-of-concept model should give them a good data point to use when performing some additional internal analysis about the cost-benefit of moving towards a more automated and scalable classification and moderation approach.\n",
    "\n",
    "### Next Steps\n",
    "For potential next steps relating to this effort, I would put forward:\n",
    "1. Proceed with cost-benefit analysis\n",
    "2. Model improvement\n",
    "    - Look at additional techniques, such as boosting, stacking, and sentiment analysis to see if the model performance can be improved\n",
    "3. Evaluate the cost of model deployment\n",
    "    - Having the model is great, but there will be other costs relating to putting this model into production, which should be understood by Kotaku in order to make the best business decision they can## Conclusions and Next Steps"
   ]
  },
  {
   "cell_type": "code",
   "execution_count": null,
   "id": "5048d61a-a45b-47ad-a4a3-cfc49548bf23",
   "metadata": {},
   "outputs": [],
   "source": []
  }
 ],
 "metadata": {
  "kernelspec": {
   "display_name": "Python 3 (ipykernel)",
   "language": "python",
   "name": "python3"
  },
  "language_info": {
   "codemirror_mode": {
    "name": "ipython",
    "version": 3
   },
   "file_extension": ".py",
   "mimetype": "text/x-python",
   "name": "python",
   "nbconvert_exporter": "python",
   "pygments_lexer": "ipython3",
   "version": "3.9.15"
  }
 },
 "nbformat": 4,
 "nbformat_minor": 5
}
